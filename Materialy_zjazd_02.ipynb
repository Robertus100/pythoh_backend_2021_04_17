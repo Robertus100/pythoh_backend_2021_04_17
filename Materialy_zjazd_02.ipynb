{
 "cells": [
  {
   "cell_type": "markdown",
   "id": "regular-account",
   "metadata": {},
   "source": [
    "\n",
    "<p style=\"text-align: center; font-size: 32pt; line-height: 36pt\">\n",
    "    <b>Python Backend Developer - zjazd 2</b>\n",
    "</p>\n",
    "\n",
    "\n",
    "<p style=\"text-align: center; font-size: 12pt; line-height: 16pt;\">\n",
    "<b>Trener</b><br>\n",
    "Rafał Korzeniewski<br>\n",
    "tel.: <a href=\"tel:+48790018662\">+48 790 018 662</a><br>\n",
    "email: <a href=\"mailto:korzeniewski@gmail.com\">korzeniewski@gmail.com</a><br>\n",
    "</p>\n"
   ]
  },
  {
   "cell_type": "markdown",
   "id": "alpine-congress",
   "metadata": {},
   "source": [
    "To co omówiliśmy:\n",
    "\n",
    "* Podstawowe typy\n",
    "* Podstawowe struktury danych \n",
    "* collections, Decimal\n",
    "* instrukcje warunkowe\n",
    "* pętle while i for\n",
    "* wyrażenia składane\n",
    "* mutowalność vs niemutowalność\n",
    "* proste funkcje\n",
    "* przestrzeniach nazw\n",
    "* GIT - podstawy\n",
    "\n",
    "# Quizz\n",
    "\n",
    "### Czy w int można zapisać następująca liczbę: 10 ** 512\n",
    "\n",
    "Tak / Nie\n"
   ]
  },
  {
   "cell_type": "code",
   "execution_count": 1,
   "id": "signed-magnitude",
   "metadata": {},
   "outputs": [
    {
     "data": {
      "text/plain": [
       "100000000000000000000000000000000000000000000000000000000000000000000000000000000000000000000000000000000000000000000000000000000000000000000000000000000000000000000000000000000000000000000000000000000000000000000000000000000000000000000000000000000000000000000000000000000000000000000000000000000000000000000000000000000000000000000000000000000000000000000000000000000000000000000000000000000000000000000000000000000000000000000000000000000000000000000000000000000000000000000000000000000000000000000000000000000"
      ]
     },
     "execution_count": 1,
     "metadata": {},
     "output_type": "execute_result"
    }
   ],
   "source": [
    "10 ** 512"
   ]
  },
  {
   "cell_type": "markdown",
   "id": "fuzzy-reservoir",
   "metadata": {},
   "source": [
    "### Czy w float można zapisać następującą liczbę: 10.0 ** 512\n",
    "\n",
    "Tak / Nie"
   ]
  },
  {
   "cell_type": "code",
   "execution_count": 3,
   "id": "promotional-gallery",
   "metadata": {},
   "outputs": [],
   "source": [
    "# 10.0 ** 512"
   ]
  },
  {
   "cell_type": "markdown",
   "id": "boxed-newton",
   "metadata": {},
   "source": [
    "### Jaki będzie wynik następującego wyrażenia:\n",
    "\n",
    "    x = (1, 10)\n",
    "    x.append(20)\n",
    "\n",
    "A) (1, 10, 20)\n",
    "\n",
    "B) (1, 10)\n",
    "\n",
    "C) AttributeError\n",
    "\n",
    "D) None"
   ]
  },
  {
   "cell_type": "code",
   "execution_count": 4,
   "id": "attempted-pepper",
   "metadata": {},
   "outputs": [
    {
     "ename": "AttributeError",
     "evalue": "'tuple' object has no attribute 'append'",
     "output_type": "error",
     "traceback": [
      "\u001b[0;31m---------------------------------------------------------------------------\u001b[0m",
      "\u001b[0;31mAttributeError\u001b[0m                            Traceback (most recent call last)",
      "\u001b[0;32m<ipython-input-4-854d862957b0>\u001b[0m in \u001b[0;36m<module>\u001b[0;34m\u001b[0m\n\u001b[1;32m      1\u001b[0m \u001b[0mx\u001b[0m \u001b[0;34m=\u001b[0m \u001b[0;34m(\u001b[0m\u001b[0;36m1\u001b[0m\u001b[0;34m,\u001b[0m \u001b[0;36m10\u001b[0m\u001b[0;34m)\u001b[0m\u001b[0;34m\u001b[0m\u001b[0;34m\u001b[0m\u001b[0m\n\u001b[0;32m----> 2\u001b[0;31m \u001b[0mx\u001b[0m\u001b[0;34m.\u001b[0m\u001b[0mappend\u001b[0m\u001b[0;34m(\u001b[0m\u001b[0;36m20\u001b[0m\u001b[0;34m)\u001b[0m\u001b[0;34m\u001b[0m\u001b[0;34m\u001b[0m\u001b[0m\n\u001b[0m",
      "\u001b[0;31mAttributeError\u001b[0m: 'tuple' object has no attribute 'append'"
     ]
    }
   ],
   "source": [
    "x = (1, 10)\n",
    "x.append(20)"
   ]
  },
  {
   "cell_type": "markdown",
   "id": "adopted-knowing",
   "metadata": {},
   "source": [
    "### Jaki będzie wynik następującego wyrażenia:\n",
    "\n",
    "    x = [1, 10]\n",
    "    x.append(20)\n",
    "\n",
    "A) [1, 10, 20]\n",
    "\n",
    "B) [1, 10]\n",
    "\n",
    "C) AttributeError\n",
    "\n",
    "D) None"
   ]
  },
  {
   "cell_type": "code",
   "execution_count": 6,
   "id": "damaged-freedom",
   "metadata": {},
   "outputs": [
    {
     "data": {
      "text/plain": [
       "[1, 10, 20]"
      ]
     },
     "execution_count": 6,
     "metadata": {},
     "output_type": "execute_result"
    }
   ],
   "source": [
    "x = [1, 10]\n",
    "x.append(20)\n",
    "x"
   ]
  },
  {
   "cell_type": "markdown",
   "id": "proof-alexander",
   "metadata": {},
   "source": [
    "### Jaki będzie wynik następującego skryptu:\n",
    "\n",
    "\n",
    "    x = dict()\n",
    "    \n",
    "    x['a'] += 10\n",
    "\n",
    "\n",
    "A) None\n",
    "\n",
    "B) KeyError\n",
    "\n",
    "C) {'a': 10}"
   ]
  },
  {
   "cell_type": "code",
   "execution_count": 7,
   "id": "expanded-carnival",
   "metadata": {},
   "outputs": [
    {
     "ename": "KeyError",
     "evalue": "'a'",
     "output_type": "error",
     "traceback": [
      "\u001b[0;31m---------------------------------------------------------------------------\u001b[0m",
      "\u001b[0;31mKeyError\u001b[0m                                  Traceback (most recent call last)",
      "\u001b[0;32m<ipython-input-7-aa09c38517fc>\u001b[0m in \u001b[0;36m<module>\u001b[0;34m\u001b[0m\n\u001b[1;32m      1\u001b[0m \u001b[0mx\u001b[0m \u001b[0;34m=\u001b[0m \u001b[0mdict\u001b[0m\u001b[0;34m(\u001b[0m\u001b[0;34m)\u001b[0m\u001b[0;34m\u001b[0m\u001b[0;34m\u001b[0m\u001b[0m\n\u001b[1;32m      2\u001b[0m \u001b[0;34m\u001b[0m\u001b[0m\n\u001b[0;32m----> 3\u001b[0;31m \u001b[0mx\u001b[0m\u001b[0;34m[\u001b[0m\u001b[0;34m'a'\u001b[0m\u001b[0;34m]\u001b[0m \u001b[0;34m+=\u001b[0m \u001b[0;36m10\u001b[0m\u001b[0;34m\u001b[0m\u001b[0;34m\u001b[0m\u001b[0m\n\u001b[0m\u001b[1;32m      4\u001b[0m \u001b[0;34m\u001b[0m\u001b[0m\n\u001b[1;32m      5\u001b[0m \u001b[0;31m# x['a'] = x['a'] + 10\u001b[0m\u001b[0;34m\u001b[0m\u001b[0;34m\u001b[0m\u001b[0;34m\u001b[0m\u001b[0m\n",
      "\u001b[0;31mKeyError\u001b[0m: 'a'"
     ]
    }
   ],
   "source": [
    "x = dict()\n",
    "\n",
    "x['a'] += 10\n",
    "\n",
    "# x['a'] = x['a'] + 10"
   ]
  },
  {
   "cell_type": "markdown",
   "id": "classified-paradise",
   "metadata": {},
   "source": [
    "### Jaki będzie wynik następującego skryptu:\n",
    "\n",
    "\n",
    "    x = dict()\n",
    "    y = [1, 2]\n",
    "    x[y] = 3\n",
    "    \n",
    "A) KeyError\n",
    "\n",
    "B) TypeError\n",
    "\n",
    "C) None\n",
    "\n",
    "D) {[1, 2]: 3}"
   ]
  },
  {
   "cell_type": "code",
   "execution_count": 8,
   "id": "intensive-startup",
   "metadata": {},
   "outputs": [
    {
     "ename": "TypeError",
     "evalue": "unhashable type: 'list'",
     "output_type": "error",
     "traceback": [
      "\u001b[0;31m---------------------------------------------------------------------------\u001b[0m",
      "\u001b[0;31mTypeError\u001b[0m                                 Traceback (most recent call last)",
      "\u001b[0;32m<ipython-input-8-e69c5888f626>\u001b[0m in \u001b[0;36m<module>\u001b[0;34m\u001b[0m\n\u001b[1;32m      1\u001b[0m \u001b[0mx\u001b[0m \u001b[0;34m=\u001b[0m \u001b[0mdict\u001b[0m\u001b[0;34m(\u001b[0m\u001b[0;34m)\u001b[0m\u001b[0;34m\u001b[0m\u001b[0;34m\u001b[0m\u001b[0m\n\u001b[1;32m      2\u001b[0m \u001b[0my\u001b[0m \u001b[0;34m=\u001b[0m \u001b[0;34m[\u001b[0m\u001b[0;36m1\u001b[0m\u001b[0;34m,\u001b[0m \u001b[0;36m2\u001b[0m\u001b[0;34m]\u001b[0m\u001b[0;34m\u001b[0m\u001b[0;34m\u001b[0m\u001b[0m\n\u001b[0;32m----> 3\u001b[0;31m \u001b[0mx\u001b[0m\u001b[0;34m[\u001b[0m\u001b[0my\u001b[0m\u001b[0;34m]\u001b[0m \u001b[0;34m=\u001b[0m \u001b[0;36m3\u001b[0m\u001b[0;34m\u001b[0m\u001b[0;34m\u001b[0m\u001b[0m\n\u001b[0m",
      "\u001b[0;31mTypeError\u001b[0m: unhashable type: 'list'"
     ]
    }
   ],
   "source": [
    "x = dict()\n",
    "y = [1, 2]\n",
    "x[y] = 3"
   ]
  },
  {
   "cell_type": "code",
   "execution_count": 9,
   "id": "expressed-albania",
   "metadata": {},
   "outputs": [
    {
     "ename": "TypeError",
     "evalue": "unhashable type: 'list'",
     "output_type": "error",
     "traceback": [
      "\u001b[0;31m---------------------------------------------------------------------------\u001b[0m",
      "\u001b[0;31mTypeError\u001b[0m                                 Traceback (most recent call last)",
      "\u001b[0;32m<ipython-input-9-e3dac42a1072>\u001b[0m in \u001b[0;36m<module>\u001b[0;34m\u001b[0m\n\u001b[0;32m----> 1\u001b[0;31m \u001b[0;34m{\u001b[0m\u001b[0;34m[\u001b[0m\u001b[0;36m1\u001b[0m\u001b[0;34m,\u001b[0m \u001b[0;36m3\u001b[0m\u001b[0;34m]\u001b[0m\u001b[0;34m}\u001b[0m\u001b[0;34m\u001b[0m\u001b[0;34m\u001b[0m\u001b[0m\n\u001b[0m",
      "\u001b[0;31mTypeError\u001b[0m: unhashable type: 'list'"
     ]
    }
   ],
   "source": [
    "{[1, 3]}"
   ]
  },
  {
   "cell_type": "markdown",
   "id": "written-dollar",
   "metadata": {},
   "source": [
    "### Co tu się wydarzy?\n",
    "\n",
    "    >>> from collections import defaultdict\n",
    "    \n",
    "    >>> data = defaultdict(int)\n",
    "    \n",
    "    >>> data['a'] += 1\n",
    "    \n",
    "    >>> data\n",
    "    \n",
    "A) KeyError\n",
    "\n",
    "B) {'a': 1}\n",
    "\n",
    "C) None"
   ]
  },
  {
   "cell_type": "code",
   "execution_count": 10,
   "id": "drawn-weight",
   "metadata": {},
   "outputs": [
    {
     "data": {
      "text/plain": [
       "0"
      ]
     },
     "execution_count": 10,
     "metadata": {},
     "output_type": "execute_result"
    }
   ],
   "source": [
    "from collections import defaultdict\n",
    "\n",
    "data = defaultdict(int)\n",
    "\n",
    "data['x']"
   ]
  },
  {
   "cell_type": "code",
   "execution_count": 11,
   "id": "coordinated-disposition",
   "metadata": {},
   "outputs": [
    {
     "data": {
      "text/plain": [
       "defaultdict(int, {'x': 0, 'a': 1})"
      ]
     },
     "execution_count": 11,
     "metadata": {},
     "output_type": "execute_result"
    }
   ],
   "source": [
    "data['a'] += 1 # data['a'] = data['a'] + 1\n",
    "data"
   ]
  },
  {
   "cell_type": "markdown",
   "id": "democratic-hybrid",
   "metadata": {},
   "source": [
    "### Co będzie w liście z:\n",
    "\n",
    "    x = [1, 2, 3]\n",
    "    y = [4, 5, x]\n",
    "\n",
    "    z = y.copy()\n",
    "    \n",
    "    x.append(10)\n",
    "    \n",
    "    print(z)\n",
    "    \n",
    "A) [1, 2, 3, x]\n",
    "\n",
    "B) [4, 5, [1, 2, 3]]\n",
    "\n",
    "C) [4, 5, [1, 2, 3, 10]]"
   ]
  },
  {
   "cell_type": "code",
   "execution_count": 12,
   "id": "competitive-locator",
   "metadata": {},
   "outputs": [
    {
     "data": {
      "text/plain": [
       "[4, 5, [1, 2, 3]]"
      ]
     },
     "execution_count": 12,
     "metadata": {},
     "output_type": "execute_result"
    }
   ],
   "source": [
    "x = [1, 2, 3]\n",
    "y = [4, 5, x]\n",
    "\n",
    "y"
   ]
  },
  {
   "cell_type": "code",
   "execution_count": 13,
   "id": "super-capture",
   "metadata": {},
   "outputs": [],
   "source": [
    "z = y.copy()"
   ]
  },
  {
   "cell_type": "code",
   "execution_count": 14,
   "id": "welsh-secondary",
   "metadata": {},
   "outputs": [],
   "source": [
    "x.append(10)"
   ]
  },
  {
   "cell_type": "code",
   "execution_count": 15,
   "id": "integrated-renewal",
   "metadata": {},
   "outputs": [
    {
     "data": {
      "text/plain": [
       "[4, 5, [1, 2, 3, 10]]"
      ]
     },
     "execution_count": 15,
     "metadata": {},
     "output_type": "execute_result"
    }
   ],
   "source": [
    "z"
   ]
  },
  {
   "cell_type": "code",
   "execution_count": 16,
   "id": "conservative-combine",
   "metadata": {},
   "outputs": [
    {
     "data": {
      "text/plain": [
       "True"
      ]
     },
     "execution_count": 16,
     "metadata": {},
     "output_type": "execute_result"
    }
   ],
   "source": [
    "id(x) == id(z[2])"
   ]
  },
  {
   "cell_type": "markdown",
   "id": "global-doctor",
   "metadata": {},
   "source": [
    "### Czy funkcja może być wartością w słowniku?\n",
    "\n",
    "Tak/Nie"
   ]
  },
  {
   "cell_type": "code",
   "execution_count": 18,
   "id": "first-syracuse",
   "metadata": {},
   "outputs": [
    {
     "name": "stdout",
     "output_type": "stream",
     "text": [
      "printuje\n"
     ]
    }
   ],
   "source": [
    "x = {'p': print}\n",
    "\n",
    "x['p'](\"printuje\")"
   ]
  },
  {
   "cell_type": "markdown",
   "id": "ultimate-jerusalem",
   "metadata": {},
   "source": [
    "### Czy funkcja może być kluczem w słowniku?\n",
    "\n",
    "Tak/Nie"
   ]
  },
  {
   "cell_type": "code",
   "execution_count": 19,
   "id": "commercial-contrast",
   "metadata": {},
   "outputs": [],
   "source": [
    "x[print] = \"print\""
   ]
  },
  {
   "cell_type": "code",
   "execution_count": 20,
   "id": "prepared-holiday",
   "metadata": {},
   "outputs": [
    {
     "data": {
      "text/plain": [
       "'print'"
      ]
     },
     "execution_count": 20,
     "metadata": {},
     "output_type": "execute_result"
    }
   ],
   "source": [
    "x[print]"
   ]
  },
  {
   "cell_type": "code",
   "execution_count": 21,
   "id": "accessible-endorsement",
   "metadata": {},
   "outputs": [
    {
     "data": {
      "text/plain": [
       "{'p': <function print>, <function print>: 'print'}"
      ]
     },
     "execution_count": 21,
     "metadata": {},
     "output_type": "execute_result"
    }
   ],
   "source": [
    "x"
   ]
  },
  {
   "cell_type": "markdown",
   "id": "falling-philadelphia",
   "metadata": {},
   "source": [
    "### Czy taka definicja funkcji jest poprawna?\n",
    "\n",
    "\n",
    "    def funkcja(a, b, c=1, d, e):\n",
    "        return a + b, c - d / e\n",
    "        \n",
    "\n",
    "Tak / Nie"
   ]
  },
  {
   "cell_type": "code",
   "execution_count": 22,
   "id": "accepted-scroll",
   "metadata": {},
   "outputs": [
    {
     "ename": "SyntaxError",
     "evalue": "non-default argument follows default argument (<ipython-input-22-33b350251f1c>, line 1)",
     "output_type": "error",
     "traceback": [
      "\u001b[0;36m  File \u001b[0;32m\"<ipython-input-22-33b350251f1c>\"\u001b[0;36m, line \u001b[0;32m1\u001b[0m\n\u001b[0;31m    def funkcja(a, b, c=1, d, e):\u001b[0m\n\u001b[0m               ^\u001b[0m\n\u001b[0;31mSyntaxError\u001b[0m\u001b[0;31m:\u001b[0m non-default argument follows default argument\n"
     ]
    }
   ],
   "source": [
    "def funkcja(a, b, c=1, d, e):\n",
    "    return a + b, c - d / e"
   ]
  },
  {
   "cell_type": "code",
   "execution_count": 23,
   "id": "blocked-respect",
   "metadata": {},
   "outputs": [],
   "source": [
    "def funkcja(a, b, d, e, c=1):\n",
    "    return a + b, c - d / e"
   ]
  },
  {
   "cell_type": "markdown",
   "id": "every-shoulder",
   "metadata": {},
   "source": [
    "### Czy taka definicja funkcji jest poprawna?\n",
    "\n",
    "    def 1st_element(collection):\n",
    "        return collection[0]\n",
    "\n",
    "Tak / Nie"
   ]
  },
  {
   "cell_type": "code",
   "execution_count": 24,
   "id": "precious-softball",
   "metadata": {},
   "outputs": [
    {
     "ename": "SyntaxError",
     "evalue": "invalid syntax (<ipython-input-24-40f9a251dde2>, line 1)",
     "output_type": "error",
     "traceback": [
      "\u001b[0;36m  File \u001b[0;32m\"<ipython-input-24-40f9a251dde2>\"\u001b[0;36m, line \u001b[0;32m1\u001b[0m\n\u001b[0;31m    def 1st_element(collection):\u001b[0m\n\u001b[0m        ^\u001b[0m\n\u001b[0;31mSyntaxError\u001b[0m\u001b[0;31m:\u001b[0m invalid syntax\n"
     ]
    }
   ],
   "source": [
    "def 1st_element(collection):\n",
    "        return collection[0]"
   ]
  },
  {
   "cell_type": "markdown",
   "id": "secret-moscow",
   "metadata": {},
   "source": [
    "###  Czy takie wywołanie funkcji jest poprawne?\n",
    "\n",
    "\n",
    "    funkcja(1, 2, d=1, e=2, c=3)\n",
    "\n",
    "Tak/Nie"
   ]
  },
  {
   "cell_type": "code",
   "execution_count": 28,
   "id": "separated-methodology",
   "metadata": {},
   "outputs": [
    {
     "data": {
      "text/plain": [
       "(3, 1.0)"
      ]
     },
     "execution_count": 28,
     "metadata": {},
     "output_type": "execute_result"
    }
   ],
   "source": [
    "funkcja(1, 2, e=1, d=2, c=3)"
   ]
  },
  {
   "cell_type": "code",
   "execution_count": 30,
   "id": "congressional-findings",
   "metadata": {},
   "outputs": [
    {
     "ename": "SyntaxError",
     "evalue": "positional argument follows keyword argument (<ipython-input-30-ef0b9c530def>, line 1)",
     "output_type": "error",
     "traceback": [
      "\u001b[0;36m  File \u001b[0;32m\"<ipython-input-30-ef0b9c530def>\"\u001b[0;36m, line \u001b[0;32m1\u001b[0m\n\u001b[0;31m    funkcja(e=1, c=3, d=2, a=1, 2)\u001b[0m\n\u001b[0m                               ^\u001b[0m\n\u001b[0;31mSyntaxError\u001b[0m\u001b[0;31m:\u001b[0m positional argument follows keyword argument\n"
     ]
    }
   ],
   "source": [
    "funkcja(e=1, c=3, d=2, a=1, 2)"
   ]
  },
  {
   "cell_type": "code",
   "execution_count": 31,
   "id": "clinical-plant",
   "metadata": {},
   "outputs": [
    {
     "ename": "TypeError",
     "evalue": "funkcja() got multiple values for argument 'b'",
     "output_type": "error",
     "traceback": [
      "\u001b[0;31m---------------------------------------------------------------------------\u001b[0m",
      "\u001b[0;31mTypeError\u001b[0m                                 Traceback (most recent call last)",
      "\u001b[0;32m<ipython-input-31-1733532ff9c8>\u001b[0m in \u001b[0;36m<module>\u001b[0;34m\u001b[0m\n\u001b[0;32m----> 1\u001b[0;31m \u001b[0mfunkcja\u001b[0m\u001b[0;34m(\u001b[0m\u001b[0;36m1\u001b[0m\u001b[0;34m,\u001b[0m \u001b[0;36m2\u001b[0m\u001b[0;34m,\u001b[0m \u001b[0mb\u001b[0m\u001b[0;34m=\u001b[0m\u001b[0;36m1\u001b[0m\u001b[0;34m,\u001b[0m \u001b[0md\u001b[0m\u001b[0;34m=\u001b[0m\u001b[0;36m2\u001b[0m\u001b[0;34m,\u001b[0m \u001b[0mc\u001b[0m\u001b[0;34m=\u001b[0m\u001b[0;36m3\u001b[0m\u001b[0;34m)\u001b[0m\u001b[0;34m\u001b[0m\u001b[0;34m\u001b[0m\u001b[0m\n\u001b[0m",
      "\u001b[0;31mTypeError\u001b[0m: funkcja() got multiple values for argument 'b'"
     ]
    }
   ],
   "source": [
    "funkcja(1, 2, b=1, d=2, c=3)"
   ]
  },
  {
   "cell_type": "markdown",
   "id": "defensive-winning",
   "metadata": {},
   "source": [
    "### Co będzie wyprintowane?\n",
    "\n",
    "    x = 10\n",
    "\n",
    "    def f():\n",
    "        x = 20\n",
    "        \n",
    "        def g():\n",
    "            x = 40 \n",
    "        \n",
    "            def h():\n",
    "                nonlocal x\n",
    "                x = 60\n",
    "            h()\n",
    "            print(x)\n",
    "        g()\n",
    "        print(x)\n",
    "\n",
    "    f()\n",
    "    print(x)\n",
    "    \n",
    "    \n",
    "A) \n",
    "\n",
    "    10\n",
    "    20\n",
    "    60\n",
    "\n",
    "\n",
    "B)  \n",
    "\n",
    "    10\n",
    "    60\n",
    "    20\n",
    "    \n",
    "C)\n",
    "\n",
    "    60\n",
    "    20\n",
    "    10\n",
    "\n",
    "D) \n",
    "\n",
    "    60\n",
    "    40\n",
    "    10"
   ]
  },
  {
   "cell_type": "code",
   "execution_count": 33,
   "id": "minus-detection",
   "metadata": {},
   "outputs": [
    {
     "name": "stdout",
     "output_type": "stream",
     "text": [
      "60\n",
      "20\n",
      "10\n"
     ]
    }
   ],
   "source": [
    "x = 10  # globalne x\n",
    "\n",
    "def f():\n",
    "    x = 20   # lokalne x\n",
    "\n",
    "    def g():\n",
    "        x = 40  # lokalne x\n",
    "\n",
    "        def h():\n",
    "            nonlocal x\n",
    "            x = 60\n",
    "        h()\n",
    "        print(x)\n",
    "    g()\n",
    "    print(x)\n",
    "\n",
    "f()\n",
    "print(x)"
   ]
  },
  {
   "cell_type": "markdown",
   "id": "chinese-stereo",
   "metadata": {},
   "source": [
    "### Jaki będzie wynik tych wywołań:\n",
    "\n",
    "    def foo(list_=[]):\n",
    "        list_ = list_ + [2]\n",
    "        print(list_)\n",
    "\n",
    "    foo()\n",
    "    foo()\n",
    "\n",
    "A) [2] i [2]\n",
    "\n",
    "B) [2] i [2, 2]"
   ]
  },
  {
   "cell_type": "code",
   "execution_count": 34,
   "id": "supported-frequency",
   "metadata": {},
   "outputs": [
    {
     "name": "stdout",
     "output_type": "stream",
     "text": [
      "[2]\n",
      "[2]\n"
     ]
    }
   ],
   "source": [
    "def foo(list_=[]):\n",
    "    list_ = list_ + [2]\n",
    "    print(list_)\n",
    "\n",
    "foo()\n",
    "foo()"
   ]
  },
  {
   "cell_type": "markdown",
   "id": "random-corruption",
   "metadata": {},
   "source": [
    "### Jaki będzie wynik tych wywołań:\n",
    "\n",
    "    def foo(list_=[]):\n",
    "        list_.append(2)\n",
    "        print(list_)\n",
    "\n",
    "    foo()\n",
    "    foo()\n",
    "    \n",
    "A) [2] i [2]\n",
    "\n",
    "B) [2] i [2, 2]"
   ]
  },
  {
   "cell_type": "code",
   "execution_count": 35,
   "id": "reliable-duplicate",
   "metadata": {},
   "outputs": [
    {
     "name": "stdout",
     "output_type": "stream",
     "text": [
      "[2]\n",
      "[2, 2]\n"
     ]
    }
   ],
   "source": [
    "def foo(list_=[]):\n",
    "    list_.append(2)\n",
    "    print(list_)\n",
    "\n",
    "foo()\n",
    "foo()"
   ]
  },
  {
   "cell_type": "markdown",
   "id": "unlimited-norway",
   "metadata": {},
   "source": [
    "## Zadanie domowe\n",
    "\n",
    "Funkcja przyjmuje jako argumenty macierze i zwraca ich sumę\n",
    "\n",
    "1. Zacznij od dodania dwóch argumentów\n",
    "\n",
    "    ```\n",
    "    >>> matrix1 = [[1, -2], [-3, 4]]\n",
    "    >>> matrix2 = [[2, -1], [0, -1]]\n",
    "    >>> add(matrix1, matrix2)\n",
    "    [[3, -3], [-3, 3]]\n",
    "    >>> matrix1 = [[1, -2, 3], [-4, 5, -6], [7, -8, 9]]\n",
    "    >>> matrix2 = [[1, 1, 0], [1, -2, 3], [-2, 2, -2]]\n",
    "    >>> add(matrix1, matrix2)\n",
    "    [[2, -1, 3], [-3, 3, -3], [5, -6, 7]]\n",
    "    ```\n",
    "    \n",
    "2. Pozwól jej przyjmować więcej macierzy jako argumenty\n",
    "\n",
    "    ```\n",
    "    >>> add([[1, 9], [7, 3]], [[5, -4], [3, 3]], [[2, 3], [-3, 1]])\n",
    "    [[8, 8], [7, 7]]\n",
    "    ```\n",
    "    \n",
    "3. Jeśli wymiary macierzy nie są zgodne powinien zostać rzucony wyjątek ValueError:\n",
    "\n",
    "    ```\n",
    "    >>> add([[1, 9], [7, 3]], [[1, 2], [3]])\n",
    "    Traceback (most recent call last):\n",
    "    File \"<stdin>\", line 1, in <module>\n",
    "    File \"add.py\", line 10, in add\n",
    "    raise ValueError(\"Given matrices are not the same size.\")\n",
    "    ValueError: Given matrices are not the same size.\n",
    "    ```"
   ]
  },
  {
   "cell_type": "code",
   "execution_count": 44,
   "id": "critical-bangladesh",
   "metadata": {},
   "outputs": [],
   "source": [
    "def check_size(m):\n",
    "    n_rows = len(m)\n",
    "    n_cols = len(m[0])\n",
    "    \n",
    "    for row in m:\n",
    "        if len(row) != n_cols:\n",
    "            raise ValueError(\"Every row should have same number of columns\")\n",
    "\n",
    "    return n_rows, n_cols\n",
    "\n",
    "def add(*args):\n",
    "    \n",
    "    sizes = set()\n",
    "    for m in args:\n",
    "        sizes.add(check_size(m))\n",
    "    \n",
    "    if len(sizes) > 1:\n",
    "        raise ValueError(\"Given matrices are not the same size\")\n",
    "    \n",
    "#     out = []\n",
    "#     for i_row in range(len(args[0])):\n",
    "#         row = []\n",
    "#         for i_col in range(len(args[0][0])):\n",
    "#             row.append(sum(x[i_row][i_col] for x in args))\n",
    "#         out.append(row)\n",
    "        \n",
    "    out = [\n",
    "        [sum(values) for values in zip(*rows)]\n",
    "        for rows in zip(*args)\n",
    "    ]\n",
    "    return out\n",
    "\n",
    "\n",
    "m1 = [[5]]\n",
    "m2 = [[-2]]\n",
    "m3 = [[3]]\n",
    "\n",
    "assert add(m1, m2) == [[3]]\n",
    "assert add(m1, m2, m3) == [[6]]\n",
    "assert add([[6, 6], [3, 1]], [[1, 2], [3, 4]]) == [[7, 8], [6, 5]]\n",
    "# assert add([[6, 6], [3, 1] ], [[1, 2, 3], [3, 4, 3]]) == [[7, 8], [6, 5]]"
   ]
  },
  {
   "cell_type": "markdown",
   "id": "declared-while",
   "metadata": {},
   "source": [
    "# użycie operatora *\n",
    "\n",
    "## użycie w definicji\n"
   ]
  },
  {
   "cell_type": "code",
   "execution_count": 45,
   "id": "alive-territory",
   "metadata": {},
   "outputs": [
    {
     "name": "stdout",
     "output_type": "stream",
     "text": [
      "1\n",
      "3\n",
      "6\n"
     ]
    }
   ],
   "source": [
    "def many(*args):\n",
    "    print(len(args))\n",
    "\n",
    "many(1)\n",
    "many(1, 2, 3)\n",
    "many(1, 2, 3,4 , 5, 6)"
   ]
  },
  {
   "cell_type": "markdown",
   "id": "medical-reference",
   "metadata": {},
   "source": [
    "## w wywołaniu"
   ]
  },
  {
   "cell_type": "code",
   "execution_count": 47,
   "id": "respected-poker",
   "metadata": {},
   "outputs": [
    {
     "name": "stdout",
     "output_type": "stream",
     "text": [
      "1\n",
      "5\n"
     ]
    }
   ],
   "source": [
    "x = [1, 2, 3, 4, 5]\n",
    "\n",
    "many(x)\n",
    "many(*x)"
   ]
  },
  {
   "cell_type": "markdown",
   "id": "improved-accordance",
   "metadata": {},
   "source": [
    "## rozpakowanie kontenerów\n"
   ]
  },
  {
   "cell_type": "code",
   "execution_count": 48,
   "id": "level-district",
   "metadata": {},
   "outputs": [],
   "source": [
    "a, b, c, d, e = x"
   ]
  },
  {
   "cell_type": "code",
   "execution_count": 52,
   "id": "indirect-champion",
   "metadata": {},
   "outputs": [
    {
     "name": "stdout",
     "output_type": "stream",
     "text": [
      "1 [2, 3, 4, 5]\n"
     ]
    }
   ],
   "source": [
    "a, *b = x\n",
    "print(a, b)"
   ]
  },
  {
   "cell_type": "code",
   "execution_count": 53,
   "id": "greek-upset",
   "metadata": {},
   "outputs": [
    {
     "name": "stdout",
     "output_type": "stream",
     "text": [
      "[1, 2, 3, 4] 5\n"
     ]
    }
   ],
   "source": [
    "*a, b = x\n",
    "print(a, b)"
   ]
  },
  {
   "cell_type": "code",
   "execution_count": 54,
   "id": "personal-international",
   "metadata": {},
   "outputs": [
    {
     "name": "stdout",
     "output_type": "stream",
     "text": [
      "1 [2, 3, 4] 5\n"
     ]
    }
   ],
   "source": [
    "a, *b, c = x\n",
    "\n",
    "print(a, b, c)"
   ]
  },
  {
   "cell_type": "code",
   "execution_count": 55,
   "id": "animated-aircraft",
   "metadata": {},
   "outputs": [],
   "source": [
    "a, *_, b = x"
   ]
  },
  {
   "cell_type": "code",
   "execution_count": 56,
   "id": "collectible-wallpaper",
   "metadata": {},
   "outputs": [
    {
     "ename": "ValueError",
     "evalue": "too many values to unpack (expected 2)",
     "output_type": "error",
     "traceback": [
      "\u001b[0;31m---------------------------------------------------------------------------\u001b[0m",
      "\u001b[0;31mValueError\u001b[0m                                Traceback (most recent call last)",
      "\u001b[0;32m<ipython-input-56-4430d8d5d46d>\u001b[0m in \u001b[0;36m<module>\u001b[0;34m\u001b[0m\n\u001b[0;32m----> 1\u001b[0;31m \u001b[0ma\u001b[0m\u001b[0;34m,\u001b[0m \u001b[0mb\u001b[0m \u001b[0;34m=\u001b[0m \u001b[0mx\u001b[0m\u001b[0;34m\u001b[0m\u001b[0;34m\u001b[0m\u001b[0m\n\u001b[0m",
      "\u001b[0;31mValueError\u001b[0m: too many values to unpack (expected 2)"
     ]
    }
   ],
   "source": [
    "a, b = x\n"
   ]
  },
  {
   "cell_type": "markdown",
   "id": "pending-father",
   "metadata": {},
   "source": [
    "# Funkcje cd\n",
    "\n",
    "## Wartości domyślne\n",
    "\n"
   ]
  },
  {
   "cell_type": "code",
   "execution_count": 61,
   "id": "expected-growing",
   "metadata": {},
   "outputs": [
    {
     "data": {
      "text/plain": [
       "9"
      ]
     },
     "execution_count": 61,
     "metadata": {},
     "output_type": "execute_result"
    }
   ],
   "source": [
    "def foo(a, b, *, c=1, d=2):\n",
    "    return a + b + c + d\n",
    "\n",
    "foo(1, 2)\n",
    "\n",
    "\n",
    "# foo(1, 2, 3, 3)\n",
    "foo(1, 2, c=3, d=3)\n",
    "\n",
    "        "
   ]
  },
  {
   "cell_type": "code",
   "execution_count": null,
   "id": "approved-clerk",
   "metadata": {},
   "outputs": [],
   "source": [
    "def foo(a, b, c=1, d=1, **kwargs):\n",
    "    return a + b + c + d"
   ]
  },
  {
   "cell_type": "markdown",
   "id": "latest-synthetic",
   "metadata": {},
   "source": [
    "### Zadanie:\n",
    "\n",
    "Napisz funkcję, która zliczy znaki pomiędzy określonymi znacznikami, dodając wagę zgodnie z poziomem zagnieżdżenia:\n",
    "\n",
    "np. jeśli nasze znaczniki to <>, to:\n",
    "\n",
    "    policz_znaki(\"\") == 0\n",
    "    policz_znaki(\"<>\") == 0\n",
    "    policz_znaki(\"<a<bc>>\") == 5\n",
    "    itd.\n",
    "    \n",
    "Możemy też podać inne znaczniki, wtedy:\n",
    "    \n",
    "    policz_znaki(\"<>\", start=\"[\", stop=\"]\") == 0\n",
    "    \n",
    "    policz_znaki(\"[a<bcd>]\") == 6"
   ]
  },
  {
   "cell_type": "code",
   "execution_count": 75,
   "id": "thick-terrace",
   "metadata": {},
   "outputs": [],
   "source": [
    "def policz_znaki(text, start=\"<\", stop=\">\"):\n",
    "    licznik = 0\n",
    "    poziom = 0\n",
    "    for znak in text:\n",
    "        if znak == start:\n",
    "            poziom += 1\n",
    "        elif znak == stop:\n",
    "            poziom -= 1\n",
    "        else:\n",
    "            licznik += poziom\n",
    "    return licznik\n",
    "\n",
    "assert policz_znaki(\"\") == 0\n",
    "assert policz_znaki(\"<>\") == 0\n",
    "assert policz_znaki(\"<a<bc>>\") == 5\n",
    "assert policz_znaki(\"<>\", start=\"[\", stop=\"]\") == 0\n",
    "assert policz_znaki(\"[a<bcd>]\") == 3\n",
    "assert policz_znaki(\"[a<bcd>]\", start=\"[\", stop=\"]\") == 6"
   ]
  },
  {
   "cell_type": "markdown",
   "id": "elegant-grammar",
   "metadata": {},
   "source": [
    "## Kwargs **\n",
    "\n"
   ]
  },
  {
   "cell_type": "code",
   "execution_count": 65,
   "id": "danish-function",
   "metadata": {},
   "outputs": [
    {
     "name": "stdout",
     "output_type": "stream",
     "text": [
      "{}\n",
      "{'a': 1, 'b': 2, 'c': 2, 'd': 3}\n"
     ]
    }
   ],
   "source": [
    "def foo(**kwargs):\n",
    "    print(kwargs)\n",
    "    \n",
    "    \n",
    "foo()\n",
    "foo(a=1, b=2, c=2, d=3)"
   ]
  },
  {
   "cell_type": "code",
   "execution_count": 67,
   "id": "stock-neutral",
   "metadata": {},
   "outputs": [
    {
     "name": "stdout",
     "output_type": "stream",
     "text": [
      "{'a': 1, 'c': 10}\n"
     ]
    }
   ],
   "source": [
    "d = {'a': 1, 'c':10}\n",
    "\n",
    "foo(**d)\n",
    "\n"
   ]
  },
  {
   "cell_type": "markdown",
   "id": "initial-willow",
   "metadata": {},
   "source": [
    "### Exercies\n",
    "\n",
    "Zaimplementuj funkcję formatującą podane napisy.\n",
    "Przykład użycia:\n",
    "\n",
    "```python\n",
    "    >>> formatuj(\n",
    "            \"nazwa produktu: $name\",\n",
    "            \"cena produktu: $price PLN\",\n",
    "            \"stawka vat: $vat%\",\n",
    "            name=\"Ogórki\",\n",
    "            price=2.55,\n",
    "            vat=15\n",
    "        )\n",
    "``` \n",
    "    \n",
    "wynik:\n",
    "\n",
    "```\n",
    "nazwa produktu: Ogórki\n",
    "cena produktu: 2.55 PLN\n",
    "stawka vat: 15%\n",
    "```\n",
    "\n",
    "\n",
    "\n"
   ]
  },
  {
   "cell_type": "code",
   "execution_count": 86,
   "id": "above-general",
   "metadata": {},
   "outputs": [],
   "source": [
    "def formatuj(*texts, **values):\n",
    "    text = \"\\n\".join(texts)\n",
    "    \n",
    "    for k, v in values.items():\n",
    "        text = text.replace(f\"${k}\", str(v))\n",
    "    \n",
    "    return text\n",
    "    \n",
    "\n",
    "assert formatuj(\n",
    "    \"nazwa produktu: $name\",\n",
    "    \"cena produktu: $price PLN\",\n",
    "    \"stawka vat: $vat%\",\n",
    "    name=\"Ogórki\",\n",
    "    price=2.55,\n",
    "    vat=15\n",
    ") == \"\"\"nazwa produktu: Ogórki\n",
    "cena produktu: 2.55 PLN\n",
    "stawka vat: 15%\"\"\""
   ]
  },
  {
   "cell_type": "code",
   "execution_count": 88,
   "id": "automatic-mambo",
   "metadata": {},
   "outputs": [
    {
     "name": "stdout",
     "output_type": "stream",
     "text": [
      "nazwa produktu: Ogórki\n",
      "cena produktu: 2.55 PLN\n",
      "stawka vat: 15%\n"
     ]
    }
   ],
   "source": [
    "print(formatuj(\n",
    "    \"nazwa produktu: $name\",\n",
    "    \"cena produktu: $price PLN\",\n",
    "    \"stawka vat: $vat%\",\n",
    "    name=\"Ogórki\",\n",
    "    price=2.55,\n",
    "    vat=15\n",
    "))"
   ]
  },
  {
   "cell_type": "code",
   "execution_count": 77,
   "id": "dietary-level",
   "metadata": {},
   "outputs": [
    {
     "data": {
      "text/plain": [
       "'a-b-c'"
      ]
     },
     "execution_count": 77,
     "metadata": {},
     "output_type": "execute_result"
    }
   ],
   "source": [
    "\"-\".join(\"abc\")"
   ]
  },
  {
   "cell_type": "markdown",
   "id": "silver-geneva",
   "metadata": {},
   "source": [
    "## lambda - funkcje anonimowe, funkcja jako argument"
   ]
  },
  {
   "cell_type": "code",
   "execution_count": 90,
   "id": "hundred-rating",
   "metadata": {},
   "outputs": [
    {
     "name": "stdout",
     "output_type": "stream",
     "text": [
      "l\n"
     ]
    }
   ],
   "source": [
    "def second(x): return x[1]\n",
    "\n",
    "print(second(\"all\"))"
   ]
  },
  {
   "cell_type": "code",
   "execution_count": 92,
   "id": "environmental-dairy",
   "metadata": {},
   "outputs": [],
   "source": [
    "sec = lambda x: x[1]"
   ]
  },
  {
   "cell_type": "code",
   "execution_count": 93,
   "id": "close-trainer",
   "metadata": {},
   "outputs": [
    {
     "data": {
      "text/plain": [
       "'l'"
      ]
     },
     "execution_count": 93,
     "metadata": {},
     "output_type": "execute_result"
    }
   ],
   "source": [
    "sec(\"all|\")"
   ]
  },
  {
   "cell_type": "code",
   "execution_count": 95,
   "id": "proprietary-karen",
   "metadata": {},
   "outputs": [
    {
     "data": {
      "text/plain": [
       "'l'"
      ]
     },
     "execution_count": 95,
     "metadata": {},
     "output_type": "execute_result"
    }
   ],
   "source": [
    "(lambda x: x[1])('all')"
   ]
  },
  {
   "cell_type": "code",
   "execution_count": 97,
   "id": "selective-lawrence",
   "metadata": {},
   "outputs": [
    {
     "data": {
      "text/plain": [
       "'second'"
      ]
     },
     "execution_count": 97,
     "metadata": {},
     "output_type": "execute_result"
    }
   ],
   "source": [
    "second.__name__"
   ]
  },
  {
   "cell_type": "code",
   "execution_count": 99,
   "id": "respiratory-celtic",
   "metadata": {},
   "outputs": [
    {
     "data": {
      "text/plain": [
       "'<lambda>'"
      ]
     },
     "execution_count": 99,
     "metadata": {},
     "output_type": "execute_result"
    }
   ],
   "source": [
    "sec.__name__"
   ]
  },
  {
   "cell_type": "code",
   "execution_count": 100,
   "id": "effective-appointment",
   "metadata": {},
   "outputs": [
    {
     "data": {
      "text/plain": [
       "3"
      ]
     },
     "execution_count": 100,
     "metadata": {},
     "output_type": "execute_result"
    }
   ],
   "source": [
    "suma = lambda x, y: x + y\n",
    "\n",
    "suma(1, 2)"
   ]
  },
  {
   "cell_type": "code",
   "execution_count": 101,
   "id": "seeing-catholic",
   "metadata": {},
   "outputs": [
    {
     "data": {
      "text/plain": [
       "[['A', 100], ['R', 33], ['Z', 1]]"
      ]
     },
     "execution_count": 101,
     "metadata": {},
     "output_type": "execute_result"
    }
   ],
   "source": [
    "dane = [[\"R\", 33], ['A', 100], ['Z', 1]]\n",
    "\n",
    "sorted(dane)"
   ]
  },
  {
   "cell_type": "code",
   "execution_count": 103,
   "id": "educational-establishment",
   "metadata": {},
   "outputs": [
    {
     "data": {
      "text/plain": [
       "[['Z', 1], ['R', 33], ['A', 100]]"
      ]
     },
     "execution_count": 103,
     "metadata": {},
     "output_type": "execute_result"
    }
   ],
   "source": [
    "sorted(dane, key=lambda x: x[1])"
   ]
  },
  {
   "cell_type": "markdown",
   "id": "secret-longer",
   "metadata": {},
   "source": [
    "### Exercies\n",
    "\n",
    "Zadaną listę imion posortuj po ich długości oraz alafabetycznie\n",
    "\n",
    "```\n",
    "    imiona = [\"Rafał\", \"Ada\", \"Alcybiades\", \n",
    "    \"Korfanty\", \"Zenobia\", \"Krzysztof\", \"Krystyna\", \"Robert\", \"Rafałek\", \"\"Rafałko\"]\n",
    "    \n",
    "    wynik = ...\n",
    "    \n",
    "    assert wynik == ['Ada',\n",
    " 'Alcybiades',\n",
    " 'Korfanty',\n",
    " 'Krystyna',\n",
    " 'Krzysztof',\n",
    " 'Rafał',\n",
    " 'Robert',\n",
    " 'Zenobia']\n",
    "```"
   ]
  },
  {
   "cell_type": "code",
   "execution_count": 122,
   "id": "accessory-macro",
   "metadata": {},
   "outputs": [
    {
     "data": {
      "text/plain": [
       "['Ada',\n",
       " 'Alcybiades',\n",
       " 'Korfanty',\n",
       " 'Krystyna',\n",
       " 'Krzysztof',\n",
       " 'Rafał',\n",
       " 'Robert',\n",
       " 'Rafałek',\n",
       " 'Rafałko',\n",
       " 'Zenobia']"
      ]
     },
     "execution_count": 122,
     "metadata": {},
     "output_type": "execute_result"
    }
   ],
   "source": [
    "imiona = [\"Rafał\", \"Ada\", \"Alcybiades\", \n",
    "    \"Korfanty\", \"Zenobia\", \"Krzysztof\", \"Krystyna\", \"Robert\", \"Rafałek\", \"Rafałko\"]\n",
    "\n",
    "imiona.sort()\n",
    "imiona\n",
    "\n",
    "def sort_alpha_and_length(data):\n",
    "    out = []\n",
    "    data.sort()\n",
    "    first_letters = sorted({x[0] for x in data})\n",
    "    \n",
    "    for l in first_letters:\n",
    "        partial = sorted([x for x in data if x.startswith(l)], key=len)\n",
    "        out += partial\n",
    "        \n",
    "    \n",
    "    return out\n",
    "    \n",
    "sort_alpha_and_length(imiona)\n",
    "\n"
   ]
  },
  {
   "cell_type": "code",
   "execution_count": 126,
   "id": "julian-milan",
   "metadata": {},
   "outputs": [
    {
     "data": {
      "text/plain": [
       "['Ada',\n",
       " 'Rafał',\n",
       " 'Robert',\n",
       " 'Rafałek',\n",
       " 'Rafałko',\n",
       " 'Zenobia',\n",
       " 'Korfanty',\n",
       " 'Krystyna',\n",
       " 'Krzysztof',\n",
       " 'Alcybiades']"
      ]
     },
     "execution_count": 126,
     "metadata": {},
     "output_type": "execute_result"
    }
   ],
   "source": [
    "sorted(imiona, key=len)"
   ]
  },
  {
   "cell_type": "code",
   "execution_count": 127,
   "id": "focused-skirt",
   "metadata": {},
   "outputs": [
    {
     "data": {
      "text/plain": [
       "['Ada',\n",
       " 'Alcybiades',\n",
       " 'Korfanty',\n",
       " 'Krystyna',\n",
       " 'Krzysztof',\n",
       " 'Rafał',\n",
       " 'Rafałek',\n",
       " 'Rafałko',\n",
       " 'Robert',\n",
       " 'Zenobia']"
      ]
     },
     "execution_count": 127,
     "metadata": {},
     "output_type": "execute_result"
    }
   ],
   "source": [
    "sorted(sorted(imiona, key=len, reverse=True))"
   ]
  },
  {
   "cell_type": "code",
   "execution_count": null,
   "id": "relative-fountain",
   "metadata": {},
   "outputs": [],
   "source": []
  },
  {
   "cell_type": "code",
   "execution_count": 106,
   "id": "excessive-tower",
   "metadata": {},
   "outputs": [
    {
     "data": {
      "text/plain": [
       "['text.csv', 'data.csv', 'text.json', 'qwer.asdf.txt', 'data.txt']"
      ]
     },
     "execution_count": 106,
     "metadata": {},
     "output_type": "execute_result"
    }
   ],
   "source": [
    "files = ['qwer.asdf.txt', 'data.txt', 'text.csv', 'data.csv', 'text.json']\n",
    "\n",
    "sorted(files, key=lambda x: x.split(\".\")[-1])"
   ]
  },
  {
   "cell_type": "code",
   "execution_count": 107,
   "id": "collected-nelson",
   "metadata": {},
   "outputs": [
    {
     "data": {
      "text/plain": [
       "['data.csv', 'data.txt', 'qwer.asdf.txt', 'text.csv', 'text.json']"
      ]
     },
     "execution_count": 107,
     "metadata": {},
     "output_type": "execute_result"
    }
   ],
   "source": [
    "sorted(sorted(files, key=lambda x: x.split(\".\")[-1]))"
   ]
  },
  {
   "cell_type": "code",
   "execution_count": 108,
   "id": "consecutive-measurement",
   "metadata": {},
   "outputs": [
    {
     "data": {
      "text/plain": [
       "['data.csv', 'text.csv', 'text.json', 'data.txt', 'qwer.asdf.txt']"
      ]
     },
     "execution_count": 108,
     "metadata": {},
     "output_type": "execute_result"
    }
   ],
   "source": [
    "sorted(sorted(files), key=lambda x: x.split(\".\")[-1])"
   ]
  },
  {
   "cell_type": "code",
   "execution_count": 109,
   "id": "colored-virus",
   "metadata": {},
   "outputs": [
    {
     "data": {
      "text/plain": [
       "['data.csv', 'text.csv', 'text.json', 'data.txt', 'qwer.asdf.txt']"
      ]
     },
     "execution_count": 109,
     "metadata": {},
     "output_type": "execute_result"
    }
   ],
   "source": [
    "partial = sorted(files)\n",
    "\n",
    "sorted(partial, key=lambda x: x.split(\".\")[-1])"
   ]
  },
  {
   "cell_type": "markdown",
   "id": "rubber-hypothetical",
   "metadata": {},
   "source": [
    "### Exercise\n",
    "\n",
    "Stwórz funkcję `group_by`, która przyjmie obiekt iterowalny oraz funkcję i zwróci słownik, w którym znajdą się pogrupowane przy pomocy funkcji obiekty z iteratora.\n",
    "Np. Chcemy liczby pogrupować wg reszty z dzielenia przez 3\n",
    "\n",
    "    >>> numbers = [1, 4, 5, 6, 8, 19, 34, 55]\n",
    "    >>> def mod3(n): return n % 3\n",
    "    >>> group_by(numbers, key_func=mod3)\n",
    "    {0: [6], 1: [1, 4, 19, 34, 55], 2: [5, 8]}\n",
    "    \n",
    "Albo mamy listę tupli opisujących zwierzeka (imię, gatunek):\n",
    "\n",
    "    animals = [\n",
    "            ('agatha', 'dog'),\n",
    "            ('kurt', 'cat'),\n",
    "            ('margaret', 'mouse'),\n",
    "            ('cory', 'cat'),\n",
    "            ('mary', 'mouse'),\n",
    "        ]\n",
    "chcemy pogrupować je gatunku. Jakiej funkcji użyjesz jako klucza?\n",
    "\n",
    "       {\n",
    "            'mouse': [('margaret', 'mouse'), ('mary', 'mouse')],\n",
    "            'dog': [('agatha', 'dog')],\n",
    "            'cat': [('kurt', 'cat'), ('cory', 'cat')],\n",
    "        }\n",
    "    \n",
    "    \n",
    "Jeśli funkcja klucza nie jest podana zaimplementuj domyślne zachowanie jak poniżej:\n",
    "\n",
    "    >>> group_by([1, 2, 1, 3, 2, 1])\n",
    "    {1: [1, 1, 1], 2: [2, 2], 3: [3]}\n",
    "    \n",
    "Słownik zawiera więc listy poszczególnych elementów z kolekcji"
   ]
  },
  {
   "cell_type": "code",
   "execution_count": 147,
   "id": "infectious-seller",
   "metadata": {},
   "outputs": [
    {
     "data": {
      "text/plain": [
       "defaultdict(list,\n",
       "            {'dog': [('agatha', 'dog')],\n",
       "             'cat': [('kurt', 'cat'), ('cory', 'cat')],\n",
       "             'mouse': [('margaret', 'mouse'), ('mary', 'mouse')]})"
      ]
     },
     "execution_count": 147,
     "metadata": {},
     "output_type": "execute_result"
    }
   ],
   "source": [
    "from collections import defaultdict\n",
    "\n",
    "def group_by(iterable, key=lambda x: x):\n",
    "    result = defaultdict(list)\n",
    "    for i in iterable:\n",
    "        result[key(i)].append(i)\n",
    "    return result\n",
    "        \n",
    "def group_by2(iterable, key=None):\n",
    "    result = defaultdict(list)\n",
    "    for i in iterable:\n",
    "        res = key(i) if key else i\n",
    "        result[res].append(i)\n",
    "    return result\n",
    "    \n",
    "    \n",
    "assert group_by([1, 2, 1, 3, 2, 1]) == {1: [1, 1, 1], 2: [2, 2], 3: [3]}\n",
    "\n",
    "def mod3(n): return n % 3\n",
    "numbers = [1, 4, 5, 6, 8, 19, 34, 55]\n",
    "group_by2(numbers, key=mod3)\n",
    "# assert group_by(numbers, key=mod3) == {0: [6], 1: [1, 4, 19, 34, 55], 2: [5, 8]}\n",
    "\n",
    "\n",
    "\n",
    "animals = [\n",
    "        ('agatha', 'dog'),\n",
    "        ('kurt', 'cat'),\n",
    "        ('margaret', 'mouse'),\n",
    "        ('cory', 'cat'),\n",
    "        ('mary', 'mouse'),\n",
    "    ]\n",
    "\n",
    "group_by2(animals, lambda x: x[1])"
   ]
  },
  {
   "cell_type": "code",
   "execution_count": 131,
   "id": "eleven-hypothesis",
   "metadata": {},
   "outputs": [
    {
     "data": {
      "text/plain": [
       "defaultdict(list, {})"
      ]
     },
     "execution_count": 131,
     "metadata": {},
     "output_type": "execute_result"
    }
   ],
   "source": [
    "x = defaultdict(list)\n",
    "\n",
    "x"
   ]
  },
  {
   "cell_type": "code",
   "execution_count": 132,
   "id": "random-brass",
   "metadata": {},
   "outputs": [
    {
     "data": {
      "text/plain": [
       "[]"
      ]
     },
     "execution_count": 132,
     "metadata": {},
     "output_type": "execute_result"
    }
   ],
   "source": [
    "x['i']"
   ]
  },
  {
   "cell_type": "code",
   "execution_count": 145,
   "id": "closed-arcade",
   "metadata": {},
   "outputs": [],
   "source": [
    "div2 = lambda x: x % 2\n",
    "\n",
    "x = div2(3) if div2(3) else 100\n"
   ]
  },
  {
   "cell_type": "code",
   "execution_count": 146,
   "id": "according-humanity",
   "metadata": {},
   "outputs": [
    {
     "data": {
      "text/plain": [
       "1"
      ]
     },
     "execution_count": 146,
     "metadata": {},
     "output_type": "execute_result"
    }
   ],
   "source": [
    "x"
   ]
  },
  {
   "cell_type": "code",
   "execution_count": 144,
   "id": "romance-color",
   "metadata": {},
   "outputs": [],
   "source": [
    "if {}:\n",
    "    print(\"True\")"
   ]
  },
  {
   "cell_type": "markdown",
   "id": "convertible-colony",
   "metadata": {},
   "source": [
    "## Domknięcia (clojures)"
   ]
  },
  {
   "cell_type": "code",
   "execution_count": 148,
   "id": "speaking-westminster",
   "metadata": {},
   "outputs": [
    {
     "name": "stdout",
     "output_type": "stream",
     "text": [
      "20\n"
     ]
    }
   ],
   "source": [
    "def mnozenie_przez(mnoznik):\n",
    "    def pomnoz(mnozna):\n",
    "        return mnozna * mnoznik\n",
    "    return pomnoz\n",
    "\n",
    "\n",
    "przez_5 = mnozenie_przez(5)\n",
    "\n",
    "print(przez_5(4))\n",
    "    "
   ]
  },
  {
   "cell_type": "code",
   "execution_count": 150,
   "id": "amateur-olympus",
   "metadata": {},
   "outputs": [
    {
     "data": {
      "text/plain": [
       "30"
      ]
     },
     "execution_count": 150,
     "metadata": {},
     "output_type": "execute_result"
    }
   ],
   "source": [
    "from functools import partial\n",
    "\n",
    "def mnozenie(x, y):\n",
    "    #     print(x, y)\n",
    "    return x * y\n",
    "\n",
    "przez_3 = partial(mnozenie, 3)\n",
    "przez_3(10)"
   ]
  },
  {
   "cell_type": "markdown",
   "id": "mysterious-tuning",
   "metadata": {},
   "source": [
    "### Exercise:\n",
    "\n",
    "Stwórz funkcję `incr_factory` służącą do produkcji funkcji inkrementujących o dowolną liczbę.\n",
    "\n",
    "Np:\n",
    "   ```\n",
    "   incr10 = incr_factory(10)\n",
    "   \n",
    "   incr10(11)\n",
    "   21\n",
    "   ```\n",
    "Postaraj się napisać rozwiązanie alternatywne z wykorzystaniem funkcji `partial` z modułu `functools`"
   ]
  },
  {
   "cell_type": "code",
   "execution_count": 151,
   "id": "celtic-delivery",
   "metadata": {},
   "outputs": [
    {
     "data": {
      "text/plain": [
       "21"
      ]
     },
     "execution_count": 151,
     "metadata": {},
     "output_type": "execute_result"
    }
   ],
   "source": [
    "def incr_factory(x):\n",
    "    def increase(y):\n",
    "        return x + y\n",
    "    \n",
    "    return increase\n",
    "\n",
    "incr_10 = incr_factory(10)\n",
    "incr_10(11)"
   ]
  },
  {
   "cell_type": "code",
   "execution_count": 152,
   "id": "informational-colony",
   "metadata": {},
   "outputs": [
    {
     "data": {
      "text/plain": [
       "21"
      ]
     },
     "execution_count": 152,
     "metadata": {},
     "output_type": "execute_result"
    }
   ],
   "source": [
    "from functools import partial\n",
    "\n",
    "def increase_x_by_y(x, y):\n",
    "    return x + y\n",
    "\n",
    "incr10 = partial(increase_x_by_y, 10)\n",
    "incr10(11)    "
   ]
  },
  {
   "cell_type": "markdown",
   "id": "accredited-audio",
   "metadata": {},
   "source": [
    "## dekoratory"
   ]
  },
  {
   "cell_type": "code",
   "execution_count": 153,
   "id": "amazing-foundation",
   "metadata": {},
   "outputs": [],
   "source": [
    "functions_to_test = []\n",
    "\n",
    "def test(func):\n",
    "    print(\"Dodaję do testów\")\n",
    "    functions_to_test.append(func)\n",
    "    return func"
   ]
  },
  {
   "cell_type": "code",
   "execution_count": 154,
   "id": "thick-speech",
   "metadata": {},
   "outputs": [
    {
     "name": "stdout",
     "output_type": "stream",
     "text": [
      "Dodaję do testów\n",
      "Dodaję do testów\n",
      "[<function a at 0x7fc9a0958f80>, <function b at 0x7fc9a09325f0>]\n"
     ]
    }
   ],
   "source": [
    "\n",
    "@test\n",
    "def a():\n",
    "    \"\"\"Docstring\"\"\"\n",
    "    print(\"a()\")\n",
    "\n",
    "    \n",
    "@test\n",
    "def b():\n",
    "    \"\"\"Docstring\"\"\"\n",
    "    print(\"b()\")\n",
    "    \n",
    "\n",
    "def c():\n",
    "    \"\"\"Docstring\"\"\"\n",
    "    print(\"c()\")\n",
    "\n",
    "print(functions_to_test)"
   ]
  },
  {
   "cell_type": "code",
   "execution_count": 155,
   "id": "variable-canberra",
   "metadata": {},
   "outputs": [
    {
     "name": "stdout",
     "output_type": "stream",
     "text": [
      "a()\n",
      "b()\n"
     ]
    }
   ],
   "source": [
    "for f in functions_to_test:\n",
    "    f()"
   ]
  },
  {
   "cell_type": "code",
   "execution_count": 156,
   "id": "demographic-moderator",
   "metadata": {},
   "outputs": [
    {
     "data": {
      "text/plain": [
       "'a'"
      ]
     },
     "execution_count": 156,
     "metadata": {},
     "output_type": "execute_result"
    }
   ],
   "source": [
    "a.__name__\n"
   ]
  },
  {
   "cell_type": "code",
   "execution_count": 157,
   "id": "quick-process",
   "metadata": {},
   "outputs": [
    {
     "data": {
      "text/plain": [
       "'Docstring'"
      ]
     },
     "execution_count": 157,
     "metadata": {},
     "output_type": "execute_result"
    }
   ],
   "source": [
    "a.__doc__"
   ]
  },
  {
   "cell_type": "code",
   "execution_count": 168,
   "id": "alive-spectacular",
   "metadata": {},
   "outputs": [
    {
     "name": "stdout",
     "output_type": "stream",
     "text": [
      "Return squared x\n",
      "square\n",
      "{'x': <class 'int'>, 'return': <class 'int'>}\n"
     ]
    }
   ],
   "source": [
    "def dekorator(func):\n",
    "    def wrapper(*args, **kwargs):\n",
    "        \"\"\"Wrapper docstring\"\"\"\n",
    "        print(\"Before\", func.__name__)\n",
    "        result = func(*args, **kwargs)\n",
    "        print(\"After\", func.__name__)\n",
    "        return result\n",
    "    \n",
    "    wrapper.__doc__ = func.__doc__\n",
    "    wrapper.__name__ = func.__name__\n",
    "    wrapper.__annotations__ = func.__annotations__\n",
    "    \n",
    "    return wrapper\n",
    "    \n",
    "@dekorator\n",
    "def square(x: int)-> int:\n",
    "    \"\"\"Return squared x\"\"\"\n",
    "    return x ** 2\n",
    "\n",
    "\n",
    "print(square.__doc__)\n",
    "print(square.__name__)\n",
    "print(square.__annotations__)"
   ]
  },
  {
   "cell_type": "code",
   "execution_count": 169,
   "id": "domestic-driving",
   "metadata": {},
   "outputs": [
    {
     "name": "stdout",
     "output_type": "stream",
     "text": [
      "Return squared x\n",
      "square\n",
      "{'x': <class 'int'>, 'return': <class 'int'>}\n"
     ]
    }
   ],
   "source": [
    "from functools import wraps\n",
    "\n",
    "def dekorator(func):\n",
    "    @wraps(func)\n",
    "    def wrapper(*args, **kwargs):\n",
    "        \"\"\"Wrapper docstring\"\"\"\n",
    "        print(\"Before\", func.__name__)\n",
    "        result = func(*args, **kwargs)\n",
    "        print(\"After\", func.__name__)\n",
    "        return result\n",
    "    \n",
    "    #     wrapper.__doc__ = func.__doc__\n",
    "    #     wrapper.__name__ = func.__name__\n",
    "    #     wrapper.__annotations__ = func.__annotations__\n",
    "    \n",
    "    return wrapper\n",
    "    \n",
    "\n",
    "@dekorator\n",
    "def square(x: int)-> int:\n",
    "    \"\"\"Return squared x\"\"\"\n",
    "    return x ** 2\n",
    "\n",
    "\n",
    "square = dekorator(square)\n",
    "\n",
    "print(square.__doc__)\n",
    "print(square.__name__)\n",
    "print(square.__annotations__)"
   ]
  },
  {
   "cell_type": "markdown",
   "id": "greater-modem",
   "metadata": {},
   "source": [
    "### Exercise:\n",
    "\n",
    "Napisz dekoratory , `bold` i `italic`, które do wyniku dekorowanej funkcji będa dodawać tagi html  `<b></b>` i `<i></i>`\n",
    "\n",
    "np:\n",
    "\n",
    "    @bold\n",
    "    @italic\n",
    "    def text(arg: str) -> str:\n",
    "        \"\"\"Mega ważna funkcja z ważną dokumentacją\"\n",
    "        return f'Test {arg}'\n",
    "        \n",
    "    text(\"cos\") == '<b><i>Test cos</i></b>'\n",
    "    \n",
    "\n",
    "zadbaj o to by nazwa funkcji, dokumentacja i annotacje się nie zmieniły"
   ]
  },
  {
   "cell_type": "code",
   "execution_count": null,
   "id": "regulated-archive",
   "metadata": {},
   "outputs": [],
   "source": []
  }
 ],
 "metadata": {
  "kernelspec": {
   "display_name": "Python 3",
   "language": "python",
   "name": "python3"
  },
  "language_info": {
   "codemirror_mode": {
    "name": "ipython",
    "version": 3
   },
   "file_extension": ".py",
   "mimetype": "text/x-python",
   "name": "python",
   "nbconvert_exporter": "python",
   "pygments_lexer": "ipython3",
   "version": "3.7.9"
  },
  "toc": {
   "base_numbering": 1,
   "nav_menu": {},
   "number_sections": true,
   "sideBar": true,
   "skip_h1_title": false,
   "title_cell": "Table of Contents",
   "title_sidebar": "Contents",
   "toc_cell": false,
   "toc_position": {},
   "toc_section_display": true,
   "toc_window_display": false
  }
 },
 "nbformat": 4,
 "nbformat_minor": 5
}
