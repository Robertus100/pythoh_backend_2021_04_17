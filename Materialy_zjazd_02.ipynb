{
 "cells": [
  {
   "cell_type": "markdown",
   "id": "suited-range",
   "metadata": {},
   "source": [
    "\n",
    "<p style=\"text-align: center; font-size: 32pt; line-height: 36pt\">\n",
    "    <b>Python Backend Developer - zjazd 2</b>\n",
    "</p>\n",
    "\n",
    "\n",
    "<p style=\"text-align: center; font-size: 12pt; line-height: 16pt;\">\n",
    "<b>Trener</b><br>\n",
    "Rafał Korzeniewski<br>\n",
    "tel.: <a href=\"tel:+48790018662\">+48 790 018 662</a><br>\n",
    "email: <a href=\"mailto:korzeniewski@gmail.com\">korzeniewski@gmail.com</a><br>\n",
    "</p>\n"
   ]
  },
  {
   "cell_type": "markdown",
   "id": "eastern-uncertainty",
   "metadata": {},
   "source": [
    "To co omówiliśmy:\n",
    "\n",
    "* Podstawowe typy\n",
    "* Podstawowe struktury danych \n",
    "* collections, Decimal\n",
    "* instrukcje warunkowe\n",
    "* pętle while i for\n",
    "* wyrażenia składane\n",
    "* mutowalność vs niemutowalność\n",
    "* proste funkcje\n",
    "* przestrzeniach nazw\n",
    "* GIT - podstawy\n",
    "\n",
    "# Quizz\n",
    "\n",
    "### Czy w int można zapisać następująca liczbę: 10 ** 512\n",
    "\n",
    "Tak / Nie\n"
   ]
  },
  {
   "cell_type": "code",
   "execution_count": 1,
   "id": "closed-treatment",
   "metadata": {},
   "outputs": [
    {
     "data": {
      "text/plain": [
       "100000000000000000000000000000000000000000000000000000000000000000000000000000000000000000000000000000000000000000000000000000000000000000000000000000000000000000000000000000000000000000000000000000000000000000000000000000000000000000000000000000000000000000000000000000000000000000000000000000000000000000000000000000000000000000000000000000000000000000000000000000000000000000000000000000000000000000000000000000000000000000000000000000000000000000000000000000000000000000000000000000000000000000000000000000000"
      ]
     },
     "execution_count": 1,
     "metadata": {},
     "output_type": "execute_result"
    }
   ],
   "source": [
    "10 ** 512"
   ]
  },
  {
   "cell_type": "markdown",
   "id": "played-world",
   "metadata": {},
   "source": [
    "### Czy w float można zapisać następującą liczbę: 10.0 ** 512\n",
    "\n",
    "Tak / Nie"
   ]
  },
  {
   "cell_type": "code",
   "execution_count": 3,
   "id": "understanding-shock",
   "metadata": {},
   "outputs": [],
   "source": [
    "# 10.0 ** 512"
   ]
  },
  {
   "cell_type": "markdown",
   "id": "minimal-sleeve",
   "metadata": {},
   "source": [
    "### Jaki będzie wynik następującego wyrażenia:\n",
    "\n",
    "    x = (1, 10)\n",
    "    x.append(20)\n",
    "\n",
    "A) (1, 10, 20)\n",
    "\n",
    "B) (1, 10)\n",
    "\n",
    "C) AttributeError\n",
    "\n",
    "D) None"
   ]
  },
  {
   "cell_type": "code",
   "execution_count": 4,
   "id": "considered-mattress",
   "metadata": {},
   "outputs": [
    {
     "ename": "AttributeError",
     "evalue": "'tuple' object has no attribute 'append'",
     "output_type": "error",
     "traceback": [
      "\u001b[0;31m---------------------------------------------------------------------------\u001b[0m",
      "\u001b[0;31mAttributeError\u001b[0m                            Traceback (most recent call last)",
      "\u001b[0;32m<ipython-input-4-854d862957b0>\u001b[0m in \u001b[0;36m<module>\u001b[0;34m\u001b[0m\n\u001b[1;32m      1\u001b[0m \u001b[0mx\u001b[0m \u001b[0;34m=\u001b[0m \u001b[0;34m(\u001b[0m\u001b[0;36m1\u001b[0m\u001b[0;34m,\u001b[0m \u001b[0;36m10\u001b[0m\u001b[0;34m)\u001b[0m\u001b[0;34m\u001b[0m\u001b[0;34m\u001b[0m\u001b[0m\n\u001b[0;32m----> 2\u001b[0;31m \u001b[0mx\u001b[0m\u001b[0;34m.\u001b[0m\u001b[0mappend\u001b[0m\u001b[0;34m(\u001b[0m\u001b[0;36m20\u001b[0m\u001b[0;34m)\u001b[0m\u001b[0;34m\u001b[0m\u001b[0;34m\u001b[0m\u001b[0m\n\u001b[0m",
      "\u001b[0;31mAttributeError\u001b[0m: 'tuple' object has no attribute 'append'"
     ]
    }
   ],
   "source": [
    "x = (1, 10)\n",
    "x.append(20)"
   ]
  },
  {
   "cell_type": "markdown",
   "id": "british-russell",
   "metadata": {},
   "source": [
    "### Jaki będzie wynik następującego wyrażenia:\n",
    "\n",
    "    x = [1, 10]\n",
    "    x.append(20)\n",
    "\n",
    "A) [1, 10, 20]\n",
    "\n",
    "B) [1, 10]\n",
    "\n",
    "C) AttributeError\n",
    "\n",
    "D) None"
   ]
  },
  {
   "cell_type": "code",
   "execution_count": 6,
   "id": "hydraulic-palestinian",
   "metadata": {},
   "outputs": [
    {
     "data": {
      "text/plain": [
       "[1, 10, 20]"
      ]
     },
     "execution_count": 6,
     "metadata": {},
     "output_type": "execute_result"
    }
   ],
   "source": [
    "x = [1, 10]\n",
    "x.append(20)\n",
    "x"
   ]
  },
  {
   "cell_type": "markdown",
   "id": "running-attention",
   "metadata": {},
   "source": [
    "### Jaki będzie wynik następującego skryptu:\n",
    "\n",
    "\n",
    "    x = dict()\n",
    "    \n",
    "    x['a'] += 10\n",
    "\n",
    "\n",
    "A) None\n",
    "\n",
    "B) KeyError\n",
    "\n",
    "C) {'a': 10}"
   ]
  },
  {
   "cell_type": "code",
   "execution_count": 7,
   "id": "desirable-cabin",
   "metadata": {},
   "outputs": [
    {
     "ename": "KeyError",
     "evalue": "'a'",
     "output_type": "error",
     "traceback": [
      "\u001b[0;31m---------------------------------------------------------------------------\u001b[0m",
      "\u001b[0;31mKeyError\u001b[0m                                  Traceback (most recent call last)",
      "\u001b[0;32m<ipython-input-7-aa09c38517fc>\u001b[0m in \u001b[0;36m<module>\u001b[0;34m\u001b[0m\n\u001b[1;32m      1\u001b[0m \u001b[0mx\u001b[0m \u001b[0;34m=\u001b[0m \u001b[0mdict\u001b[0m\u001b[0;34m(\u001b[0m\u001b[0;34m)\u001b[0m\u001b[0;34m\u001b[0m\u001b[0;34m\u001b[0m\u001b[0m\n\u001b[1;32m      2\u001b[0m \u001b[0;34m\u001b[0m\u001b[0m\n\u001b[0;32m----> 3\u001b[0;31m \u001b[0mx\u001b[0m\u001b[0;34m[\u001b[0m\u001b[0;34m'a'\u001b[0m\u001b[0;34m]\u001b[0m \u001b[0;34m+=\u001b[0m \u001b[0;36m10\u001b[0m\u001b[0;34m\u001b[0m\u001b[0;34m\u001b[0m\u001b[0m\n\u001b[0m\u001b[1;32m      4\u001b[0m \u001b[0;34m\u001b[0m\u001b[0m\n\u001b[1;32m      5\u001b[0m \u001b[0;31m# x['a'] = x['a'] + 10\u001b[0m\u001b[0;34m\u001b[0m\u001b[0;34m\u001b[0m\u001b[0;34m\u001b[0m\u001b[0m\n",
      "\u001b[0;31mKeyError\u001b[0m: 'a'"
     ]
    }
   ],
   "source": [
    "x = dict()\n",
    "\n",
    "x['a'] += 10\n",
    "\n",
    "# x['a'] = x['a'] + 10"
   ]
  },
  {
   "cell_type": "markdown",
   "id": "architectural-command",
   "metadata": {},
   "source": [
    "### Jaki będzie wynik następującego skryptu:\n",
    "\n",
    "\n",
    "    x = dict()\n",
    "    y = [1, 2]\n",
    "    x[y] = 3\n",
    "    \n",
    "A) KeyError\n",
    "\n",
    "B) TypeError\n",
    "\n",
    "C) None\n",
    "\n",
    "D) {[1, 2]: 3}"
   ]
  },
  {
   "cell_type": "code",
   "execution_count": 8,
   "id": "according-testament",
   "metadata": {},
   "outputs": [
    {
     "ename": "TypeError",
     "evalue": "unhashable type: 'list'",
     "output_type": "error",
     "traceback": [
      "\u001b[0;31m---------------------------------------------------------------------------\u001b[0m",
      "\u001b[0;31mTypeError\u001b[0m                                 Traceback (most recent call last)",
      "\u001b[0;32m<ipython-input-8-e69c5888f626>\u001b[0m in \u001b[0;36m<module>\u001b[0;34m\u001b[0m\n\u001b[1;32m      1\u001b[0m \u001b[0mx\u001b[0m \u001b[0;34m=\u001b[0m \u001b[0mdict\u001b[0m\u001b[0;34m(\u001b[0m\u001b[0;34m)\u001b[0m\u001b[0;34m\u001b[0m\u001b[0;34m\u001b[0m\u001b[0m\n\u001b[1;32m      2\u001b[0m \u001b[0my\u001b[0m \u001b[0;34m=\u001b[0m \u001b[0;34m[\u001b[0m\u001b[0;36m1\u001b[0m\u001b[0;34m,\u001b[0m \u001b[0;36m2\u001b[0m\u001b[0;34m]\u001b[0m\u001b[0;34m\u001b[0m\u001b[0;34m\u001b[0m\u001b[0m\n\u001b[0;32m----> 3\u001b[0;31m \u001b[0mx\u001b[0m\u001b[0;34m[\u001b[0m\u001b[0my\u001b[0m\u001b[0;34m]\u001b[0m \u001b[0;34m=\u001b[0m \u001b[0;36m3\u001b[0m\u001b[0;34m\u001b[0m\u001b[0;34m\u001b[0m\u001b[0m\n\u001b[0m",
      "\u001b[0;31mTypeError\u001b[0m: unhashable type: 'list'"
     ]
    }
   ],
   "source": [
    "x = dict()\n",
    "y = [1, 2]\n",
    "x[y] = 3"
   ]
  },
  {
   "cell_type": "code",
   "execution_count": 9,
   "id": "eligible-switzerland",
   "metadata": {},
   "outputs": [
    {
     "ename": "TypeError",
     "evalue": "unhashable type: 'list'",
     "output_type": "error",
     "traceback": [
      "\u001b[0;31m---------------------------------------------------------------------------\u001b[0m",
      "\u001b[0;31mTypeError\u001b[0m                                 Traceback (most recent call last)",
      "\u001b[0;32m<ipython-input-9-e3dac42a1072>\u001b[0m in \u001b[0;36m<module>\u001b[0;34m\u001b[0m\n\u001b[0;32m----> 1\u001b[0;31m \u001b[0;34m{\u001b[0m\u001b[0;34m[\u001b[0m\u001b[0;36m1\u001b[0m\u001b[0;34m,\u001b[0m \u001b[0;36m3\u001b[0m\u001b[0;34m]\u001b[0m\u001b[0;34m}\u001b[0m\u001b[0;34m\u001b[0m\u001b[0;34m\u001b[0m\u001b[0m\n\u001b[0m",
      "\u001b[0;31mTypeError\u001b[0m: unhashable type: 'list'"
     ]
    }
   ],
   "source": [
    "{[1, 3]}"
   ]
  },
  {
   "cell_type": "markdown",
   "id": "reasonable-collective",
   "metadata": {},
   "source": [
    "### Co tu się wydarzy?\n",
    "\n",
    "    >>> from collections import defaultdict\n",
    "    \n",
    "    >>> data = defaultdict(int)\n",
    "    \n",
    "    >>> data['a'] += 1\n",
    "    \n",
    "    >>> data\n",
    "    \n",
    "A) KeyError\n",
    "\n",
    "B) {'a': 1}\n",
    "\n",
    "C) None"
   ]
  },
  {
   "cell_type": "code",
   "execution_count": 10,
   "id": "aggressive-capitol",
   "metadata": {},
   "outputs": [
    {
     "data": {
      "text/plain": [
       "0"
      ]
     },
     "execution_count": 10,
     "metadata": {},
     "output_type": "execute_result"
    }
   ],
   "source": [
    "from collections import defaultdict\n",
    "\n",
    "data = defaultdict(int)\n",
    "\n",
    "data['x']"
   ]
  },
  {
   "cell_type": "code",
   "execution_count": 11,
   "id": "illegal-substance",
   "metadata": {},
   "outputs": [
    {
     "data": {
      "text/plain": [
       "defaultdict(int, {'x': 0, 'a': 1})"
      ]
     },
     "execution_count": 11,
     "metadata": {},
     "output_type": "execute_result"
    }
   ],
   "source": [
    "data['a'] += 1 # data['a'] = data['a'] + 1\n",
    "data"
   ]
  },
  {
   "cell_type": "markdown",
   "id": "small-wyoming",
   "metadata": {},
   "source": [
    "### Co będzie w liście z:\n",
    "\n",
    "    x = [1, 2, 3]\n",
    "    y = [4, 5, x]\n",
    "\n",
    "    z = y.copy()\n",
    "    \n",
    "    x.append(10)\n",
    "    \n",
    "    print(z)\n",
    "    \n",
    "A) [1, 2, 3, x]\n",
    "\n",
    "B) [4, 5, [1, 2, 3]]\n",
    "\n",
    "C) [4, 5, [1, 2, 3, 10]]"
   ]
  },
  {
   "cell_type": "code",
   "execution_count": 12,
   "id": "statutory-masters",
   "metadata": {},
   "outputs": [
    {
     "data": {
      "text/plain": [
       "[4, 5, [1, 2, 3]]"
      ]
     },
     "execution_count": 12,
     "metadata": {},
     "output_type": "execute_result"
    }
   ],
   "source": [
    "x = [1, 2, 3]\n",
    "y = [4, 5, x]\n",
    "\n",
    "y"
   ]
  },
  {
   "cell_type": "code",
   "execution_count": 13,
   "id": "fluid-recipe",
   "metadata": {},
   "outputs": [],
   "source": [
    "z = y.copy()"
   ]
  },
  {
   "cell_type": "code",
   "execution_count": 14,
   "id": "disturbed-prisoner",
   "metadata": {},
   "outputs": [],
   "source": [
    "x.append(10)"
   ]
  },
  {
   "cell_type": "code",
   "execution_count": 15,
   "id": "played-pound",
   "metadata": {},
   "outputs": [
    {
     "data": {
      "text/plain": [
       "[4, 5, [1, 2, 3, 10]]"
      ]
     },
     "execution_count": 15,
     "metadata": {},
     "output_type": "execute_result"
    }
   ],
   "source": [
    "z"
   ]
  },
  {
   "cell_type": "code",
   "execution_count": 16,
   "id": "israeli-combining",
   "metadata": {},
   "outputs": [
    {
     "data": {
      "text/plain": [
       "True"
      ]
     },
     "execution_count": 16,
     "metadata": {},
     "output_type": "execute_result"
    }
   ],
   "source": [
    "id(x) == id(z[2])"
   ]
  },
  {
   "cell_type": "markdown",
   "id": "outer-confirmation",
   "metadata": {},
   "source": [
    "### Czy funkcja może być wartością w słowniku?\n",
    "\n",
    "Tak/Nie"
   ]
  },
  {
   "cell_type": "code",
   "execution_count": 18,
   "id": "capital-insight",
   "metadata": {},
   "outputs": [
    {
     "name": "stdout",
     "output_type": "stream",
     "text": [
      "printuje\n"
     ]
    }
   ],
   "source": [
    "x = {'p': print}\n",
    "\n",
    "x['p'](\"printuje\")"
   ]
  },
  {
   "cell_type": "markdown",
   "id": "dutch-architect",
   "metadata": {},
   "source": [
    "### Czy funkcja może być kluczem w słowniku?\n",
    "\n",
    "Tak/Nie"
   ]
  },
  {
   "cell_type": "code",
   "execution_count": 19,
   "id": "distant-chocolate",
   "metadata": {},
   "outputs": [],
   "source": [
    "x[print] = \"print\""
   ]
  },
  {
   "cell_type": "code",
   "execution_count": 20,
   "id": "turned-defensive",
   "metadata": {},
   "outputs": [
    {
     "data": {
      "text/plain": [
       "'print'"
      ]
     },
     "execution_count": 20,
     "metadata": {},
     "output_type": "execute_result"
    }
   ],
   "source": [
    "x[print]"
   ]
  },
  {
   "cell_type": "code",
   "execution_count": 21,
   "id": "greatest-mother",
   "metadata": {},
   "outputs": [
    {
     "data": {
      "text/plain": [
       "{'p': <function print>, <function print>: 'print'}"
      ]
     },
     "execution_count": 21,
     "metadata": {},
     "output_type": "execute_result"
    }
   ],
   "source": [
    "x"
   ]
  },
  {
   "cell_type": "markdown",
   "id": "centered-breathing",
   "metadata": {},
   "source": [
    "### Czy taka definicja funkcji jest poprawna?\n",
    "\n",
    "\n",
    "    def funkcja(a, b, c=1, d, e):\n",
    "        return a + b, c - d / e\n",
    "        \n",
    "\n",
    "Tak / Nie"
   ]
  },
  {
   "cell_type": "code",
   "execution_count": 22,
   "id": "infectious-angel",
   "metadata": {},
   "outputs": [
    {
     "ename": "SyntaxError",
     "evalue": "non-default argument follows default argument (<ipython-input-22-33b350251f1c>, line 1)",
     "output_type": "error",
     "traceback": [
      "\u001b[0;36m  File \u001b[0;32m\"<ipython-input-22-33b350251f1c>\"\u001b[0;36m, line \u001b[0;32m1\u001b[0m\n\u001b[0;31m    def funkcja(a, b, c=1, d, e):\u001b[0m\n\u001b[0m               ^\u001b[0m\n\u001b[0;31mSyntaxError\u001b[0m\u001b[0;31m:\u001b[0m non-default argument follows default argument\n"
     ]
    }
   ],
   "source": [
    "def funkcja(a, b, c=1, d, e):\n",
    "    return a + b, c - d / e"
   ]
  },
  {
   "cell_type": "code",
   "execution_count": 23,
   "id": "sharp-product",
   "metadata": {},
   "outputs": [],
   "source": [
    "def funkcja(a, b, d, e, c=1):\n",
    "    return a + b, c - d / e"
   ]
  },
  {
   "cell_type": "markdown",
   "id": "promising-division",
   "metadata": {},
   "source": [
    "### Czy taka definicja funkcji jest poprawna?\n",
    "\n",
    "    def 1st_element(collection):\n",
    "        return collection[0]\n",
    "\n",
    "Tak / Nie"
   ]
  },
  {
   "cell_type": "code",
   "execution_count": 24,
   "id": "worth-shareware",
   "metadata": {},
   "outputs": [
    {
     "ename": "SyntaxError",
     "evalue": "invalid syntax (<ipython-input-24-40f9a251dde2>, line 1)",
     "output_type": "error",
     "traceback": [
      "\u001b[0;36m  File \u001b[0;32m\"<ipython-input-24-40f9a251dde2>\"\u001b[0;36m, line \u001b[0;32m1\u001b[0m\n\u001b[0;31m    def 1st_element(collection):\u001b[0m\n\u001b[0m        ^\u001b[0m\n\u001b[0;31mSyntaxError\u001b[0m\u001b[0;31m:\u001b[0m invalid syntax\n"
     ]
    }
   ],
   "source": [
    "def 1st_element(collection):\n",
    "        return collection[0]"
   ]
  },
  {
   "cell_type": "markdown",
   "id": "private-nightmare",
   "metadata": {},
   "source": [
    "###  Czy takie wywołanie funkcji jest poprawne?\n",
    "\n",
    "\n",
    "    funkcja(1, 2, d=1, e=2, c=3)\n",
    "\n",
    "Tak/Nie"
   ]
  },
  {
   "cell_type": "code",
   "execution_count": 28,
   "id": "thick-saskatchewan",
   "metadata": {},
   "outputs": [
    {
     "data": {
      "text/plain": [
       "(3, 1.0)"
      ]
     },
     "execution_count": 28,
     "metadata": {},
     "output_type": "execute_result"
    }
   ],
   "source": [
    "funkcja(1, 2, e=1, d=2, c=3)"
   ]
  },
  {
   "cell_type": "code",
   "execution_count": 30,
   "id": "medical-automation",
   "metadata": {},
   "outputs": [
    {
     "ename": "SyntaxError",
     "evalue": "positional argument follows keyword argument (<ipython-input-30-ef0b9c530def>, line 1)",
     "output_type": "error",
     "traceback": [
      "\u001b[0;36m  File \u001b[0;32m\"<ipython-input-30-ef0b9c530def>\"\u001b[0;36m, line \u001b[0;32m1\u001b[0m\n\u001b[0;31m    funkcja(e=1, c=3, d=2, a=1, 2)\u001b[0m\n\u001b[0m                               ^\u001b[0m\n\u001b[0;31mSyntaxError\u001b[0m\u001b[0;31m:\u001b[0m positional argument follows keyword argument\n"
     ]
    }
   ],
   "source": [
    "funkcja(e=1, c=3, d=2, a=1, 2)"
   ]
  },
  {
   "cell_type": "code",
   "execution_count": 31,
   "id": "saving-reality",
   "metadata": {},
   "outputs": [
    {
     "ename": "TypeError",
     "evalue": "funkcja() got multiple values for argument 'b'",
     "output_type": "error",
     "traceback": [
      "\u001b[0;31m---------------------------------------------------------------------------\u001b[0m",
      "\u001b[0;31mTypeError\u001b[0m                                 Traceback (most recent call last)",
      "\u001b[0;32m<ipython-input-31-1733532ff9c8>\u001b[0m in \u001b[0;36m<module>\u001b[0;34m\u001b[0m\n\u001b[0;32m----> 1\u001b[0;31m \u001b[0mfunkcja\u001b[0m\u001b[0;34m(\u001b[0m\u001b[0;36m1\u001b[0m\u001b[0;34m,\u001b[0m \u001b[0;36m2\u001b[0m\u001b[0;34m,\u001b[0m \u001b[0mb\u001b[0m\u001b[0;34m=\u001b[0m\u001b[0;36m1\u001b[0m\u001b[0;34m,\u001b[0m \u001b[0md\u001b[0m\u001b[0;34m=\u001b[0m\u001b[0;36m2\u001b[0m\u001b[0;34m,\u001b[0m \u001b[0mc\u001b[0m\u001b[0;34m=\u001b[0m\u001b[0;36m3\u001b[0m\u001b[0;34m)\u001b[0m\u001b[0;34m\u001b[0m\u001b[0;34m\u001b[0m\u001b[0m\n\u001b[0m",
      "\u001b[0;31mTypeError\u001b[0m: funkcja() got multiple values for argument 'b'"
     ]
    }
   ],
   "source": [
    "funkcja(1, 2, b=1, d=2, c=3)"
   ]
  },
  {
   "cell_type": "markdown",
   "id": "subject-efficiency",
   "metadata": {},
   "source": [
    "### Co będzie wyprintowane?\n",
    "\n",
    "    x = 10\n",
    "\n",
    "    def f():\n",
    "        x = 20\n",
    "        \n",
    "        def g():\n",
    "            x = 40 \n",
    "        \n",
    "            def h():\n",
    "                nonlocal x\n",
    "                x = 60\n",
    "            h()\n",
    "            print(x)\n",
    "        g()\n",
    "        print(x)\n",
    "\n",
    "    f()\n",
    "    print(x)\n",
    "    \n",
    "    \n",
    "A) \n",
    "\n",
    "    10\n",
    "    20\n",
    "    60\n",
    "\n",
    "\n",
    "B)  \n",
    "\n",
    "    10\n",
    "    60\n",
    "    20\n",
    "    \n",
    "C)\n",
    "\n",
    "    60\n",
    "    20\n",
    "    10\n",
    "\n",
    "D) \n",
    "\n",
    "    60\n",
    "    40\n",
    "    10"
   ]
  },
  {
   "cell_type": "code",
   "execution_count": 33,
   "id": "victorian-sessions",
   "metadata": {},
   "outputs": [
    {
     "name": "stdout",
     "output_type": "stream",
     "text": [
      "60\n",
      "20\n",
      "10\n"
     ]
    }
   ],
   "source": [
    "x = 10  # globalne x\n",
    "\n",
    "def f():\n",
    "    x = 20   # lokalne x\n",
    "\n",
    "    def g():\n",
    "        x = 40  # lokalne x\n",
    "\n",
    "        def h():\n",
    "            nonlocal x\n",
    "            x = 60\n",
    "        h()\n",
    "        print(x)\n",
    "    g()\n",
    "    print(x)\n",
    "\n",
    "f()\n",
    "print(x)"
   ]
  },
  {
   "cell_type": "markdown",
   "id": "undefined-accused",
   "metadata": {},
   "source": [
    "### Jaki będzie wynik tych wywołań:\n",
    "\n",
    "    def foo(list_=[]):\n",
    "        list_ = list_ + [2]\n",
    "        print(list_)\n",
    "\n",
    "    foo()\n",
    "    foo()\n",
    "\n",
    "A) [2] i [2]\n",
    "\n",
    "B) [2] i [2, 2]"
   ]
  },
  {
   "cell_type": "code",
   "execution_count": 34,
   "id": "therapeutic-sudan",
   "metadata": {},
   "outputs": [
    {
     "name": "stdout",
     "output_type": "stream",
     "text": [
      "[2]\n",
      "[2]\n"
     ]
    }
   ],
   "source": [
    "def foo(list_=[]):\n",
    "    list_ = list_ + [2]\n",
    "    print(list_)\n",
    "\n",
    "foo()\n",
    "foo()"
   ]
  },
  {
   "cell_type": "markdown",
   "id": "false-synthesis",
   "metadata": {},
   "source": [
    "### Jaki będzie wynik tych wywołań:\n",
    "\n",
    "    def foo(list_=[]):\n",
    "        list_.append(2)\n",
    "        print(list_)\n",
    "\n",
    "    foo()\n",
    "    foo()\n",
    "    \n",
    "A) [2] i [2]\n",
    "\n",
    "B) [2] i [2, 2]"
   ]
  },
  {
   "cell_type": "code",
   "execution_count": 35,
   "id": "natural-legend",
   "metadata": {},
   "outputs": [
    {
     "name": "stdout",
     "output_type": "stream",
     "text": [
      "[2]\n",
      "[2, 2]\n"
     ]
    }
   ],
   "source": [
    "def foo(list_=[]):\n",
    "    list_.append(2)\n",
    "    print(list_)\n",
    "\n",
    "foo()\n",
    "foo()"
   ]
  },
  {
   "cell_type": "markdown",
   "id": "fundamental-fairy",
   "metadata": {},
   "source": [
    "## Zadanie domowe\n",
    "\n",
    "Funkcja przyjmuje jako argumenty macierze i zwraca ich sumę\n",
    "\n",
    "1. Zacznij od dodania dwóch argumentów\n",
    "\n",
    "    ```\n",
    "    >>> matrix1 = [[1, -2], [-3, 4]]\n",
    "    >>> matrix2 = [[2, -1], [0, -1]]\n",
    "    >>> add(matrix1, matrix2)\n",
    "    [[3, -3], [-3, 3]]\n",
    "    >>> matrix1 = [[1, -2, 3], [-4, 5, -6], [7, -8, 9]]\n",
    "    >>> matrix2 = [[1, 1, 0], [1, -2, 3], [-2, 2, -2]]\n",
    "    >>> add(matrix1, matrix2)\n",
    "    [[2, -1, 3], [-3, 3, -3], [5, -6, 7]]\n",
    "    ```\n",
    "    \n",
    "2. Pozwól jej przyjmować więcej macierzy jako argumenty\n",
    "\n",
    "    ```\n",
    "    >>> add([[1, 9], [7, 3]], [[5, -4], [3, 3]], [[2, 3], [-3, 1]])\n",
    "    [[8, 8], [7, 7]]\n",
    "    ```\n",
    "    \n",
    "3. Jeśli wymiary macierzy nie są zgodne powinien zostać rzucony wyjątek ValueError:\n",
    "\n",
    "    ```\n",
    "    >>> add([[1, 9], [7, 3]], [[1, 2], [3]])\n",
    "    Traceback (most recent call last):\n",
    "    File \"<stdin>\", line 1, in <module>\n",
    "    File \"add.py\", line 10, in add\n",
    "    raise ValueError(\"Given matrices are not the same size.\")\n",
    "    ValueError: Given matrices are not the same size.\n",
    "    ```"
   ]
  },
  {
   "cell_type": "code",
   "execution_count": 44,
   "id": "french-automation",
   "metadata": {},
   "outputs": [],
   "source": [
    "def check_size(m):\n",
    "    n_rows = len(m)\n",
    "    n_cols = len(m[0])\n",
    "    \n",
    "    for row in m:\n",
    "        if len(row) != n_cols:\n",
    "            raise ValueError(\"Every row should have same number of columns\")\n",
    "\n",
    "    return n_rows, n_cols\n",
    "\n",
    "def add(*args):\n",
    "    \n",
    "    sizes = set()\n",
    "    for m in args:\n",
    "        sizes.add(check_size(m))\n",
    "    \n",
    "    if len(sizes) > 1:\n",
    "        raise ValueError(\"Given matrices are not the same size\")\n",
    "    \n",
    "#     out = []\n",
    "#     for i_row in range(len(args[0])):\n",
    "#         row = []\n",
    "#         for i_col in range(len(args[0][0])):\n",
    "#             row.append(sum(x[i_row][i_col] for x in args))\n",
    "#         out.append(row)\n",
    "        \n",
    "    out = [\n",
    "        [sum(values) for values in zip(*rows)]\n",
    "        for rows in zip(*args)\n",
    "    ]\n",
    "    return out\n",
    "\n",
    "\n",
    "m1 = [[5]]\n",
    "m2 = [[-2]]\n",
    "m3 = [[3]]\n",
    "\n",
    "assert add(m1, m2) == [[3]]\n",
    "assert add(m1, m2, m3) == [[6]]\n",
    "assert add([[6, 6], [3, 1]], [[1, 2], [3, 4]]) == [[7, 8], [6, 5]]\n",
    "# assert add([[6, 6], [3, 1] ], [[1, 2, 3], [3, 4, 3]]) == [[7, 8], [6, 5]]"
   ]
  },
  {
   "cell_type": "markdown",
   "id": "indie-reliance",
   "metadata": {},
   "source": [
    "# użycie operatora *\n",
    "\n",
    "## użycie w definicji\n"
   ]
  },
  {
   "cell_type": "code",
   "execution_count": 45,
   "id": "commercial-coverage",
   "metadata": {},
   "outputs": [
    {
     "name": "stdout",
     "output_type": "stream",
     "text": [
      "1\n",
      "3\n",
      "6\n"
     ]
    }
   ],
   "source": [
    "def many(*args):\n",
    "    print(len(args))\n",
    "\n",
    "many(1)\n",
    "many(1, 2, 3)\n",
    "many(1, 2, 3,4 , 5, 6)"
   ]
  },
  {
   "cell_type": "markdown",
   "id": "duplicate-bandwidth",
   "metadata": {},
   "source": [
    "## w wywołaniu"
   ]
  },
  {
   "cell_type": "code",
   "execution_count": 47,
   "id": "caring-manitoba",
   "metadata": {},
   "outputs": [
    {
     "name": "stdout",
     "output_type": "stream",
     "text": [
      "1\n",
      "5\n"
     ]
    }
   ],
   "source": [
    "x = [1, 2, 3, 4, 5]\n",
    "\n",
    "many(x)\n",
    "many(*x)"
   ]
  },
  {
   "cell_type": "markdown",
   "id": "exceptional-justice",
   "metadata": {},
   "source": [
    "## rozpakowanie kontenerów\n"
   ]
  },
  {
   "cell_type": "code",
   "execution_count": 48,
   "id": "entitled-reflection",
   "metadata": {},
   "outputs": [],
   "source": [
    "a, b, c, d, e = x"
   ]
  },
  {
   "cell_type": "code",
   "execution_count": 52,
   "id": "dress-inspection",
   "metadata": {},
   "outputs": [
    {
     "name": "stdout",
     "output_type": "stream",
     "text": [
      "1 [2, 3, 4, 5]\n"
     ]
    }
   ],
   "source": [
    "a, *b = x\n",
    "print(a, b)"
   ]
  },
  {
   "cell_type": "code",
   "execution_count": 53,
   "id": "disabled-enclosure",
   "metadata": {},
   "outputs": [
    {
     "name": "stdout",
     "output_type": "stream",
     "text": [
      "[1, 2, 3, 4] 5\n"
     ]
    }
   ],
   "source": [
    "*a, b = x\n",
    "print(a, b)"
   ]
  },
  {
   "cell_type": "code",
   "execution_count": 54,
   "id": "developmental-resident",
   "metadata": {},
   "outputs": [
    {
     "name": "stdout",
     "output_type": "stream",
     "text": [
      "1 [2, 3, 4] 5\n"
     ]
    }
   ],
   "source": [
    "a, *b, c = x\n",
    "\n",
    "print(a, b, c)"
   ]
  },
  {
   "cell_type": "code",
   "execution_count": 55,
   "id": "mathematical-investigation",
   "metadata": {},
   "outputs": [],
   "source": [
    "a, *_, b = x"
   ]
  },
  {
   "cell_type": "code",
   "execution_count": 56,
   "id": "pediatric-arrangement",
   "metadata": {},
   "outputs": [
    {
     "ename": "ValueError",
     "evalue": "too many values to unpack (expected 2)",
     "output_type": "error",
     "traceback": [
      "\u001b[0;31m---------------------------------------------------------------------------\u001b[0m",
      "\u001b[0;31mValueError\u001b[0m                                Traceback (most recent call last)",
      "\u001b[0;32m<ipython-input-56-4430d8d5d46d>\u001b[0m in \u001b[0;36m<module>\u001b[0;34m\u001b[0m\n\u001b[0;32m----> 1\u001b[0;31m \u001b[0ma\u001b[0m\u001b[0;34m,\u001b[0m \u001b[0mb\u001b[0m \u001b[0;34m=\u001b[0m \u001b[0mx\u001b[0m\u001b[0;34m\u001b[0m\u001b[0;34m\u001b[0m\u001b[0m\n\u001b[0m",
      "\u001b[0;31mValueError\u001b[0m: too many values to unpack (expected 2)"
     ]
    }
   ],
   "source": [
    "a, b = x\n"
   ]
  },
  {
   "cell_type": "markdown",
   "id": "guilty-sperm",
   "metadata": {},
   "source": [
    "# Funkcje cd\n",
    "\n",
    "## Wartości domyślne\n",
    "\n"
   ]
  },
  {
   "cell_type": "code",
   "execution_count": 61,
   "id": "parliamentary-invite",
   "metadata": {},
   "outputs": [
    {
     "data": {
      "text/plain": [
       "9"
      ]
     },
     "execution_count": 61,
     "metadata": {},
     "output_type": "execute_result"
    }
   ],
   "source": [
    "def foo(a, b, *, c=1, d=2):\n",
    "    return a + b + c + d\n",
    "\n",
    "foo(1, 2)\n",
    "\n",
    "\n",
    "# foo(1, 2, 3, 3)\n",
    "foo(1, 2, c=3, d=3)\n",
    "\n",
    "        "
   ]
  },
  {
   "cell_type": "code",
   "execution_count": null,
   "id": "civilian-secretariat",
   "metadata": {},
   "outputs": [],
   "source": [
    "def foo(a, b, c=1, d=1, **kwargs):\n",
    "    return a + b + c + d"
   ]
  },
  {
   "cell_type": "markdown",
   "id": "twelve-integral",
   "metadata": {},
   "source": [
    "### Zadanie:\n",
    "\n",
    "Napisz funkcję, która zliczy znaki pomiędzy określonymi znacznikami, dodając wagę zgodnie z poziomem zagnieżdżenia:\n",
    "\n",
    "np. jeśli nasze znaczniki to <>, to:\n",
    "\n",
    "    policz_znaki(\"\") == 0\n",
    "    policz_znaki(\"<>\") == 0\n",
    "    policz_znaki(\"<a<bc>>\") == 5\n",
    "    itd.\n",
    "    \n",
    "Możemy też podać inne znaczniki, wtedy:\n",
    "    \n",
    "    policz_znaki(\"<>\", start=\"[\", stop=\"]\") == 0\n",
    "    \n",
    "    policz_znaki(\"[a<bcd>]\") == 6"
   ]
  },
  {
   "cell_type": "code",
   "execution_count": 75,
   "id": "exposed-pitch",
   "metadata": {},
   "outputs": [],
   "source": [
    "def policz_znaki(text, start=\"<\", stop=\">\"):\n",
    "    licznik = 0\n",
    "    poziom = 0\n",
    "    for znak in text:\n",
    "        if znak == start:\n",
    "            poziom += 1\n",
    "        elif znak == stop:\n",
    "            poziom -= 1\n",
    "        else:\n",
    "            licznik += poziom\n",
    "    return licznik\n",
    "\n",
    "assert policz_znaki(\"\") == 0\n",
    "assert policz_znaki(\"<>\") == 0\n",
    "assert policz_znaki(\"<a<bc>>\") == 5\n",
    "assert policz_znaki(\"<>\", start=\"[\", stop=\"]\") == 0\n",
    "assert policz_znaki(\"[a<bcd>]\") == 3\n",
    "assert policz_znaki(\"[a<bcd>]\", start=\"[\", stop=\"]\") == 6"
   ]
  },
  {
   "cell_type": "markdown",
   "id": "original-caution",
   "metadata": {},
   "source": [
    "## Kwargs **\n",
    "\n"
   ]
  },
  {
   "cell_type": "code",
   "execution_count": 65,
   "id": "strange-medline",
   "metadata": {},
   "outputs": [
    {
     "name": "stdout",
     "output_type": "stream",
     "text": [
      "{}\n",
      "{'a': 1, 'b': 2, 'c': 2, 'd': 3}\n"
     ]
    }
   ],
   "source": [
    "def foo(**kwargs):\n",
    "    print(kwargs)\n",
    "    \n",
    "    \n",
    "foo()\n",
    "foo(a=1, b=2, c=2, d=3)"
   ]
  },
  {
   "cell_type": "code",
   "execution_count": 67,
   "id": "american-episode",
   "metadata": {},
   "outputs": [
    {
     "name": "stdout",
     "output_type": "stream",
     "text": [
      "{'a': 1, 'c': 10}\n"
     ]
    }
   ],
   "source": [
    "d = {'a': 1, 'c':10}\n",
    "\n",
    "foo(**d)\n",
    "\n"
   ]
  },
  {
   "cell_type": "markdown",
   "id": "handed-official",
   "metadata": {},
   "source": [
    "### Exercies\n",
    "\n",
    "Zaimplementuj funkcję formatującą podane napisy.\n",
    "Przykład użycia:\n",
    "\n",
    "```python\n",
    "    >>> formatuj(\n",
    "            \"nazwa produktu: $name\",\n",
    "            \"cena produktu: $price PLN\",\n",
    "            \"stawka vat: $vat%\",\n",
    "            name=\"Ogórki\",\n",
    "            price=2.55,\n",
    "            vat=15\n",
    "        )\n",
    "``` \n",
    "    \n",
    "wynik:\n",
    "\n",
    "```\n",
    "nazwa produktu: Ogórki\n",
    "cena produktu: 2.55 PLN\n",
    "stawka vat: 15%\n",
    "```\n",
    "\n",
    "\n",
    "\n"
   ]
  },
  {
   "cell_type": "code",
   "execution_count": 86,
   "id": "severe-encounter",
   "metadata": {},
   "outputs": [],
   "source": [
    "def formatuj(*texts, **values):\n",
    "    text = \"\\n\".join(texts)\n",
    "    \n",
    "    for k, v in values.items():\n",
    "        text = text.replace(f\"${k}\", str(v))\n",
    "    \n",
    "    return text\n",
    "    \n",
    "\n",
    "assert formatuj(\n",
    "    \"nazwa produktu: $name\",\n",
    "    \"cena produktu: $price PLN\",\n",
    "    \"stawka vat: $vat%\",\n",
    "    name=\"Ogórki\",\n",
    "    price=2.55,\n",
    "    vat=15\n",
    ") == \"\"\"nazwa produktu: Ogórki\n",
    "cena produktu: 2.55 PLN\n",
    "stawka vat: 15%\"\"\""
   ]
  },
  {
   "cell_type": "code",
   "execution_count": 88,
   "id": "first-albert",
   "metadata": {},
   "outputs": [
    {
     "name": "stdout",
     "output_type": "stream",
     "text": [
      "nazwa produktu: Ogórki\n",
      "cena produktu: 2.55 PLN\n",
      "stawka vat: 15%\n"
     ]
    }
   ],
   "source": [
    "print(formatuj(\n",
    "    \"nazwa produktu: $name\",\n",
    "    \"cena produktu: $price PLN\",\n",
    "    \"stawka vat: $vat%\",\n",
    "    name=\"Ogórki\",\n",
    "    price=2.55,\n",
    "    vat=15\n",
    "))"
   ]
  },
  {
   "cell_type": "code",
   "execution_count": 77,
   "id": "former-evanescence",
   "metadata": {},
   "outputs": [
    {
     "data": {
      "text/plain": [
       "'a-b-c'"
      ]
     },
     "execution_count": 77,
     "metadata": {},
     "output_type": "execute_result"
    }
   ],
   "source": [
    "\"-\".join(\"abc\")"
   ]
  },
  {
   "cell_type": "markdown",
   "id": "rental-chance",
   "metadata": {},
   "source": [
    "## lambda - funkcje anonimowe, funkcja jako argument"
   ]
  },
  {
   "cell_type": "code",
   "execution_count": 90,
   "id": "preliminary-knock",
   "metadata": {},
   "outputs": [
    {
     "name": "stdout",
     "output_type": "stream",
     "text": [
      "l\n"
     ]
    }
   ],
   "source": [
    "def second(x): return x[1]\n",
    "\n",
    "print(second(\"all\"))"
   ]
  },
  {
   "cell_type": "code",
   "execution_count": 92,
   "id": "ignored-perth",
   "metadata": {},
   "outputs": [],
   "source": [
    "sec = lambda x: x[1]"
   ]
  },
  {
   "cell_type": "code",
   "execution_count": 93,
   "id": "israeli-geneva",
   "metadata": {},
   "outputs": [
    {
     "data": {
      "text/plain": [
       "'l'"
      ]
     },
     "execution_count": 93,
     "metadata": {},
     "output_type": "execute_result"
    }
   ],
   "source": [
    "sec(\"all|\")"
   ]
  },
  {
   "cell_type": "code",
   "execution_count": 95,
   "id": "electronic-impression",
   "metadata": {},
   "outputs": [
    {
     "data": {
      "text/plain": [
       "'l'"
      ]
     },
     "execution_count": 95,
     "metadata": {},
     "output_type": "execute_result"
    }
   ],
   "source": [
    "(lambda x: x[1])('all')"
   ]
  },
  {
   "cell_type": "code",
   "execution_count": 97,
   "id": "tested-marine",
   "metadata": {},
   "outputs": [
    {
     "data": {
      "text/plain": [
       "'second'"
      ]
     },
     "execution_count": 97,
     "metadata": {},
     "output_type": "execute_result"
    }
   ],
   "source": [
    "second.__name__"
   ]
  },
  {
   "cell_type": "code",
   "execution_count": 99,
   "id": "essential-childhood",
   "metadata": {},
   "outputs": [
    {
     "data": {
      "text/plain": [
       "'<lambda>'"
      ]
     },
     "execution_count": 99,
     "metadata": {},
     "output_type": "execute_result"
    }
   ],
   "source": [
    "sec.__name__"
   ]
  },
  {
   "cell_type": "code",
   "execution_count": 100,
   "id": "egyptian-reasoning",
   "metadata": {},
   "outputs": [
    {
     "data": {
      "text/plain": [
       "3"
      ]
     },
     "execution_count": 100,
     "metadata": {},
     "output_type": "execute_result"
    }
   ],
   "source": [
    "suma = lambda x, y: x + y\n",
    "\n",
    "suma(1, 2)"
   ]
  },
  {
   "cell_type": "code",
   "execution_count": 101,
   "id": "french-doubt",
   "metadata": {},
   "outputs": [
    {
     "data": {
      "text/plain": [
       "[['A', 100], ['R', 33], ['Z', 1]]"
      ]
     },
     "execution_count": 101,
     "metadata": {},
     "output_type": "execute_result"
    }
   ],
   "source": [
    "dane = [[\"R\", 33], ['A', 100], ['Z', 1]]\n",
    "\n",
    "sorted(dane)"
   ]
  },
  {
   "cell_type": "code",
   "execution_count": 103,
   "id": "violent-privacy",
   "metadata": {},
   "outputs": [
    {
     "data": {
      "text/plain": [
       "[['Z', 1], ['R', 33], ['A', 100]]"
      ]
     },
     "execution_count": 103,
     "metadata": {},
     "output_type": "execute_result"
    }
   ],
   "source": [
    "sorted(dane, key=lambda x: x[1])"
   ]
  },
  {
   "cell_type": "markdown",
   "id": "guided-custom",
   "metadata": {},
   "source": [
    "### Exercies\n",
    "\n",
    "Zadaną listę imion posortuj po ich długości oraz alafabetycznie\n",
    "\n",
    "```\n",
    "    imiona = [\"Rafał\", \"Ada\", \"Alcybiades\", \n",
    "    \"Korfanty\", \"Zenobia\", \"Krzysztof\", \"Krystyna\", \"Robert\", \"Rafałek\", \"\"Rafałko\"]\n",
    "    \n",
    "    wynik = ...\n",
    "    \n",
    "    assert wynik == ['Ada',\n",
    " 'Alcybiades',\n",
    " 'Korfanty',\n",
    " 'Krystyna',\n",
    " 'Krzysztof',\n",
    " 'Rafał',\n",
    " 'Robert',\n",
    " 'Zenobia']\n",
    "```"
   ]
  },
  {
   "cell_type": "code",
   "execution_count": 122,
   "id": "neural-credits",
   "metadata": {},
   "outputs": [
    {
     "data": {
      "text/plain": [
       "['Ada',\n",
       " 'Alcybiades',\n",
       " 'Korfanty',\n",
       " 'Krystyna',\n",
       " 'Krzysztof',\n",
       " 'Rafał',\n",
       " 'Robert',\n",
       " 'Rafałek',\n",
       " 'Rafałko',\n",
       " 'Zenobia']"
      ]
     },
     "execution_count": 122,
     "metadata": {},
     "output_type": "execute_result"
    }
   ],
   "source": [
    "imiona = [\"Rafał\", \"Ada\", \"Alcybiades\", \n",
    "    \"Korfanty\", \"Zenobia\", \"Krzysztof\", \"Krystyna\", \"Robert\", \"Rafałek\", \"Rafałko\"]\n",
    "\n",
    "imiona.sort()\n",
    "imiona\n",
    "\n",
    "def sort_alpha_and_length(data):\n",
    "    out = []\n",
    "    data.sort()\n",
    "    first_letters = sorted({x[0] for x in data})\n",
    "    \n",
    "    for l in first_letters:\n",
    "        partial = sorted([x for x in data if x.startswith(l)], key=len)\n",
    "        out += partial\n",
    "        \n",
    "    \n",
    "    return out\n",
    "    \n",
    "sort_alpha_and_length(imiona)\n",
    "\n"
   ]
  },
  {
   "cell_type": "code",
   "execution_count": 126,
   "id": "honest-analysis",
   "metadata": {},
   "outputs": [
    {
     "data": {
      "text/plain": [
       "['Ada',\n",
       " 'Rafał',\n",
       " 'Robert',\n",
       " 'Rafałek',\n",
       " 'Rafałko',\n",
       " 'Zenobia',\n",
       " 'Korfanty',\n",
       " 'Krystyna',\n",
       " 'Krzysztof',\n",
       " 'Alcybiades']"
      ]
     },
     "execution_count": 126,
     "metadata": {},
     "output_type": "execute_result"
    }
   ],
   "source": [
    "sorted(imiona, key=len)"
   ]
  },
  {
   "cell_type": "code",
   "execution_count": 127,
   "id": "controversial-restriction",
   "metadata": {},
   "outputs": [
    {
     "data": {
      "text/plain": [
       "['Ada',\n",
       " 'Alcybiades',\n",
       " 'Korfanty',\n",
       " 'Krystyna',\n",
       " 'Krzysztof',\n",
       " 'Rafał',\n",
       " 'Rafałek',\n",
       " 'Rafałko',\n",
       " 'Robert',\n",
       " 'Zenobia']"
      ]
     },
     "execution_count": 127,
     "metadata": {},
     "output_type": "execute_result"
    }
   ],
   "source": [
    "sorted(sorted(imiona, key=len, reverse=True))"
   ]
  },
  {
   "cell_type": "code",
   "execution_count": null,
   "id": "charged-harrison",
   "metadata": {},
   "outputs": [],
   "source": []
  },
  {
   "cell_type": "code",
   "execution_count": 106,
   "id": "closing-tract",
   "metadata": {},
   "outputs": [
    {
     "data": {
      "text/plain": [
       "['text.csv', 'data.csv', 'text.json', 'qwer.asdf.txt', 'data.txt']"
      ]
     },
     "execution_count": 106,
     "metadata": {},
     "output_type": "execute_result"
    }
   ],
   "source": [
    "files = ['qwer.asdf.txt', 'data.txt', 'text.csv', 'data.csv', 'text.json']\n",
    "\n",
    "sorted(files, key=lambda x: x.split(\".\")[-1])"
   ]
  },
  {
   "cell_type": "code",
   "execution_count": 107,
   "id": "nasty-domain",
   "metadata": {},
   "outputs": [
    {
     "data": {
      "text/plain": [
       "['data.csv', 'data.txt', 'qwer.asdf.txt', 'text.csv', 'text.json']"
      ]
     },
     "execution_count": 107,
     "metadata": {},
     "output_type": "execute_result"
    }
   ],
   "source": [
    "sorted(sorted(files, key=lambda x: x.split(\".\")[-1]))"
   ]
  },
  {
   "cell_type": "code",
   "execution_count": 108,
   "id": "micro-witness",
   "metadata": {},
   "outputs": [
    {
     "data": {
      "text/plain": [
       "['data.csv', 'text.csv', 'text.json', 'data.txt', 'qwer.asdf.txt']"
      ]
     },
     "execution_count": 108,
     "metadata": {},
     "output_type": "execute_result"
    }
   ],
   "source": [
    "sorted(sorted(files), key=lambda x: x.split(\".\")[-1])"
   ]
  },
  {
   "cell_type": "code",
   "execution_count": 109,
   "id": "fossil-overhead",
   "metadata": {},
   "outputs": [
    {
     "data": {
      "text/plain": [
       "['data.csv', 'text.csv', 'text.json', 'data.txt', 'qwer.asdf.txt']"
      ]
     },
     "execution_count": 109,
     "metadata": {},
     "output_type": "execute_result"
    }
   ],
   "source": [
    "partial = sorted(files)\n",
    "\n",
    "sorted(partial, key=lambda x: x.split(\".\")[-1])"
   ]
  },
  {
   "cell_type": "markdown",
   "id": "synthetic-marks",
   "metadata": {},
   "source": [
    "### Exercise\n",
    "\n",
    "Stwórz funkcję `group_by`, która przyjmie obiekt iterowalny oraz funkcję i zwróci słownik, w którym znajdą się pogrupowane przy pomocy funkcji obiekty z iteratora.\n",
    "Np. Chcemy liczby pogrupować wg reszty z dzielenia przez 3\n",
    "\n",
    "    >>> numbers = [1, 4, 5, 6, 8, 19, 34, 55]\n",
    "    >>> def mod3(n): return n % 3\n",
    "    >>> group_by(numbers, key_func=mod3)\n",
    "    {0: [6], 1: [1, 4, 19, 34, 55], 2: [5, 8]}\n",
    "    \n",
    "Albo mamy listę tupli opisujących zwierzeka (imię, gatunek):\n",
    "\n",
    "    animals = [\n",
    "            ('agatha', 'dog'),\n",
    "            ('kurt', 'cat'),\n",
    "            ('margaret', 'mouse'),\n",
    "            ('cory', 'cat'),\n",
    "            ('mary', 'mouse'),\n",
    "        ]\n",
    "chcemy pogrupować je gatunku. Jakiej funkcji użyjesz jako klucza?\n",
    "\n",
    "       {\n",
    "            'mouse': [('margaret', 'mouse'), ('mary', 'mouse')],\n",
    "            'dog': [('agatha', 'dog')],\n",
    "            'cat': [('kurt', 'cat'), ('cory', 'cat')],\n",
    "        }\n",
    "    \n",
    "    \n",
    "Jeśli funkcja klucza nie jest podana zaimplementuj domyślne zachowanie jak poniżej:\n",
    "\n",
    "    >>> group_by([1, 2, 1, 3, 2, 1])\n",
    "    {1: [1, 1, 1], 2: [2, 2], 3: [3]}\n",
    "    \n",
    "Słownik zawiera więc listy poszczególnych elementów z kolekcji"
   ]
  },
  {
   "cell_type": "code",
   "execution_count": 147,
   "id": "split-developer",
   "metadata": {},
   "outputs": [
    {
     "data": {
      "text/plain": [
       "defaultdict(list,\n",
       "            {'dog': [('agatha', 'dog')],\n",
       "             'cat': [('kurt', 'cat'), ('cory', 'cat')],\n",
       "             'mouse': [('margaret', 'mouse'), ('mary', 'mouse')]})"
      ]
     },
     "execution_count": 147,
     "metadata": {},
     "output_type": "execute_result"
    }
   ],
   "source": [
    "from collections import defaultdict\n",
    "\n",
    "def group_by(iterable, key=lambda x: x):\n",
    "    result = defaultdict(list)\n",
    "    for i in iterable:\n",
    "        result[key(i)].append(i)\n",
    "    return result\n",
    "        \n",
    "def group_by2(iterable, key=None):\n",
    "    result = defaultdict(list)\n",
    "    for i in iterable:\n",
    "        res = key(i) if key else i\n",
    "        result[res].append(i)\n",
    "    return result\n",
    "    \n",
    "    \n",
    "assert group_by([1, 2, 1, 3, 2, 1]) == {1: [1, 1, 1], 2: [2, 2], 3: [3]}\n",
    "\n",
    "def mod3(n): return n % 3\n",
    "numbers = [1, 4, 5, 6, 8, 19, 34, 55]\n",
    "group_by2(numbers, key=mod3)\n",
    "# assert group_by(numbers, key=mod3) == {0: [6], 1: [1, 4, 19, 34, 55], 2: [5, 8]}\n",
    "\n",
    "\n",
    "\n",
    "animals = [\n",
    "        ('agatha', 'dog'),\n",
    "        ('kurt', 'cat'),\n",
    "        ('margaret', 'mouse'),\n",
    "        ('cory', 'cat'),\n",
    "        ('mary', 'mouse'),\n",
    "    ]\n",
    "\n",
    "group_by2(animals, lambda x: x[1])"
   ]
  },
  {
   "cell_type": "code",
   "execution_count": 131,
   "id": "piano-franklin",
   "metadata": {},
   "outputs": [
    {
     "data": {
      "text/plain": [
       "defaultdict(list, {})"
      ]
     },
     "execution_count": 131,
     "metadata": {},
     "output_type": "execute_result"
    }
   ],
   "source": [
    "x = defaultdict(list)\n",
    "\n",
    "x"
   ]
  },
  {
   "cell_type": "code",
   "execution_count": 132,
   "id": "comfortable-vegetable",
   "metadata": {},
   "outputs": [
    {
     "data": {
      "text/plain": [
       "[]"
      ]
     },
     "execution_count": 132,
     "metadata": {},
     "output_type": "execute_result"
    }
   ],
   "source": [
    "x['i']"
   ]
  },
  {
   "cell_type": "code",
   "execution_count": 145,
   "id": "naval-clause",
   "metadata": {},
   "outputs": [],
   "source": [
    "div2 = lambda x: x % 2\n",
    "\n",
    "x = div2(3) if div2(3) else 100\n"
   ]
  },
  {
   "cell_type": "code",
   "execution_count": 146,
   "id": "thousand-philip",
   "metadata": {},
   "outputs": [
    {
     "data": {
      "text/plain": [
       "1"
      ]
     },
     "execution_count": 146,
     "metadata": {},
     "output_type": "execute_result"
    }
   ],
   "source": [
    "x"
   ]
  },
  {
   "cell_type": "code",
   "execution_count": 144,
   "id": "straight-honey",
   "metadata": {},
   "outputs": [],
   "source": [
    "if {}:\n",
    "    print(\"True\")"
   ]
  },
  {
   "cell_type": "markdown",
   "id": "terminal-hampton",
   "metadata": {},
   "source": [
    "## Domknięcia (clojures)"
   ]
  },
  {
   "cell_type": "code",
   "execution_count": 148,
   "id": "pretty-meditation",
   "metadata": {},
   "outputs": [
    {
     "name": "stdout",
     "output_type": "stream",
     "text": [
      "20\n"
     ]
    }
   ],
   "source": [
    "def mnozenie_przez(mnoznik):\n",
    "    def pomnoz(mnozna):\n",
    "        return mnozna * mnoznik\n",
    "    return pomnoz\n",
    "\n",
    "\n",
    "przez_5 = mnozenie_przez(5)\n",
    "\n",
    "print(przez_5(4))\n",
    "    "
   ]
  },
  {
   "cell_type": "code",
   "execution_count": 150,
   "id": "coordinated-giving",
   "metadata": {},
   "outputs": [
    {
     "data": {
      "text/plain": [
       "30"
      ]
     },
     "execution_count": 150,
     "metadata": {},
     "output_type": "execute_result"
    }
   ],
   "source": [
    "from functools import partial\n",
    "\n",
    "def mnozenie(x, y):\n",
    "    return x * y\n",
    "\n",
    "przez_3 = partial(mnozenie, 3)\n",
    "przez_3(10)"
   ]
  },
  {
   "cell_type": "code",
   "execution_count": null,
   "id": "motivated-findings",
   "metadata": {},
   "outputs": [],
   "source": []
  }
 ],
 "metadata": {
  "kernelspec": {
   "display_name": "Python 3",
   "language": "python",
   "name": "python3"
  },
  "language_info": {
   "codemirror_mode": {
    "name": "ipython",
    "version": 3
   },
   "file_extension": ".py",
   "mimetype": "text/x-python",
   "name": "python",
   "nbconvert_exporter": "python",
   "pygments_lexer": "ipython3",
   "version": "3.7.9"
  },
  "toc": {
   "base_numbering": 1,
   "nav_menu": {},
   "number_sections": true,
   "sideBar": true,
   "skip_h1_title": false,
   "title_cell": "Table of Contents",
   "title_sidebar": "Contents",
   "toc_cell": false,
   "toc_position": {},
   "toc_section_display": true,
   "toc_window_display": false
  }
 },
 "nbformat": 4,
 "nbformat_minor": 5
}
