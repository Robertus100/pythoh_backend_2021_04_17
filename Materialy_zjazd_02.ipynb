{
 "cells": [
  {
   "cell_type": "markdown",
   "id": "regular-account",
   "metadata": {},
   "source": [
    "\n",
    "<p style=\"text-align: center; font-size: 32pt; line-height: 36pt\">\n",
    "    <b>Python Backend Developer - zjazd 2</b>\n",
    "</p>\n",
    "\n",
    "\n",
    "<p style=\"text-align: center; font-size: 12pt; line-height: 16pt;\">\n",
    "<b>Trener</b><br>\n",
    "Rafał Korzeniewski<br>\n",
    "tel.: <a href=\"tel:+48790018662\">+48 790 018 662</a><br>\n",
    "email: <a href=\"mailto:korzeniewski@gmail.com\">korzeniewski@gmail.com</a><br>\n",
    "</p>\n"
   ]
  },
  {
   "cell_type": "markdown",
   "id": "alpine-congress",
   "metadata": {},
   "source": [
    "To co omówiliśmy:\n",
    "\n",
    "* Podstawowe typy\n",
    "* Podstawowe struktury danych \n",
    "* collections, Decimal\n",
    "* instrukcje warunkowe\n",
    "* pętle while i for\n",
    "* wyrażenia składane\n",
    "* mutowalność vs niemutowalność\n",
    "* proste funkcje\n",
    "* przestrzeniach nazw\n",
    "* GIT - podstawy\n",
    "\n",
    "# Quizz\n",
    "\n",
    "### Czy w int można zapisać następująca liczbę: 10 ** 512\n",
    "\n",
    "Tak / Nie\n"
   ]
  },
  {
   "cell_type": "code",
   "execution_count": 1,
   "id": "signed-magnitude",
   "metadata": {
    "collapsed": true
   },
   "outputs": [
    {
     "data": {
      "text/plain": [
       "100000000000000000000000000000000000000000000000000000000000000000000000000000000000000000000000000000000000000000000000000000000000000000000000000000000000000000000000000000000000000000000000000000000000000000000000000000000000000000000000000000000000000000000000000000000000000000000000000000000000000000000000000000000000000000000000000000000000000000000000000000000000000000000000000000000000000000000000000000000000000000000000000000000000000000000000000000000000000000000000000000000000000000000000000000000"
      ]
     },
     "execution_count": 1,
     "metadata": {},
     "output_type": "execute_result"
    }
   ],
   "source": [
    "10 ** 512"
   ]
  },
  {
   "cell_type": "markdown",
   "id": "fuzzy-reservoir",
   "metadata": {},
   "source": [
    "### Czy w float można zapisać następującą liczbę: 10.0 ** 512\n",
    "\n",
    "Tak / Nie"
   ]
  },
  {
   "cell_type": "code",
   "execution_count": 3,
   "id": "promotional-gallery",
   "metadata": {},
   "outputs": [],
   "source": [
    "# 10.0 ** 512"
   ]
  },
  {
   "cell_type": "markdown",
   "id": "boxed-newton",
   "metadata": {},
   "source": [
    "### Jaki będzie wynik następującego wyrażenia:\n",
    "\n",
    "    x = (1, 10)\n",
    "    x.append(20)\n",
    "\n",
    "A) (1, 10, 20)\n",
    "\n",
    "B) (1, 10)\n",
    "\n",
    "C) AttributeError\n",
    "\n",
    "D) None"
   ]
  },
  {
   "cell_type": "code",
   "execution_count": 190,
   "id": "attempted-pepper",
   "metadata": {},
   "outputs": [],
   "source": [
    "# x = (1, 10)\n",
    "# x.append(20)"
   ]
  },
  {
   "cell_type": "markdown",
   "id": "adopted-knowing",
   "metadata": {},
   "source": [
    "### Jaki będzie wynik następującego wyrażenia:\n",
    "\n",
    "    x = [1, 10]\n",
    "    x.append(20)\n",
    "\n",
    "A) [1, 10, 20]\n",
    "\n",
    "B) [1, 10]\n",
    "\n",
    "C) AttributeError\n",
    "\n",
    "D) None"
   ]
  },
  {
   "cell_type": "code",
   "execution_count": 192,
   "id": "damaged-freedom",
   "metadata": {},
   "outputs": [
    {
     "data": {
      "text/plain": [
       "[1, 10, 20]"
      ]
     },
     "execution_count": 192,
     "metadata": {},
     "output_type": "execute_result"
    }
   ],
   "source": [
    "x = [1, 10]\n",
    "x.append(20)\n",
    "x"
   ]
  },
  {
   "cell_type": "markdown",
   "id": "proof-alexander",
   "metadata": {},
   "source": [
    "### Jaki będzie wynik następującego skryptu:\n",
    "\n",
    "\n",
    "    x = dict()\n",
    "    \n",
    "    x['a'] += 10\n",
    "\n",
    "\n",
    "A) None\n",
    "\n",
    "B) KeyError\n",
    "\n",
    "C) {'a': 10}"
   ]
  },
  {
   "cell_type": "code",
   "execution_count": 7,
   "id": "expanded-carnival",
   "metadata": {
    "collapsed": true
   },
   "outputs": [
    {
     "ename": "KeyError",
     "evalue": "'a'",
     "output_type": "error",
     "traceback": [
      "\u001b[0;31m---------------------------------------------------------------------------\u001b[0m",
      "\u001b[0;31mKeyError\u001b[0m                                  Traceback (most recent call last)",
      "\u001b[0;32m<ipython-input-7-aa09c38517fc>\u001b[0m in \u001b[0;36m<module>\u001b[0;34m\u001b[0m\n\u001b[1;32m      1\u001b[0m \u001b[0mx\u001b[0m \u001b[0;34m=\u001b[0m \u001b[0mdict\u001b[0m\u001b[0;34m(\u001b[0m\u001b[0;34m)\u001b[0m\u001b[0;34m\u001b[0m\u001b[0;34m\u001b[0m\u001b[0m\n\u001b[1;32m      2\u001b[0m \u001b[0;34m\u001b[0m\u001b[0m\n\u001b[0;32m----> 3\u001b[0;31m \u001b[0mx\u001b[0m\u001b[0;34m[\u001b[0m\u001b[0;34m'a'\u001b[0m\u001b[0;34m]\u001b[0m \u001b[0;34m+=\u001b[0m \u001b[0;36m10\u001b[0m\u001b[0;34m\u001b[0m\u001b[0;34m\u001b[0m\u001b[0m\n\u001b[0m\u001b[1;32m      4\u001b[0m \u001b[0;34m\u001b[0m\u001b[0m\n\u001b[1;32m      5\u001b[0m \u001b[0;31m# x['a'] = x['a'] + 10\u001b[0m\u001b[0;34m\u001b[0m\u001b[0;34m\u001b[0m\u001b[0;34m\u001b[0m\u001b[0m\n",
      "\u001b[0;31mKeyError\u001b[0m: 'a'"
     ]
    }
   ],
   "source": [
    "x = dict()\n",
    "\n",
    "x['a'] += 10\n",
    "\n",
    "# x['a'] = x['a'] + 10"
   ]
  },
  {
   "cell_type": "markdown",
   "id": "classified-paradise",
   "metadata": {},
   "source": [
    "### Jaki będzie wynik następującego skryptu:\n",
    "\n",
    "\n",
    "    x = dict()\n",
    "    y = [1, 2]\n",
    "    x[y] = 3\n",
    "    \n",
    "A) KeyError\n",
    "\n",
    "B) TypeError\n",
    "\n",
    "C) None\n",
    "\n",
    "D) {[1, 2]: 3}"
   ]
  },
  {
   "cell_type": "code",
   "execution_count": 8,
   "id": "intensive-startup",
   "metadata": {},
   "outputs": [
    {
     "ename": "TypeError",
     "evalue": "unhashable type: 'list'",
     "output_type": "error",
     "traceback": [
      "\u001b[0;31m---------------------------------------------------------------------------\u001b[0m",
      "\u001b[0;31mTypeError\u001b[0m                                 Traceback (most recent call last)",
      "\u001b[0;32m<ipython-input-8-e69c5888f626>\u001b[0m in \u001b[0;36m<module>\u001b[0;34m\u001b[0m\n\u001b[1;32m      1\u001b[0m \u001b[0mx\u001b[0m \u001b[0;34m=\u001b[0m \u001b[0mdict\u001b[0m\u001b[0;34m(\u001b[0m\u001b[0;34m)\u001b[0m\u001b[0;34m\u001b[0m\u001b[0;34m\u001b[0m\u001b[0m\n\u001b[1;32m      2\u001b[0m \u001b[0my\u001b[0m \u001b[0;34m=\u001b[0m \u001b[0;34m[\u001b[0m\u001b[0;36m1\u001b[0m\u001b[0;34m,\u001b[0m \u001b[0;36m2\u001b[0m\u001b[0;34m]\u001b[0m\u001b[0;34m\u001b[0m\u001b[0;34m\u001b[0m\u001b[0m\n\u001b[0;32m----> 3\u001b[0;31m \u001b[0mx\u001b[0m\u001b[0;34m[\u001b[0m\u001b[0my\u001b[0m\u001b[0;34m]\u001b[0m \u001b[0;34m=\u001b[0m \u001b[0;36m3\u001b[0m\u001b[0;34m\u001b[0m\u001b[0;34m\u001b[0m\u001b[0m\n\u001b[0m",
      "\u001b[0;31mTypeError\u001b[0m: unhashable type: 'list'"
     ]
    }
   ],
   "source": [
    "x = dict()\n",
    "y = [1, 2]\n",
    "x[y] = 3"
   ]
  },
  {
   "cell_type": "code",
   "execution_count": 9,
   "id": "expressed-albania",
   "metadata": {
    "collapsed": true
   },
   "outputs": [
    {
     "ename": "TypeError",
     "evalue": "unhashable type: 'list'",
     "output_type": "error",
     "traceback": [
      "\u001b[0;31m---------------------------------------------------------------------------\u001b[0m",
      "\u001b[0;31mTypeError\u001b[0m                                 Traceback (most recent call last)",
      "\u001b[0;32m<ipython-input-9-e3dac42a1072>\u001b[0m in \u001b[0;36m<module>\u001b[0;34m\u001b[0m\n\u001b[0;32m----> 1\u001b[0;31m \u001b[0;34m{\u001b[0m\u001b[0;34m[\u001b[0m\u001b[0;36m1\u001b[0m\u001b[0;34m,\u001b[0m \u001b[0;36m3\u001b[0m\u001b[0;34m]\u001b[0m\u001b[0;34m}\u001b[0m\u001b[0;34m\u001b[0m\u001b[0;34m\u001b[0m\u001b[0m\n\u001b[0m",
      "\u001b[0;31mTypeError\u001b[0m: unhashable type: 'list'"
     ]
    }
   ],
   "source": [
    "{[1, 3]}"
   ]
  },
  {
   "cell_type": "markdown",
   "id": "written-dollar",
   "metadata": {},
   "source": [
    "### Co tu się wydarzy?\n",
    "\n",
    "    >>> from collections import defaultdict\n",
    "    \n",
    "    >>> data = defaultdict(int)\n",
    "    \n",
    "    >>> data['a'] += 1\n",
    "    \n",
    "    >>> data\n",
    "    \n",
    "A) KeyError\n",
    "\n",
    "B) {'a': 1}\n",
    "\n",
    "C) None"
   ]
  },
  {
   "cell_type": "code",
   "execution_count": 10,
   "id": "drawn-weight",
   "metadata": {
    "collapsed": true
   },
   "outputs": [
    {
     "data": {
      "text/plain": [
       "0"
      ]
     },
     "execution_count": 10,
     "metadata": {},
     "output_type": "execute_result"
    }
   ],
   "source": [
    "from collections import defaultdict\n",
    "\n",
    "data = defaultdict(int)\n",
    "\n",
    "data['x']"
   ]
  },
  {
   "cell_type": "code",
   "execution_count": 11,
   "id": "coordinated-disposition",
   "metadata": {
    "collapsed": true
   },
   "outputs": [
    {
     "data": {
      "text/plain": [
       "defaultdict(int, {'x': 0, 'a': 1})"
      ]
     },
     "execution_count": 11,
     "metadata": {},
     "output_type": "execute_result"
    }
   ],
   "source": [
    "data['a'] += 1 # data['a'] = data['a'] + 1\n",
    "data"
   ]
  },
  {
   "cell_type": "markdown",
   "id": "democratic-hybrid",
   "metadata": {},
   "source": [
    "### Co będzie w liście z:\n",
    "\n",
    "    x = [1, 2, 3]\n",
    "    y = [4, 5, x]\n",
    "\n",
    "    z = y.copy()\n",
    "    \n",
    "    x.append(10)\n",
    "    \n",
    "    print(z)\n",
    "    \n",
    "A) [1, 2, 3, x]\n",
    "\n",
    "B) [4, 5, [1, 2, 3]]\n",
    "\n",
    "C) [4, 5, [1, 2, 3, 10]]"
   ]
  },
  {
   "cell_type": "code",
   "execution_count": 12,
   "id": "competitive-locator",
   "metadata": {
    "collapsed": true
   },
   "outputs": [
    {
     "data": {
      "text/plain": [
       "[4, 5, [1, 2, 3]]"
      ]
     },
     "execution_count": 12,
     "metadata": {},
     "output_type": "execute_result"
    }
   ],
   "source": [
    "x = [1, 2, 3]\n",
    "y = [4, 5, x]\n",
    "\n",
    "y"
   ]
  },
  {
   "cell_type": "code",
   "execution_count": 13,
   "id": "super-capture",
   "metadata": {},
   "outputs": [],
   "source": [
    "z = y.copy()"
   ]
  },
  {
   "cell_type": "code",
   "execution_count": 14,
   "id": "welsh-secondary",
   "metadata": {},
   "outputs": [],
   "source": [
    "x.append(10)"
   ]
  },
  {
   "cell_type": "code",
   "execution_count": 15,
   "id": "integrated-renewal",
   "metadata": {},
   "outputs": [
    {
     "data": {
      "text/plain": [
       "[4, 5, [1, 2, 3, 10]]"
      ]
     },
     "execution_count": 15,
     "metadata": {},
     "output_type": "execute_result"
    }
   ],
   "source": [
    "z"
   ]
  },
  {
   "cell_type": "code",
   "execution_count": 16,
   "id": "conservative-combine",
   "metadata": {},
   "outputs": [
    {
     "data": {
      "text/plain": [
       "True"
      ]
     },
     "execution_count": 16,
     "metadata": {},
     "output_type": "execute_result"
    }
   ],
   "source": [
    "id(x) == id(z[2])"
   ]
  },
  {
   "cell_type": "markdown",
   "id": "global-doctor",
   "metadata": {},
   "source": [
    "### Czy funkcja może być wartością w słowniku?\n",
    "\n",
    "Tak/Nie"
   ]
  },
  {
   "cell_type": "code",
   "execution_count": 18,
   "id": "first-syracuse",
   "metadata": {},
   "outputs": [
    {
     "name": "stdout",
     "output_type": "stream",
     "text": [
      "printuje\n"
     ]
    }
   ],
   "source": [
    "x = {'p': print}\n",
    "\n",
    "x['p'](\"printuje\")"
   ]
  },
  {
   "cell_type": "markdown",
   "id": "ultimate-jerusalem",
   "metadata": {},
   "source": [
    "### Czy funkcja może być kluczem w słowniku?\n",
    "\n",
    "Tak/Nie"
   ]
  },
  {
   "cell_type": "code",
   "execution_count": 19,
   "id": "commercial-contrast",
   "metadata": {},
   "outputs": [],
   "source": [
    "x[print] = \"print\""
   ]
  },
  {
   "cell_type": "code",
   "execution_count": 20,
   "id": "prepared-holiday",
   "metadata": {},
   "outputs": [
    {
     "data": {
      "text/plain": [
       "'print'"
      ]
     },
     "execution_count": 20,
     "metadata": {},
     "output_type": "execute_result"
    }
   ],
   "source": [
    "x[print]"
   ]
  },
  {
   "cell_type": "code",
   "execution_count": 21,
   "id": "accessible-endorsement",
   "metadata": {},
   "outputs": [
    {
     "data": {
      "text/plain": [
       "{'p': <function print>, <function print>: 'print'}"
      ]
     },
     "execution_count": 21,
     "metadata": {},
     "output_type": "execute_result"
    }
   ],
   "source": [
    "x"
   ]
  },
  {
   "cell_type": "markdown",
   "id": "falling-philadelphia",
   "metadata": {},
   "source": [
    "### Czy taka definicja funkcji jest poprawna?\n",
    "\n",
    "\n",
    "    def funkcja(a, b, c=1, d, e):\n",
    "        return a + b, c - d / e\n",
    "        \n",
    "\n",
    "Tak / Nie"
   ]
  },
  {
   "cell_type": "code",
   "execution_count": 22,
   "id": "accepted-scroll",
   "metadata": {
    "collapsed": true
   },
   "outputs": [
    {
     "ename": "SyntaxError",
     "evalue": "non-default argument follows default argument (<ipython-input-22-33b350251f1c>, line 1)",
     "output_type": "error",
     "traceback": [
      "\u001b[0;36m  File \u001b[0;32m\"<ipython-input-22-33b350251f1c>\"\u001b[0;36m, line \u001b[0;32m1\u001b[0m\n\u001b[0;31m    def funkcja(a, b, c=1, d, e):\u001b[0m\n\u001b[0m               ^\u001b[0m\n\u001b[0;31mSyntaxError\u001b[0m\u001b[0;31m:\u001b[0m non-default argument follows default argument\n"
     ]
    }
   ],
   "source": [
    "def funkcja(a, b, c=1, d, e):\n",
    "    return a + b, c - d / e"
   ]
  },
  {
   "cell_type": "code",
   "execution_count": 23,
   "id": "blocked-respect",
   "metadata": {},
   "outputs": [],
   "source": [
    "def funkcja(a, b, d, e, c=1):\n",
    "    return a + b, c - d / e"
   ]
  },
  {
   "cell_type": "markdown",
   "id": "every-shoulder",
   "metadata": {},
   "source": [
    "### Czy taka definicja funkcji jest poprawna?\n",
    "\n",
    "    def 3rd_element(collection):\n",
    "        return collection[2]\n",
    "\n",
    "Tak / Nie"
   ]
  },
  {
   "cell_type": "code",
   "execution_count": 24,
   "id": "precious-softball",
   "metadata": {
    "collapsed": true
   },
   "outputs": [
    {
     "ename": "SyntaxError",
     "evalue": "invalid syntax (<ipython-input-24-40f9a251dde2>, line 1)",
     "output_type": "error",
     "traceback": [
      "\u001b[0;36m  File \u001b[0;32m\"<ipython-input-24-40f9a251dde2>\"\u001b[0;36m, line \u001b[0;32m1\u001b[0m\n\u001b[0;31m    def 1st_element(collection):\u001b[0m\n\u001b[0m        ^\u001b[0m\n\u001b[0;31mSyntaxError\u001b[0m\u001b[0;31m:\u001b[0m invalid syntax\n"
     ]
    }
   ],
   "source": [
    "def 1st_element(collection):\n",
    "        return collection[0]"
   ]
  },
  {
   "cell_type": "markdown",
   "id": "secret-moscow",
   "metadata": {},
   "source": [
    "###  Czy takie wywołanie funkcji jest poprawne?\n",
    "\n",
    "\n",
    "    funkcja(1, 2, d=1, e=2, c=3)\n",
    "\n",
    "Tak/Nie"
   ]
  },
  {
   "cell_type": "code",
   "execution_count": 28,
   "id": "separated-methodology",
   "metadata": {},
   "outputs": [
    {
     "data": {
      "text/plain": [
       "(3, 1.0)"
      ]
     },
     "execution_count": 28,
     "metadata": {},
     "output_type": "execute_result"
    }
   ],
   "source": [
    "funkcja(1, 2, e=1, d=2, c=3)"
   ]
  },
  {
   "cell_type": "code",
   "execution_count": 30,
   "id": "congressional-findings",
   "metadata": {
    "collapsed": true
   },
   "outputs": [
    {
     "ename": "SyntaxError",
     "evalue": "positional argument follows keyword argument (<ipython-input-30-ef0b9c530def>, line 1)",
     "output_type": "error",
     "traceback": [
      "\u001b[0;36m  File \u001b[0;32m\"<ipython-input-30-ef0b9c530def>\"\u001b[0;36m, line \u001b[0;32m1\u001b[0m\n\u001b[0;31m    funkcja(e=1, c=3, d=2, a=1, 2)\u001b[0m\n\u001b[0m                               ^\u001b[0m\n\u001b[0;31mSyntaxError\u001b[0m\u001b[0;31m:\u001b[0m positional argument follows keyword argument\n"
     ]
    }
   ],
   "source": [
    "funkcja(e=1, c=3, d=2, a=1, 2)"
   ]
  },
  {
   "cell_type": "code",
   "execution_count": 31,
   "id": "clinical-plant",
   "metadata": {
    "collapsed": true
   },
   "outputs": [
    {
     "ename": "TypeError",
     "evalue": "funkcja() got multiple values for argument 'b'",
     "output_type": "error",
     "traceback": [
      "\u001b[0;31m---------------------------------------------------------------------------\u001b[0m",
      "\u001b[0;31mTypeError\u001b[0m                                 Traceback (most recent call last)",
      "\u001b[0;32m<ipython-input-31-1733532ff9c8>\u001b[0m in \u001b[0;36m<module>\u001b[0;34m\u001b[0m\n\u001b[0;32m----> 1\u001b[0;31m \u001b[0mfunkcja\u001b[0m\u001b[0;34m(\u001b[0m\u001b[0;36m1\u001b[0m\u001b[0;34m,\u001b[0m \u001b[0;36m2\u001b[0m\u001b[0;34m,\u001b[0m \u001b[0mb\u001b[0m\u001b[0;34m=\u001b[0m\u001b[0;36m1\u001b[0m\u001b[0;34m,\u001b[0m \u001b[0md\u001b[0m\u001b[0;34m=\u001b[0m\u001b[0;36m2\u001b[0m\u001b[0;34m,\u001b[0m \u001b[0mc\u001b[0m\u001b[0;34m=\u001b[0m\u001b[0;36m3\u001b[0m\u001b[0;34m)\u001b[0m\u001b[0;34m\u001b[0m\u001b[0;34m\u001b[0m\u001b[0m\n\u001b[0m",
      "\u001b[0;31mTypeError\u001b[0m: funkcja() got multiple values for argument 'b'"
     ]
    }
   ],
   "source": [
    "funkcja(1, 2, b=1, d=2, c=3)"
   ]
  },
  {
   "cell_type": "markdown",
   "id": "defensive-winning",
   "metadata": {},
   "source": [
    "### Co będzie wyprintowane?\n",
    "\n",
    "    x = 10\n",
    "\n",
    "    def f():\n",
    "        x = 20\n",
    "        \n",
    "        def g():\n",
    "            x = 40 \n",
    "        \n",
    "            def h():\n",
    "                nonlocal x\n",
    "                x = 60\n",
    "            h()\n",
    "            print(x)\n",
    "        g()\n",
    "        print(x)\n",
    "\n",
    "    f()\n",
    "    print(x)\n",
    "    \n",
    "    \n",
    "A) \n",
    "\n",
    "    10\n",
    "    20\n",
    "    60\n",
    "\n",
    "\n",
    "B)  \n",
    "\n",
    "    10\n",
    "    60\n",
    "    20\n",
    "    \n",
    "C)\n",
    "\n",
    "    60\n",
    "    20\n",
    "    10\n",
    "\n",
    "D) \n",
    "\n",
    "    60\n",
    "    40\n",
    "    10"
   ]
  },
  {
   "cell_type": "code",
   "execution_count": 33,
   "id": "minus-detection",
   "metadata": {},
   "outputs": [
    {
     "name": "stdout",
     "output_type": "stream",
     "text": [
      "60\n",
      "20\n",
      "10\n"
     ]
    }
   ],
   "source": [
    "x = 10  # globalne x\n",
    "\n",
    "def f():\n",
    "    x = 20   # lokalne x\n",
    "\n",
    "    def g():\n",
    "        x = 40  # lokalne x\n",
    "\n",
    "        def h():\n",
    "            nonlocal x\n",
    "            x = 60\n",
    "        h()\n",
    "        print(x)\n",
    "    g()\n",
    "    print(x)\n",
    "\n",
    "f()\n",
    "print(x)"
   ]
  },
  {
   "cell_type": "markdown",
   "id": "chinese-stereo",
   "metadata": {},
   "source": [
    "### Jaki będzie wynik tych wywołań:\n",
    "\n",
    "    def foo(list_=[]):\n",
    "        list_ = list_ + [2]\n",
    "        print(list_)\n",
    "\n",
    "    foo()\n",
    "    foo()\n",
    "\n",
    "A) [2] i [2]\n",
    "\n",
    "B) [2] i [2, 2]"
   ]
  },
  {
   "cell_type": "code",
   "execution_count": 34,
   "id": "supported-frequency",
   "metadata": {},
   "outputs": [
    {
     "name": "stdout",
     "output_type": "stream",
     "text": [
      "[2]\n",
      "[2]\n"
     ]
    }
   ],
   "source": [
    "def foo(list_=[]):\n",
    "    list_ = list_ + [2]\n",
    "    print(list_)\n",
    "\n",
    "foo()\n",
    "foo()"
   ]
  },
  {
   "cell_type": "markdown",
   "id": "random-corruption",
   "metadata": {},
   "source": [
    "### Jaki będzie wynik tych wywołań:\n",
    "\n",
    "    def foo(list_=[]):\n",
    "        list_.append(2)\n",
    "        print(list_)\n",
    "\n",
    "    foo()\n",
    "    foo()\n",
    "    \n",
    "A) [2] i [2]\n",
    "\n",
    "B) [2] i [2, 2]"
   ]
  },
  {
   "cell_type": "code",
   "execution_count": 35,
   "id": "reliable-duplicate",
   "metadata": {
    "collapsed": true
   },
   "outputs": [
    {
     "name": "stdout",
     "output_type": "stream",
     "text": [
      "[2]\n",
      "[2, 2]\n"
     ]
    }
   ],
   "source": [
    "def foo(list_=[]):\n",
    "    list_.append(2)\n",
    "    print(list_)\n",
    "\n",
    "foo()\n",
    "foo()"
   ]
  },
  {
   "cell_type": "markdown",
   "id": "unlimited-norway",
   "metadata": {},
   "source": [
    "## Zadanie domowe\n",
    "\n",
    "Funkcja przyjmuje jako argumenty macierze i zwraca ich sumę\n",
    "\n",
    "1. Zacznij od dodania dwóch argumentów\n",
    "\n",
    "    ```\n",
    "    >>> matrix1 = [[1, -2], [-3, 4]]\n",
    "    >>> matrix2 = [[2, -1], [0, -1]]\n",
    "    >>> add(matrix1, matrix2)\n",
    "    [[3, -3], [-3, 3]]\n",
    "    >>> matrix1 = [[1, -2, 3], [-4, 5, -6], [7, -8, 9]]\n",
    "    >>> matrix2 = [[1, 1, 0], [1, -2, 3], [-2, 2, -2]]\n",
    "    >>> add(matrix1, matrix2)\n",
    "    [[2, -1, 3], [-3, 3, -3], [5, -6, 7]]\n",
    "    ```\n",
    "    \n",
    "2. Pozwól jej przyjmować więcej macierzy jako argumenty\n",
    "\n",
    "    ```\n",
    "    >>> add([[1, 9], [7, 3]], [[5, -4], [3, 3]], [[2, 3], [-3, 1]])\n",
    "    [[8, 8], [7, 7]]\n",
    "    ```\n",
    "    \n",
    "3. Jeśli wymiary macierzy nie są zgodne powinien zostać rzucony wyjątek ValueError:\n",
    "\n",
    "    ```\n",
    "    >>> add([[1, 9], [7, 3]], [[1, 2], [3]])\n",
    "    Traceback (most recent call last):\n",
    "    File \"<stdin>\", line 1, in <module>\n",
    "    File \"add.py\", line 10, in add\n",
    "    raise ValueError(\"Given matrices are not the same size.\")\n",
    "    ValueError: Given matrices are not the same size.\n",
    "    ```"
   ]
  },
  {
   "cell_type": "code",
   "execution_count": 44,
   "id": "critical-bangladesh",
   "metadata": {},
   "outputs": [],
   "source": [
    "def check_size(m):\n",
    "    n_rows = len(m)\n",
    "    n_cols = len(m[0])\n",
    "    \n",
    "    for row in m:\n",
    "        if len(row) != n_cols:\n",
    "            raise ValueError(\"Every row should have same number of columns\")\n",
    "\n",
    "    return n_rows, n_cols\n",
    "\n",
    "def add(*args):\n",
    "    \n",
    "    sizes = set()\n",
    "    for m in args:\n",
    "        sizes.add(check_size(m))\n",
    "    \n",
    "    if len(sizes) > 1:\n",
    "        raise ValueError(\"Given matrices are not the same size\")\n",
    "    \n",
    "#     out = []\n",
    "#     for i_row in range(len(args[0])):\n",
    "#         row = []\n",
    "#         for i_col in range(len(args[0][0])):\n",
    "#             row.append(sum(x[i_row][i_col] for x in args))\n",
    "#         out.append(row)\n",
    "        \n",
    "    out = [\n",
    "        [sum(values) for values in zip(*rows)]\n",
    "        for rows in zip(*args)\n",
    "    ]\n",
    "    return out\n",
    "\n",
    "\n",
    "m1 = [[5]]\n",
    "m2 = [[-2]]\n",
    "m3 = [[3]]\n",
    "\n",
    "assert add(m1, m2) == [[3]]\n",
    "assert add(m1, m2, m3) == [[6]]\n",
    "assert add([[6, 6], [3, 1]], [[1, 2], [3, 4]]) == [[7, 8], [6, 5]]\n",
    "# assert add([[6, 6], [3, 1] ], [[1, 2, 3], [3, 4, 3]]) == [[7, 8], [6, 5]]"
   ]
  },
  {
   "cell_type": "markdown",
   "id": "declared-while",
   "metadata": {},
   "source": [
    "# użycie operatora *\n",
    "\n",
    "## użycie w definicji\n"
   ]
  },
  {
   "cell_type": "code",
   "execution_count": 45,
   "id": "alive-territory",
   "metadata": {},
   "outputs": [
    {
     "name": "stdout",
     "output_type": "stream",
     "text": [
      "1\n",
      "3\n",
      "6\n"
     ]
    }
   ],
   "source": [
    "def many(*args):\n",
    "    print(len(args))\n",
    "\n",
    "many(1)\n",
    "many(1, 2, 3)\n",
    "many(1, 2, 3,4 , 5, 6)"
   ]
  },
  {
   "cell_type": "markdown",
   "id": "medical-reference",
   "metadata": {},
   "source": [
    "## w wywołaniu"
   ]
  },
  {
   "cell_type": "code",
   "execution_count": 47,
   "id": "respected-poker",
   "metadata": {},
   "outputs": [
    {
     "name": "stdout",
     "output_type": "stream",
     "text": [
      "1\n",
      "5\n"
     ]
    }
   ],
   "source": [
    "x = [1, 2, 3, 4, 5]\n",
    "\n",
    "many(x)\n",
    "many(*x)"
   ]
  },
  {
   "cell_type": "markdown",
   "id": "improved-accordance",
   "metadata": {},
   "source": [
    "## rozpakowanie kontenerów\n"
   ]
  },
  {
   "cell_type": "code",
   "execution_count": 48,
   "id": "level-district",
   "metadata": {},
   "outputs": [],
   "source": [
    "a, b, c, d, e = x"
   ]
  },
  {
   "cell_type": "code",
   "execution_count": 52,
   "id": "indirect-champion",
   "metadata": {},
   "outputs": [
    {
     "name": "stdout",
     "output_type": "stream",
     "text": [
      "1 [2, 3, 4, 5]\n"
     ]
    }
   ],
   "source": [
    "a, *b = x\n",
    "print(a, b)"
   ]
  },
  {
   "cell_type": "code",
   "execution_count": 53,
   "id": "greek-upset",
   "metadata": {},
   "outputs": [
    {
     "name": "stdout",
     "output_type": "stream",
     "text": [
      "[1, 2, 3, 4] 5\n"
     ]
    }
   ],
   "source": [
    "*a, b = x\n",
    "print(a, b)"
   ]
  },
  {
   "cell_type": "code",
   "execution_count": 54,
   "id": "personal-international",
   "metadata": {},
   "outputs": [
    {
     "name": "stdout",
     "output_type": "stream",
     "text": [
      "1 [2, 3, 4] 5\n"
     ]
    }
   ],
   "source": [
    "a, *b, c = x\n",
    "\n",
    "print(a, b, c)"
   ]
  },
  {
   "cell_type": "code",
   "execution_count": 55,
   "id": "animated-aircraft",
   "metadata": {},
   "outputs": [],
   "source": [
    "a, *_, b = x"
   ]
  },
  {
   "cell_type": "code",
   "execution_count": 56,
   "id": "collectible-wallpaper",
   "metadata": {},
   "outputs": [
    {
     "ename": "ValueError",
     "evalue": "too many values to unpack (expected 2)",
     "output_type": "error",
     "traceback": [
      "\u001b[0;31m---------------------------------------------------------------------------\u001b[0m",
      "\u001b[0;31mValueError\u001b[0m                                Traceback (most recent call last)",
      "\u001b[0;32m<ipython-input-56-4430d8d5d46d>\u001b[0m in \u001b[0;36m<module>\u001b[0;34m\u001b[0m\n\u001b[0;32m----> 1\u001b[0;31m \u001b[0ma\u001b[0m\u001b[0;34m,\u001b[0m \u001b[0mb\u001b[0m \u001b[0;34m=\u001b[0m \u001b[0mx\u001b[0m\u001b[0;34m\u001b[0m\u001b[0;34m\u001b[0m\u001b[0m\n\u001b[0m",
      "\u001b[0;31mValueError\u001b[0m: too many values to unpack (expected 2)"
     ]
    }
   ],
   "source": [
    "a, b = x\n"
   ]
  },
  {
   "cell_type": "markdown",
   "id": "pending-father",
   "metadata": {},
   "source": [
    "# Funkcje cd\n",
    "\n",
    "## Wartości domyślne\n",
    "\n"
   ]
  },
  {
   "cell_type": "code",
   "execution_count": 61,
   "id": "expected-growing",
   "metadata": {},
   "outputs": [
    {
     "data": {
      "text/plain": [
       "9"
      ]
     },
     "execution_count": 61,
     "metadata": {},
     "output_type": "execute_result"
    }
   ],
   "source": [
    "def foo(a, b, *, c=1, d=2):\n",
    "    return a + b + c + d\n",
    "\n",
    "foo(1, 2)\n",
    "\n",
    "\n",
    "# foo(1, 2, 3, 3)\n",
    "foo(1, 2, c=3, d=3)\n",
    "\n",
    "        "
   ]
  },
  {
   "cell_type": "code",
   "execution_count": null,
   "id": "approved-clerk",
   "metadata": {},
   "outputs": [],
   "source": [
    "def foo(a, b, c=1, d=1, **kwargs):\n",
    "    return a + b + c + d"
   ]
  },
  {
   "cell_type": "markdown",
   "id": "latest-synthetic",
   "metadata": {},
   "source": [
    "### Zadanie:\n",
    "\n",
    "Napisz funkcję, która zliczy znaki pomiędzy określonymi znacznikami, dodając wagę zgodnie z poziomem zagnieżdżenia:\n",
    "\n",
    "np. jeśli nasze znaczniki to <>, to:\n",
    "\n",
    "    policz_znaki(\"\") == 0\n",
    "    policz_znaki(\"<>\") == 0\n",
    "    policz_znaki(\"<a<bc>>\") == 5\n",
    "    itd.\n",
    "    \n",
    "Możemy też podać inne znaczniki, wtedy:\n",
    "    \n",
    "    policz_znaki(\"<>\", start=\"[\", stop=\"]\") == 0\n",
    "    \n",
    "    policz_znaki(\"[a<bcd>]\") == 6"
   ]
  },
  {
   "cell_type": "code",
   "execution_count": 75,
   "id": "thick-terrace",
   "metadata": {},
   "outputs": [],
   "source": [
    "def policz_znaki(text, start=\"<\", stop=\">\"):\n",
    "    licznik = 0\n",
    "    poziom = 0\n",
    "    for znak in text:\n",
    "        if znak == start:\n",
    "            poziom += 1\n",
    "        elif znak == stop:\n",
    "            poziom -= 1\n",
    "        else:\n",
    "            licznik += poziom\n",
    "    return licznik\n",
    "\n",
    "assert policz_znaki(\"\") == 0\n",
    "assert policz_znaki(\"<>\") == 0\n",
    "assert policz_znaki(\"<a<bc>>\") == 5\n",
    "assert policz_znaki(\"<>\", start=\"[\", stop=\"]\") == 0\n",
    "assert policz_znaki(\"[a<bcd>]\") == 3\n",
    "assert policz_znaki(\"[a<bcd>]\", start=\"[\", stop=\"]\") == 6"
   ]
  },
  {
   "cell_type": "markdown",
   "id": "elegant-grammar",
   "metadata": {},
   "source": [
    "## Kwargs **\n",
    "\n"
   ]
  },
  {
   "cell_type": "code",
   "execution_count": 65,
   "id": "danish-function",
   "metadata": {},
   "outputs": [
    {
     "name": "stdout",
     "output_type": "stream",
     "text": [
      "{}\n",
      "{'a': 1, 'b': 2, 'c': 2, 'd': 3}\n"
     ]
    }
   ],
   "source": [
    "def foo(**kwargs):\n",
    "    print(kwargs)\n",
    "    \n",
    "    \n",
    "foo()\n",
    "foo(a=1, b=2, c=2, d=3)"
   ]
  },
  {
   "cell_type": "code",
   "execution_count": 67,
   "id": "stock-neutral",
   "metadata": {},
   "outputs": [
    {
     "name": "stdout",
     "output_type": "stream",
     "text": [
      "{'a': 1, 'c': 10}\n"
     ]
    }
   ],
   "source": [
    "d = {'a': 1, 'c':10}\n",
    "\n",
    "foo(**d)\n",
    "\n"
   ]
  },
  {
   "cell_type": "markdown",
   "id": "initial-willow",
   "metadata": {},
   "source": [
    "### Exercies\n",
    "\n",
    "Zaimplementuj funkcję formatującą podane napisy.\n",
    "Przykład użycia:\n",
    "\n",
    "```python\n",
    "    >>> formatuj(\n",
    "            \"nazwa produktu: $name\",\n",
    "            \"cena produktu: $price PLN\",\n",
    "            \"stawka vat: $vat%\",\n",
    "            name=\"Ogórki\",\n",
    "            price=2.55,\n",
    "            vat=15\n",
    "        )\n",
    "``` \n",
    "    \n",
    "wynik:\n",
    "\n",
    "```\n",
    "nazwa produktu: Ogórki\n",
    "cena produktu: 2.55 PLN\n",
    "stawka vat: 15%\n",
    "```\n",
    "\n",
    "\n",
    "\n"
   ]
  },
  {
   "cell_type": "code",
   "execution_count": 86,
   "id": "above-general",
   "metadata": {},
   "outputs": [],
   "source": [
    "def formatuj(*texts, **values):\n",
    "    text = \"\\n\".join(texts)\n",
    "    \n",
    "    for k, v in values.items():\n",
    "        text = text.replace(f\"${k}\", str(v))\n",
    "    \n",
    "    return text\n",
    "    \n",
    "\n",
    "assert formatuj(\n",
    "    \"nazwa produktu: $name\",\n",
    "    \"cena produktu: $price PLN\",\n",
    "    \"stawka vat: $vat%\",\n",
    "    name=\"Ogórki\",\n",
    "    price=2.55,\n",
    "    vat=15\n",
    ") == \"\"\"nazwa produktu: Ogórki\n",
    "cena produktu: 2.55 PLN\n",
    "stawka vat: 15%\"\"\""
   ]
  },
  {
   "cell_type": "code",
   "execution_count": 88,
   "id": "automatic-mambo",
   "metadata": {},
   "outputs": [
    {
     "name": "stdout",
     "output_type": "stream",
     "text": [
      "nazwa produktu: Ogórki\n",
      "cena produktu: 2.55 PLN\n",
      "stawka vat: 15%\n"
     ]
    }
   ],
   "source": [
    "print(formatuj(\n",
    "    \"nazwa produktu: $name\",\n",
    "    \"cena produktu: $price PLN\",\n",
    "    \"stawka vat: $vat%\",\n",
    "    name=\"Ogórki\",\n",
    "    price=2.55,\n",
    "    vat=15\n",
    "))"
   ]
  },
  {
   "cell_type": "code",
   "execution_count": 77,
   "id": "dietary-level",
   "metadata": {},
   "outputs": [
    {
     "data": {
      "text/plain": [
       "'a-b-c'"
      ]
     },
     "execution_count": 77,
     "metadata": {},
     "output_type": "execute_result"
    }
   ],
   "source": [
    "\"-\".join(\"abc\")"
   ]
  },
  {
   "cell_type": "markdown",
   "id": "silver-geneva",
   "metadata": {},
   "source": [
    "## lambda - funkcje anonimowe, funkcja jako argument"
   ]
  },
  {
   "cell_type": "code",
   "execution_count": 90,
   "id": "hundred-rating",
   "metadata": {},
   "outputs": [
    {
     "name": "stdout",
     "output_type": "stream",
     "text": [
      "l\n"
     ]
    }
   ],
   "source": [
    "def second(x): return x[1]\n",
    "\n",
    "print(second(\"all\"))"
   ]
  },
  {
   "cell_type": "code",
   "execution_count": 92,
   "id": "environmental-dairy",
   "metadata": {},
   "outputs": [],
   "source": [
    "sec = lambda x: x[1]"
   ]
  },
  {
   "cell_type": "code",
   "execution_count": 93,
   "id": "close-trainer",
   "metadata": {},
   "outputs": [
    {
     "data": {
      "text/plain": [
       "'l'"
      ]
     },
     "execution_count": 93,
     "metadata": {},
     "output_type": "execute_result"
    }
   ],
   "source": [
    "sec(\"all|\")"
   ]
  },
  {
   "cell_type": "code",
   "execution_count": 95,
   "id": "proprietary-karen",
   "metadata": {},
   "outputs": [
    {
     "data": {
      "text/plain": [
       "'l'"
      ]
     },
     "execution_count": 95,
     "metadata": {},
     "output_type": "execute_result"
    }
   ],
   "source": [
    "(lambda x: x[1])('all')"
   ]
  },
  {
   "cell_type": "code",
   "execution_count": 97,
   "id": "selective-lawrence",
   "metadata": {},
   "outputs": [
    {
     "data": {
      "text/plain": [
       "'second'"
      ]
     },
     "execution_count": 97,
     "metadata": {},
     "output_type": "execute_result"
    }
   ],
   "source": [
    "second.__name__"
   ]
  },
  {
   "cell_type": "code",
   "execution_count": 99,
   "id": "respiratory-celtic",
   "metadata": {},
   "outputs": [
    {
     "data": {
      "text/plain": [
       "'<lambda>'"
      ]
     },
     "execution_count": 99,
     "metadata": {},
     "output_type": "execute_result"
    }
   ],
   "source": [
    "sec.__name__"
   ]
  },
  {
   "cell_type": "code",
   "execution_count": 100,
   "id": "effective-appointment",
   "metadata": {},
   "outputs": [
    {
     "data": {
      "text/plain": [
       "3"
      ]
     },
     "execution_count": 100,
     "metadata": {},
     "output_type": "execute_result"
    }
   ],
   "source": [
    "suma = lambda x, y: x + y\n",
    "\n",
    "suma(1, 2)"
   ]
  },
  {
   "cell_type": "code",
   "execution_count": 101,
   "id": "seeing-catholic",
   "metadata": {},
   "outputs": [
    {
     "data": {
      "text/plain": [
       "[['A', 100], ['R', 33], ['Z', 1]]"
      ]
     },
     "execution_count": 101,
     "metadata": {},
     "output_type": "execute_result"
    }
   ],
   "source": [
    "dane = [[\"R\", 33], ['A', 100], ['Z', 1]]\n",
    "\n",
    "sorted(dane)"
   ]
  },
  {
   "cell_type": "code",
   "execution_count": 103,
   "id": "educational-establishment",
   "metadata": {},
   "outputs": [
    {
     "data": {
      "text/plain": [
       "[['Z', 1], ['R', 33], ['A', 100]]"
      ]
     },
     "execution_count": 103,
     "metadata": {},
     "output_type": "execute_result"
    }
   ],
   "source": [
    "sorted(dane, key=lambda x: x[1])"
   ]
  },
  {
   "cell_type": "markdown",
   "id": "secret-longer",
   "metadata": {},
   "source": [
    "### Exercies\n",
    "\n",
    "Zadaną listę imion posortuj po ich długości oraz alafabetycznie\n",
    "\n",
    "```\n",
    "    imiona = [\"Rafał\", \"Ada\", \"Alcybiades\", \n",
    "    \"Korfanty\", \"Zenobia\", \"Krzysztof\", \"Krystyna\", \"Robert\", \"Rafałek\", \"\"Rafałko\"]\n",
    "    \n",
    "    wynik = ...\n",
    "    \n",
    "    assert wynik == ['Ada',\n",
    " 'Alcybiades',\n",
    " 'Korfanty',\n",
    " 'Krystyna',\n",
    " 'Krzysztof',\n",
    " 'Rafał',\n",
    " 'Robert',\n",
    " 'Zenobia']\n",
    "```"
   ]
  },
  {
   "cell_type": "code",
   "execution_count": 122,
   "id": "accessory-macro",
   "metadata": {},
   "outputs": [
    {
     "data": {
      "text/plain": [
       "['Ada',\n",
       " 'Alcybiades',\n",
       " 'Korfanty',\n",
       " 'Krystyna',\n",
       " 'Krzysztof',\n",
       " 'Rafał',\n",
       " 'Robert',\n",
       " 'Rafałek',\n",
       " 'Rafałko',\n",
       " 'Zenobia']"
      ]
     },
     "execution_count": 122,
     "metadata": {},
     "output_type": "execute_result"
    }
   ],
   "source": [
    "imiona = [\"Rafał\", \"Ada\", \"Alcybiades\", \n",
    "    \"Korfanty\", \"Zenobia\", \"Krzysztof\", \"Krystyna\", \"Robert\", \"Rafałek\", \"Rafałko\"]\n",
    "\n",
    "imiona.sort()\n",
    "imiona\n",
    "\n",
    "def sort_alpha_and_length(data):\n",
    "    out = []\n",
    "    data.sort()\n",
    "    first_letters = sorted({x[0] for x in data})\n",
    "    \n",
    "    for l in first_letters:\n",
    "        partial = sorted([x for x in data if x.startswith(l)], key=len)\n",
    "        out += partial\n",
    "        \n",
    "    \n",
    "    return out\n",
    "    \n",
    "sort_alpha_and_length(imiona)\n",
    "\n"
   ]
  },
  {
   "cell_type": "code",
   "execution_count": 126,
   "id": "julian-milan",
   "metadata": {},
   "outputs": [
    {
     "data": {
      "text/plain": [
       "['Ada',\n",
       " 'Rafał',\n",
       " 'Robert',\n",
       " 'Rafałek',\n",
       " 'Rafałko',\n",
       " 'Zenobia',\n",
       " 'Korfanty',\n",
       " 'Krystyna',\n",
       " 'Krzysztof',\n",
       " 'Alcybiades']"
      ]
     },
     "execution_count": 126,
     "metadata": {},
     "output_type": "execute_result"
    }
   ],
   "source": [
    "sorted(imiona, key=len)"
   ]
  },
  {
   "cell_type": "code",
   "execution_count": 127,
   "id": "focused-skirt",
   "metadata": {},
   "outputs": [
    {
     "data": {
      "text/plain": [
       "['Ada',\n",
       " 'Alcybiades',\n",
       " 'Korfanty',\n",
       " 'Krystyna',\n",
       " 'Krzysztof',\n",
       " 'Rafał',\n",
       " 'Rafałek',\n",
       " 'Rafałko',\n",
       " 'Robert',\n",
       " 'Zenobia']"
      ]
     },
     "execution_count": 127,
     "metadata": {},
     "output_type": "execute_result"
    }
   ],
   "source": [
    "sorted(sorted(imiona, key=len, reverse=True))"
   ]
  },
  {
   "cell_type": "code",
   "execution_count": null,
   "id": "relative-fountain",
   "metadata": {},
   "outputs": [],
   "source": []
  },
  {
   "cell_type": "code",
   "execution_count": 106,
   "id": "excessive-tower",
   "metadata": {},
   "outputs": [
    {
     "data": {
      "text/plain": [
       "['text.csv', 'data.csv', 'text.json', 'qwer.asdf.txt', 'data.txt']"
      ]
     },
     "execution_count": 106,
     "metadata": {},
     "output_type": "execute_result"
    }
   ],
   "source": [
    "files = ['qwer.asdf.txt', 'data.txt', 'text.csv', 'data.csv', 'text.json']\n",
    "\n",
    "sorted(files, key=lambda x: x.split(\".\")[-1])"
   ]
  },
  {
   "cell_type": "code",
   "execution_count": 107,
   "id": "collected-nelson",
   "metadata": {},
   "outputs": [
    {
     "data": {
      "text/plain": [
       "['data.csv', 'data.txt', 'qwer.asdf.txt', 'text.csv', 'text.json']"
      ]
     },
     "execution_count": 107,
     "metadata": {},
     "output_type": "execute_result"
    }
   ],
   "source": [
    "sorted(sorted(files, key=lambda x: x.split(\".\")[-1]))"
   ]
  },
  {
   "cell_type": "code",
   "execution_count": 108,
   "id": "consecutive-measurement",
   "metadata": {},
   "outputs": [
    {
     "data": {
      "text/plain": [
       "['data.csv', 'text.csv', 'text.json', 'data.txt', 'qwer.asdf.txt']"
      ]
     },
     "execution_count": 108,
     "metadata": {},
     "output_type": "execute_result"
    }
   ],
   "source": [
    "sorted(sorted(files), key=lambda x: x.split(\".\")[-1])"
   ]
  },
  {
   "cell_type": "code",
   "execution_count": 109,
   "id": "colored-virus",
   "metadata": {},
   "outputs": [
    {
     "data": {
      "text/plain": [
       "['data.csv', 'text.csv', 'text.json', 'data.txt', 'qwer.asdf.txt']"
      ]
     },
     "execution_count": 109,
     "metadata": {},
     "output_type": "execute_result"
    }
   ],
   "source": [
    "partial = sorted(files)\n",
    "\n",
    "sorted(partial, key=lambda x: x.split(\".\")[-1])"
   ]
  },
  {
   "cell_type": "markdown",
   "id": "rubber-hypothetical",
   "metadata": {},
   "source": [
    "### Exercise\n",
    "\n",
    "Stwórz funkcję `group_by`, która przyjmie obiekt iterowalny oraz funkcję i zwróci słownik, w którym znajdą się pogrupowane przy pomocy funkcji obiekty z iteratora.\n",
    "Np. Chcemy liczby pogrupować wg reszty z dzielenia przez 3\n",
    "\n",
    "    >>> numbers = [1, 4, 5, 6, 8, 19, 34, 55]\n",
    "    >>> def mod3(n): return n % 3\n",
    "    >>> group_by(numbers, key_func=mod3)\n",
    "    {0: [6], 1: [1, 4, 19, 34, 55], 2: [5, 8]}\n",
    "    \n",
    "Albo mamy listę tupli opisujących zwierzeka (imię, gatunek):\n",
    "\n",
    "    animals = [\n",
    "            ('agatha', 'dog'),\n",
    "            ('kurt', 'cat'),\n",
    "            ('margaret', 'mouse'),\n",
    "            ('cory', 'cat'),\n",
    "            ('mary', 'mouse'),\n",
    "        ]\n",
    "chcemy pogrupować je gatunku. Jakiej funkcji użyjesz jako klucza?\n",
    "\n",
    "       {\n",
    "            'mouse': [('margaret', 'mouse'), ('mary', 'mouse')],\n",
    "            'dog': [('agatha', 'dog')],\n",
    "            'cat': [('kurt', 'cat'), ('cory', 'cat')],\n",
    "        }\n",
    "    \n",
    "    \n",
    "Jeśli funkcja klucza nie jest podana zaimplementuj domyślne zachowanie jak poniżej:\n",
    "\n",
    "    >>> group_by([1, 2, 1, 3, 2, 1])\n",
    "    {1: [1, 1, 1], 2: [2, 2], 3: [3]}\n",
    "    \n",
    "Słownik zawiera więc listy poszczególnych elementów z kolekcji"
   ]
  },
  {
   "cell_type": "code",
   "execution_count": 147,
   "id": "infectious-seller",
   "metadata": {},
   "outputs": [
    {
     "data": {
      "text/plain": [
       "defaultdict(list,\n",
       "            {'dog': [('agatha', 'dog')],\n",
       "             'cat': [('kurt', 'cat'), ('cory', 'cat')],\n",
       "             'mouse': [('margaret', 'mouse'), ('mary', 'mouse')]})"
      ]
     },
     "execution_count": 147,
     "metadata": {},
     "output_type": "execute_result"
    }
   ],
   "source": [
    "from collections import defaultdict\n",
    "\n",
    "def group_by(iterable, key=lambda x: x):\n",
    "    result = defaultdict(list)\n",
    "    for i in iterable:\n",
    "        result[key(i)].append(i)\n",
    "    return result\n",
    "        \n",
    "def group_by2(iterable, key=None):\n",
    "    result = defaultdict(list)\n",
    "    for i in iterable:\n",
    "        res = key(i) if key else i\n",
    "        result[res].append(i)\n",
    "    return result\n",
    "    \n",
    "    \n",
    "assert group_by([1, 2, 1, 3, 2, 1]) == {1: [1, 1, 1], 2: [2, 2], 3: [3]}\n",
    "\n",
    "def mod3(n): return n % 3\n",
    "numbers = [1, 4, 5, 6, 8, 19, 34, 55]\n",
    "group_by2(numbers, key=mod3)\n",
    "# assert group_by(numbers, key=mod3) == {0: [6], 1: [1, 4, 19, 34, 55], 2: [5, 8]}\n",
    "\n",
    "\n",
    "\n",
    "animals = [\n",
    "        ('agatha', 'dog'),\n",
    "        ('kurt', 'cat'),\n",
    "        ('margaret', 'mouse'),\n",
    "        ('cory', 'cat'),\n",
    "        ('mary', 'mouse'),\n",
    "    ]\n",
    "\n",
    "group_by2(animals, lambda x: x[1])"
   ]
  },
  {
   "cell_type": "code",
   "execution_count": 131,
   "id": "eleven-hypothesis",
   "metadata": {},
   "outputs": [
    {
     "data": {
      "text/plain": [
       "defaultdict(list, {})"
      ]
     },
     "execution_count": 131,
     "metadata": {},
     "output_type": "execute_result"
    }
   ],
   "source": [
    "x = defaultdict(list)\n",
    "\n",
    "x"
   ]
  },
  {
   "cell_type": "code",
   "execution_count": 132,
   "id": "random-brass",
   "metadata": {},
   "outputs": [
    {
     "data": {
      "text/plain": [
       "[]"
      ]
     },
     "execution_count": 132,
     "metadata": {},
     "output_type": "execute_result"
    }
   ],
   "source": [
    "x['i']"
   ]
  },
  {
   "cell_type": "code",
   "execution_count": 145,
   "id": "closed-arcade",
   "metadata": {},
   "outputs": [],
   "source": [
    "div2 = lambda x: x % 2\n",
    "\n",
    "x = div2(3) if div2(3) else 100\n"
   ]
  },
  {
   "cell_type": "code",
   "execution_count": 146,
   "id": "according-humanity",
   "metadata": {},
   "outputs": [
    {
     "data": {
      "text/plain": [
       "1"
      ]
     },
     "execution_count": 146,
     "metadata": {},
     "output_type": "execute_result"
    }
   ],
   "source": [
    "x"
   ]
  },
  {
   "cell_type": "code",
   "execution_count": 144,
   "id": "romance-color",
   "metadata": {},
   "outputs": [],
   "source": [
    "if {}:\n",
    "    print(\"True\")"
   ]
  },
  {
   "cell_type": "markdown",
   "id": "convertible-colony",
   "metadata": {},
   "source": [
    "## Domknięcia (clojures)"
   ]
  },
  {
   "cell_type": "code",
   "execution_count": 148,
   "id": "speaking-westminster",
   "metadata": {},
   "outputs": [
    {
     "name": "stdout",
     "output_type": "stream",
     "text": [
      "20\n"
     ]
    }
   ],
   "source": [
    "def mnozenie_przez(mnoznik):\n",
    "    def pomnoz(mnozna):\n",
    "        return mnozna * mnoznik\n",
    "    return pomnoz\n",
    "\n",
    "\n",
    "przez_5 = mnozenie_przez(5)\n",
    "\n",
    "print(przez_5(4))\n",
    "    "
   ]
  },
  {
   "cell_type": "code",
   "execution_count": 150,
   "id": "amateur-olympus",
   "metadata": {},
   "outputs": [
    {
     "data": {
      "text/plain": [
       "30"
      ]
     },
     "execution_count": 150,
     "metadata": {},
     "output_type": "execute_result"
    }
   ],
   "source": [
    "from functools import partial\n",
    "\n",
    "def mnozenie(x, y):\n",
    "    #     print(x, y)\n",
    "    return x * y\n",
    "\n",
    "przez_3 = partial(mnozenie, 3)\n",
    "przez_3(10)"
   ]
  },
  {
   "cell_type": "markdown",
   "id": "mysterious-tuning",
   "metadata": {},
   "source": [
    "### Exercise:\n",
    "\n",
    "Stwórz funkcję `incr_factory` służącą do produkcji funkcji inkrementujących o dowolną liczbę.\n",
    "\n",
    "Np:\n",
    "   ```\n",
    "   incr10 = incr_factory(10)\n",
    "   \n",
    "   incr10(11)\n",
    "   21\n",
    "   ```\n",
    "Postaraj się napisać rozwiązanie alternatywne z wykorzystaniem funkcji `partial` z modułu `functools`"
   ]
  },
  {
   "cell_type": "code",
   "execution_count": 151,
   "id": "celtic-delivery",
   "metadata": {},
   "outputs": [
    {
     "data": {
      "text/plain": [
       "21"
      ]
     },
     "execution_count": 151,
     "metadata": {},
     "output_type": "execute_result"
    }
   ],
   "source": [
    "def incr_factory(x):\n",
    "    def increase(y):\n",
    "        return x + y\n",
    "    \n",
    "    return increase\n",
    "\n",
    "incr_10 = incr_factory(10)\n",
    "incr_10(11)"
   ]
  },
  {
   "cell_type": "code",
   "execution_count": 152,
   "id": "dangerous-testimony",
   "metadata": {},
   "outputs": [
    {
     "data": {
      "text/plain": [
       "21"
      ]
     },
     "execution_count": 152,
     "metadata": {},
     "output_type": "execute_result"
    }
   ],
   "source": [
    "from functools import partial\n",
    "\n",
    "def increase_x_by_y(x, y):\n",
    "    return x + y\n",
    "\n",
    "incr10 = partial(increase_x_by_y, 10)\n",
    "incr10(11)    "
   ]
  },
  {
   "cell_type": "markdown",
   "id": "double-lounge",
   "metadata": {},
   "source": [
    "## dekoratory"
   ]
  },
  {
   "cell_type": "code",
   "execution_count": 153,
   "id": "tracked-cross",
   "metadata": {},
   "outputs": [],
   "source": [
    "functions_to_test = []\n",
    "\n",
    "def test(func):\n",
    "    print(\"Dodaję do testów\")\n",
    "    functions_to_test.append(func)\n",
    "    return func"
   ]
  },
  {
   "cell_type": "code",
   "execution_count": 154,
   "id": "facial-collins",
   "metadata": {},
   "outputs": [
    {
     "name": "stdout",
     "output_type": "stream",
     "text": [
      "Dodaję do testów\n",
      "Dodaję do testów\n",
      "[<function a at 0x7fc9a0958f80>, <function b at 0x7fc9a09325f0>]\n"
     ]
    }
   ],
   "source": [
    "\n",
    "@test\n",
    "def a():\n",
    "    \"\"\"Docstring\"\"\"\n",
    "    print(\"a()\")\n",
    "\n",
    "    \n",
    "@test\n",
    "def b():\n",
    "    \"\"\"Docstring\"\"\"\n",
    "    print(\"b()\")\n",
    "    \n",
    "\n",
    "def c():\n",
    "    \"\"\"Docstring\"\"\"\n",
    "    print(\"c()\")\n",
    "\n",
    "print(functions_to_test)"
   ]
  },
  {
   "cell_type": "code",
   "execution_count": 155,
   "id": "dominant-history",
   "metadata": {},
   "outputs": [
    {
     "name": "stdout",
     "output_type": "stream",
     "text": [
      "a()\n",
      "b()\n"
     ]
    }
   ],
   "source": [
    "for f in functions_to_test:\n",
    "    f()"
   ]
  },
  {
   "cell_type": "code",
   "execution_count": 156,
   "id": "employed-gateway",
   "metadata": {},
   "outputs": [
    {
     "data": {
      "text/plain": [
       "'a'"
      ]
     },
     "execution_count": 156,
     "metadata": {},
     "output_type": "execute_result"
    }
   ],
   "source": [
    "a.__name__\n"
   ]
  },
  {
   "cell_type": "code",
   "execution_count": 157,
   "id": "residential-sitting",
   "metadata": {},
   "outputs": [
    {
     "data": {
      "text/plain": [
       "'Docstring'"
      ]
     },
     "execution_count": 157,
     "metadata": {},
     "output_type": "execute_result"
    }
   ],
   "source": [
    "a.__doc__"
   ]
  },
  {
   "cell_type": "code",
   "execution_count": 168,
   "id": "opened-chocolate",
   "metadata": {},
   "outputs": [
    {
     "name": "stdout",
     "output_type": "stream",
     "text": [
      "Return squared x\n",
      "square\n",
      "{'x': <class 'int'>, 'return': <class 'int'>}\n"
     ]
    }
   ],
   "source": [
    "def dekorator(func):\n",
    "    def wrapper(*args, **kwargs):\n",
    "        \"\"\"Wrapper docstring\"\"\"\n",
    "        print(\"Before\", func.__name__)\n",
    "        result = func(*args, **kwargs)\n",
    "        print(\"After\", func.__name__)\n",
    "        return result\n",
    "    \n",
    "    wrapper.__doc__ = func.__doc__\n",
    "    wrapper.__name__ = func.__name__\n",
    "    wrapper.__annotations__ = func.__annotations__\n",
    "    \n",
    "    return wrapper\n",
    "    \n",
    "@dekorator\n",
    "def square(x: int)-> int:\n",
    "    \"\"\"Return squared x\"\"\"\n",
    "    return x ** 2\n",
    "\n",
    "\n",
    "print(square.__doc__)\n",
    "print(square.__name__)\n",
    "print(square.__annotations__)"
   ]
  },
  {
   "cell_type": "code",
   "execution_count": 173,
   "id": "quality-connectivity",
   "metadata": {},
   "outputs": [
    {
     "name": "stdout",
     "output_type": "stream",
     "text": [
      "Before square\n",
      "After square\n",
      "(100, 'xxx')\n"
     ]
    }
   ],
   "source": [
    "from functools import wraps\n",
    "\n",
    "def dekorator(func):\n",
    "    @wraps(func)\n",
    "    def wrapper(*args, **kwargs):\n",
    "        \"\"\"Wrapper docstring\"\"\"\n",
    "        print(\"Before\", func.__name__)\n",
    "        result = func(*args, **kwargs)\n",
    "        print(\"After\", func.__name__)\n",
    "        return result\n",
    "    \n",
    "    #     wrapper.__doc__ = func.__doc__\n",
    "    #     wrapper.__name__ = func.__name__\n",
    "    #     wrapper.__annotations__ = func.__annotations__\n",
    "    \n",
    "    return wrapper\n",
    "    \n",
    "\n",
    "@dekorator\n",
    "def square(x: int)-> int:\n",
    "    \"\"\"Return squared x\"\"\"\n",
    "    return x ** 2\n",
    "\n",
    "\n",
    "# square = dekorator(square)\n",
    "\n",
    "# print(square.__doc__)\n",
    "# print(square.__name__)\n",
    "# print(square.__annotations__)\n",
    "\n",
    "print(square(10))"
   ]
  },
  {
   "cell_type": "markdown",
   "id": "dominican-government",
   "metadata": {},
   "source": [
    "### Exercise:\n",
    "\n",
    "Napisz dekoratory , `bold` i `italic`, które do wyniku dekorowanej funkcji będa dodawać tagi html  `<b></b>` i `<i></i>`\n",
    "\n",
    "np:\n",
    "\n",
    "    @bold\n",
    "    @italic\n",
    "    def text(arg: str) -> str:\n",
    "        \"\"\"Mega ważna funkcja z ważną dokumentacją\"\"\"\n",
    "        return f'Test {arg}'\n",
    "        \n",
    "    text(\"cos\") == '<b><i>Test cos</i></b>'\n",
    "    \n",
    "\n",
    "zadbaj o to by nazwa funkcji, dokumentacja i annotacje się nie zmieniły"
   ]
  },
  {
   "cell_type": "markdown",
   "id": "turkish-ranking",
   "metadata": {},
   "source": [
    "### Exercise\n",
    "\n",
    "Napisz dekorator, który zmierzy czas wykonania danej funkcji:"
   ]
  },
  {
   "cell_type": "code",
   "execution_count": 172,
   "id": "short-nevada",
   "metadata": {},
   "outputs": [
    {
     "data": {
      "text/plain": [
       "1.001965045928955"
      ]
     },
     "execution_count": 172,
     "metadata": {},
     "output_type": "execute_result"
    }
   ],
   "source": [
    "import time\n",
    "\n",
    "s = time.time()\n",
    "time.sleep(1)\n",
    "time.time() - s\n",
    "\n",
    "# timeit"
   ]
  },
  {
   "cell_type": "markdown",
   "id": "listed-cleveland",
   "metadata": {},
   "source": [
    "## wstęp do wyjątków\n",
    "\n",
    "### obsługa wyjątków"
   ]
  },
  {
   "cell_type": "code",
   "execution_count": 174,
   "id": "public-rating",
   "metadata": {},
   "outputs": [
    {
     "name": "stdout",
     "output_type": "stream",
     "text": [
      "Był wyjątek\n"
     ]
    }
   ],
   "source": [
    "try:\n",
    "    x = 1/0\n",
    "except (ZeroDivisionError, ValueError):\n",
    "    print(\"Był wyjątek\")\n",
    "except TypeError:\n",
    "    print(\"Inna obsługa\")"
   ]
  },
  {
   "cell_type": "code",
   "execution_count": null,
   "id": "known-agent",
   "metadata": {},
   "outputs": [],
   "source": [
    "def suma(x, y):\n",
    "    if not isinstance(x, int):\n",
    "        raise ValueError"
   ]
  },
  {
   "cell_type": "code",
   "execution_count": 176,
   "id": "handmade-train",
   "metadata": {},
   "outputs": [
    {
     "data": {
      "text/plain": [
       "['ArithmeticError',\n",
       " 'AssertionError',\n",
       " 'AttributeError',\n",
       " 'BaseException',\n",
       " 'BlockingIOError',\n",
       " 'BrokenPipeError',\n",
       " 'BufferError',\n",
       " 'BytesWarning',\n",
       " 'ChildProcessError',\n",
       " 'ConnectionAbortedError',\n",
       " 'ConnectionError',\n",
       " 'ConnectionRefusedError',\n",
       " 'ConnectionResetError',\n",
       " 'DeprecationWarning',\n",
       " 'EOFError',\n",
       " 'Ellipsis',\n",
       " 'EnvironmentError',\n",
       " 'Exception',\n",
       " 'False',\n",
       " 'FileExistsError',\n",
       " 'FileNotFoundError',\n",
       " 'FloatingPointError',\n",
       " 'FutureWarning',\n",
       " 'GeneratorExit',\n",
       " 'IOError',\n",
       " 'ImportError',\n",
       " 'ImportWarning',\n",
       " 'IndentationError',\n",
       " 'IndexError',\n",
       " 'InterruptedError',\n",
       " 'IsADirectoryError',\n",
       " 'KeyError',\n",
       " 'KeyboardInterrupt',\n",
       " 'LookupError',\n",
       " 'MemoryError',\n",
       " 'ModuleNotFoundError',\n",
       " 'NameError',\n",
       " 'None',\n",
       " 'NotADirectoryError',\n",
       " 'NotImplemented',\n",
       " 'NotImplementedError',\n",
       " 'OSError',\n",
       " 'OverflowError',\n",
       " 'PendingDeprecationWarning',\n",
       " 'PermissionError',\n",
       " 'ProcessLookupError',\n",
       " 'RecursionError',\n",
       " 'ReferenceError',\n",
       " 'ResourceWarning',\n",
       " 'RuntimeError',\n",
       " 'RuntimeWarning',\n",
       " 'StopAsyncIteration',\n",
       " 'StopIteration',\n",
       " 'SyntaxError',\n",
       " 'SyntaxWarning',\n",
       " 'SystemError',\n",
       " 'SystemExit',\n",
       " 'TabError',\n",
       " 'TimeoutError',\n",
       " 'True',\n",
       " 'TypeError',\n",
       " 'UnboundLocalError',\n",
       " 'UnicodeDecodeError',\n",
       " 'UnicodeEncodeError',\n",
       " 'UnicodeError',\n",
       " 'UnicodeTranslateError',\n",
       " 'UnicodeWarning',\n",
       " 'UserWarning',\n",
       " 'ValueError',\n",
       " 'Warning',\n",
       " 'ZeroDivisionError',\n",
       " '__IPYTHON__',\n",
       " '__build_class__',\n",
       " '__debug__',\n",
       " '__doc__',\n",
       " '__import__',\n",
       " '__loader__',\n",
       " '__name__',\n",
       " '__package__',\n",
       " '__spec__',\n",
       " 'abs',\n",
       " 'all',\n",
       " 'any',\n",
       " 'ascii',\n",
       " 'bin',\n",
       " 'bool',\n",
       " 'breakpoint',\n",
       " 'bytearray',\n",
       " 'bytes',\n",
       " 'callable',\n",
       " 'chr',\n",
       " 'classmethod',\n",
       " 'compile',\n",
       " 'complex',\n",
       " 'copyright',\n",
       " 'credits',\n",
       " 'delattr',\n",
       " 'dict',\n",
       " 'dir',\n",
       " 'display',\n",
       " 'divmod',\n",
       " 'enumerate',\n",
       " 'eval',\n",
       " 'exec',\n",
       " 'filter',\n",
       " 'float',\n",
       " 'format',\n",
       " 'frozenset',\n",
       " 'get_ipython',\n",
       " 'getattr',\n",
       " 'globals',\n",
       " 'hasattr',\n",
       " 'hash',\n",
       " 'help',\n",
       " 'hex',\n",
       " 'id',\n",
       " 'input',\n",
       " 'int',\n",
       " 'isinstance',\n",
       " 'issubclass',\n",
       " 'iter',\n",
       " 'len',\n",
       " 'license',\n",
       " 'list',\n",
       " 'locals',\n",
       " 'map',\n",
       " 'max',\n",
       " 'memoryview',\n",
       " 'min',\n",
       " 'next',\n",
       " 'object',\n",
       " 'oct',\n",
       " 'open',\n",
       " 'ord',\n",
       " 'pow',\n",
       " 'print',\n",
       " 'property',\n",
       " 'range',\n",
       " 'repr',\n",
       " 'reversed',\n",
       " 'round',\n",
       " 'set',\n",
       " 'setattr',\n",
       " 'slice',\n",
       " 'sorted',\n",
       " 'staticmethod',\n",
       " 'str',\n",
       " 'sum',\n",
       " 'super',\n",
       " 'tuple',\n",
       " 'type',\n",
       " 'vars',\n",
       " 'zip']"
      ]
     },
     "execution_count": 176,
     "metadata": {},
     "output_type": "execute_result"
    }
   ],
   "source": [
    "dir(__builtins__)"
   ]
  },
  {
   "cell_type": "markdown",
   "id": "standard-washer",
   "metadata": {},
   "source": [
    "\n",
    "### Exercies\n",
    "\n",
    "Napisz funkcję, która powiedzie się za 3 razem.\n",
    "\n",
    "Pierwsze dwa wywołania powinny zakończyć się rzuceniem wyjątku TimeoutError\n",
    "\n",
    "\n",
    "    for i in range(3):\n",
    "        try:\n",
    "            print(ok_3rd_time())\n",
    "        except TimeoutError:\n",
    "            print(\"Timeout\")\n",
    "\n",
    "    Timeout\n",
    "    Timeout\n",
    "    42\n",
    "\n",
    "Napisz dekorator, który w razie niepowodzenia spróbuje wywołać funkcję jeszcze dwukrotnie. Udekorowana funkcja wywołana powinna zadziałać tak:\n",
    "\n",
    "    @try_3_times\n",
    "    def ok_3rd_time()...\n",
    "\n",
    "    ok_3rd_time()\n",
    "    \n",
    "    Try again\n",
    "    Try again\n",
    "    42\n"
   ]
  },
  {
   "cell_type": "code",
   "execution_count": 184,
   "id": "competent-physiology",
   "metadata": {},
   "outputs": [
    {
     "name": "stdout",
     "output_type": "stream",
     "text": [
      "Try again\n",
      "Try again\n",
      "Try again\n"
     ]
    },
    {
     "data": {
      "text/plain": [
       "ValueError('Zawsze kończy się źle')"
      ]
     },
     "execution_count": 184,
     "metadata": {},
     "output_type": "execute_result"
    }
   ],
   "source": [
    "from functools import wraps\n",
    "tries = 0\n",
    "\n",
    "def retry_3_times(func):\n",
    "    \n",
    "    @wraps(func)\n",
    "    def wrapper(*args, **kwargs):\n",
    "        for i in range(3):\n",
    "            try:\n",
    "                result = func(*args, **kwargs)\n",
    "                return result\n",
    "            except Exception as e:\n",
    "                excp = e\n",
    "                print(\"Try again\")\n",
    "        return excp\n",
    "    return wrapper\n",
    "\n",
    "\n",
    "@retry_3_times\n",
    "def ok_3rd_time():\n",
    "    global tries\n",
    "    \n",
    "    if tries < 2:\n",
    "        tries += 1\n",
    "        raise TimeoutError(\"Jeszcze nie teraz\")\n",
    "    else:\n",
    "        return 42\n",
    "\n",
    "    \n",
    "# ok_3rd_time()\n",
    "\n",
    "@retry_3_times\n",
    "def fail():\n",
    "    raise ValueError(\"Zawsze kończy się źle\")\n",
    "    \n",
    "fail()\n",
    "# for i in range(3):\n",
    "#     try:\n",
    "#         print(ok_3rd_time())\n",
    "#     except TimeoutError:\n",
    "#         print(\"Timeout\")"
   ]
  },
  {
   "cell_type": "code",
   "execution_count": 185,
   "id": "respiratory-yahoo",
   "metadata": {},
   "outputs": [
    {
     "name": "stdout",
     "output_type": "stream",
     "text": [
      "Try again\n",
      "Try again\n",
      "Try again\n",
      "Try again\n",
      "Try again\n"
     ]
    },
    {
     "data": {
      "text/plain": [
       "ValueError('Zawsze kończy się źle')"
      ]
     },
     "execution_count": 185,
     "metadata": {},
     "output_type": "execute_result"
    }
   ],
   "source": [
    "def retry_n_times(n):\n",
    "    def decorator(func):\n",
    "\n",
    "        @wraps(func)\n",
    "        def wrapper(*args, **kwargs):\n",
    "            for i in range(n):\n",
    "                try:\n",
    "                    result = func(*args, **kwargs)\n",
    "                    return result\n",
    "                except Exception as e:\n",
    "                    excp = e\n",
    "                    print(\"Try again\")\n",
    "            return excp\n",
    "        return wrapper\n",
    "    return decorator\n",
    "\n",
    "@retry_n_times(5)\n",
    "def fail():\n",
    "    raise ValueError(\"Zawsze kończy się źle\")\n",
    "    \n",
    "fail()"
   ]
  },
  {
   "cell_type": "markdown",
   "id": "separate-modern",
   "metadata": {},
   "source": [
    "## Rekurencja\n",
    "\n",
    "\n",
    "Żeby zrozumieć rekurencję trzeba zrozumiec rekurencję.\n"
   ]
  },
  {
   "cell_type": "code",
   "execution_count": 189,
   "id": "established-recipe",
   "metadata": {},
   "outputs": [
    {
     "name": "stdout",
     "output_type": "stream",
     "text": [
      "10\n",
      "9\n",
      "8\n",
      "7\n",
      "6\n",
      "5\n",
      "4\n",
      "3\n",
      "2\n",
      "1\n"
     ]
    }
   ],
   "source": [
    "def counter(n):\n",
    "    if n == 0:\n",
    "        return \n",
    "    print(n)\n",
    "    counter(n-1)\n",
    "\n",
    "counter(10)\n",
    "    "
   ]
  },
  {
   "cell_type": "markdown",
   "id": "packed-jersey",
   "metadata": {},
   "source": [
    "### Exercise: silnia\n",
    "\n",
    "Zaimplementuj funkcję obliczającą silnie dla zadanej wartości. Przykład użycia:\n",
    "\n",
    "    >>> silnia(5)\n",
    "    120"
   ]
  },
  {
   "cell_type": "code",
   "execution_count": 193,
   "id": "desirable-beatles",
   "metadata": {},
   "outputs": [],
   "source": [
    "def silnia(n):\n",
    "    if n == 0:\n",
    "        return 1\n",
    "    else:\n",
    "        return n * silnia(n-1)\n",
    "    \n",
    "\n",
    "assert silnia(5) == 120\n"
   ]
  },
  {
   "cell_type": "markdown",
   "id": "graphic-longer",
   "metadata": {},
   "source": [
    "### Exercise: splaszcz\n",
    "\n",
    "Zaimplementuj funkcję spłaszczającą podaną listę. Przykład użycia:\n",
    "\n",
    "    >>> splaszcz([1, 2, 3, [4, 5, [6]], 7])\n",
    "    [1, 2, 3, 4, 5, 6, 7]"
   ]
  },
  {
   "cell_type": "code",
   "execution_count": 9,
   "id": "centered-airline",
   "metadata": {},
   "outputs": [
    {
     "data": {
      "text/plain": [
       "[1, 2, 3, 4, 5, 6, 7]"
      ]
     },
     "execution_count": 9,
     "metadata": {},
     "output_type": "execute_result"
    }
   ],
   "source": [
    "def splaszcz(lista):\n",
    "    rezultat = []\n",
    "    for el in lista:\n",
    "        if isinstance(el, list):\n",
    "            for e in splaszcz(el):\n",
    "                rezultat.append(e)\n",
    "        else:\n",
    "            rezultat.append(el)\n",
    "    return rezultat\n",
    "\n",
    "\n",
    "assert splaszcz([]) == []\n",
    "assert splaszcz([1, 2, 3]) == [1, 2 ,3]\n",
    "assert splaszcz([1, 2, 3, [4, 5, [6]], 7]) == [1, 2, 3, 4, 5, 6, 7]\n",
    "splaszcz([1, 2, 3, [4, 5, [6]], 7])"
   ]
  },
  {
   "cell_type": "markdown",
   "id": "liable-manitoba",
   "metadata": {},
   "source": [
    "## Generatory\n",
    "\n"
   ]
  },
  {
   "cell_type": "code",
   "execution_count": 14,
   "id": "noted-honolulu",
   "metadata": {},
   "outputs": [
    {
     "data": {
      "text/plain": [
       "0"
      ]
     },
     "execution_count": 14,
     "metadata": {},
     "output_type": "execute_result"
    }
   ],
   "source": [
    "xx = (x for x in range(10))\n",
    "next(xx)"
   ]
  },
  {
   "cell_type": "code",
   "execution_count": 25,
   "id": "conditional-hawaiian",
   "metadata": {},
   "outputs": [
    {
     "name": "stdout",
     "output_type": "stream",
     "text": [
      "First time\n"
     ]
    },
    {
     "data": {
      "text/plain": [
       "1"
      ]
     },
     "execution_count": 25,
     "metadata": {},
     "output_type": "execute_result"
    }
   ],
   "source": [
    "def my_gen():\n",
    "    n = 1\n",
    "    print(\"First time\")\n",
    "    yield n\n",
    "    \n",
    "    n += 1\n",
    "    print(\"Second\")\n",
    "    yield n\n",
    "    \n",
    "    n += 1\n",
    "    print(\"Third\")\n",
    "    yield n\n",
    "\n",
    "a = my_gen()\n",
    "\n",
    "next(a)\n",
    "    \n",
    "    "
   ]
  },
  {
   "cell_type": "code",
   "execution_count": 30,
   "id": "leading-preserve",
   "metadata": {},
   "outputs": [
    {
     "name": "stdout",
     "output_type": "stream",
     "text": [
      "0\n",
      "1\n",
      "4\n",
      "9\n",
      "16\n",
      "25\n",
      "36\n",
      "49\n",
      "64\n",
      "81\n"
     ]
    }
   ],
   "source": [
    "def squares(n):\n",
    "    for i in range(n):\n",
    "        yield i ** 2\n",
    "        \n",
    "        \n",
    "for i in squares(10):\n",
    "    print(i)"
   ]
  },
  {
   "cell_type": "markdown",
   "id": "vertical-strip",
   "metadata": {},
   "source": [
    "### Exercise:\n",
    "\n",
    "Napisz generator, który dla zadanego napisu będzie zwracać litera po literze ten sam napis ale od końca:\n",
    "\n",
    "    x = reverse_string(\"Kot\")\n",
    "\n",
    "    for i in x:\n",
    "        print(i)\n",
    "\n",
    "    t\n",
    "    o\n",
    "    K"
   ]
  },
  {
   "cell_type": "code",
   "execution_count": 31,
   "id": "lightweight-canberra",
   "metadata": {},
   "outputs": [
    {
     "data": {
      "text/plain": [
       "'toK'"
      ]
     },
     "execution_count": 31,
     "metadata": {},
     "output_type": "execute_result"
    }
   ],
   "source": [
    "napis = \"Kot\"\n",
    "\n",
    "napis[::-1]"
   ]
  },
  {
   "cell_type": "code",
   "execution_count": 34,
   "id": "explicit-restoration",
   "metadata": {},
   "outputs": [
    {
     "name": "stdout",
     "output_type": "stream",
     "text": [
      "a\n",
      "t\n",
      "o\n",
      "k\n",
      " \n",
      "a\n",
      "m\n",
      " \n",
      "a\n",
      "l\n",
      "A\n"
     ]
    }
   ],
   "source": [
    "def reversed_string(napis):\n",
    "    for i in napis[::-1]:\n",
    "        yield i\n",
    "        \n",
    "gen = reversed_string(\"Ala ma kota\")\n",
    "\n",
    "for i in gen: print(i)"
   ]
  },
  {
   "cell_type": "markdown",
   "id": "apart-seven",
   "metadata": {},
   "source": [
    "## Anotacje\n",
    "\n"
   ]
  },
  {
   "cell_type": "code",
   "execution_count": 35,
   "id": "configured-turner",
   "metadata": {},
   "outputs": [
    {
     "data": {
      "text/plain": [
       "6"
      ]
     },
     "execution_count": 35,
     "metadata": {},
     "output_type": "execute_result"
    }
   ],
   "source": [
    "def foo(a: str, b: str, c: str = \"zyz\") -> str:\n",
    "    x: int\n",
    "    y: int = 3\n",
    "    return a + b + c\n",
    "\n",
    "foo(1, 2, 3)"
   ]
  },
  {
   "cell_type": "code",
   "execution_count": 36,
   "id": "registered-baghdad",
   "metadata": {},
   "outputs": [
    {
     "data": {
      "text/plain": [
       "{'a': str, 'b': str, 'c': str, 'return': str}"
      ]
     },
     "execution_count": 36,
     "metadata": {},
     "output_type": "execute_result"
    }
   ],
   "source": [
    "foo.__annotations__"
   ]
  },
  {
   "cell_type": "code",
   "execution_count": 38,
   "id": "posted-expense",
   "metadata": {},
   "outputs": [],
   "source": [
    "# !pip install mypy"
   ]
  },
  {
   "cell_type": "code",
   "execution_count": 47,
   "id": "dense-toddler",
   "metadata": {},
   "outputs": [
    {
     "name": "stdout",
     "output_type": "stream",
     "text": [
      "Overwriting annotations_example.py\n"
     ]
    }
   ],
   "source": [
    "%%writefile annotations_example.py\n",
    "from typing import Dict, List, Union, Optional\n",
    "\n",
    "def add(a: Union[float, int], b: Union[float, int]) -> float:\n",
    "    return a + b\n",
    "\n",
    "def foo(x: Dict[str, str]) -> int:\n",
    "    return len(x)\n",
    "\n",
    "\n",
    "print(add(2, 3))\n",
    "# print(add(\"asdf\", \"sdsd\"))\n",
    "\n",
    "# foo({1:2})"
   ]
  },
  {
   "cell_type": "code",
   "execution_count": 43,
   "id": "danish-engine",
   "metadata": {},
   "outputs": [
    {
     "name": "stdout",
     "output_type": "stream",
     "text": [
      "5\r\n",
      "asdfsdsd\r\n"
     ]
    }
   ],
   "source": [
    "!python3 annotations_example.py"
   ]
  },
  {
   "cell_type": "code",
   "execution_count": 48,
   "id": "sweet-trance",
   "metadata": {},
   "outputs": [
    {
     "name": "stdout",
     "output_type": "stream",
     "text": [
      "\u001b[1m\u001b[32mSuccess: no issues found in 1 source file\u001b[m\r\n"
     ]
    }
   ],
   "source": [
    "!mypy annotations_example.py"
   ]
  },
  {
   "cell_type": "markdown",
   "id": "intensive-socket",
   "metadata": {},
   "source": [
    "# OOP"
   ]
  },
  {
   "cell_type": "code",
   "execution_count": 49,
   "id": "numerical-sitting",
   "metadata": {},
   "outputs": [
    {
     "data": {
      "text/plain": [
       "'STR'"
      ]
     },
     "execution_count": 49,
     "metadata": {},
     "output_type": "execute_result"
    }
   ],
   "source": [
    "\"str\".upper()"
   ]
  },
  {
   "cell_type": "code",
   "execution_count": 50,
   "id": "intense-linux",
   "metadata": {},
   "outputs": [],
   "source": [
    "class Animal:\n",
    "    pass\n"
   ]
  },
  {
   "cell_type": "code",
   "execution_count": 57,
   "id": "persistent-struggle",
   "metadata": {},
   "outputs": [],
   "source": [
    "pies1 = Animal()  # instancja - obiekt danej klasy"
   ]
  },
  {
   "cell_type": "code",
   "execution_count": 58,
   "id": "helpful-henry",
   "metadata": {},
   "outputs": [],
   "source": [
    "pies1.imie = \"Rex\""
   ]
  },
  {
   "cell_type": "code",
   "execution_count": 59,
   "id": "taken-contamination",
   "metadata": {},
   "outputs": [
    {
     "data": {
      "text/plain": [
       "'Rex'"
      ]
     },
     "execution_count": 59,
     "metadata": {},
     "output_type": "execute_result"
    }
   ],
   "source": [
    "pies1.imie"
   ]
  },
  {
   "cell_type": "code",
   "execution_count": 60,
   "id": "distributed-pursuit",
   "metadata": {},
   "outputs": [
    {
     "ename": "AttributeError",
     "evalue": "'Animal' object has no attribute 'imie'",
     "output_type": "error",
     "traceback": [
      "\u001b[0;31m---------------------------------------------------------------------------\u001b[0m",
      "\u001b[0;31mAttributeError\u001b[0m                            Traceback (most recent call last)",
      "\u001b[0;32m<ipython-input-60-aa3e44e1063c>\u001b[0m in \u001b[0;36m<module>\u001b[0;34m\u001b[0m\n\u001b[1;32m      1\u001b[0m \u001b[0mpies2\u001b[0m \u001b[0;34m=\u001b[0m \u001b[0mAnimal\u001b[0m\u001b[0;34m(\u001b[0m\u001b[0;34m)\u001b[0m\u001b[0;34m\u001b[0m\u001b[0;34m\u001b[0m\u001b[0m\n\u001b[0;32m----> 2\u001b[0;31m \u001b[0mpies2\u001b[0m\u001b[0;34m.\u001b[0m\u001b[0mimie\u001b[0m\u001b[0;34m\u001b[0m\u001b[0;34m\u001b[0m\u001b[0m\n\u001b[0m",
      "\u001b[0;31mAttributeError\u001b[0m: 'Animal' object has no attribute 'imie'"
     ]
    }
   ],
   "source": [
    "pies2 = Animal()\n",
    "pies2.imie"
   ]
  },
  {
   "cell_type": "code",
   "execution_count": 62,
   "id": "laden-spice",
   "metadata": {},
   "outputs": [
    {
     "data": {
      "text/plain": [
       "'fauna'"
      ]
     },
     "execution_count": 62,
     "metadata": {},
     "output_type": "execute_result"
    }
   ],
   "source": [
    "# atrybuty klasowe:\n",
    "\n",
    "class Animal:\n",
    "    krolestwo = \"fauna\"\n",
    "\n",
    "pies3 = Animal()\n",
    "pies4 = Animal()\n",
    "\n",
    "pies3.krolestwo"
   ]
  },
  {
   "cell_type": "code",
   "execution_count": 63,
   "id": "textile-listing",
   "metadata": {},
   "outputs": [
    {
     "data": {
      "text/plain": [
       "'fauna'"
      ]
     },
     "execution_count": 63,
     "metadata": {},
     "output_type": "execute_result"
    }
   ],
   "source": [
    "pies4.krolestwo"
   ]
  },
  {
   "cell_type": "code",
   "execution_count": 64,
   "id": "fiscal-finger",
   "metadata": {},
   "outputs": [],
   "source": [
    "Animal.krolestwo = \"xxx\"\n"
   ]
  },
  {
   "cell_type": "code",
   "execution_count": 68,
   "id": "limited-speaker",
   "metadata": {},
   "outputs": [],
   "source": [
    "pies3.krolestwo = \"yyy\""
   ]
  },
  {
   "cell_type": "code",
   "execution_count": 69,
   "id": "bright-twins",
   "metadata": {},
   "outputs": [
    {
     "data": {
      "text/plain": [
       "'yyy'"
      ]
     },
     "execution_count": 69,
     "metadata": {},
     "output_type": "execute_result"
    }
   ],
   "source": [
    "pies3.krolestwo"
   ]
  },
  {
   "cell_type": "code",
   "execution_count": 70,
   "id": "current-stomach",
   "metadata": {},
   "outputs": [
    {
     "data": {
      "text/plain": [
       "'xxx'"
      ]
     },
     "execution_count": 70,
     "metadata": {},
     "output_type": "execute_result"
    }
   ],
   "source": [
    "pies4.krolestwo"
   ]
  },
  {
   "cell_type": "code",
   "execution_count": 77,
   "id": "signed-thursday",
   "metadata": {},
   "outputs": [
    {
     "name": "stdout",
     "output_type": "stream",
     "text": [
      "Rex is moving ...\n",
      "Rex is moving ...\n"
     ]
    }
   ],
   "source": [
    "class Animal:\n",
    "    \n",
    "    def __init__(self, name):\n",
    "        self.name = name  # atrybut instancji\n",
    "        \n",
    "    def __str__(self):\n",
    "        return f\"To jest {self.name}\"\n",
    "    \n",
    "    def move(self):\n",
    "        print(f\"{self.name} is moving ...\")\n",
    "        \n",
    "    \n",
    "        \n",
    "pies = Animal(\"Rex\")\n",
    "pies.move()\n",
    "\n",
    "Animal.move(pies)"
   ]
  },
  {
   "cell_type": "code",
   "execution_count": 73,
   "id": "detected-commercial",
   "metadata": {},
   "outputs": [
    {
     "data": {
      "text/plain": [
       "'Rex'"
      ]
     },
     "execution_count": 73,
     "metadata": {},
     "output_type": "execute_result"
    }
   ],
   "source": [
    "pies.name"
   ]
  },
  {
   "cell_type": "code",
   "execution_count": 78,
   "id": "headed-career",
   "metadata": {},
   "outputs": [
    {
     "name": "stdout",
     "output_type": "stream",
     "text": [
      "To jest Rex\n"
     ]
    }
   ],
   "source": [
    "print(pies)"
   ]
  },
  {
   "cell_type": "markdown",
   "id": "modern-spirituality",
   "metadata": {},
   "source": [
    "### Exercise:\n",
    "\n",
    "Zaimplementuj klasę `Product` przechowującą informację o cenie, nazwie oraz `id` produktu. \n",
    "Klasa powinna mieć metode specjalną `__str__` oraz metodę `info`\n",
    "\n",
    "\n",
    "Przykład użycia:\n",
    "\n",
    "    >>> product = Product(1, 'Woda', 10.99)\n",
    "    >>> product.info()\n",
    "    Produkt \"Woda\", id: 1, cena: 10.99 PLN\n",
    "    >>> print(product)\n",
    "    (1) Woda: 10.99 PLN"
   ]
  },
  {
   "cell_type": "code",
   "execution_count": 79,
   "id": "international-guyana",
   "metadata": {},
   "outputs": [
    {
     "data": {
      "text/plain": [
       "xxx"
      ]
     },
     "execution_count": 79,
     "metadata": {},
     "output_type": "execute_result"
    }
   ],
   "source": [
    "class Product:\n",
    "    ID = 1\n",
    "    \n",
    "    def __init__(self, idx, name, price):\n",
    "        self.id = idx\n",
    "        self.name = name\n",
    "        self.price = price\n",
    "        \n",
    "    def __str__(self):\n",
    "        return f\"({self.id}) {self.name}: {self.price} PLN\"\n",
    "    \n",
    "    #     def __repr__(self):\n",
    "    #         return \"xxx\"\n",
    "    \n",
    "    def info(self):\n",
    "        return f\"Produkt \\\"{self.name}\\\", id: {self.id}, cena: {self.price} PLN\"\n",
    "    \n",
    "\n",
    "product = Product(1, 'Woda', 10.99)\n",
    "product"
   ]
  },
  {
   "cell_type": "code",
   "execution_count": 84,
   "id": "contemporary-router",
   "metadata": {},
   "outputs": [
    {
     "name": "stdout",
     "output_type": "stream",
     "text": [
      "(1) Woda: 10.99 PLN (2) Chleb: 10.99 PLN\n"
     ]
    }
   ],
   "source": [
    "class Product:\n",
    "    ID = 1\n",
    "    \n",
    "    def __init__(self, name, price):\n",
    "        self.id = self.ID\n",
    "        Product.ID += 1\n",
    "        self.name = name\n",
    "        self.price = price\n",
    "        \n",
    "    def __str__(self):\n",
    "        return f\"({self.id}) {self.name}: {self.price} PLN\"\n",
    "    \n",
    "\n",
    "    def info(self):\n",
    "        return f\"Produkt \\\"{self.name}\\\", id: {self.id}, cena: {self.price} PLN\"\n",
    "    \n",
    "\n",
    "product = Product('Woda', 10.99)\n",
    "product2 = Product('Chleb', 10.99)\n",
    "print(product, product2)"
   ]
  },
  {
   "cell_type": "markdown",
   "id": "painted-genetics",
   "metadata": {},
   "source": [
    "### Exercise\n",
    "\n",
    "\n",
    "Zaimplementuj klasę ElectricCar odwzorowującą zachowanie samochodu elektrycznego. Klasa powinna umożliwiać pokonanie zadanego dystansu, który nie może przekroczyć maksymalnego zasięgu zdefiniowanego dla samochodu. Samochód powinien mieć także możliwość naładowania baterii.\n",
    "\n",
    "    >>> car = ElectricCar(100)\n",
    "    >>> car.drive(70)\n",
    "    70\n",
    "    >>> car.drive(50)\n",
    "    30\n",
    "    >>> car.drive(50)\n",
    "    0\n",
    "    >>> car.charge()\n",
    "    >>> car.drive(50)\n",
    "    50"
   ]
  },
  {
   "cell_type": "markdown",
   "id": "physical-tobago",
   "metadata": {},
   "source": [
    "### atrybuty prywatne, chronione `_`, |`__`"
   ]
  },
  {
   "cell_type": "code",
   "execution_count": 88,
   "id": "incredible-penguin",
   "metadata": {},
   "outputs": [
    {
     "data": {
      "text/plain": [
       "4"
      ]
     },
     "execution_count": 88,
     "metadata": {},
     "output_type": "execute_result"
    }
   ],
   "source": [
    "class Osoba:\n",
    "    \n",
    "    def __init__(self, imie):\n",
    "        self.imie = imie\n",
    "        self._staz = 0\n",
    "        \n",
    "        \n",
    "    def zwieksz_staz(self, x):\n",
    "        self._staz += x\n",
    "\n",
    "os = Osoba('Maciek')\n",
    "\n",
    "#os._staz = 10 # tego nie robimy\n",
    "os.zwieksz_staz(4)  # tak\n",
    "os._staz            # nie"
   ]
  },
  {
   "cell_type": "code",
   "execution_count": 96,
   "id": "organic-chamber",
   "metadata": {},
   "outputs": [
    {
     "name": "stdout",
     "output_type": "stream",
     "text": [
      "0\n"
     ]
    },
    {
     "data": {
      "text/plain": [
       "{'imie': 'Maciek', '_Osoba__staz': 20, '__staz': 10}"
      ]
     },
     "execution_count": 96,
     "metadata": {},
     "output_type": "execute_result"
    }
   ],
   "source": [
    "class Osoba:\n",
    "    \n",
    "    def __init__(self, imie):\n",
    "        self.imie = imie\n",
    "        self.__staz = 0\n",
    "        \n",
    "        \n",
    "    def zwieksz_staz(self, x):\n",
    "        self.__staz += x\n",
    "\n",
    "os = Osoba('Maciek')\n",
    "\n",
    "os._Osoba__staz\n",
    "# os.__staz\n",
    "os.__staz = 10\n",
    "\n",
    "print(os._Osoba__staz)\n",
    "os.__staz\n",
    "\n",
    "os._Osoba__staz = 20\n",
    "os.__dict__"
   ]
  },
  {
   "cell_type": "markdown",
   "id": "supposed-former",
   "metadata": {},
   "source": [
    "## Dziedziczenie\n",
    "\n"
   ]
  },
  {
   "cell_type": "code",
   "execution_count": 104,
   "id": "manufactured-carnival",
   "metadata": {},
   "outputs": [
    {
     "name": "stdout",
     "output_type": "stream",
     "text": [
      "Hi! I'am Paulina \n",
      "Hi! I'am Rafał \n",
      "i'm programmer\n"
     ]
    },
    {
     "data": {
      "text/plain": [
       "41"
      ]
     },
     "execution_count": 104,
     "metadata": {},
     "output_type": "execute_result"
    }
   ],
   "source": [
    "class Person:\n",
    "    \n",
    "    def __init__(self, name, phone, b_year):\n",
    "        self.name = name\n",
    "        self.phone = phone\n",
    "        self.b_year = b_year\n",
    "\n",
    "    def introduce_self(self):\n",
    "        print(f\"Hi! I'am {self.name} \")\n",
    "\n",
    "    def age(self):\n",
    "        return 2021 - self.b_year\n",
    "        \n",
    "os = Person(\"Paulina\", 123123123, 1990)\n",
    "os.introduce_self()\n",
    "\n",
    "# class Employee:\n",
    "#     def __init__(self, name, phone, b_year):\n",
    "#         self.name = name\n",
    "#         self.phone = phone\n",
    "#         self.b_year = b_year\n",
    "\n",
    "#     def introduce_self(self):\n",
    "#         print(f\"Hi! I'am {self.name} \")\n",
    "\n",
    "#     def age(self):\n",
    "#         return 2021 - self.b_year\n",
    "\n",
    "class Employee(Person):\n",
    "    def __init__(self, name, phone, b_year, position):\n",
    "        #         self.name = name\n",
    "        #         self.phone = phone\n",
    "        #         self.b_year = b_year\n",
    "        super().__init__(name, phone, b_year)\n",
    "        self.position = position\n",
    "        \n",
    "    def introduce_self(self):\n",
    "        super().introduce_self()\n",
    "        print(f\"i'm {self.position}\")\n",
    "\n",
    "p1 = Employee(\"Rafał\", 123123123, 1980, 'programmer')\n",
    "\n",
    "p1.introduce_self()\n",
    "p1.age()"
   ]
  },
  {
   "cell_type": "markdown",
   "id": "minute-notification",
   "metadata": {},
   "source": [
    "### Exercies\n",
    "\n",
    "Zaimplementuj klasę `Employee` umożliwiającą rejestrowanie czasu pracy oraz wypłacanie pensji na podstawie zadanej stawki godzinowej. \n",
    "\n",
    "Jeżeli pracownik będzie pracował więcej niż 8 godzin (podczas pojedynczej rejestracji czasu) to kolejne godziny policz jako nadgodziny (z podwójną stawką godzinową).\n",
    "\n",
    "Przykład użycia:\n",
    "\n",
    "    >>> employee = Employee('Jan', 'Nowak', 100.0)\n",
    "    >>> employee.register_time(5)\n",
    "    >>> employee.pay_salary()\n",
    "    500.0\n",
    "    >>> employee.pay_salary()\n",
    "    0.0\n",
    "    >>> employee.register_time(10)\n",
    "    >>> employee.pay_salary()\n",
    "    1200.0\n",
    "\n",
    "\n",
    "Zaimplementuj klasę PremiumEmployee, która będzie klasą pochodną Employee. Klasa ta powinna umożliwiać dodatkowo przyznawanie bonusów pracownikowi.\n",
    "\n",
    "\n",
    "    >>> employee = PremiumEmployee('Jan', 'Nowak', 100.0)\n",
    "    >>> employee.register_time(5)\n",
    "    >>> employee.give_bonus(1000.0)\n",
    "    >>> employee.pay_salary()\n",
    "    1500.0\n",
    "    >>> employee.pay_salary()\n",
    "    0.0"
   ]
  },
  {
   "cell_type": "markdown",
   "id": "auburn-childhood",
   "metadata": {},
   "source": [
    "## Property, atrybuty dynamiczne\n",
    "\n"
   ]
  },
  {
   "cell_type": "code",
   "execution_count": 107,
   "id": "convertible-inflation",
   "metadata": {},
   "outputs": [
    {
     "data": {
      "text/plain": [
       "2021"
      ]
     },
     "execution_count": 107,
     "metadata": {},
     "output_type": "execute_result"
    }
   ],
   "source": [
    "import datetime\n",
    "t = datetime.datetime.now()\n",
    "dir(t)\n",
    "\n",
    "t.year"
   ]
  },
  {
   "cell_type": "code",
   "execution_count": 113,
   "id": "established-jewelry",
   "metadata": {},
   "outputs": [
    {
     "data": {
      "text/plain": [
       "37"
      ]
     },
     "execution_count": 113,
     "metadata": {},
     "output_type": "execute_result"
    }
   ],
   "source": [
    "import datetime\n",
    "\n",
    "class Person:\n",
    "    \n",
    "    def __init__(self, by):\n",
    "        self.birth_year = by\n",
    "        # moment utworzenia obiektu\n",
    "    \n",
    "    @property\n",
    "    def age(self):\n",
    "        return datetime.datetime.now().year - self.birth_year\n",
    "\n",
    "    \n",
    "p = Person(1984)\n",
    "\n",
    "p.age"
   ]
  },
  {
   "cell_type": "code",
   "execution_count": 114,
   "id": "dense-scale",
   "metadata": {},
   "outputs": [
    {
     "ename": "AttributeError",
     "evalue": "can't set attribute",
     "output_type": "error",
     "traceback": [
      "\u001b[0;31m---------------------------------------------------------------------------\u001b[0m",
      "\u001b[0;31mAttributeError\u001b[0m                            Traceback (most recent call last)",
      "\u001b[0;32m<ipython-input-114-d3f173056c1a>\u001b[0m in \u001b[0;36m<module>\u001b[0;34m\u001b[0m\n\u001b[0;32m----> 1\u001b[0;31m \u001b[0mp\u001b[0m\u001b[0;34m.\u001b[0m\u001b[0mage\u001b[0m \u001b[0;34m=\u001b[0m \u001b[0;36m38\u001b[0m\u001b[0;34m\u001b[0m\u001b[0;34m\u001b[0m\u001b[0m\n\u001b[0m",
      "\u001b[0;31mAttributeError\u001b[0m: can't set attribute"
     ]
    }
   ],
   "source": [
    "p.age = 38"
   ]
  },
  {
   "cell_type": "markdown",
   "id": "gentle-synthetic",
   "metadata": {},
   "source": [
    "### Exercise\n",
    "\n",
    "Zaimplementuj klasę CashMachine umożliwiającą wpłacanie i wypłacanie pieniędzy. \n",
    "Zadbaj o to aby stan bankomatu przetrzymywany był w zmiennych prywatnych.\n",
    "\n",
    "Przykład użycia:\n",
    "\n",
    "    >>> cash_machine = CashMachine()\n",
    "    >>> cash_machine.is_available\n",
    "    False\n",
    "    >>> cash_machine.put_money([200, 100, 100, 50])\n",
    "    >>> cash_machine.is_available\n",
    "    True\n",
    "    >>> cash_machine.withdraw_money(150)\n",
    "    [100, 50]"
   ]
  },
  {
   "cell_type": "code",
   "execution_count": 126,
   "id": "grave-continent",
   "metadata": {},
   "outputs": [
    {
     "data": {
      "text/plain": [
       "16"
      ]
     },
     "execution_count": 126,
     "metadata": {},
     "output_type": "execute_result"
    }
   ],
   "source": [
    "\n",
    "class Kwadrat:\n",
    "    \n",
    "    def __init__(self, bok):\n",
    "        self.bok = bok\n",
    "    \n",
    "    @property\n",
    "    def pole(self):\n",
    "        return self.bok ** 2\n",
    "    \n",
    "    @pole.setter\n",
    "    def pole(self, value):\n",
    "        self.bok = pow(value, 0.5)\n",
    "    \n",
    "    @property\n",
    "    def obwod(self):\n",
    "        return self.bok * 4\n",
    "    \n",
    "    @obwod.setter\n",
    "    def obwod(self, value):\n",
    "        self.bok = value / 4\n",
    "    \n",
    "k = Kwadrat(4)\n",
    "\n",
    "k.pole"
   ]
  },
  {
   "cell_type": "code",
   "execution_count": 119,
   "id": "entitled-discretion",
   "metadata": {},
   "outputs": [
    {
     "data": {
      "text/plain": [
       "16"
      ]
     },
     "execution_count": 119,
     "metadata": {},
     "output_type": "execute_result"
    }
   ],
   "source": [
    "k.obwod"
   ]
  },
  {
   "cell_type": "code",
   "execution_count": 120,
   "id": "expected-transfer",
   "metadata": {},
   "outputs": [],
   "source": [
    "k.pole = 25"
   ]
  },
  {
   "cell_type": "code",
   "execution_count": 121,
   "id": "authorized-pioneer",
   "metadata": {},
   "outputs": [
    {
     "data": {
      "text/plain": [
       "5.0"
      ]
     },
     "execution_count": 121,
     "metadata": {},
     "output_type": "execute_result"
    }
   ],
   "source": [
    "k.bok"
   ]
  },
  {
   "cell_type": "code",
   "execution_count": 122,
   "id": "yellow-suffering",
   "metadata": {},
   "outputs": [
    {
     "data": {
      "text/plain": [
       "20.0"
      ]
     },
     "execution_count": 122,
     "metadata": {},
     "output_type": "execute_result"
    }
   ],
   "source": [
    "k.obwod"
   ]
  },
  {
   "cell_type": "code",
   "execution_count": 127,
   "id": "casual-cleanup",
   "metadata": {},
   "outputs": [],
   "source": [
    "k.obwod = 40\n"
   ]
  },
  {
   "cell_type": "code",
   "execution_count": 128,
   "id": "dramatic-oasis",
   "metadata": {},
   "outputs": [
    {
     "data": {
      "text/plain": [
       "100.0"
      ]
     },
     "execution_count": 128,
     "metadata": {},
     "output_type": "execute_result"
    }
   ],
   "source": [
    "k.pole"
   ]
  },
  {
   "cell_type": "markdown",
   "id": "capable-hearts",
   "metadata": {},
   "source": [
    "### Exercse\n",
    "\n",
    "\n",
    "Stwórz klasę reprezentującą okręg (Circle)\n",
    "\n",
    "Okrąg powinien mieć promień (radius), średnicę (diameter) i pole powierzchni (area) oraz przyjemną reprezentację napisową\n",
    "\n",
    "Np:\n",
    "\n",
    "    >>> c = Circle(5)\n",
    "    >>> c\n",
    "    Circle(5)\n",
    "    >>> c.radius\n",
    "    5\n",
    "    >>> c.diameter\n",
    "    10\n",
    "    >>> c.area\n",
    "    78.53981633974483\n",
    "\n",
    "Promień domyślnie powinien przyjemować wartość 1:\n",
    "\n",
    "    >>> c = Circle()\n",
    "    >>> c.radius\n",
    "    1\n",
    "    >>> c.diameter\n",
    "    2\n",
    "    \n",
    "Kiedy promień się zmienia zmieniają się też średnica i pole powierzchni, np:\n",
    "\n",
    "    >>> c = Circle(2)\n",
    "    >>> c.radius = 1\n",
    "    >>> c.diameter\n",
    "    2\n",
    "    >>> c.area\n",
    "    3.141592653589793\n",
    "    >>> c\n",
    "    Circle(1)\n",
    "\n",
    "Można ustawić średnicę i wpływa to na promień i pole\n",
    "\n",
    "    >>> c = Circle(1)\n",
    "    >>> c.diameter = 4\n",
    "    >>> c.radius\n",
    "    2.0\n",
    "    \n",
    "Nie można ustawić pola powierzhni. Przy próbie powinien być rzucony wyjątek\n",
    "\n",
    "    >>> c = Circle(1)\n",
    "    >>> c.area = 4\n",
    "    Traceback (most recent call last):\n",
    "      File \"/home/rkorzen/workspace/python_bootcamp/exercises/python_morsels/circle/circle.py\", line 40, in <module>\n",
    "        c.area = 4\n",
    "    AttributeError: can't set attribute\n",
    "\n",
    "Promień nie może być liczbą mniejszą od zera:\n",
    "\n",
    "    >>> c = Circle(5)\n",
    "    >>> c.radius = 3\n",
    "    >>> c.radius = -2\n",
    "    Traceback (most recent call last):\n",
    "      File \"<stdin>\", line 1, in <module>\n",
    "      File \"circle.py\", line 27, in radius\n",
    "        raise ValueError(\"Radius cannot be negative\")\n",
    "    ValueError: Radius cannot be negative"
   ]
  },
  {
   "cell_type": "markdown",
   "id": "floral-accident",
   "metadata": {},
   "source": [
    "## Przeciążanie operatorów\n",
    "\n"
   ]
  },
  {
   "cell_type": "code",
   "execution_count": 171,
   "id": "gorgeous-anthropology",
   "metadata": {},
   "outputs": [],
   "source": [
    "class Circle:\n",
    "    def __init__(self, radius=1):\n",
    "        self.radius = radius\n",
    "\n",
    "    def __repr__(self):\n",
    "        return f\"Circle({self.radius})\"\n",
    "\n",
    "    @property\n",
    "    def diameter(self):\n",
    "        return self.radius * 2\n",
    "    \n",
    "    @diameter.setter\n",
    "    def diameter(self, x):\n",
    "        self.radius = x/2\n",
    "    \n",
    "    @property\n",
    "    def area(self):\n",
    "        return self.radius ** 2 * pi\n",
    "    \n",
    "    @property\n",
    "    def radius(self):\n",
    "        return self.__radius\n",
    "    \n",
    "\n",
    "    @radius.setter\n",
    "    def radius(self, x):\n",
    "        if x < 0:\n",
    "            raise ValueError(\"Radius cannot be negative\")\n",
    "        else:\n",
    "            self.__radius = x\n",
    "\n",
    "    def __eq__(self, other):\n",
    "        return self.radius == other.radius\n",
    "    \n",
    "    def __lt__(self, other):\n",
    "        if isinstance(other, int):\n",
    "            return self.radius < other\n",
    "        return self.radius < other.radius\n",
    "    \n",
    "    def __gt__(self, other):\n",
    "        if isinstance(other, int):\n",
    "            return self.radius > other\n",
    "        return self.radius > other.radius\n",
    "\n",
    "    def __le__(self, other):\n",
    "        return self.radius <= other.radius"
   ]
  },
  {
   "cell_type": "code",
   "execution_count": 172,
   "id": "subsequent-reproduction",
   "metadata": {},
   "outputs": [],
   "source": [
    "c1 = Circle(2)\n",
    "c2 = Circle(2)\n",
    "c3 = Circle(3)"
   ]
  },
  {
   "cell_type": "code",
   "execution_count": 142,
   "id": "strange-attention",
   "metadata": {},
   "outputs": [
    {
     "data": {
      "text/plain": [
       "True"
      ]
     },
     "execution_count": 142,
     "metadata": {},
     "output_type": "execute_result"
    }
   ],
   "source": [
    "c1 == c2"
   ]
  },
  {
   "cell_type": "code",
   "execution_count": 143,
   "id": "chubby-aluminum",
   "metadata": {},
   "outputs": [
    {
     "data": {
      "text/plain": [
       "False"
      ]
     },
     "execution_count": 143,
     "metadata": {},
     "output_type": "execute_result"
    }
   ],
   "source": [
    "c1 is c2"
   ]
  },
  {
   "cell_type": "code",
   "execution_count": 139,
   "id": "constant-logic",
   "metadata": {},
   "outputs": [
    {
     "data": {
      "text/plain": [
       "140380203691344"
      ]
     },
     "execution_count": 139,
     "metadata": {},
     "output_type": "execute_result"
    }
   ],
   "source": [
    "id(c2)"
   ]
  },
  {
   "cell_type": "code",
   "execution_count": 149,
   "id": "nominated-effect",
   "metadata": {},
   "outputs": [
    {
     "data": {
      "text/plain": [
       "True"
      ]
     },
     "execution_count": 149,
     "metadata": {},
     "output_type": "execute_result"
    }
   ],
   "source": [
    "c1 < c3"
   ]
  },
  {
   "cell_type": "code",
   "execution_count": 162,
   "id": "steady-affiliate",
   "metadata": {},
   "outputs": [
    {
     "data": {
      "text/plain": [
       "True"
      ]
     },
     "execution_count": 162,
     "metadata": {},
     "output_type": "execute_result"
    }
   ],
   "source": [
    "c1 <= c2"
   ]
  },
  {
   "cell_type": "code",
   "execution_count": 158,
   "id": "breeding-opinion",
   "metadata": {},
   "outputs": [
    {
     "data": {
      "text/plain": [
       "True"
      ]
     },
     "execution_count": 158,
     "metadata": {},
     "output_type": "execute_result"
    }
   ],
   "source": [
    "1 <= 1"
   ]
  },
  {
   "cell_type": "code",
   "execution_count": 166,
   "id": "musical-reliance",
   "metadata": {},
   "outputs": [
    {
     "data": {
      "text/plain": [
       "True"
      ]
     },
     "execution_count": 166,
     "metadata": {},
     "output_type": "execute_result"
    }
   ],
   "source": [
    "c1 < 4"
   ]
  },
  {
   "cell_type": "code",
   "execution_count": 174,
   "id": "virgin-choir",
   "metadata": {},
   "outputs": [
    {
     "data": {
      "text/plain": [
       "False"
      ]
     },
     "execution_count": 174,
     "metadata": {},
     "output_type": "execute_result"
    }
   ],
   "source": [
    "4 < c1"
   ]
  },
  {
   "cell_type": "code",
   "execution_count": null,
   "id": "split-assistant",
   "metadata": {},
   "outputs": [],
   "source": [
    "1 + c1"
   ]
  },
  {
   "cell_type": "markdown",
   "id": "induced-fiber",
   "metadata": {},
   "source": [
    "### Exercise\n",
    "\n",
    "Zaimplementuj klasę Vector dostarczającą funkcjonalność wektora swobodnego na dwuwymiarowej płaszczyźnie. Wektory powinny mieć możliwość dodawania, odejmowania, mnożenia (przez inny wektor i przez liczbę), porównywania (po długości) oraz powinny posiadać czytelną reprezentację napisową.\n",
    "Przykład użycia:\n",
    "\n",
    "    vector_1 = Vector(x=1, y=2)\n",
    "    vector_2 = Vector(x=1, y=2)\n",
    "    vector_3 = vector_1 + vector_2"
   ]
  },
  {
   "cell_type": "code",
   "execution_count": null,
   "id": "assumed-house",
   "metadata": {},
   "outputs": [],
   "source": [
    "class Vector:\n",
    "\n",
    "    def __init__(self, x, y):\n",
    "        self.x = x\n",
    "        self.y = y\n",
    "\n",
    "    def __str__(self):\n",
    "        return f'Vector(x={self.x}, y={self.y})'\n",
    "\n",
    "    def __add__(self, other):\n",
    "        return Vector(self.x + other.x, self.y + other.y)\n",
    "\n",
    "    def __sub__(self, other):\n",
    "        return Vector(self.x - other.x, self.y - other.y)\n",
    "\n",
    "    def __eq__(self, other):\n",
    "        return self.x == other.x and self.y == other.y\n",
    "\n",
    "    def __lt__(self, other):\n",
    "        return self.length() < other.length()\n",
    "\n",
    "    def __mul__(self, other):\n",
    "        return Vector(self.x * other, self.y * other)\n",
    "\n",
    "    def length(self):\n",
    "        return (self.x ** 2 + self.y ** 2) ** (1 / 2)"
   ]
  },
  {
   "cell_type": "code",
   "execution_count": null,
   "id": "muslim-jones",
   "metadata": {},
   "outputs": [],
   "source": [
    "def test_sub_vector():\n",
    "    v1 = Vector(1, 3)\n",
    "    v2 = Vector(4, 7)\n",
    "\n",
    "    result = v1 - v2\n",
    "\n",
    "    assert result.x == -3\n",
    "    assert result.y == -4\n",
    "\n",
    "\n",
    "def test_add_vector():\n",
    "    v1 = Vector(1, 3)\n",
    "    v2 = Vector(4, 7)\n",
    "\n",
    "    result = v1 + v2\n",
    "\n",
    "    assert result.x == 5\n",
    "    assert result.y == 10\n",
    "\n",
    "\n",
    "def test_init_vector():\n",
    "    vector = Vector(1, 3)\n",
    "\n",
    "    assert vector.x == 1\n",
    "    assert vector.y == 3\n",
    "\n",
    "\n",
    "def test_str_vector():\n",
    "    vector = Vector(1, 3)\n",
    "\n",
    "    assert str(vector) == 'Vector(x=1, y=3)'\n",
    "\n",
    "\n",
    "def test_equal_vector():\n",
    "    v1 = Vector(1, 3)\n",
    "    v2 = Vector(1, 3)\n",
    "\n",
    "    assert v1 == v2\n",
    "\n",
    "\n",
    "def test_len_vector():\n",
    "    vector = Vector(3, 4)\n",
    "\n",
    "    assert vector.length() == 5.0\n",
    "\n",
    "\n",
    "def test_lt_vector():\n",
    "    v1 = Vector(4, 4)\n",
    "    v2 = Vector(1, 1)\n",
    "\n",
    "    assert v2 < v1\n",
    "\n",
    "\n",
    "def test_mul_vector():\n",
    "    vector = Vector(2, 3)\n",
    "\n",
    "    result = vector * 5\n",
    "\n",
    "    assert result.x == 10\n",
    "    assert result.y == 15"
   ]
  },
  {
   "cell_type": "code",
   "execution_count": null,
   "id": "palestinian-champion",
   "metadata": {},
   "outputs": [],
   "source": [
    "__ad__\n",
    "__mul__\n",
    "__sub__\n",
    "__eq__"
   ]
  }
 ],
 "metadata": {
  "kernelspec": {
   "display_name": "Python 3",
   "language": "python",
   "name": "python3"
  },
  "language_info": {
   "codemirror_mode": {
    "name": "ipython",
    "version": 3
   },
   "file_extension": ".py",
   "mimetype": "text/x-python",
   "name": "python",
   "nbconvert_exporter": "python",
   "pygments_lexer": "ipython3",
   "version": "3.7.9"
  },
  "toc": {
   "base_numbering": 1,
   "nav_menu": {},
   "number_sections": true,
   "sideBar": true,
   "skip_h1_title": false,
   "title_cell": "Table of Contents",
   "title_sidebar": "Contents",
   "toc_cell": false,
   "toc_position": {},
   "toc_section_display": true,
   "toc_window_display": false
  }
 },
 "nbformat": 4,
 "nbformat_minor": 5
}
