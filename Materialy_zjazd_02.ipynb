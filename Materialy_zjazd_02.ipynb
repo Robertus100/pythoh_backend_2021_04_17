{
 "cells": [
  {
   "cell_type": "markdown",
   "id": "scientific-adult",
   "metadata": {},
   "source": [
    "\n",
    "<p style=\"text-align: center; font-size: 32pt; line-height: 36pt\">\n",
    "    <b>Python Backend Developer - zjazd 2</b>\n",
    "</p>\n",
    "\n",
    "\n",
    "<p style=\"text-align: center; font-size: 12pt; line-height: 16pt;\">\n",
    "<b>Trener</b><br>\n",
    "Rafał Korzeniewski<br>\n",
    "tel.: <a href=\"tel:+48790018662\">+48 790 018 662</a><br>\n",
    "email: <a href=\"mailto:korzeniewski@gmail.com\">korzeniewski@gmail.com</a><br>\n",
    "</p>\n"
   ]
  },
  {
   "cell_type": "markdown",
   "id": "growing-offering",
   "metadata": {},
   "source": [
    "To co omówiliśmy:\n",
    "\n",
    "* Podstawowe typy\n",
    "* Podstawowe struktury danych \n",
    "* collections, Decimal\n",
    "* instrukcje warunkowe\n",
    "* pętle while i for\n",
    "* wyrażenia składane\n",
    "* mutowalność vs niemutowalność\n",
    "* proste funkcje\n",
    "* przestrzeniach nazw\n",
    "* GIT - podstawy\n",
    "\n",
    "# Quizz\n",
    "\n",
    "### Czy w int można zapisać następująca liczbę: 10 ** 512\n",
    "\n",
    "Tak / Nie\n"
   ]
  },
  {
   "cell_type": "code",
   "execution_count": 1,
   "id": "beginning-ribbon",
   "metadata": {},
   "outputs": [
    {
     "data": {
      "text/plain": [
       "100000000000000000000000000000000000000000000000000000000000000000000000000000000000000000000000000000000000000000000000000000000000000000000000000000000000000000000000000000000000000000000000000000000000000000000000000000000000000000000000000000000000000000000000000000000000000000000000000000000000000000000000000000000000000000000000000000000000000000000000000000000000000000000000000000000000000000000000000000000000000000000000000000000000000000000000000000000000000000000000000000000000000000000000000000000"
      ]
     },
     "execution_count": 1,
     "metadata": {},
     "output_type": "execute_result"
    }
   ],
   "source": [
    "10 ** 512"
   ]
  },
  {
   "cell_type": "markdown",
   "id": "earned-prompt",
   "metadata": {},
   "source": [
    "### Czy w float można zapisać następującą liczbę: 10.0 ** 512\n",
    "\n",
    "Tak / Nie"
   ]
  },
  {
   "cell_type": "code",
   "execution_count": 3,
   "id": "stock-reward",
   "metadata": {},
   "outputs": [],
   "source": [
    "# 10.0 ** 512"
   ]
  },
  {
   "cell_type": "markdown",
   "id": "external-vegetable",
   "metadata": {},
   "source": [
    "### Jaki będzie wynik następującego wyrażenia:\n",
    "\n",
    "    x = (1, 10)\n",
    "    x.append(20)\n",
    "\n",
    "A) (1, 10, 20)\n",
    "\n",
    "B) (1, 10)\n",
    "\n",
    "C) AttributeError\n",
    "\n",
    "D) None"
   ]
  },
  {
   "cell_type": "code",
   "execution_count": 4,
   "id": "subject-therapy",
   "metadata": {},
   "outputs": [
    {
     "ename": "AttributeError",
     "evalue": "'tuple' object has no attribute 'append'",
     "output_type": "error",
     "traceback": [
      "\u001b[0;31m---------------------------------------------------------------------------\u001b[0m",
      "\u001b[0;31mAttributeError\u001b[0m                            Traceback (most recent call last)",
      "\u001b[0;32m<ipython-input-4-854d862957b0>\u001b[0m in \u001b[0;36m<module>\u001b[0;34m\u001b[0m\n\u001b[1;32m      1\u001b[0m \u001b[0mx\u001b[0m \u001b[0;34m=\u001b[0m \u001b[0;34m(\u001b[0m\u001b[0;36m1\u001b[0m\u001b[0;34m,\u001b[0m \u001b[0;36m10\u001b[0m\u001b[0;34m)\u001b[0m\u001b[0;34m\u001b[0m\u001b[0;34m\u001b[0m\u001b[0m\n\u001b[0;32m----> 2\u001b[0;31m \u001b[0mx\u001b[0m\u001b[0;34m.\u001b[0m\u001b[0mappend\u001b[0m\u001b[0;34m(\u001b[0m\u001b[0;36m20\u001b[0m\u001b[0;34m)\u001b[0m\u001b[0;34m\u001b[0m\u001b[0;34m\u001b[0m\u001b[0m\n\u001b[0m",
      "\u001b[0;31mAttributeError\u001b[0m: 'tuple' object has no attribute 'append'"
     ]
    }
   ],
   "source": [
    "x = (1, 10)\n",
    "x.append(20)"
   ]
  },
  {
   "cell_type": "markdown",
   "id": "equal-bunny",
   "metadata": {},
   "source": [
    "### Jaki będzie wynik następującego wyrażenia:\n",
    "\n",
    "    x = [1, 10]\n",
    "    x.append(20)\n",
    "\n",
    "A) [1, 10, 20]\n",
    "\n",
    "B) [1, 10]\n",
    "\n",
    "C) AttributeError\n",
    "\n",
    "D) None"
   ]
  },
  {
   "cell_type": "code",
   "execution_count": 6,
   "id": "pleasant-layer",
   "metadata": {},
   "outputs": [
    {
     "data": {
      "text/plain": [
       "[1, 10, 20]"
      ]
     },
     "execution_count": 6,
     "metadata": {},
     "output_type": "execute_result"
    }
   ],
   "source": [
    "x = [1, 10]\n",
    "x.append(20)\n",
    "x"
   ]
  },
  {
   "cell_type": "markdown",
   "id": "responsible-hacker",
   "metadata": {},
   "source": [
    "### Jaki będzie wynik następującego skryptu:\n",
    "\n",
    "\n",
    "    x = dict()\n",
    "    \n",
    "    x['a'] += 10\n",
    "\n",
    "\n",
    "A) None\n",
    "\n",
    "B) KeyError\n",
    "\n",
    "C) {'a': 10}"
   ]
  },
  {
   "cell_type": "code",
   "execution_count": 7,
   "id": "adaptive-trademark",
   "metadata": {},
   "outputs": [
    {
     "ename": "KeyError",
     "evalue": "'a'",
     "output_type": "error",
     "traceback": [
      "\u001b[0;31m---------------------------------------------------------------------------\u001b[0m",
      "\u001b[0;31mKeyError\u001b[0m                                  Traceback (most recent call last)",
      "\u001b[0;32m<ipython-input-7-aa09c38517fc>\u001b[0m in \u001b[0;36m<module>\u001b[0;34m\u001b[0m\n\u001b[1;32m      1\u001b[0m \u001b[0mx\u001b[0m \u001b[0;34m=\u001b[0m \u001b[0mdict\u001b[0m\u001b[0;34m(\u001b[0m\u001b[0;34m)\u001b[0m\u001b[0;34m\u001b[0m\u001b[0;34m\u001b[0m\u001b[0m\n\u001b[1;32m      2\u001b[0m \u001b[0;34m\u001b[0m\u001b[0m\n\u001b[0;32m----> 3\u001b[0;31m \u001b[0mx\u001b[0m\u001b[0;34m[\u001b[0m\u001b[0;34m'a'\u001b[0m\u001b[0;34m]\u001b[0m \u001b[0;34m+=\u001b[0m \u001b[0;36m10\u001b[0m\u001b[0;34m\u001b[0m\u001b[0;34m\u001b[0m\u001b[0m\n\u001b[0m\u001b[1;32m      4\u001b[0m \u001b[0;34m\u001b[0m\u001b[0m\n\u001b[1;32m      5\u001b[0m \u001b[0;31m# x['a'] = x['a'] + 10\u001b[0m\u001b[0;34m\u001b[0m\u001b[0;34m\u001b[0m\u001b[0;34m\u001b[0m\u001b[0m\n",
      "\u001b[0;31mKeyError\u001b[0m: 'a'"
     ]
    }
   ],
   "source": [
    "x = dict()\n",
    "\n",
    "x['a'] += 10\n",
    "\n",
    "# x['a'] = x['a'] + 10"
   ]
  },
  {
   "cell_type": "markdown",
   "id": "enclosed-verification",
   "metadata": {},
   "source": [
    "### Jaki będzie wynik następującego skryptu:\n",
    "\n",
    "\n",
    "    x = dict()\n",
    "    y = [1, 2]\n",
    "    x[y] = 3\n",
    "    \n",
    "A) KeyError\n",
    "\n",
    "B) TypeError\n",
    "\n",
    "C) None\n",
    "\n",
    "D) {[1, 2]: 3}"
   ]
  },
  {
   "cell_type": "code",
   "execution_count": 8,
   "id": "alone-matrix",
   "metadata": {},
   "outputs": [
    {
     "ename": "TypeError",
     "evalue": "unhashable type: 'list'",
     "output_type": "error",
     "traceback": [
      "\u001b[0;31m---------------------------------------------------------------------------\u001b[0m",
      "\u001b[0;31mTypeError\u001b[0m                                 Traceback (most recent call last)",
      "\u001b[0;32m<ipython-input-8-e69c5888f626>\u001b[0m in \u001b[0;36m<module>\u001b[0;34m\u001b[0m\n\u001b[1;32m      1\u001b[0m \u001b[0mx\u001b[0m \u001b[0;34m=\u001b[0m \u001b[0mdict\u001b[0m\u001b[0;34m(\u001b[0m\u001b[0;34m)\u001b[0m\u001b[0;34m\u001b[0m\u001b[0;34m\u001b[0m\u001b[0m\n\u001b[1;32m      2\u001b[0m \u001b[0my\u001b[0m \u001b[0;34m=\u001b[0m \u001b[0;34m[\u001b[0m\u001b[0;36m1\u001b[0m\u001b[0;34m,\u001b[0m \u001b[0;36m2\u001b[0m\u001b[0;34m]\u001b[0m\u001b[0;34m\u001b[0m\u001b[0;34m\u001b[0m\u001b[0m\n\u001b[0;32m----> 3\u001b[0;31m \u001b[0mx\u001b[0m\u001b[0;34m[\u001b[0m\u001b[0my\u001b[0m\u001b[0;34m]\u001b[0m \u001b[0;34m=\u001b[0m \u001b[0;36m3\u001b[0m\u001b[0;34m\u001b[0m\u001b[0;34m\u001b[0m\u001b[0m\n\u001b[0m",
      "\u001b[0;31mTypeError\u001b[0m: unhashable type: 'list'"
     ]
    }
   ],
   "source": [
    "x = dict()\n",
    "y = [1, 2]\n",
    "x[y] = 3"
   ]
  },
  {
   "cell_type": "code",
   "execution_count": 9,
   "id": "painted-nomination",
   "metadata": {},
   "outputs": [
    {
     "ename": "TypeError",
     "evalue": "unhashable type: 'list'",
     "output_type": "error",
     "traceback": [
      "\u001b[0;31m---------------------------------------------------------------------------\u001b[0m",
      "\u001b[0;31mTypeError\u001b[0m                                 Traceback (most recent call last)",
      "\u001b[0;32m<ipython-input-9-e3dac42a1072>\u001b[0m in \u001b[0;36m<module>\u001b[0;34m\u001b[0m\n\u001b[0;32m----> 1\u001b[0;31m \u001b[0;34m{\u001b[0m\u001b[0;34m[\u001b[0m\u001b[0;36m1\u001b[0m\u001b[0;34m,\u001b[0m \u001b[0;36m3\u001b[0m\u001b[0;34m]\u001b[0m\u001b[0;34m}\u001b[0m\u001b[0;34m\u001b[0m\u001b[0;34m\u001b[0m\u001b[0m\n\u001b[0m",
      "\u001b[0;31mTypeError\u001b[0m: unhashable type: 'list'"
     ]
    }
   ],
   "source": [
    "{[1, 3]}"
   ]
  },
  {
   "cell_type": "markdown",
   "id": "mysterious-privacy",
   "metadata": {},
   "source": [
    "### Co tu się wydarzy?\n",
    "\n",
    "    >>> from collections import defaultdict\n",
    "    \n",
    "    >>> data = defaultdict(int)\n",
    "    \n",
    "    >>> data['a'] += 1\n",
    "    \n",
    "    >>> data\n",
    "    \n",
    "A) KeyError\n",
    "\n",
    "B) {'a': 1}\n",
    "\n",
    "C) None"
   ]
  },
  {
   "cell_type": "code",
   "execution_count": 10,
   "id": "protective-wisconsin",
   "metadata": {},
   "outputs": [
    {
     "data": {
      "text/plain": [
       "0"
      ]
     },
     "execution_count": 10,
     "metadata": {},
     "output_type": "execute_result"
    }
   ],
   "source": [
    "from collections import defaultdict\n",
    "\n",
    "data = defaultdict(int)\n",
    "\n",
    "data['x']"
   ]
  },
  {
   "cell_type": "code",
   "execution_count": 11,
   "id": "lasting-qatar",
   "metadata": {},
   "outputs": [
    {
     "data": {
      "text/plain": [
       "defaultdict(int, {'x': 0, 'a': 1})"
      ]
     },
     "execution_count": 11,
     "metadata": {},
     "output_type": "execute_result"
    }
   ],
   "source": [
    "data['a'] += 1 # data['a'] = data['a'] + 1\n",
    "data"
   ]
  },
  {
   "cell_type": "markdown",
   "id": "superb-chrome",
   "metadata": {},
   "source": [
    "### Co będzie w liście z:\n",
    "\n",
    "    x = [1, 2, 3]\n",
    "    y = [4, 5, x]\n",
    "\n",
    "    z = y.copy()\n",
    "    \n",
    "    x.append(10)\n",
    "    \n",
    "    print(z)\n",
    "    \n",
    "A) [1, 2, 3, x]\n",
    "\n",
    "B) [4, 5, [1, 2, 3]]\n",
    "\n",
    "C) [4, 5, [1, 2, 3, 10]]"
   ]
  },
  {
   "cell_type": "code",
   "execution_count": 12,
   "id": "applicable-remains",
   "metadata": {},
   "outputs": [
    {
     "data": {
      "text/plain": [
       "[4, 5, [1, 2, 3]]"
      ]
     },
     "execution_count": 12,
     "metadata": {},
     "output_type": "execute_result"
    }
   ],
   "source": [
    "x = [1, 2, 3]\n",
    "y = [4, 5, x]\n",
    "\n",
    "y"
   ]
  },
  {
   "cell_type": "code",
   "execution_count": 13,
   "id": "centered-midwest",
   "metadata": {},
   "outputs": [],
   "source": [
    "z = y.copy()"
   ]
  },
  {
   "cell_type": "code",
   "execution_count": 14,
   "id": "subsequent-membership",
   "metadata": {},
   "outputs": [],
   "source": [
    "x.append(10)"
   ]
  },
  {
   "cell_type": "code",
   "execution_count": 15,
   "id": "broke-hollywood",
   "metadata": {},
   "outputs": [
    {
     "data": {
      "text/plain": [
       "[4, 5, [1, 2, 3, 10]]"
      ]
     },
     "execution_count": 15,
     "metadata": {},
     "output_type": "execute_result"
    }
   ],
   "source": [
    "z"
   ]
  },
  {
   "cell_type": "code",
   "execution_count": 16,
   "id": "exciting-furniture",
   "metadata": {},
   "outputs": [
    {
     "data": {
      "text/plain": [
       "True"
      ]
     },
     "execution_count": 16,
     "metadata": {},
     "output_type": "execute_result"
    }
   ],
   "source": [
    "id(x) == id(z[2])"
   ]
  },
  {
   "cell_type": "markdown",
   "id": "center-category",
   "metadata": {},
   "source": [
    "### Czy funkcja może być wartością w słowniku?\n",
    "\n",
    "Tak/Nie"
   ]
  },
  {
   "cell_type": "code",
   "execution_count": 18,
   "id": "possible-arnold",
   "metadata": {},
   "outputs": [
    {
     "name": "stdout",
     "output_type": "stream",
     "text": [
      "printuje\n"
     ]
    }
   ],
   "source": [
    "x = {'p': print}\n",
    "\n",
    "x['p'](\"printuje\")"
   ]
  },
  {
   "cell_type": "markdown",
   "id": "surprised-messaging",
   "metadata": {},
   "source": [
    "### Czy funkcja może być kluczem w słowniku?\n",
    "\n",
    "Tak/Nie"
   ]
  },
  {
   "cell_type": "code",
   "execution_count": 19,
   "id": "accurate-backing",
   "metadata": {},
   "outputs": [],
   "source": [
    "x[print] = \"print\""
   ]
  },
  {
   "cell_type": "code",
   "execution_count": 20,
   "id": "united-introduction",
   "metadata": {},
   "outputs": [
    {
     "data": {
      "text/plain": [
       "'print'"
      ]
     },
     "execution_count": 20,
     "metadata": {},
     "output_type": "execute_result"
    }
   ],
   "source": [
    "x[print]"
   ]
  },
  {
   "cell_type": "code",
   "execution_count": 21,
   "id": "uniform-rocket",
   "metadata": {},
   "outputs": [
    {
     "data": {
      "text/plain": [
       "{'p': <function print>, <function print>: 'print'}"
      ]
     },
     "execution_count": 21,
     "metadata": {},
     "output_type": "execute_result"
    }
   ],
   "source": [
    "x"
   ]
  },
  {
   "cell_type": "markdown",
   "id": "insured-medium",
   "metadata": {},
   "source": [
    "### Czy taka definicja funkcji jest poprawna?\n",
    "\n",
    "\n",
    "    def funkcja(a, b, c=1, d, e):\n",
    "        return a + b, c - d / e\n",
    "        \n",
    "\n",
    "Tak / Nie"
   ]
  },
  {
   "cell_type": "code",
   "execution_count": 22,
   "id": "classified-nightlife",
   "metadata": {},
   "outputs": [
    {
     "ename": "SyntaxError",
     "evalue": "non-default argument follows default argument (<ipython-input-22-33b350251f1c>, line 1)",
     "output_type": "error",
     "traceback": [
      "\u001b[0;36m  File \u001b[0;32m\"<ipython-input-22-33b350251f1c>\"\u001b[0;36m, line \u001b[0;32m1\u001b[0m\n\u001b[0;31m    def funkcja(a, b, c=1, d, e):\u001b[0m\n\u001b[0m               ^\u001b[0m\n\u001b[0;31mSyntaxError\u001b[0m\u001b[0;31m:\u001b[0m non-default argument follows default argument\n"
     ]
    }
   ],
   "source": [
    "def funkcja(a, b, c=1, d, e):\n",
    "    return a + b, c - d / e"
   ]
  },
  {
   "cell_type": "code",
   "execution_count": 23,
   "id": "novel-madagascar",
   "metadata": {},
   "outputs": [],
   "source": [
    "def funkcja(a, b, d, e, c=1):\n",
    "    return a + b, c - d / e"
   ]
  },
  {
   "cell_type": "markdown",
   "id": "sunset-cartoon",
   "metadata": {},
   "source": [
    "### Czy taka definicja funkcji jest poprawna?\n",
    "\n",
    "    def 1st_element(collection):\n",
    "        return collection[0]\n",
    "\n",
    "Tak / Nie"
   ]
  },
  {
   "cell_type": "code",
   "execution_count": 24,
   "id": "level-cornwall",
   "metadata": {},
   "outputs": [
    {
     "ename": "SyntaxError",
     "evalue": "invalid syntax (<ipython-input-24-40f9a251dde2>, line 1)",
     "output_type": "error",
     "traceback": [
      "\u001b[0;36m  File \u001b[0;32m\"<ipython-input-24-40f9a251dde2>\"\u001b[0;36m, line \u001b[0;32m1\u001b[0m\n\u001b[0;31m    def 1st_element(collection):\u001b[0m\n\u001b[0m        ^\u001b[0m\n\u001b[0;31mSyntaxError\u001b[0m\u001b[0;31m:\u001b[0m invalid syntax\n"
     ]
    }
   ],
   "source": [
    "def 1st_element(collection):\n",
    "        return collection[0]"
   ]
  },
  {
   "cell_type": "markdown",
   "id": "nearby-montana",
   "metadata": {},
   "source": [
    "###  Czy takie wywołanie funkcji jest poprawne?\n",
    "\n",
    "\n",
    "    funkcja(1, 2, d=1, e=2, c=3)\n",
    "\n",
    "Tak/Nie"
   ]
  },
  {
   "cell_type": "code",
   "execution_count": 28,
   "id": "romantic-ranch",
   "metadata": {},
   "outputs": [
    {
     "data": {
      "text/plain": [
       "(3, 1.0)"
      ]
     },
     "execution_count": 28,
     "metadata": {},
     "output_type": "execute_result"
    }
   ],
   "source": [
    "funkcja(1, 2, e=1, d=2, c=3)"
   ]
  },
  {
   "cell_type": "code",
   "execution_count": 30,
   "id": "hazardous-celebrity",
   "metadata": {},
   "outputs": [
    {
     "ename": "SyntaxError",
     "evalue": "positional argument follows keyword argument (<ipython-input-30-ef0b9c530def>, line 1)",
     "output_type": "error",
     "traceback": [
      "\u001b[0;36m  File \u001b[0;32m\"<ipython-input-30-ef0b9c530def>\"\u001b[0;36m, line \u001b[0;32m1\u001b[0m\n\u001b[0;31m    funkcja(e=1, c=3, d=2, a=1, 2)\u001b[0m\n\u001b[0m                               ^\u001b[0m\n\u001b[0;31mSyntaxError\u001b[0m\u001b[0;31m:\u001b[0m positional argument follows keyword argument\n"
     ]
    }
   ],
   "source": [
    "funkcja(e=1, c=3, d=2, a=1, 2)"
   ]
  },
  {
   "cell_type": "code",
   "execution_count": 31,
   "id": "historical-petite",
   "metadata": {},
   "outputs": [
    {
     "ename": "TypeError",
     "evalue": "funkcja() got multiple values for argument 'b'",
     "output_type": "error",
     "traceback": [
      "\u001b[0;31m---------------------------------------------------------------------------\u001b[0m",
      "\u001b[0;31mTypeError\u001b[0m                                 Traceback (most recent call last)",
      "\u001b[0;32m<ipython-input-31-1733532ff9c8>\u001b[0m in \u001b[0;36m<module>\u001b[0;34m\u001b[0m\n\u001b[0;32m----> 1\u001b[0;31m \u001b[0mfunkcja\u001b[0m\u001b[0;34m(\u001b[0m\u001b[0;36m1\u001b[0m\u001b[0;34m,\u001b[0m \u001b[0;36m2\u001b[0m\u001b[0;34m,\u001b[0m \u001b[0mb\u001b[0m\u001b[0;34m=\u001b[0m\u001b[0;36m1\u001b[0m\u001b[0;34m,\u001b[0m \u001b[0md\u001b[0m\u001b[0;34m=\u001b[0m\u001b[0;36m2\u001b[0m\u001b[0;34m,\u001b[0m \u001b[0mc\u001b[0m\u001b[0;34m=\u001b[0m\u001b[0;36m3\u001b[0m\u001b[0;34m)\u001b[0m\u001b[0;34m\u001b[0m\u001b[0;34m\u001b[0m\u001b[0m\n\u001b[0m",
      "\u001b[0;31mTypeError\u001b[0m: funkcja() got multiple values for argument 'b'"
     ]
    }
   ],
   "source": [
    "funkcja(1, 2, b=1, d=2, c=3)"
   ]
  },
  {
   "cell_type": "markdown",
   "id": "chronic-prison",
   "metadata": {},
   "source": [
    "### Co będzie wyprintowane?\n",
    "\n",
    "    x = 10\n",
    "\n",
    "    def f():\n",
    "        x = 20\n",
    "        \n",
    "        def g():\n",
    "            x = 40 \n",
    "        \n",
    "            def h():\n",
    "                nonlocal x\n",
    "                x = 60\n",
    "            h()\n",
    "            print(x)\n",
    "        g()\n",
    "        print(x)\n",
    "\n",
    "    f()\n",
    "    print(x)\n",
    "    \n",
    "    \n",
    "A) \n",
    "\n",
    "    10\n",
    "    20\n",
    "    60\n",
    "\n",
    "\n",
    "B)  \n",
    "\n",
    "    10\n",
    "    60\n",
    "    20\n",
    "    \n",
    "C)\n",
    "\n",
    "    60\n",
    "    20\n",
    "    10\n",
    "\n",
    "D) \n",
    "\n",
    "    60\n",
    "    40\n",
    "    10"
   ]
  },
  {
   "cell_type": "code",
   "execution_count": 33,
   "id": "solar-wonder",
   "metadata": {},
   "outputs": [
    {
     "name": "stdout",
     "output_type": "stream",
     "text": [
      "60\n",
      "20\n",
      "10\n"
     ]
    }
   ],
   "source": [
    "x = 10  # globalne x\n",
    "\n",
    "def f():\n",
    "    x = 20   # lokalne x\n",
    "\n",
    "    def g():\n",
    "        x = 40  # lokalne x\n",
    "\n",
    "        def h():\n",
    "            nonlocal x\n",
    "            x = 60\n",
    "        h()\n",
    "        print(x)\n",
    "    g()\n",
    "    print(x)\n",
    "\n",
    "f()\n",
    "print(x)"
   ]
  },
  {
   "cell_type": "markdown",
   "id": "freelance-barbados",
   "metadata": {},
   "source": [
    "### Jaki będzie wynik tych wywołań:\n",
    "\n",
    "    def foo(list_=[]):\n",
    "        list_ = list_ + [2]\n",
    "        print(list_)\n",
    "\n",
    "    foo()\n",
    "    foo()\n",
    "\n",
    "A) [2] i [2]\n",
    "\n",
    "B) [2] i [2, 2]"
   ]
  },
  {
   "cell_type": "code",
   "execution_count": 34,
   "id": "residential-cambodia",
   "metadata": {},
   "outputs": [
    {
     "name": "stdout",
     "output_type": "stream",
     "text": [
      "[2]\n",
      "[2]\n"
     ]
    }
   ],
   "source": [
    "def foo(list_=[]):\n",
    "    list_ = list_ + [2]\n",
    "    print(list_)\n",
    "\n",
    "foo()\n",
    "foo()"
   ]
  },
  {
   "cell_type": "markdown",
   "id": "contrary-budget",
   "metadata": {},
   "source": [
    "### Jaki będzie wynik tych wywołań:\n",
    "\n",
    "    def foo(list_=[]):\n",
    "        list_.append(2)\n",
    "        print(list_)\n",
    "\n",
    "    foo()\n",
    "    foo()\n",
    "    \n",
    "A) [2] i [2]\n",
    "\n",
    "B) [2] i [2, 2]"
   ]
  },
  {
   "cell_type": "code",
   "execution_count": 35,
   "id": "fresh-turkish",
   "metadata": {},
   "outputs": [
    {
     "name": "stdout",
     "output_type": "stream",
     "text": [
      "[2]\n",
      "[2, 2]\n"
     ]
    }
   ],
   "source": [
    "def foo(list_=[]):\n",
    "    list_.append(2)\n",
    "    print(list_)\n",
    "\n",
    "foo()\n",
    "foo()"
   ]
  },
  {
   "cell_type": "markdown",
   "id": "historic-planet",
   "metadata": {},
   "source": [
    "## Zadanie domowe\n",
    "\n",
    "Funkcja przyjmuje jako argumenty macierze i zwraca ich sumę\n",
    "\n",
    "1. Zacznij od dodania dwóch argumentów\n",
    "\n",
    "    ```\n",
    "    >>> matrix1 = [[1, -2], [-3, 4]]\n",
    "    >>> matrix2 = [[2, -1], [0, -1]]\n",
    "    >>> add(matrix1, matrix2)\n",
    "    [[3, -3], [-3, 3]]\n",
    "    >>> matrix1 = [[1, -2, 3], [-4, 5, -6], [7, -8, 9]]\n",
    "    >>> matrix2 = [[1, 1, 0], [1, -2, 3], [-2, 2, -2]]\n",
    "    >>> add(matrix1, matrix2)\n",
    "    [[2, -1, 3], [-3, 3, -3], [5, -6, 7]]\n",
    "    ```\n",
    "    \n",
    "2. Pozwól jej przyjmować więcej macierzy jako argumenty\n",
    "\n",
    "    ```\n",
    "    >>> add([[1, 9], [7, 3]], [[5, -4], [3, 3]], [[2, 3], [-3, 1]])\n",
    "    [[8, 8], [7, 7]]\n",
    "    ```\n",
    "    \n",
    "3. Jeśli wymiary macierzy nie są zgodne powinien zostać rzucony wyjątek ValueError:\n",
    "\n",
    "    ```\n",
    "    >>> add([[1, 9], [7, 3]], [[1, 2], [3]])\n",
    "    Traceback (most recent call last):\n",
    "    File \"<stdin>\", line 1, in <module>\n",
    "    File \"add.py\", line 10, in add\n",
    "    raise ValueError(\"Given matrices are not the same size.\")\n",
    "    ValueError: Given matrices are not the same size.\n",
    "    ```"
   ]
  },
  {
   "cell_type": "code",
   "execution_count": 44,
   "id": "lyric-joyce",
   "metadata": {},
   "outputs": [],
   "source": [
    "def check_size(m):\n",
    "    n_rows = len(m)\n",
    "    n_cols = len(m[0])\n",
    "    \n",
    "    for row in m:\n",
    "        if len(row) != n_cols:\n",
    "            raise ValueError(\"Every row should have same number of columns\")\n",
    "\n",
    "    return n_rows, n_cols\n",
    "\n",
    "def add(*args):\n",
    "    \n",
    "    sizes = set()\n",
    "    for m in args:\n",
    "        sizes.add(check_size(m))\n",
    "    \n",
    "    if len(sizes) > 1:\n",
    "        raise ValueError(\"Given matrices are not the same size\")\n",
    "    \n",
    "#     out = []\n",
    "#     for i_row in range(len(args[0])):\n",
    "#         row = []\n",
    "#         for i_col in range(len(args[0][0])):\n",
    "#             row.append(sum(x[i_row][i_col] for x in args))\n",
    "#         out.append(row)\n",
    "        \n",
    "    out = [\n",
    "        [sum(values) for values in zip(*rows)]\n",
    "        for rows in zip(*args)\n",
    "    ]\n",
    "    return out\n",
    "\n",
    "\n",
    "m1 = [[5]]\n",
    "m2 = [[-2]]\n",
    "m3 = [[3]]\n",
    "\n",
    "assert add(m1, m2) == [[3]]\n",
    "assert add(m1, m2, m3) == [[6]]\n",
    "assert add([[6, 6], [3, 1]], [[1, 2], [3, 4]]) == [[7, 8], [6, 5]]\n",
    "# assert add([[6, 6], [3, 1] ], [[1, 2, 3], [3, 4, 3]]) == [[7, 8], [6, 5]]"
   ]
  },
  {
   "cell_type": "markdown",
   "id": "unknown-anniversary",
   "metadata": {},
   "source": [
    "# użycie operatora *\n",
    "\n",
    "## użycie w definicji\n"
   ]
  },
  {
   "cell_type": "code",
   "execution_count": 45,
   "id": "ranging-sharp",
   "metadata": {},
   "outputs": [
    {
     "name": "stdout",
     "output_type": "stream",
     "text": [
      "1\n",
      "3\n",
      "6\n"
     ]
    }
   ],
   "source": [
    "def many(*args):\n",
    "    print(len(args))\n",
    "\n",
    "many(1)\n",
    "many(1, 2, 3)\n",
    "many(1, 2, 3,4 , 5, 6)"
   ]
  },
  {
   "cell_type": "markdown",
   "id": "scheduled-paintball",
   "metadata": {},
   "source": [
    "## w wywołaniu"
   ]
  },
  {
   "cell_type": "code",
   "execution_count": 47,
   "id": "banned-transsexual",
   "metadata": {},
   "outputs": [
    {
     "name": "stdout",
     "output_type": "stream",
     "text": [
      "1\n",
      "5\n"
     ]
    }
   ],
   "source": [
    "x = [1, 2, 3, 4, 5]\n",
    "\n",
    "many(x)\n",
    "many(*x)"
   ]
  },
  {
   "cell_type": "markdown",
   "id": "beneficial-norman",
   "metadata": {},
   "source": [
    "## rozpakowanie kontenerów\n"
   ]
  },
  {
   "cell_type": "code",
   "execution_count": 48,
   "id": "conditional-reply",
   "metadata": {},
   "outputs": [],
   "source": [
    "a, b, c, d, e = x"
   ]
  },
  {
   "cell_type": "code",
   "execution_count": 52,
   "id": "productive-flashing",
   "metadata": {},
   "outputs": [
    {
     "name": "stdout",
     "output_type": "stream",
     "text": [
      "1 [2, 3, 4, 5]\n"
     ]
    }
   ],
   "source": [
    "a, *b = x\n",
    "print(a, b)"
   ]
  },
  {
   "cell_type": "code",
   "execution_count": 53,
   "id": "choice-necklace",
   "metadata": {},
   "outputs": [
    {
     "name": "stdout",
     "output_type": "stream",
     "text": [
      "[1, 2, 3, 4] 5\n"
     ]
    }
   ],
   "source": [
    "*a, b = x\n",
    "print(a, b)"
   ]
  },
  {
   "cell_type": "code",
   "execution_count": 54,
   "id": "administrative-japan",
   "metadata": {},
   "outputs": [
    {
     "name": "stdout",
     "output_type": "stream",
     "text": [
      "1 [2, 3, 4] 5\n"
     ]
    }
   ],
   "source": [
    "a, *b, c = x\n",
    "\n",
    "print(a, b, c)"
   ]
  },
  {
   "cell_type": "code",
   "execution_count": 55,
   "id": "broke-biology",
   "metadata": {},
   "outputs": [],
   "source": [
    "a, *_, b = x"
   ]
  },
  {
   "cell_type": "code",
   "execution_count": 56,
   "id": "positive-devon",
   "metadata": {},
   "outputs": [
    {
     "ename": "ValueError",
     "evalue": "too many values to unpack (expected 2)",
     "output_type": "error",
     "traceback": [
      "\u001b[0;31m---------------------------------------------------------------------------\u001b[0m",
      "\u001b[0;31mValueError\u001b[0m                                Traceback (most recent call last)",
      "\u001b[0;32m<ipython-input-56-4430d8d5d46d>\u001b[0m in \u001b[0;36m<module>\u001b[0;34m\u001b[0m\n\u001b[0;32m----> 1\u001b[0;31m \u001b[0ma\u001b[0m\u001b[0;34m,\u001b[0m \u001b[0mb\u001b[0m \u001b[0;34m=\u001b[0m \u001b[0mx\u001b[0m\u001b[0;34m\u001b[0m\u001b[0;34m\u001b[0m\u001b[0m\n\u001b[0m",
      "\u001b[0;31mValueError\u001b[0m: too many values to unpack (expected 2)"
     ]
    }
   ],
   "source": [
    "a, b = x\n"
   ]
  },
  {
   "cell_type": "markdown",
   "id": "indonesian-subject",
   "metadata": {},
   "source": [
    "# Funkcje cd\n",
    "\n",
    "## Wartości domyślne\n",
    "\n"
   ]
  },
  {
   "cell_type": "code",
   "execution_count": 61,
   "id": "genetic-absolute",
   "metadata": {},
   "outputs": [
    {
     "data": {
      "text/plain": [
       "9"
      ]
     },
     "execution_count": 61,
     "metadata": {},
     "output_type": "execute_result"
    }
   ],
   "source": [
    "def foo(a, b, *, c=1, d=2):\n",
    "    return a + b + c + d\n",
    "\n",
    "foo(1, 2)\n",
    "\n",
    "\n",
    "# foo(1, 2, 3, 3)\n",
    "foo(1, 2, c=3, d=3)\n",
    "\n",
    "        "
   ]
  },
  {
   "cell_type": "code",
   "execution_count": null,
   "id": "modified-fundamental",
   "metadata": {},
   "outputs": [],
   "source": [
    "def foo(a, b, c=1, d=1, **kwargs):\n",
    "    return a + b + c + d"
   ]
  },
  {
   "cell_type": "markdown",
   "id": "analyzed-wallet",
   "metadata": {},
   "source": [
    "### Zadanie:\n",
    "\n",
    "Napisz funkcję, która zliczy znaki pomiędzy określonymi znacznikami, dodając wagę zgodnie z poziomem zagnieżdżenia:\n",
    "\n",
    "np. jeśli nasze znaczniki to <>, to:\n",
    "\n",
    "    policz_znaki(\"\") == 0\n",
    "    policz_znaki(\"<>\") == 0\n",
    "    policz_znaki(\"<a<bc>>\") == 5\n",
    "    itd.\n",
    "    \n",
    "Możemy też podać inne znaczniki, wtedy:\n",
    "    \n",
    "    policz_znaki(\"<>\", start=\"[\", stop=\"]\") == 0\n",
    "    \n",
    "    policz_znaki(\"[a<bcd>]\") == 6"
   ]
  },
  {
   "cell_type": "code",
   "execution_count": null,
   "id": "understanding-investment",
   "metadata": {},
   "outputs": [],
   "source": []
  }
 ],
 "metadata": {
  "kernelspec": {
   "display_name": "Python 3",
   "language": "python",
   "name": "python3"
  },
  "language_info": {
   "codemirror_mode": {
    "name": "ipython",
    "version": 3
   },
   "file_extension": ".py",
   "mimetype": "text/x-python",
   "name": "python",
   "nbconvert_exporter": "python",
   "pygments_lexer": "ipython3",
   "version": "3.7.9"
  },
  "toc": {
   "base_numbering": 1,
   "nav_menu": {},
   "number_sections": true,
   "sideBar": true,
   "skip_h1_title": false,
   "title_cell": "Table of Contents",
   "title_sidebar": "Contents",
   "toc_cell": false,
   "toc_position": {},
   "toc_section_display": true,
   "toc_window_display": false
  }
 },
 "nbformat": 4,
 "nbformat_minor": 5
}
