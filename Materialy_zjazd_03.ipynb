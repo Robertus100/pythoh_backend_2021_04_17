{
 "cells": [
  {
   "cell_type": "markdown",
   "id": "instrumental-gallery",
   "metadata": {},
   "source": [
    "\n",
    "<p style=\"text-align: center; font-size: 32pt; line-height: 36pt\">\n",
    "    <b>Python Backend Developer - zjazd 3</b>\n",
    "</p>\n",
    "\n",
    "\n",
    "<p style=\"text-align: center; font-size: 12pt; line-height: 16pt;\">\n",
    "<b>Trener</b><br>\n",
    "Rafał Korzeniewski<br>\n",
    "tel.: <a href=\"tel:+48790018662\">+48 790 018 662</a><br>\n",
    "email: <a href=\"mailto:korzeniewski@gmail.com\">korzeniewski@gmail.com</a><br>\n",
    "</p>\n"
   ]
  },
  {
   "cell_type": "markdown",
   "id": "regulation-swiss",
   "metadata": {},
   "source": [
    "# Przypomnienie\n",
    "\n",
    "1. Funkcje\n",
    "\n",
    "2. \\*args \\*\\*kwargs\n",
    "\n",
    "3. Dekoratory\n",
    "\n",
    "4. Generatory\n",
    "\n",
    "5. Rekurencja\n",
    "\n",
    "6. OOP - class"
   ]
  },
  {
   "cell_type": "markdown",
   "id": "likely-technology",
   "metadata": {},
   "source": [
    "## Quizy - funkcje\n",
    "\n",
    "### Które zdania dotyczące funkcji w pythonie są prawdziwe\n",
    "\n",
    "A) Funkcja to blok kodu, który wykonywany jest w momencie wywołania\n",
    "\n",
    "B) Python nie wspiera zagnieżdżania funkcji\n",
    "\n",
    "C) Funkcje wykonywane są w momencie wywołania i mogę być wielokrotnie używane w programie\n",
    "\n",
    "D) Funkcje można zdefiniować tak, by przyjmowały dowolną liczbę argumentów\n",
    "\n",
    "ODP: A, C, D"
   ]
  },
  {
   "cell_type": "markdown",
   "id": "measured-thunder",
   "metadata": {},
   "source": [
    "### Funkcja zawsze zwraca jakaś wartość\n",
    "\n",
    "Tak\n",
    "\n",
    "Nie\n",
    "\n",
    "\n"
   ]
  },
  {
   "cell_type": "markdown",
   "id": "civilian-parade",
   "metadata": {},
   "source": [
    "### Co będzie wynikiem działania poniższego skryptu:\n",
    "\n",
    "```python\n",
    "def display():\n",
    "    c = 0\n",
    "    c = 10 + 20\n",
    "    c\n",
    "    \n",
    "    \n",
    "    \n",
    "print(display())\n",
    "```\n",
    "\n",
    "A) 30\n",
    "\n",
    "B) False\n",
    "\n",
    "C) None"
   ]
  },
  {
   "cell_type": "code",
   "execution_count": 1,
   "id": "printable-newton",
   "metadata": {},
   "outputs": [
    {
     "name": "stdout",
     "output_type": "stream",
     "text": [
      "None\n"
     ]
    }
   ],
   "source": [
    "def display():\n",
    "    c = 0\n",
    "    c = 10 + 20\n",
    "    c\n",
    "    \n",
    "    \n",
    "    \n",
    "print(display())"
   ]
  },
  {
   "cell_type": "markdown",
   "id": "cosmetic-freedom",
   "metadata": {},
   "source": [
    "### Jaki będzie wynik wywołania następującej funkcji\n",
    "\n",
    "```python\n",
    "def display_person(*args):\n",
    "    for i in args:\n",
    "        print(i)\n",
    "\n",
    "display_person(name=\"Emma\", age=\"25\")\n",
    "```\n",
    "\n",
    "A) `TypeError`\n",
    "\n",
    "B) \n",
    "```\n",
    "name\n",
    "age\n",
    "```\n",
    "\n",
    "C)\n",
    "```\n",
    "Emma\n",
    "25\n",
    "```"
   ]
  },
  {
   "cell_type": "code",
   "execution_count": 2,
   "id": "personalized-harrison",
   "metadata": {},
   "outputs": [
    {
     "ename": "TypeError",
     "evalue": "display_person() got an unexpected keyword argument 'name'",
     "output_type": "error",
     "traceback": [
      "\u001b[0;31m---------------------------------------------------------------------------\u001b[0m",
      "\u001b[0;31mTypeError\u001b[0m                                 Traceback (most recent call last)",
      "\u001b[0;32m<ipython-input-2-a78e39ba141a>\u001b[0m in \u001b[0;36m<module>\u001b[0;34m\u001b[0m\n\u001b[1;32m      3\u001b[0m         \u001b[0mprint\u001b[0m\u001b[0;34m(\u001b[0m\u001b[0mi\u001b[0m\u001b[0;34m)\u001b[0m\u001b[0;34m\u001b[0m\u001b[0;34m\u001b[0m\u001b[0m\n\u001b[1;32m      4\u001b[0m \u001b[0;34m\u001b[0m\u001b[0m\n\u001b[0;32m----> 5\u001b[0;31m \u001b[0mdisplay_person\u001b[0m\u001b[0;34m(\u001b[0m\u001b[0mname\u001b[0m\u001b[0;34m=\u001b[0m\u001b[0;34m\"Emma\"\u001b[0m\u001b[0;34m,\u001b[0m \u001b[0mage\u001b[0m\u001b[0;34m=\u001b[0m\u001b[0;34m\"25\"\u001b[0m\u001b[0;34m)\u001b[0m\u001b[0;34m\u001b[0m\u001b[0;34m\u001b[0m\u001b[0m\n\u001b[0m",
      "\u001b[0;31mTypeError\u001b[0m: display_person() got an unexpected keyword argument 'name'"
     ]
    }
   ],
   "source": [
    "def display_person(*args):\n",
    "    for i in args:\n",
    "        print(i)\n",
    "\n",
    "display_person(name=\"Emma\", age=\"25\")"
   ]
  },
  {
   "cell_type": "markdown",
   "id": "aerial-calgary",
   "metadata": {},
   "source": [
    "### Co będzie wynikiem poniższego kodu:\n",
    "\n",
    "```python\n",
    "def outerFun(a, b):\n",
    "    def innerFun(c, d):\n",
    "        return c + d\n",
    "    return innerFun(a, b)\n",
    "    return a\n",
    "\n",
    "result = outerFun(5, 10)\n",
    "print(result)\n",
    "```\n",
    "\n",
    "A) 5\n",
    "\n",
    "B) 15\n",
    "\n",
    "C) (15, 5)\n",
    "\n",
    "D) SyntaxError"
   ]
  },
  {
   "cell_type": "code",
   "execution_count": 3,
   "id": "psychological-simon",
   "metadata": {},
   "outputs": [
    {
     "name": "stdout",
     "output_type": "stream",
     "text": [
      "15\n"
     ]
    }
   ],
   "source": [
    "def outerFun(a, b):\n",
    "    def innerFun(c, d):\n",
    "        return c + d\n",
    "    return innerFun(a, b)\n",
    "    return a\n",
    "\n",
    "result = outerFun(5, 10)\n",
    "print(result)"
   ]
  },
  {
   "cell_type": "markdown",
   "id": "prescription-providence",
   "metadata": {},
   "source": [
    "###  Co będzie wynikiem działania poniższego kodu:\n",
    "\n",
    "```python\n",
    "def fun1(name, age=20):\n",
    "    print(name, age)\n",
    "\n",
    "fun1('Emma', 25)\n",
    "```\n",
    "\n",
    "A) Emma 25\n",
    "\n",
    "B) Emma 20"
   ]
  },
  {
   "cell_type": "markdown",
   "id": "consolidated-protection",
   "metadata": {},
   "source": [
    "### Co znajduje się w zmiennej `y`?\n",
    "\n",
    "```Python\n",
    "def add(a, b):\n",
    "    return a + 5, b + 5\n",
    "\n",
    "x, y = add(3, 2)\n",
    "```\n",
    "\n",
    "A) 15\n",
    "\n",
    "B) 8\n",
    "\n",
    "C) (8, 7)\n",
    "\n",
    "D) 7"
   ]
  },
  {
   "cell_type": "markdown",
   "id": "artificial-protocol",
   "metadata": {},
   "source": [
    "### Które z poniższych funkcji pozwolą na poniższe wywołania:\n",
    "\n",
    "```python\n",
    "function(25, 75, 55)\n",
    "function(10, 20)\n",
    "```\n",
    "\n",
    "A) `def function(**kwargs): pass`\n",
    "\n",
    "B) `def function(a, b, c=0): pass`\n",
    "\n",
    "C) `def function(args*): pass`\n",
    "\n",
    "D) `def function(*data): pass`\n"
   ]
  },
  {
   "cell_type": "code",
   "execution_count": 4,
   "id": "linear-section",
   "metadata": {},
   "outputs": [
    {
     "ename": "SyntaxError",
     "evalue": "invalid syntax (<ipython-input-4-a1bdef568f23>, line 1)",
     "output_type": "error",
     "traceback": [
      "\u001b[0;36m  File \u001b[0;32m\"<ipython-input-4-a1bdef568f23>\"\u001b[0;36m, line \u001b[0;32m1\u001b[0m\n\u001b[0;31m    def function(args*): pass\u001b[0m\n\u001b[0m                     ^\u001b[0m\n\u001b[0;31mSyntaxError\u001b[0m\u001b[0;31m:\u001b[0m invalid syntax\n"
     ]
    }
   ],
   "source": [
    "def function(args*): pass"
   ]
  },
  {
   "cell_type": "markdown",
   "id": "serious-annotation",
   "metadata": {},
   "source": [
    "### mamy funkcje `hello`, które z jej wywołań są prawidłowe:\n",
    "\n",
    "```python\n",
    "\n",
    "def hello(name, age):\n",
    "    print(name, age)\n",
    "```\n",
    "\n",
    "A) `hello(\"Emma\", age=23)`\n",
    "\n",
    "B) `hello(age=23, name=\"Emma\")`\n",
    "\n",
    "C) `hello(name=\"Emma\", 23)`\n",
    "\n",
    "D) `hello(age=23, \"Emma\")`"
   ]
  },
  {
   "cell_type": "code",
   "execution_count": 5,
   "id": "stylish-cleveland",
   "metadata": {},
   "outputs": [
    {
     "ename": "SyntaxError",
     "evalue": "invalid syntax (<ipython-input-5-7c434b2ad3e5>, line 1)",
     "output_type": "error",
     "traceback": [
      "\u001b[0;36m  File \u001b[0;32m\"<ipython-input-5-7c434b2ad3e5>\"\u001b[0;36m, line \u001b[0;32m1\u001b[0m\n\u001b[0;31m    A i B\u001b[0m\n\u001b[0m      ^\u001b[0m\n\u001b[0;31mSyntaxError\u001b[0m\u001b[0;31m:\u001b[0m invalid syntax\n"
     ]
    }
   ],
   "source": [
    "# A i B"
   ]
  },
  {
   "cell_type": "markdown",
   "id": "sealed-dance",
   "metadata": {},
   "source": [
    "### Co będzie wynikiem działania poniższego kodu:\n",
    "\n",
    "```python\n",
    "def display(**kwargs):\n",
    "    for i in kwargs:\n",
    "        print(i)\n",
    "\n",
    "print(display(emp=\"Kelly\", salary=9000))\n",
    "\n",
    "```\n",
    "\n",
    "A) TypeError\n",
    "\n",
    "B)\n",
    "```\n",
    "(’emp’, ‘Kelly’)\n",
    "(‘salary’, 9000)\n",
    "```\n",
    "\n",
    "C) \n",
    "```\n",
    "emp\n",
    "salary\n",
    "None\n",
    "```\n",
    "\n",
    "D)\n",
    "```\n",
    "emp\n",
    "salary\n",
    "```"
   ]
  },
  {
   "cell_type": "code",
   "execution_count": 6,
   "id": "limiting-retro",
   "metadata": {},
   "outputs": [
    {
     "name": "stdout",
     "output_type": "stream",
     "text": [
      "emp\n",
      "salary\n",
      "None\n"
     ]
    }
   ],
   "source": [
    "def display(**kwargs):\n",
    "    for i in kwargs:\n",
    "        print(i)\n",
    "\n",
    "print(display(emp=\"Kelly\", salary=9000))"
   ]
  },
  {
   "cell_type": "markdown",
   "id": "announced-literature",
   "metadata": {},
   "source": [
    "### Jaki będzie wynik działania tego kodu?\n",
    "\n",
    "```python\n",
    "def outer(a, b):\n",
    "    def inner(c, d):\n",
    "        return c + d\n",
    "    return inner(a, b)\n",
    "\n",
    "res = outer(5, 10)\n",
    "print(res)\n",
    "```\n",
    "\n",
    "A) SyntaxError\n",
    "\n",
    "B) 15\n",
    "\n",
    "C) (5, 10)\n",
    "\n",
    "D) `<function outer.<locals>.inner at 0x...>`"
   ]
  },
  {
   "cell_type": "code",
   "execution_count": 8,
   "id": "promotional-tourist",
   "metadata": {},
   "outputs": [
    {
     "ename": "NameError",
     "evalue": "name 'outerFun1' is not defined",
     "output_type": "error",
     "traceback": [
      "\u001b[0;31m---------------------------------------------------------------------------\u001b[0m",
      "\u001b[0;31mNameError\u001b[0m                                 Traceback (most recent call last)",
      "\u001b[0;32m<ipython-input-8-8a0876a4f7be>\u001b[0m in \u001b[0;36m<module>\u001b[0;34m\u001b[0m\n\u001b[1;32m      4\u001b[0m     \u001b[0;32mreturn\u001b[0m \u001b[0minner\u001b[0m\u001b[0;34m(\u001b[0m\u001b[0ma\u001b[0m\u001b[0;34m,\u001b[0m \u001b[0mb\u001b[0m\u001b[0;34m)\u001b[0m\u001b[0;34m\u001b[0m\u001b[0;34m\u001b[0m\u001b[0m\n\u001b[1;32m      5\u001b[0m \u001b[0;34m\u001b[0m\u001b[0m\n\u001b[0;32m----> 6\u001b[0;31m \u001b[0mres\u001b[0m \u001b[0;34m=\u001b[0m \u001b[0mouterFun1\u001b[0m\u001b[0;34m|\u001b[0m\u001b[0;34m(\u001b[0m\u001b[0;36m5\u001b[0m\u001b[0;34m,\u001b[0m \u001b[0;36m10\u001b[0m\u001b[0;34m)\u001b[0m\u001b[0;34m\u001b[0m\u001b[0;34m\u001b[0m\u001b[0m\n\u001b[0m\u001b[1;32m      7\u001b[0m \u001b[0mprint\u001b[0m\u001b[0;34m(\u001b[0m\u001b[0mres\u001b[0m\u001b[0;34m)\u001b[0m\u001b[0;34m\u001b[0m\u001b[0;34m\u001b[0m\u001b[0m\n",
      "\u001b[0;31mNameError\u001b[0m: name 'outerFun1' is not defined"
     ]
    }
   ],
   "source": [
    "def outer(a, b):\n",
    "    def inner(c, d):\n",
    "        return c + d\n",
    "    return inner(a, b)\n",
    "\n",
    "res = outerFun1|(5, 10)\n",
    "print(res)"
   ]
  },
  {
   "cell_type": "markdown",
   "id": "actual-yahoo",
   "metadata": {},
   "source": [
    "### Co będzie wynikiem tego kodu?\n",
    "\n",
    "```python\n",
    "def outer():\n",
    "    def inner:\n",
    "        return lambda _: 10\n",
    "    \n",
    "    return inner\n",
    "\n",
    "outer()\n",
    "```\n",
    "\n",
    "A) 10\n",
    "\n",
    "B) TypeError\n",
    "\n",
    "C) <function __main__.outer.<locals>.inner()>\n",
    "    \n",
    "D) SyntaxError"
   ]
  },
  {
   "cell_type": "code",
   "execution_count": 9,
   "id": "norman-helen",
   "metadata": {},
   "outputs": [
    {
     "ename": "SyntaxError",
     "evalue": "invalid syntax (<ipython-input-9-e7ae82a474b1>, line 2)",
     "output_type": "error",
     "traceback": [
      "\u001b[0;36m  File \u001b[0;32m\"<ipython-input-9-e7ae82a474b1>\"\u001b[0;36m, line \u001b[0;32m2\u001b[0m\n\u001b[0;31m    def inner:\u001b[0m\n\u001b[0m             ^\u001b[0m\n\u001b[0;31mSyntaxError\u001b[0m\u001b[0;31m:\u001b[0m invalid syntax\n"
     ]
    }
   ],
   "source": [
    "def outer():\n",
    "    def inner:\n",
    "        return lambda _: 10\n",
    "\n",
    "    return inner\n",
    "\n",
    "outer()"
   ]
  },
  {
   "cell_type": "markdown",
   "id": "amateur-hamilton",
   "metadata": {},
   "source": [
    "### Co będzie wynikiem tego kodu?\n",
    "\n",
    "```python\n",
    "def outer():\n",
    "    def inner():\n",
    "        return lambda _: 10\n",
    "    \n",
    "    return inner\n",
    "\n",
    "outer()\n",
    "```\n",
    "\n",
    "A) 10\n",
    "\n",
    "B) TypeError\n",
    "\n",
    "C) <function __main__.outer.<locals>.inner()>\n",
    "    \n",
    "D) SyntaxError"
   ]
  },
  {
   "cell_type": "markdown",
   "id": "perceived-person",
   "metadata": {},
   "source": [
    "## Exercise\n",
    "\n",
    "Stwórz klasę `FuzzyString`, która zachowuje się jak napis, ale jest niewrażliwa na wielkość liter przy porównaniach:\n",
    "\n",
    "Np:\n",
    "\n",
    "    >>> greeting = FuzzyString('Hey Rafał!')\n",
    "    >>> greeting == 'hey RAFAŁ!'\n",
    "    True\n",
    "    >>> greeting == 'heyRafał'\n",
    "    False\n",
    "    >>> greeting\n",
    "    'Hey Rafał!'\n",
    "\n",
    "\n",
    "klasa powinna mieć też reprezentację napisową i drukowalną - analogiczną do stringa\n",
    "\n",
    "\n",
    "    >>> str('hello')\n",
    "    'hello'\n",
    "    >>> repr('hello')\n",
    "    \"'hello'\"\n",
    "    \n",
    "### Bonus 1\n",
    "\n",
    "Zadbaj o to by inne porównania też przebiegały prawidłowo:\n",
    "\n",
    "    >>> o_word = FuzzyString('Octothorpe')\n",
    "    >>> 'hashtag' < o_word\n",
    "    True\n",
    "    >>> 'hashtag' > o_word\n",
    "    False\n",
    "\n",
    "Dwa obiekty typu `FuzzyString` też trzeba porównywać:\n",
    "\n",
    "    >>> tokyo = FuzzyString(\"tokyo\")\n",
    "    >>> toronto = FuzzyString(\"TORONTO\")\n",
    "    >>> tokyo < toronto\n",
    "    True\n",
    "    >>> toronto < tokyo\n",
    "    False\n",
    "\n",
    "### Bonus 2\n",
    "\n",
    "Zadbaj o to by działało łączenie naszych napisów z innymi napisami, oraz o to by działał operator `in`\n",
    "\n",
    "    >>> o_word = FuzzyString('Octothorpe')\n",
    "    >>> 'OCTO' in o_word\n",
    "    True\n",
    "    >>> new_string = o_word + ' (aka hashtag)'\n",
    "    >>> new_string == 'octothorpe (AKA hashtag)'\n",
    "    True\n",
    "    >>> city_name = FuzzyString(\"New Delhi\")\n",
    "    >>> city_name_part = FuzzyString(\"w del\")\n",
    "    >>> city_name_part in city_name\n",
    "    True\n",
    "\n",
    "### Bonus 3 \n",
    "\n",
    "Zadbaj o to by działało wycinanie - slicing\n",
    "\n",
    "    >>> word = FuzzyString('bootcamp')\n",
    "    >>> word[-1]\n",
    "    'p'\n",
    "    >>> word[2:5]\n",
    "    'oto'\n",
    "\n",
    "\n",
    "### Bonus 4\n",
    "\n",
    "Zadbaj o normalizację unicode. Czasem te same znaki mogą być zapisywane różnymi symbolami np ß i 'ss' to to samo w języku niemieckim\n",
    "\n",
    "\n",
    "    >>> ss = FuzzyString('ss')\n",
    "    >>> '\\u00df' == ss\n",
    "    True\n",
    "    >>> e = FuzzyString('\\u00e9')\n",
    "    >>> '\\u0065\\u0301' == e\n",
    "    True\n",
    "    >>> '\\u0301' in e\n",
    "    True\n",
    "    "
   ]
  },
  {
   "cell_type": "code",
   "execution_count": 10,
   "id": "protective-birth",
   "metadata": {},
   "outputs": [
    {
     "data": {
      "text/plain": [
       "'ß'"
      ]
     },
     "execution_count": 10,
     "metadata": {},
     "output_type": "execute_result"
    }
   ],
   "source": [
    "'\\u00df'"
   ]
  },
  {
   "cell_type": "code",
   "execution_count": 28,
   "id": "romance-clearing",
   "metadata": {},
   "outputs": [
    {
     "name": "stdout",
     "output_type": "stream",
     "text": [
      "Overwriting test_fuzzy_string.py\n"
     ]
    }
   ],
   "source": [
    "%%writefile test_fuzzy_string.py\n",
    "import pytest\n",
    "\n",
    "from fuzzystring import FuzzyString\n",
    "\n",
    "\n",
    "class TestFuzzyString:\n",
    "    \"\"\"Tests for FuzzyString.\"\"\"\n",
    "\n",
    "    def test_constructor(self):\n",
    "        assert FuzzyString(\"hello\")\n",
    "\n",
    "    def test_equality_and_inequality_with_same_string(self):\n",
    "        hello = FuzzyString(\"hello\")\n",
    "        assert hello == \"hello\"\n",
    "        assert not hello != \"hello\"\n",
    "\n",
    "    def test_equality_with_completely_different_string(self):\n",
    "        hello = FuzzyString(\"hello\")\n",
    "        assert hello != \"Hello there\"\n",
    "        assert not hello == \"Hello there\"\n",
    "        assert hello != \"hello there\"\n",
    "        assert not hello == \"Hello there\"\n",
    "\n",
    "    def test_equality_and_inequality_with_different_case_string(self):\n",
    "        hello = FuzzyString(\"hellO\")\n",
    "        assert hello == \"Hello\"\n",
    "        assert not hello != \"Hello\"\n",
    "        assert hello == \"HELLO\"\n",
    "        assert not hello != \"HELLO\"\n",
    "\n",
    "    def test_string_representation(self):\n",
    "        hello = FuzzyString(\"heLlO\")\n",
    "        assert str(hello) == \"heLlO\"\n",
    "        assert repr(hello) == repr(\"heLlO\")\n",
    "\n",
    "    # Testy do Bonus 1\n",
    "    # zakomentuj dekorator by testy były brane pod uwagę\n",
    "    # @pytest.mark.xfail\n",
    "    def test_other_string_comparisons(self):\n",
    "        apple = FuzzyString(\"Apple\")\n",
    "        assert apple > \"animal\"\n",
    "        assert \"animal\" < apple\n",
    "        assert not apple < \"animal\"\n",
    "        assert not \"animal\" > apple\n",
    "        assert apple >= \"animal\"\n",
    "        assert apple >= \"apple\"\n",
    "        assert \"animal\" <= apple\n",
    "        assert \"animal\" <= \"animal\"\n",
    "        assert not apple <= \"animal\"\n",
    "        assert not \"animal\" >= apple\n",
    "\n",
    "        # Additional test between the FuzzyString objects\n",
    "\n",
    "        warsaw = FuzzyString(\"Warsaw\")\n",
    "        wroclaw = FuzzyString(\"wroclaw\")\n",
    "\n",
    "        assert warsaw < wroclaw\n",
    "        assert wroclaw > warsaw\n",
    "        assert not warsaw > wroclaw\n",
    "        assert not wroclaw < warsaw\n",
    "        assert warsaw <= wroclaw\n",
    "        assert warsaw <= warsaw\n",
    "        assert wroclaw >= warsaw\n",
    "        assert wroclaw >= wroclaw\n",
    "        assert not warsaw >= wroclaw\n",
    "        assert not wroclaw <= warsaw\n",
    "\n",
    "    # Bonus 2\n",
    "    # @pytest.mark.xfail\n",
    "    def test_string_operators(self):\n",
    "        hello = FuzzyString(\"heLlO\")\n",
    "        assert hello + \"!\" == \"helLo!\"\n",
    "        assert hello + \"!\" != \"hello\"\n",
    "        assert \"he\" in hello\n",
    "        assert \"He!\" not in hello\n",
    "\n",
    "        # Additional test between the FuzzyString objects\n",
    "\n",
    "        new_delhi = FuzzyString(\"NeW DELhi\")\n",
    "        new = FuzzyString(\"New\")\n",
    "        delhi = FuzzyString(\"Delhi\")\n",
    "        assert new + \" \" + delhi == new_delhi\n",
    "        assert new + delhi != new_delhi\n",
    "        assert delhi in new_delhi\n",
    "        assert new in new_delhi\n",
    "\n",
    "    # Bonus 3    \n",
    "    # @pytest.mark.xfail\n",
    "    def test_slicing(self):\n",
    "        hello = FuzzyString(\"heLlO\")\n",
    "        assert hello[-1] == \"O\"\n",
    "        assert hello[:] == \"heLlO\"\n",
    "        assert hello[1:3] == \"eL\"\n",
    "\n",
    "    # Bonus 4\n",
    "    # @pytest.mark.xfail\n",
    "    def test_normalizes_strings(self):\n",
    "        string = FuzzyString(\"\\u00df and ss\")\n",
    "        assert string == \"ss and \\u00df\"\n",
    "        string = FuzzyString(\"ß, ss, \\uf9fb, and \\u7099\")\n",
    "        assert string == \"ss, ß, \\u7099, and \\uf9fb\"\n",
    "\n",
    "        accent = '\\u0301'\n",
    "        accented_e = FuzzyString('\\u00e9')\n",
    "        assert '\\u0065\\u0301' == accented_e\n",
    "        assert accent in accented_e"
   ]
  },
  {
   "cell_type": "code",
   "execution_count": 19,
   "id": "infinite-calendar",
   "metadata": {},
   "outputs": [
    {
     "name": "stdout",
     "output_type": "stream",
     "text": [
      "Overwriting fuzzystring.py\n"
     ]
    }
   ],
   "source": [
    "%%writefile fuzzystring.py\n",
    "class FuzzyString(str):\n",
    "            \n",
    "    def __eq__(self, other):\n",
    "        return self.lower() == other.lower()\n",
    "    \n",
    "    def __ne__(self, other):\n",
    "        return self.lower() != other.lower()\n"
   ]
  },
  {
   "cell_type": "code",
   "execution_count": 22,
   "id": "satellite-texture",
   "metadata": {},
   "outputs": [
    {
     "name": "stdout",
     "output_type": "stream",
     "text": [
      "\u001b[1m============================= test session starts ==============================\u001b[0m\n",
      "platform darwin -- Python 3.7.9, pytest-6.2.2, py-1.10.0, pluggy-0.13.1 -- /Library/Frameworks/Python.framework/Versions/3.7/bin/python3.7\n",
      "cachedir: .pytest_cache\n",
      "rootdir: /Users/rkorzen/PycharmProjects/szkolenia/backend_2021_04_17\n",
      "plugins: celery-4.4.6\n",
      "collected 9 items                                                              \u001b[0m\n",
      "\n",
      "test_fuzzy_string.py::TestFuzzyString::test_constructor \u001b[32mPASSED\u001b[0m\u001b[32m           [ 11%]\u001b[0m\n",
      "test_fuzzy_string.py::TestFuzzyString::test_equality_and_inequality_with_same_string \u001b[32mPASSED\u001b[0m\u001b[32m [ 22%]\u001b[0m\n",
      "test_fuzzy_string.py::TestFuzzyString::test_equality_with_completely_different_string \u001b[32mPASSED\u001b[0m\u001b[32m [ 33%]\u001b[0m\n",
      "test_fuzzy_string.py::TestFuzzyString::test_equality_and_inequality_with_different_case_string \u001b[32mPASSED\u001b[0m\u001b[32m [ 44%]\u001b[0m\n",
      "test_fuzzy_string.py::TestFuzzyString::test_string_representation \u001b[32mPASSED\u001b[0m\u001b[32m [ 55%]\u001b[0m\n",
      "test_fuzzy_string.py::TestFuzzyString::test_other_string_comparisons \u001b[31mFAILED\u001b[0m\u001b[31m [ 66%]\u001b[0m\n",
      "test_fuzzy_string.py::TestFuzzyString::test_string_operators \u001b[33mXFAIL\u001b[0m\u001b[31m       [ 77%]\u001b[0m\n",
      "test_fuzzy_string.py::TestFuzzyString::test_slicing \u001b[33mXPASS\u001b[0m\u001b[31m                [ 88%]\u001b[0m\n",
      "test_fuzzy_string.py::TestFuzzyString::test_normalizes_strings \u001b[33mXFAIL\u001b[0m\u001b[31m     [100%]\u001b[0m\n",
      "\n",
      "=================================== FAILURES ===================================\n",
      "\u001b[31m\u001b[1m________________ TestFuzzyString.test_other_string_comparisons _________________\u001b[0m\n",
      "\n",
      "self = <test_fuzzy_string.TestFuzzyString object at 0x7fba382a5b90>\n",
      "\n",
      "    \u001b[94mdef\u001b[39;49;00m \u001b[92mtest_other_string_comparisons\u001b[39;49;00m(\u001b[96mself\u001b[39;49;00m):\n",
      "        apple = FuzzyString(\u001b[33m\"\u001b[39;49;00m\u001b[33mApple\u001b[39;49;00m\u001b[33m\"\u001b[39;49;00m)\n",
      ">       \u001b[94massert\u001b[39;49;00m apple > \u001b[33m\"\u001b[39;49;00m\u001b[33manimal\u001b[39;49;00m\u001b[33m\"\u001b[39;49;00m\n",
      "\u001b[1m\u001b[31mE       AssertionError: assert 'Apple' > 'animal'\u001b[0m\n",
      "\n",
      "\u001b[1m\u001b[31mtest_fuzzy_string.py\u001b[0m:41: AssertionError\n",
      "=========================== short test summary info ============================\n",
      "FAILED test_fuzzy_string.py::TestFuzzyString::test_other_string_comparisons\n",
      "\u001b[31m============== \u001b[31m\u001b[1m1 failed\u001b[0m, \u001b[32m5 passed\u001b[0m, \u001b[33m2 xfailed\u001b[0m, \u001b[33m1 xpassed\u001b[0m\u001b[31m in 0.18s\u001b[0m\u001b[31m ===============\u001b[0m\n"
     ]
    }
   ],
   "source": [
    "!pytest -v test_fuzzy_string.py"
   ]
  },
  {
   "cell_type": "code",
   "execution_count": null,
   "id": "hazardous-barcelona",
   "metadata": {},
   "outputs": [],
   "source": [
    "class FuzzyString:\n",
    "    def __init__(self, string):\n",
    "        self.string = string\n",
    "        \n",
    "    def __lt__(self, other):\n",
    "        if isinstance(other, FuzzyString):\n",
    "            return self.string.lower() < other.string.lower()\n",
    "        return self.string.lower() < other.lower()"
   ]
  },
  {
   "cell_type": "code",
   "execution_count": 34,
   "id": "adverse-zoning",
   "metadata": {},
   "outputs": [
    {
     "name": "stdout",
     "output_type": "stream",
     "text": [
      "Overwriting fuzzystring.py\n"
     ]
    }
   ],
   "source": [
    "%%writefile fuzzystring.py\n",
    "from collections import UserString\n",
    "from functools import total_ordering\n",
    "\n",
    "@total_ordering\n",
    "class FuzzyOrderingMixin:\n",
    "    def __lt__(self, other):\n",
    "        return self.data.lower() < other.lower()\n",
    "\n",
    "    def __eq__(self, other):\n",
    "        return self.data.lower() == other.lower()\n",
    "    \n",
    "    \n",
    "class FuzzyString(FuzzyOrderingMixin, UserString):\n",
    "    \"\"\"String case-insensitive\"\"\"\n",
    "\n",
    "    def __add__(self, other):\n",
    "        return FuzzyString(self.data + other)\n",
    "\n",
    "    def __contains__(self, substring):\n",
    "        if isinstance(substring, FuzzyString):\n",
    "            substring = str(substring)\n",
    "        return substring.lower() in self.data.lower()"
   ]
  },
  {
   "cell_type": "code",
   "execution_count": 35,
   "id": "outer-lover",
   "metadata": {},
   "outputs": [
    {
     "name": "stdout",
     "output_type": "stream",
     "text": [
      "\u001b[1m============================= test session starts ==============================\u001b[0m\n",
      "platform darwin -- Python 3.7.9, pytest-6.2.2, py-1.10.0, pluggy-0.13.1 -- /Library/Frameworks/Python.framework/Versions/3.7/bin/python3.7\n",
      "cachedir: .pytest_cache\n",
      "rootdir: /Users/rkorzen/PycharmProjects/szkolenia/backend_2021_04_17\n",
      "plugins: celery-4.4.6\n",
      "collected 9 items                                                              \u001b[0m\n",
      "\n",
      "test_fuzzy_string.py::TestFuzzyString::test_constructor \u001b[32mPASSED\u001b[0m\u001b[32m           [ 11%]\u001b[0m\n",
      "test_fuzzy_string.py::TestFuzzyString::test_equality_and_inequality_with_same_string \u001b[32mPASSED\u001b[0m\u001b[32m [ 22%]\u001b[0m\n",
      "test_fuzzy_string.py::TestFuzzyString::test_equality_with_completely_different_string \u001b[32mPASSED\u001b[0m\u001b[32m [ 33%]\u001b[0m\n",
      "test_fuzzy_string.py::TestFuzzyString::test_equality_and_inequality_with_different_case_string \u001b[32mPASSED\u001b[0m\u001b[32m [ 44%]\u001b[0m\n",
      "test_fuzzy_string.py::TestFuzzyString::test_string_representation \u001b[32mPASSED\u001b[0m\u001b[32m [ 55%]\u001b[0m\n",
      "test_fuzzy_string.py::TestFuzzyString::test_other_string_comparisons \u001b[32mPASSED\u001b[0m\u001b[32m [ 66%]\u001b[0m\n",
      "test_fuzzy_string.py::TestFuzzyString::test_string_operators \u001b[32mPASSED\u001b[0m\u001b[32m      [ 77%]\u001b[0m\n",
      "test_fuzzy_string.py::TestFuzzyString::test_slicing \u001b[32mPASSED\u001b[0m\u001b[32m               [ 88%]\u001b[0m\n",
      "test_fuzzy_string.py::TestFuzzyString::test_normalizes_strings \u001b[31mFAILED\u001b[0m\u001b[31m    [100%]\u001b[0m\n",
      "\n",
      "=================================== FAILURES ===================================\n",
      "\u001b[31m\u001b[1m___________________ TestFuzzyString.test_normalizes_strings ____________________\u001b[0m\n",
      "\n",
      "self = <test_fuzzy_string.TestFuzzyString object at 0x7faa2805dcd0>\n",
      "\n",
      "    \u001b[94mdef\u001b[39;49;00m \u001b[92mtest_normalizes_strings\u001b[39;49;00m(\u001b[96mself\u001b[39;49;00m):\n",
      "        string = FuzzyString(\u001b[33m\"\u001b[39;49;00m\u001b[33m\\u00df\u001b[39;49;00m\u001b[33m and ss\u001b[39;49;00m\u001b[33m\"\u001b[39;49;00m)\n",
      ">       \u001b[94massert\u001b[39;49;00m string == \u001b[33m\"\u001b[39;49;00m\u001b[33mss and \u001b[39;49;00m\u001b[33m\\u00df\u001b[39;49;00m\u001b[33m\"\u001b[39;49;00m\n",
      "\u001b[1m\u001b[31mE       AssertionError: assert 'ß and ss' == 'ss and ß'\u001b[0m\n",
      "\u001b[1m\u001b[31mE         +'ß and ss'\u001b[0m\n",
      "\u001b[1m\u001b[31mE         -'ss and ß'\u001b[0m\n",
      "\n",
      "\u001b[1m\u001b[31mtest_fuzzy_string.py\u001b[0m:99: AssertionError\n",
      "=========================== short test summary info ============================\n",
      "FAILED test_fuzzy_string.py::TestFuzzyString::test_normalizes_strings - Asser...\n",
      "\u001b[31m========================= \u001b[31m\u001b[1m1 failed\u001b[0m, \u001b[32m8 passed\u001b[0m\u001b[31m in 0.14s\u001b[0m\u001b[31m ==========================\u001b[0m\n"
     ]
    }
   ],
   "source": [
    "!pytest -v test_fuzzy_string.py"
   ]
  },
  {
   "cell_type": "code",
   "execution_count": 36,
   "id": "scheduled-liberty",
   "metadata": {},
   "outputs": [
    {
     "data": {
      "text/plain": [
       "False"
      ]
     },
     "execution_count": 36,
     "metadata": {},
     "output_type": "execute_result"
    }
   ],
   "source": [
    "\"ß\" == \"ss\""
   ]
  },
  {
   "cell_type": "code",
   "execution_count": 37,
   "id": "dried-berry",
   "metadata": {},
   "outputs": [
    {
     "data": {
      "text/plain": [
       "False"
      ]
     },
     "execution_count": 37,
     "metadata": {},
     "output_type": "execute_result"
    }
   ],
   "source": [
    "\"ß\".lower() == \"ss\".lower()"
   ]
  },
  {
   "cell_type": "code",
   "execution_count": 38,
   "id": "quarterly-denmark",
   "metadata": {},
   "outputs": [
    {
     "data": {
      "text/plain": [
       "True"
      ]
     },
     "execution_count": 38,
     "metadata": {},
     "output_type": "execute_result"
    }
   ],
   "source": [
    "\"ß\".casefold() == \"ss\".casefold()"
   ]
  },
  {
   "cell_type": "code",
   "execution_count": 39,
   "id": "ongoing-fountain",
   "metadata": {},
   "outputs": [
    {
     "data": {
      "text/plain": [
       "'ss'"
      ]
     },
     "execution_count": 39,
     "metadata": {},
     "output_type": "execute_result"
    }
   ],
   "source": [
    "\"ß\".casefold()"
   ]
  },
  {
   "cell_type": "code",
   "execution_count": 40,
   "id": "vertical-constitution",
   "metadata": {},
   "outputs": [
    {
     "data": {
      "text/plain": [
       "'炙'"
      ]
     },
     "execution_count": 40,
     "metadata": {},
     "output_type": "execute_result"
    }
   ],
   "source": [
    "\"\\uf9fb\""
   ]
  },
  {
   "cell_type": "code",
   "execution_count": 41,
   "id": "quick-longer",
   "metadata": {},
   "outputs": [
    {
     "data": {
      "text/plain": [
       "'炙'"
      ]
     },
     "execution_count": 41,
     "metadata": {},
     "output_type": "execute_result"
    }
   ],
   "source": [
    "\"\\u7099\""
   ]
  },
  {
   "cell_type": "code",
   "execution_count": 46,
   "id": "legitimate-avatar",
   "metadata": {},
   "outputs": [
    {
     "data": {
      "text/plain": [
       "False"
      ]
     },
     "execution_count": 46,
     "metadata": {},
     "output_type": "execute_result"
    }
   ],
   "source": [
    "\"\\uf9fb\".casefold() == \"\\u7099\".casefold()"
   ]
  },
  {
   "cell_type": "code",
   "execution_count": 43,
   "id": "vulnerable-joining",
   "metadata": {},
   "outputs": [],
   "source": [
    "import unicodedata\n",
    "\n",
    "unicodedata.normalize??"
   ]
  },
  {
   "cell_type": "code",
   "execution_count": 47,
   "id": "worst-algeria",
   "metadata": {},
   "outputs": [
    {
     "data": {
      "text/plain": [
       "True"
      ]
     },
     "execution_count": 47,
     "metadata": {},
     "output_type": "execute_result"
    }
   ],
   "source": [
    "unicodedata.normalize(\"NFD\", \"\\uf9fb\".casefold()) == unicodedata.normalize(\"NFD\", \"\\u7099\".casefold())"
   ]
  },
  {
   "cell_type": "code",
   "execution_count": 54,
   "id": "forbidden-nicaragua",
   "metadata": {},
   "outputs": [
    {
     "name": "stdout",
     "output_type": "stream",
     "text": [
      "Overwriting fuzzystring.py\n"
     ]
    }
   ],
   "source": [
    "%%writefile fuzzystring.py\n",
    "import unicodedata\n",
    "from collections import UserString\n",
    "from functools import total_ordering\n",
    "\n",
    "def normalize(string):\n",
    "    return unicodedata.normalize(\"NFD\", string.casefold())\n",
    "\n",
    "\n",
    "@total_ordering\n",
    "class FuzzyOrderingMixin:\n",
    "    def __lt__(self, other):\n",
    "        return normalize(self.data) < normalize(str(other))\n",
    "\n",
    "    def __eq__(self, other):\n",
    "        return normalize(self.data) == normalize(str(other))\n",
    "    \n",
    "    \n",
    "class FuzzyString(FuzzyOrderingMixin, UserString):\n",
    "    \"\"\"String case-insensitive\"\"\"\n",
    "\n",
    "    def __add__(self, other):\n",
    "        return FuzzyString(self.data + other)\n",
    "\n",
    "    def __contains__(self, substring):\n",
    "        if isinstance(substring, FuzzyString):\n",
    "            substring = str(substring)\n",
    "        return normalize(substring) in normalize(self.data)"
   ]
  },
  {
   "cell_type": "code",
   "execution_count": 55,
   "id": "identified-involvement",
   "metadata": {},
   "outputs": [
    {
     "name": "stdout",
     "output_type": "stream",
     "text": [
      "\u001b[1m============================= test session starts ==============================\u001b[0m\n",
      "platform darwin -- Python 3.7.9, pytest-6.2.2, py-1.10.0, pluggy-0.13.1 -- /Library/Frameworks/Python.framework/Versions/3.7/bin/python3.7\n",
      "cachedir: .pytest_cache\n",
      "rootdir: /Users/rkorzen/PycharmProjects/szkolenia/backend_2021_04_17\n",
      "plugins: celery-4.4.6\n",
      "collected 9 items                                                              \u001b[0m\n",
      "\n",
      "test_fuzzy_string.py::TestFuzzyString::test_constructor \u001b[32mPASSED\u001b[0m\u001b[32m           [ 11%]\u001b[0m\n",
      "test_fuzzy_string.py::TestFuzzyString::test_equality_and_inequality_with_same_string \u001b[32mPASSED\u001b[0m\u001b[32m [ 22%]\u001b[0m\n",
      "test_fuzzy_string.py::TestFuzzyString::test_equality_with_completely_different_string \u001b[32mPASSED\u001b[0m\u001b[32m [ 33%]\u001b[0m\n",
      "test_fuzzy_string.py::TestFuzzyString::test_equality_and_inequality_with_different_case_string \u001b[32mPASSED\u001b[0m\u001b[32m [ 44%]\u001b[0m\n",
      "test_fuzzy_string.py::TestFuzzyString::test_string_representation \u001b[32mPASSED\u001b[0m\u001b[32m [ 55%]\u001b[0m\n",
      "test_fuzzy_string.py::TestFuzzyString::test_other_string_comparisons \u001b[32mPASSED\u001b[0m\u001b[32m [ 66%]\u001b[0m\n",
      "test_fuzzy_string.py::TestFuzzyString::test_string_operators \u001b[32mPASSED\u001b[0m\u001b[32m      [ 77%]\u001b[0m\n",
      "test_fuzzy_string.py::TestFuzzyString::test_slicing \u001b[32mPASSED\u001b[0m\u001b[32m               [ 88%]\u001b[0m\n",
      "test_fuzzy_string.py::TestFuzzyString::test_normalizes_strings \u001b[32mPASSED\u001b[0m\u001b[32m    [100%]\u001b[0m\n",
      "\n",
      "\u001b[32m============================== \u001b[32m\u001b[1m9 passed\u001b[0m\u001b[32m in 0.03s\u001b[0m\u001b[32m ===============================\u001b[0m\n"
     ]
    }
   ],
   "source": [
    "!pytest -v test_fuzzy_string.py"
   ]
  },
  {
   "cell_type": "markdown",
   "id": "historic-freedom",
   "metadata": {},
   "source": [
    "# Iterator\n",
    "\n",
    "każdy generator to iterator. \n",
    "\n",
    "`__iter__ i __next__`\n",
    "\n"
   ]
  },
  {
   "cell_type": "code",
   "execution_count": 56,
   "id": "robust-citizen",
   "metadata": {},
   "outputs": [
    {
     "name": "stdout",
     "output_type": "stream",
     "text": [
      "4\n",
      "9\n",
      "16\n",
      "25\n",
      "36\n",
      "49\n"
     ]
    }
   ],
   "source": [
    "def squares(start, stop):\n",
    "    for i in range(start, stop):\n",
    "        yield i ** 2\n",
    "        \n",
    "g = squares(2, 8)\n",
    "\n",
    "for i in g:\n",
    "    print(i)"
   ]
  },
  {
   "cell_type": "code",
   "execution_count": 58,
   "id": "acting-netscape",
   "metadata": {},
   "outputs": [
    {
     "data": {
      "text/plain": [
       "generator"
      ]
     },
     "execution_count": 58,
     "metadata": {},
     "output_type": "execute_result"
    }
   ],
   "source": [
    "g = (i*i for i in range(2, 8))\n",
    "type(g)"
   ]
  },
  {
   "cell_type": "code",
   "execution_count": 59,
   "id": "separated-throw",
   "metadata": {},
   "outputs": [
    {
     "name": "stdout",
     "output_type": "stream",
     "text": [
      "4\n",
      "9\n",
      "16\n",
      "25\n",
      "36\n",
      "49\n"
     ]
    }
   ],
   "source": [
    "class Squares:\n",
    "    \n",
    "    def __init__(self, start, stop):\n",
    "        self.start = start\n",
    "        self.stop = stop\n",
    "    \n",
    "    def __iter__(self): return self\n",
    "    \n",
    "    def __next__(self):\n",
    "        if self.start >= self.stop:\n",
    "            raise StopIteration\n",
    "            \n",
    "        current = self.start ** 2\n",
    "        self.start += 1\n",
    "        return current\n",
    "    \n",
    "iterator = Squares(2, 8)\n",
    "\n",
    "for i in iterator:\n",
    "    print(i)"
   ]
  },
  {
   "cell_type": "code",
   "execution_count": 60,
   "id": "boolean-israeli",
   "metadata": {},
   "outputs": [
    {
     "data": {
      "text/plain": [
       "4"
      ]
     },
     "execution_count": 60,
     "metadata": {},
     "output_type": "execute_result"
    }
   ],
   "source": [
    "iterator = Squares(2, 8)\n",
    "\n",
    "next(iterator)"
   ]
  },
  {
   "cell_type": "code",
   "execution_count": 66,
   "id": "fitting-union",
   "metadata": {},
   "outputs": [
    {
     "ename": "StopIteration",
     "evalue": "",
     "output_type": "error",
     "traceback": [
      "\u001b[0;31m---------------------------------------------------------------------------\u001b[0m",
      "\u001b[0;31mStopIteration\u001b[0m                             Traceback (most recent call last)",
      "\u001b[0;32m<ipython-input-66-4ce711c44abc>\u001b[0m in \u001b[0;36m<module>\u001b[0;34m\u001b[0m\n\u001b[0;32m----> 1\u001b[0;31m \u001b[0mnext\u001b[0m\u001b[0;34m(\u001b[0m\u001b[0miterator\u001b[0m\u001b[0;34m)\u001b[0m\u001b[0;34m\u001b[0m\u001b[0;34m\u001b[0m\u001b[0m\n\u001b[0m",
      "\u001b[0;32m<ipython-input-59-79a0aaab140e>\u001b[0m in \u001b[0;36m__next__\u001b[0;34m(self)\u001b[0m\n\u001b[1;32m      9\u001b[0m     \u001b[0;32mdef\u001b[0m \u001b[0m__next__\u001b[0m\u001b[0;34m(\u001b[0m\u001b[0mself\u001b[0m\u001b[0;34m)\u001b[0m\u001b[0;34m:\u001b[0m\u001b[0;34m\u001b[0m\u001b[0;34m\u001b[0m\u001b[0m\n\u001b[1;32m     10\u001b[0m         \u001b[0;32mif\u001b[0m \u001b[0mself\u001b[0m\u001b[0;34m.\u001b[0m\u001b[0mstart\u001b[0m \u001b[0;34m>=\u001b[0m \u001b[0mself\u001b[0m\u001b[0;34m.\u001b[0m\u001b[0mstop\u001b[0m\u001b[0;34m:\u001b[0m\u001b[0;34m\u001b[0m\u001b[0;34m\u001b[0m\u001b[0m\n\u001b[0;32m---> 11\u001b[0;31m             \u001b[0;32mraise\u001b[0m \u001b[0mStopIteration\u001b[0m\u001b[0;34m\u001b[0m\u001b[0;34m\u001b[0m\u001b[0m\n\u001b[0m\u001b[1;32m     12\u001b[0m \u001b[0;34m\u001b[0m\u001b[0m\n\u001b[1;32m     13\u001b[0m         \u001b[0mcurrent\u001b[0m \u001b[0;34m=\u001b[0m \u001b[0mself\u001b[0m\u001b[0;34m.\u001b[0m\u001b[0mstart\u001b[0m \u001b[0;34m**\u001b[0m \u001b[0;36m2\u001b[0m\u001b[0;34m\u001b[0m\u001b[0;34m\u001b[0m\u001b[0m\n",
      "\u001b[0;31mStopIteration\u001b[0m: "
     ]
    }
   ],
   "source": [
    "next(iterator)"
   ]
  },
  {
   "cell_type": "markdown",
   "id": "international-ferry",
   "metadata": {},
   "source": [
    "## Exercise:\n",
    "\n",
    "Zaimplementuj iteratory:\n",
    "\n",
    "* `Counter` odliczający od 0 do zadanego limitu\n",
    "\n",
    "Przykładowe użycie:\n",
    "\n",
    "    for number in Counter(10): ..."
   ]
  },
  {
   "cell_type": "code",
   "execution_count": 69,
   "id": "alpine-commissioner",
   "metadata": {},
   "outputs": [
    {
     "data": {
      "text/plain": [
       "[0, 1, 2, 3, 4, 5, 6, 7, 8, 9, 10, 11, 12, 13, 14, 15]"
      ]
     },
     "execution_count": 69,
     "metadata": {},
     "output_type": "execute_result"
    }
   ],
   "source": [
    "class Counter:\n",
    "    \n",
    "    def __init__(self, stop):\n",
    "        self.start = 0\n",
    "        self.stop = stop\n",
    "        \n",
    "    def __iter__(self): return self\n",
    "    \n",
    "    def __next__(self):\n",
    "        if self.start <= self.stop:\n",
    "            current = self.start\n",
    "            self.start += 1\n",
    "            return current\n",
    "        raise StopIteration\n",
    "        \n",
    "list(Counter(15))\n",
    "        "
   ]
  },
  {
   "cell_type": "markdown",
   "id": "crucial-criterion",
   "metadata": {},
   "source": [
    "## Exercise\n",
    "\n",
    "Zaimplementuj iterator `Selected`, który przyjmuje listę elementów, oraz funkcję. \n",
    "Zwraca elementy zgodnie z tym jak działa na nie podana funkcja\n",
    "    \n",
    "```python    \n",
    "    data = [22, 'a', 1, 2, 4, 10, 221, 213123, 107, 'c']\n",
    "\n",
    "    def vowel_or_none(x):\n",
    "        if isinstance(x, str) and x in 'aeiouy':\n",
    "            return x\n",
    "\n",
    "    def prime_or_none(x):\n",
    "        for i in range(2, x // 2):\n",
    "            if x % i == 0:\n",
    "                return\n",
    "        return x\n",
    "\n",
    "    def is_prime(x):\n",
    "        try:\n",
    "            for i in range(2, x // 2):\n",
    "                if x % i == 0:\n",
    "                    return False\n",
    "            return True\n",
    "        except TypeError:\n",
    "            return False\n",
    "\n",
    "\n",
    "    for x in  Selected(data, func=is_prime):\n",
    "        print(x)\n",
    "\n",
    "    False\n",
    "    False\n",
    "    False\n",
    "    True\n",
    "    False\n",
    "    False\n",
    "    False\n",
    "    False\n",
    "    True\n",
    "\n",
    "    for x in  Selected(data, func=vowel_or_none):\n",
    "        print(x)\n",
    "        \n",
    "    None\n",
    "    a\n",
    "    None\n",
    "    None\n",
    "    None\n",
    "    None\n",
    "    None\n",
    "    None\n",
    "    None\n",
    "\n",
    "    \n",
    "    Jak zrobić by jednocześnie sprawdził więcej funkcji? Np. by mieć taki wynik:\n",
    "    \n",
    "    None\n",
    "    a\n",
    "    None\n",
    "    2\n",
    "    None\n",
    "    None\n",
    "    None\n",
    "    None\n",
    "    107\n",
    "```"
   ]
  },
  {
   "cell_type": "code",
   "execution_count": 96,
   "id": "rough-virtue",
   "metadata": {},
   "outputs": [],
   "source": [
    "data = [22, 'a', 1, 2, 4, 10, 221, 213123, 107, 'c', 'e']\n",
    "\n",
    "def vowel_or_none(x):\n",
    "    if isinstance(x, str) and x in 'aeiouy':\n",
    "        return x\n",
    "\n",
    "def prime_or_none(x):\n",
    "    try:\n",
    "        for i in range(2, x // 2 + 1):\n",
    "            if x % i == 0:\n",
    "                return\n",
    "        return x\n",
    "    except TypeError:\n",
    "        return \n",
    "    \n",
    "def is_prime(x):\n",
    "    try:\n",
    "        for i in range(2, x):\n",
    "            if x % i == 0:\n",
    "                return False\n",
    "        return True\n",
    "    except TypeError:\n",
    "        return False\n",
    "\n"
   ]
  },
  {
   "cell_type": "code",
   "execution_count": 97,
   "id": "twenty-edward",
   "metadata": {},
   "outputs": [],
   "source": [
    "class Selected:\n",
    "    def __init__(self, data: list, func):\n",
    "        self.data = data\n",
    "        self.func = func\n",
    "        self.index = 0\n",
    "        \n",
    "    def __iter__(self): return self\n",
    "    \n",
    "    def __next__(self):\n",
    "        if self.index == len(self.data):\n",
    "            raise StopIteration\n",
    "        \n",
    "        el = self.func(self.data[self.index])\n",
    "        self.index += 1\n",
    "        return el\n",
    "\n"
   ]
  },
  {
   "cell_type": "code",
   "execution_count": 98,
   "id": "operational-picking",
   "metadata": {},
   "outputs": [],
   "source": [
    "iterator = Selected(data, prime_or_none)"
   ]
  },
  {
   "cell_type": "code",
   "execution_count": 99,
   "id": "unavailable-invasion",
   "metadata": {},
   "outputs": [
    {
     "name": "stdout",
     "output_type": "stream",
     "text": [
      "None\n",
      "None\n",
      "1\n",
      "2\n",
      "None\n",
      "None\n",
      "None\n",
      "None\n",
      "107\n",
      "None\n",
      "None\n"
     ]
    }
   ],
   "source": [
    "for i in iterator:\n",
    "    print(i)"
   ]
  },
  {
   "cell_type": "code",
   "execution_count": 100,
   "id": "muslim-functionality",
   "metadata": {},
   "outputs": [],
   "source": [
    "def any_function_or_none(*functions):\n",
    "    def func(x):\n",
    "        for f in functions:\n",
    "            if f(x):\n",
    "                return x\n",
    "    return func\n",
    "\n",
    "func = any_function_or_none(is_prime, vowel_or_none)\n"
   ]
  },
  {
   "cell_type": "code",
   "execution_count": 101,
   "id": "likely-reconstruction",
   "metadata": {},
   "outputs": [
    {
     "name": "stdout",
     "output_type": "stream",
     "text": [
      "None\n",
      "a\n",
      "1\n",
      "2\n",
      "None\n",
      "None\n",
      "None\n",
      "None\n",
      "107\n",
      "None\n",
      "e\n"
     ]
    }
   ],
   "source": [
    "iterator = Selected(data, func)\n",
    "for x in iterator:\n",
    "    print(x)"
   ]
  },
  {
   "cell_type": "markdown",
   "id": "emerging-ozone",
   "metadata": {},
   "source": [
    "# Context Manager\n",
    "\n",
    "to taki typ, który zaimplementowane metody:\n",
    "\n",
    "`__enter__ __exit__ __init__`"
   ]
  },
  {
   "cell_type": "code",
   "execution_count": 102,
   "id": "forbidden-salad",
   "metadata": {},
   "outputs": [],
   "source": [
    "f = open(\"cos\", \"w\")\n",
    "...\n",
    "f.close()"
   ]
  },
  {
   "cell_type": "code",
   "execution_count": 108,
   "id": "extensive-abortion",
   "metadata": {},
   "outputs": [
    {
     "ename": "ZeroDivisionError",
     "evalue": "division by zero",
     "output_type": "error",
     "traceback": [
      "\u001b[0;31m---------------------------------------------------------------------------\u001b[0m",
      "\u001b[0;31mZeroDivisionError\u001b[0m                         Traceback (most recent call last)",
      "\u001b[0;32m<ipython-input-108-8b213990742a>\u001b[0m in \u001b[0;36m<module>\u001b[0;34m\u001b[0m\n\u001b[1;32m      5\u001b[0m     \u001b[0mprint\u001b[0m\u001b[0;34m(\u001b[0m\u001b[0;34m\"Coś poszło nie tak\"\u001b[0m\u001b[0;34m)\u001b[0m\u001b[0;34m\u001b[0m\u001b[0;34m\u001b[0m\u001b[0m\n\u001b[1;32m      6\u001b[0m \u001b[0;32mfinally\u001b[0m\u001b[0;34m:\u001b[0m\u001b[0;34m\u001b[0m\u001b[0;34m\u001b[0m\u001b[0m\n\u001b[0;32m----> 7\u001b[0;31m     \u001b[0;36m1\u001b[0m\u001b[0;34m/\u001b[0m\u001b[0;36m0\u001b[0m\u001b[0;34m\u001b[0m\u001b[0;34m\u001b[0m\u001b[0m\n\u001b[0m\u001b[1;32m      8\u001b[0m     \u001b[0mprint\u001b[0m\u001b[0;34m(\u001b[0m\u001b[0;34m\"Zamykam plik\"\u001b[0m\u001b[0;34m)\u001b[0m\u001b[0;34m\u001b[0m\u001b[0;34m\u001b[0m\u001b[0m\n\u001b[1;32m      9\u001b[0m     \u001b[0mf\u001b[0m\u001b[0;34m.\u001b[0m\u001b[0mclose\u001b[0m\u001b[0;34m(\u001b[0m\u001b[0;34m)\u001b[0m\u001b[0;34m\u001b[0m\u001b[0;34m\u001b[0m\u001b[0m\n",
      "\u001b[0;31mZeroDivisionError\u001b[0m: division by zero"
     ]
    }
   ],
   "source": [
    "try:\n",
    "    f = open(\"cos\", \"w\")\n",
    "    \n",
    "except:\n",
    "    print(\"Coś poszło nie tak\")\n",
    "finally:\n",
    "    1/0\n",
    "    print(\"Zamykam plik\")\n",
    "    f.close()"
   ]
  },
  {
   "cell_type": "code",
   "execution_count": 110,
   "id": "fundamental-vessel",
   "metadata": {},
   "outputs": [
    {
     "data": {
      "text/plain": [
       "True"
      ]
     },
     "execution_count": 110,
     "metadata": {},
     "output_type": "execute_result"
    }
   ],
   "source": [
    "with open(\"cos\", \"w\") as f:\n",
    "    ...\n",
    "\n",
    "f.closed"
   ]
  },
  {
   "cell_type": "code",
   "execution_count": 111,
   "id": "southern-listing",
   "metadata": {},
   "outputs": [],
   "source": [
    "class File:\n",
    "    def __init__(self, file_name, method):\n",
    "        self.file_obj = open(file_name, method)\n",
    "    \n",
    "    def __enter__(self):\n",
    "        return self.file_obj\n",
    "    \n",
    "    def __exit__(self, exc_type, exc_value, exc_traceback):\n",
    "        if exc_type:\n",
    "            print(\"Padł wyjątek, trzeba posprzątać\")\n",
    "        else:\n",
    "            print(\"Zamykam normalnie\")\n",
    "        self.file_obj.close()\n"
   ]
  },
  {
   "cell_type": "code",
   "execution_count": 114,
   "id": "administrative-chocolate",
   "metadata": {},
   "outputs": [
    {
     "name": "stdout",
     "output_type": "stream",
     "text": [
      "Padł wyjątek, trzeba posprzątać\n"
     ]
    },
    {
     "ename": "ZeroDivisionError",
     "evalue": "division by zero",
     "output_type": "error",
     "traceback": [
      "\u001b[0;31m---------------------------------------------------------------------------\u001b[0m",
      "\u001b[0;31mZeroDivisionError\u001b[0m                         Traceback (most recent call last)",
      "\u001b[0;32m<ipython-input-114-0b97cd485362>\u001b[0m in \u001b[0;36m<module>\u001b[0;34m\u001b[0m\n\u001b[1;32m      1\u001b[0m \u001b[0;32mwith\u001b[0m \u001b[0mFile\u001b[0m\u001b[0;34m(\u001b[0m\u001b[0;34m'experiment.txt'\u001b[0m\u001b[0;34m,\u001b[0m \u001b[0;34m'w'\u001b[0m\u001b[0;34m)\u001b[0m \u001b[0;32mas\u001b[0m \u001b[0mf\u001b[0m\u001b[0;34m:\u001b[0m\u001b[0;34m\u001b[0m\u001b[0;34m\u001b[0m\u001b[0m\n\u001b[0;32m----> 2\u001b[0;31m     \u001b[0;36m1\u001b[0m\u001b[0;34m/\u001b[0m\u001b[0;36m0\u001b[0m\u001b[0;34m\u001b[0m\u001b[0;34m\u001b[0m\u001b[0m\n\u001b[0m\u001b[1;32m      3\u001b[0m     \u001b[0mf\u001b[0m\u001b[0;34m.\u001b[0m\u001b[0mwrite\u001b[0m\u001b[0;34m(\u001b[0m\u001b[0;34m\"cos tam\"\u001b[0m\u001b[0;34m)\u001b[0m\u001b[0;34m\u001b[0m\u001b[0;34m\u001b[0m\u001b[0m\n",
      "\u001b[0;31mZeroDivisionError\u001b[0m: division by zero"
     ]
    }
   ],
   "source": [
    "with File('experiment.txt', 'w') as f:\n",
    "    1/0\n",
    "    f.write(\"cos tam\")\n"
   ]
  },
  {
   "cell_type": "code",
   "execution_count": 115,
   "id": "capable-senior",
   "metadata": {},
   "outputs": [
    {
     "data": {
      "text/plain": [
       "True"
      ]
     },
     "execution_count": 115,
     "metadata": {},
     "output_type": "execute_result"
    }
   ],
   "source": [
    "\n",
    "f.closed"
   ]
  },
  {
   "cell_type": "code",
   "execution_count": 122,
   "id": "wound-pilot",
   "metadata": {},
   "outputs": [],
   "source": [
    "import time\n",
    "\n",
    "x = time.time()"
   ]
  },
  {
   "cell_type": "code",
   "execution_count": 123,
   "id": "equipped-ocean",
   "metadata": {},
   "outputs": [
    {
     "data": {
      "text/plain": [
       "0.2992992401123047"
      ]
     },
     "execution_count": 123,
     "metadata": {},
     "output_type": "execute_result"
    }
   ],
   "source": [
    "time.time() - x"
   ]
  },
  {
   "cell_type": "code",
   "execution_count": 121,
   "id": "executed-recording",
   "metadata": {},
   "outputs": [],
   "source": [
    "time.monotonic?"
   ]
  },
  {
   "cell_type": "markdown",
   "id": "atomic-topic",
   "metadata": {},
   "source": [
    "## Exercise:\n",
    "\n",
    "Stwórz manager kontekstu Timer, który będzie mierzyć czas wykonywania operacji w nim zawartych. Dodatkowo powinien przyjmować tekst, który posłuży do opisania tego czasu. Przykład użycia:\n",
    "\n",
    "    with Timer(\"doing stuff\"):\n",
    "        for i in range(1000000):\n",
    "            pass\n",
    "\n",
    "    doing stuff: 0.038823912997031584 s\n",
    "\n",
    "W przypadku wystąpienia wyjątku należy wypisać komunikat, np:\n",
    "\n",
    "    with Timer(\"doing stuff\"):\n",
    "        for i in range(1000000):\n",
    "            pass\n",
    "        if i == 10000:\n",
    "            i / 0\n",
    "\n",
    "    Failed: doing stuff: division by zero"
   ]
  },
  {
   "cell_type": "markdown",
   "id": "organizational-webmaster",
   "metadata": {},
   "source": [
    "https://docs.python.org/3/library/time.html#time.monotonic"
   ]
  },
  {
   "cell_type": "code",
   "execution_count": 128,
   "id": "actual-portfolio",
   "metadata": {},
   "outputs": [],
   "source": [
    "t = time.monotonic()"
   ]
  },
  {
   "cell_type": "code",
   "execution_count": 129,
   "id": "victorian-cursor",
   "metadata": {},
   "outputs": [
    {
     "data": {
      "text/plain": [
       "0.4782132250002178"
      ]
     },
     "execution_count": 129,
     "metadata": {},
     "output_type": "execute_result"
    }
   ],
   "source": [
    "time.monotonic() - t"
   ]
  },
  {
   "cell_type": "code",
   "execution_count": 141,
   "id": "manual-civilization",
   "metadata": {},
   "outputs": [],
   "source": [
    "import time\n",
    "\n",
    "class Timer:\n",
    "    def __init__(self, msg):\n",
    "        self.msg = msg\n",
    "        \n",
    "    \n",
    "    def __enter__(self):\n",
    "        self.start = time.time()\n",
    "        print(self.start)\n",
    "    \n",
    "    def __exit__(self, exc_type, exc_value, exc_traceback):\n",
    "        if exc_type:\n",
    "            print(f\"Failed: {self.msg} {exc_value}\")\n",
    "        else:\n",
    "            print(time.time())\n",
    "            print(f\"{self.msg}: {time.time() - self.start}s\")\n",
    "    "
   ]
  },
  {
   "cell_type": "code",
   "execution_count": 132,
   "id": "frozen-tobago",
   "metadata": {},
   "outputs": [
    {
     "name": "stdout",
     "output_type": "stream",
     "text": [
      "None\n",
      "doing stuff: 0.03548574447631836s\n"
     ]
    }
   ],
   "source": [
    "with Timer(\"doing stuff\") as f :\n",
    "    print(f)\n",
    "    for i in range(1000000):\n",
    "        pass\n",
    "    if i == 10000:\n",
    "        i / 0\n"
   ]
  },
  {
   "cell_type": "code",
   "execution_count": 142,
   "id": "polish-mumbai",
   "metadata": {},
   "outputs": [],
   "source": [
    "timer = Timer(\"doing...\")"
   ]
  },
  {
   "cell_type": "code",
   "execution_count": 143,
   "id": "discrete-truth",
   "metadata": {},
   "outputs": [
    {
     "name": "stdout",
     "output_type": "stream",
     "text": [
      "1620476397.5839748\n",
      "1620476397.5841038\n",
      "doing...: 0.0003719329833984375s\n"
     ]
    }
   ],
   "source": [
    "with timer:\n",
    "    for i in range(1000):\n",
    "        pass"
   ]
  },
  {
   "cell_type": "markdown",
   "id": "physical-dinner",
   "metadata": {},
   "source": [
    "# moduł, paczka, importy"
   ]
  },
  {
   "cell_type": "markdown",
   "id": "decent-kingston",
   "metadata": {},
   "source": [
    "## Exercise\n",
    "\n",
    "Utwórz następującą strukturę pakietów i modułów:\n",
    "- główny pakiet `mathematica`\n",
    "- pakiet wewnętrzny `geometry`\n",
    "- moduł figures w pakiecie geometry z funkcjami\n",
    "`square_area` oraz `triangle_area`\n",
    "- pakiet wewnętrzny `algebra`\n",
    "- moduł matrices w pakiecie `algebra` z funkcją\n",
    "`add_matrices` i `sub_matrices`\n",
    "- główny pakiet `tests`\n",
    "- moduł `test_geometry` testujący funkcje geometryczne\n",
    "- moduł `test_algebra` testujący funkcje algebraiczne"
   ]
  },
  {
   "cell_type": "markdown",
   "id": "functional-madrid",
   "metadata": {},
   "source": [
    "# PEP8\n",
    "\n",
    "https://www.python.org/dev/peps/pep-0008/\n",
    "\n",
    "    pip install flake8"
   ]
  },
  {
   "cell_type": "markdown",
   "id": "drawn-determination",
   "metadata": {},
   "source": [
    "# Praca z plikami\n",
    "\n",
    "open\n",
    "\n",
    "sys.argv\n",
    "\n",
    "argparse\n",
    "\n"
   ]
  },
  {
   "cell_type": "markdown",
   "id": "brown-swaziland",
   "metadata": {},
   "source": [
    "## Exercise\n",
    "\n",
    "Napisz program wypisujący na konsolę zawartość wskazanego pliku wraz z numerami linii. Obsłuż sytuację, gdy użytkownik nie poda nazwy pliku lub poda błędną nazwę.\n",
    "Przykład użycia:\n",
    "\n",
    "\n",
    "    $ python line_numerator.py test.txt\n",
    "    1: pierwsza linia pliku\n",
    "    2: druga linia pliku"
   ]
  },
  {
   "cell_type": "code",
   "execution_count": 149,
   "id": "fifteen-culture",
   "metadata": {},
   "outputs": [
    {
     "name": "stdout",
     "output_type": "stream",
     "text": [
      "Overwriting argparse_example.py\n"
     ]
    }
   ],
   "source": [
    "%%writefile argparse_example.py\n",
    "## Argparse\n",
    "\n",
    "import argparse\n",
    "\n",
    "parser = argparse.ArgumentParser(description=\"Process file...\")\n",
    "parser.add_argument(\"-o\", '--out_file', type=str)\n",
    "parser.add_argument(\"-n\", \"--names\", type=str, nargs=\"+\")\n",
    "parser.add_argument(\"-i\", \"--integers\", type=int, nargs=\"+\")\n",
    "\n",
    "args = parser.parse_args()\n",
    "print(args)\n",
    "\n",
    "with open(args.out_file, 'w') as f:\n",
    "    for n, i in zip(args.names, args.integers):\n",
    "        f.write(f\"{n}, {i ** 2}\\n\")\n"
   ]
  },
  {
   "cell_type": "code",
   "execution_count": 150,
   "id": "posted-position",
   "metadata": {},
   "outputs": [
    {
     "name": "stdout",
     "output_type": "stream",
     "text": [
      "usage: argparse_example.py [-h] [-o OUT_FILE] [-n NAMES [NAMES ...]]\r\n",
      "                           [-i INTEGERS [INTEGERS ...]]\r\n",
      "\r\n",
      "Process file...\r\n",
      "\r\n",
      "optional arguments:\r\n",
      "  -h, --help            show this help message and exit\r\n",
      "  -o OUT_FILE, --out_file OUT_FILE\r\n",
      "  -n NAMES [NAMES ...], --names NAMES [NAMES ...]\r\n",
      "  -i INTEGERS [INTEGERS ...], --integers INTEGERS [INTEGERS ...]\r\n"
     ]
    }
   ],
   "source": [
    "!python3 argparse_example.py -h"
   ]
  },
  {
   "cell_type": "code",
   "execution_count": 151,
   "id": "physical-panic",
   "metadata": {},
   "outputs": [
    {
     "name": "stdout",
     "output_type": "stream",
     "text": [
      "Namespace(integers=[1, 2, 3], names=['a', 'b', 'c'], out_file='xxx.txt')\r\n"
     ]
    }
   ],
   "source": [
    "!python3 argparse_example.py -n a b c -i 1 2 3 -o xxx.txt"
   ]
  },
  {
   "cell_type": "code",
   "execution_count": 152,
   "id": "democratic-secondary",
   "metadata": {},
   "outputs": [
    {
     "name": "stdout",
     "output_type": "stream",
     "text": [
      "a, 1\r\n",
      "b, 4\r\n",
      "c, 9\r\n"
     ]
    }
   ],
   "source": [
    "cat xxx.txt"
   ]
  },
  {
   "cell_type": "markdown",
   "id": "dietary-purchase",
   "metadata": {},
   "source": [
    "## Exercise\n",
    "\n",
    "Napisz program wczytujący plik z logami aktywności użytkowników w systemie. Na podstawie wczytanych danych wyświetl informację o sumarycznym czasie przebywania każdego użytkownika w systemie.\n",
    "\n",
    "Przykład użycia:\n",
    "\n",
    "Użyj argparse\n",
    "\n",
    "\n",
    "\n",
    "    $ python read_logs.py -f logs.txt -o out.txt\n",
    "\n",
    "    .. zapis do pliku i nie wyświetla\n",
    "\n",
    "\n",
    "    $ python read_logs.py -f logs.txt\n",
    "\n",
    "    Czas przebywania w systemie:\n",
    "    - user-1: 92 s\n",
    "    - user-2: 51 s\n",
    "    - user-3: 20 s"
   ]
  },
  {
   "cell_type": "code",
   "execution_count": 156,
   "id": "fitting-curtis",
   "metadata": {},
   "outputs": [
    {
     "name": "stdout",
     "output_type": "stream",
     "text": [
      "Overwriting logs.txt\n"
     ]
    }
   ],
   "source": [
    "%%writefile logs.txt\n",
    "login;action;time\n",
    "user-9;LOGIN;45\n",
    "user-3;LOGIN;56\n",
    "user-8;LOGIN;174\n",
    "user-8;LOGOUT;201\n",
    "user-9;LOGOUT;284\n",
    "user-8;LOGIN;384\n",
    "user-2;LOGIN;427\n",
    "user-1;LOGIN;465\n",
    "user-7;LOGIN;529\n",
    "user-3;LOGOUT;623\n",
    "user-6;LOGIN;660\n",
    "user-6;LOGOUT;718\n",
    "user-4;LOGIN;809\n",
    "user-10;LOGIN;859\n",
    "user-3;LOGIN;915\n",
    "user-1;LOGOUT;1026\n",
    "user-8;LOGOUT;1135\n",
    "user-7;LOGOUT;1139\n",
    "user-8;LOGIN;1194\n",
    "user-3;LOGOUT;1304\n",
    "user-10;LOGOUT;1331\n",
    "user-1;LOGIN;1352\n",
    "user-9;LOGIN;1463\n",
    "user-7;LOGIN;1479\n",
    "user-10;LOGIN;1570\n",
    "user-10;LOGOUT;1675\n",
    "user-6;LOGIN;1735\n",
    "user-7;LOGOUT;1759\n",
    "user-4;LOGOUT;1811\n",
    "user-1;LOGOUT;1854\n",
    "user-8;LOGOUT;1902\n",
    "user-2;LOGOUT;1928\n",
    "user-7;LOGIN;1961\n",
    "user-7;LOGOUT;1983\n",
    "user-5;LOGIN;2049\n",
    "user-2;LOGIN;2144\n",
    "user-9;LOGOUT;2263\n",
    "user-5;LOGOUT;2306\n",
    "user-7;LOGIN;2375\n",
    "user-9;LOGIN;2387\n",
    "user-7;LOGOUT;2493\n",
    "user-2;LOGOUT;2494\n",
    "user-5;LOGIN;2581\n",
    "user-4;LOGIN;2659\n",
    "user-2;LOGIN;2725\n",
    "user-8;LOGIN;2766\n",
    "user-6;LOGOUT;2826\n",
    "user-1;LOGIN;2887\n",
    "user-9;LOGOUT;2987\n",
    "user-4;LOGOUT;2993\n",
    "user-8;LOGOUT;3069\n",
    "user-2;LOGOUT;3169\n",
    "user-7;LOGIN;3215\n",
    "user-6;LOGIN;3280\n",
    "user-1;LOGOUT;3317\n",
    "user-1;LOGIN;3367\n",
    "user-3;LOGIN;3481\n",
    "user-8;LOGIN;3487\n",
    "user-8;LOGOUT;3509\n",
    "user-4;LOGIN;3516\n",
    "user-7;LOGOUT;3612\n",
    "user-9;LOGIN;3653\n",
    "user-10;LOGIN;3665\n",
    "user-10;LOGOUT;3705\n",
    "user-2;LOGIN;3758\n",
    "user-5;LOGOUT;3818\n",
    "user-10;LOGIN;3936\n",
    "user-7;LOGIN;3993\n",
    "user-7;LOGOUT;3997\n",
    "user-5;LOGIN;4096\n",
    "user-7;LOGIN;4129\n",
    "user-7;LOGOUT;4194\n",
    "user-2;LOGOUT;4303\n",
    "user-9;LOGOUT;4358\n",
    "user-1;LOGOUT;4419\n",
    "user-5;LOGOUT;4511\n",
    "user-4;LOGOUT;4535\n",
    "user-6;LOGOUT;4580\n",
    "user-8;LOGIN;4694\n",
    "user-2;LOGIN;4780\n",
    "user-6;LOGIN;4838\n",
    "user-5;LOGIN;4943\n",
    "user-1;LOGIN;5062\n",
    "user-5;LOGOUT;5149\n",
    "user-10;LOGOUT;5223\n",
    "user-4;LOGIN;5235\n",
    "user-8;LOGOUT;5318\n",
    "user-10;LOGIN;5355\n",
    "user-7;LOGIN;5414\n",
    "user-10;LOGOUT;5416\n",
    "user-6;LOGOUT;5511\n",
    "user-3;LOGOUT;5612\n",
    "user-4;LOGOUT;5689\n",
    "user-1;LOGOUT;5712\n",
    "user-5;LOGIN;5791\n",
    "user-5;LOGOUT;5814\n",
    "user-2;LOGOUT;5895\n",
    "user-3;LOGIN;5905\n",
    "user-2;LOGIN;5973\n",
    "user-1;LOGIN;6078\n",
    "user-3;LOGOUT;6191\n",
    "user-2;LOGOUT;6295\n",
    "user-1;LOGOUT;6373\n",
    "user-7;LOGOUT;6477\n"
   ]
  },
  {
   "cell_type": "code",
   "execution_count": 162,
   "id": "minute-public",
   "metadata": {},
   "outputs": [
    {
     "name": "stdout",
     "output_type": "stream",
     "text": [
      "login\n",
      "user-9\n",
      "user-3\n",
      "user-8\n",
      "user-8\n",
      "user-9\n",
      "user-8\n",
      "user-2\n",
      "user-1\n",
      "user-7\n",
      "user-3\n",
      "user-6\n",
      "user-6\n",
      "user-4\n",
      "user-10\n",
      "user-3\n",
      "user-1\n",
      "user-8\n",
      "user-7\n",
      "user-8\n",
      "user-3\n",
      "user-10\n",
      "user-1\n",
      "user-9\n",
      "user-7\n",
      "user-10\n",
      "user-10\n",
      "user-6\n",
      "user-7\n",
      "user-4\n",
      "user-1\n",
      "user-8\n",
      "user-2\n",
      "user-7\n",
      "user-7\n",
      "user-5\n",
      "user-2\n",
      "user-9\n",
      "user-5\n",
      "user-7\n",
      "user-9\n",
      "user-7\n",
      "user-2\n",
      "user-5\n",
      "user-4\n",
      "user-2\n",
      "user-8\n",
      "user-6\n",
      "user-1\n",
      "user-9\n",
      "user-4\n",
      "user-8\n",
      "user-2\n",
      "user-7\n",
      "user-6\n",
      "user-1\n",
      "user-1\n",
      "user-3\n",
      "user-8\n",
      "user-8\n",
      "user-4\n",
      "user-7\n",
      "user-9\n",
      "user-10\n",
      "user-10\n",
      "user-2\n",
      "user-5\n",
      "user-10\n",
      "user-7\n",
      "user-7\n",
      "user-5\n",
      "user-7\n",
      "user-7\n",
      "user-2\n",
      "user-9\n",
      "user-1\n",
      "user-5\n",
      "user-4\n",
      "user-6\n",
      "user-8\n",
      "user-2\n",
      "user-6\n",
      "user-5\n",
      "user-1\n",
      "user-5\n",
      "user-10\n",
      "user-4\n",
      "user-8\n",
      "user-10\n",
      "user-7\n",
      "user-10\n",
      "user-6\n",
      "user-3\n",
      "user-4\n",
      "user-1\n",
      "user-5\n",
      "user-5\n",
      "user-2\n",
      "user-3\n",
      "user-2\n",
      "user-1\n",
      "user-3\n",
      "user-2\n",
      "user-1\n",
      "user-7\n"
     ]
    }
   ],
   "source": [
    "import csv\n",
    "\n",
    "with open('logs.txt') as f:\n",
    "    reader = csv.reader(f, delimiter=\";\")\n",
    "    \n",
    "    for row in reader:\n",
    "        print(row[0])"
   ]
  },
  {
   "cell_type": "code",
   "execution_count": 160,
   "id": "changed-calendar",
   "metadata": {},
   "outputs": [
    {
     "name": "stdout",
     "output_type": "stream",
     "text": [
      "user-9\n",
      "user-3\n",
      "user-8\n",
      "user-8\n",
      "user-9\n",
      "user-8\n",
      "user-2\n",
      "user-1\n",
      "user-7\n",
      "user-3\n",
      "user-6\n",
      "user-6\n",
      "user-4\n",
      "user-10\n",
      "user-3\n",
      "user-1\n",
      "user-8\n",
      "user-7\n",
      "user-8\n",
      "user-3\n",
      "user-10\n",
      "user-1\n",
      "user-9\n",
      "user-7\n",
      "user-10\n",
      "user-10\n",
      "user-6\n",
      "user-7\n",
      "user-4\n",
      "user-1\n",
      "user-8\n",
      "user-2\n",
      "user-7\n",
      "user-7\n",
      "user-5\n",
      "user-2\n",
      "user-9\n",
      "user-5\n",
      "user-7\n",
      "user-9\n",
      "user-7\n",
      "user-2\n",
      "user-5\n",
      "user-4\n",
      "user-2\n",
      "user-8\n",
      "user-6\n",
      "user-1\n",
      "user-9\n",
      "user-4\n",
      "user-8\n",
      "user-2\n",
      "user-7\n",
      "user-6\n",
      "user-1\n",
      "user-1\n",
      "user-3\n",
      "user-8\n",
      "user-8\n",
      "user-4\n",
      "user-7\n",
      "user-9\n",
      "user-10\n",
      "user-10\n",
      "user-2\n",
      "user-5\n",
      "user-10\n",
      "user-7\n",
      "user-7\n",
      "user-5\n",
      "user-7\n",
      "user-7\n",
      "user-2\n",
      "user-9\n",
      "user-1\n",
      "user-5\n",
      "user-4\n",
      "user-6\n",
      "user-8\n",
      "user-2\n",
      "user-6\n",
      "user-5\n",
      "user-1\n",
      "user-5\n",
      "user-10\n",
      "user-4\n",
      "user-8\n",
      "user-10\n",
      "user-7\n",
      "user-10\n",
      "user-6\n",
      "user-3\n",
      "user-4\n",
      "user-1\n",
      "user-5\n",
      "user-5\n",
      "user-2\n",
      "user-3\n",
      "user-2\n",
      "user-1\n",
      "user-3\n",
      "user-2\n",
      "user-1\n",
      "user-7\n"
     ]
    }
   ],
   "source": [
    "\n",
    "with open('logs.txt') as f:\n",
    "    reader = csv.DictReader(f, delimiter=\";\")\n",
    "    \n",
    "    for row in reader:\n",
    "        print(row['login'])\n",
    "        "
   ]
  },
  {
   "cell_type": "code",
   "execution_count": 166,
   "id": "universal-booth",
   "metadata": {},
   "outputs": [],
   "source": [
    "import csv\n",
    "\n",
    "with open('x.txt', 'w') as f:\n",
    "    doc = csv.writer(f)\n",
    "    doc.writerow('abc')\n",
    "    doc.writerow(range(3))"
   ]
  },
  {
   "cell_type": "code",
   "execution_count": 167,
   "id": "least-carol",
   "metadata": {},
   "outputs": [
    {
     "name": "stdout",
     "output_type": "stream",
     "text": [
      "a,b,c\r",
      "\r\n",
      "0,1,2\r",
      "\r\n"
     ]
    }
   ],
   "source": [
    "cat x.txt"
   ]
  },
  {
   "cell_type": "markdown",
   "id": "lightweight-personal",
   "metadata": {},
   "source": [
    "## Exercise\n",
    "\n",
    "Stwórz funkcje reverses_file, która będzie zwracać tekst w pliku podzielony na linie w odwrotnej kolejności, \n",
    "czyli od ostatniej linii do pierwszej\n",
    "\n",
    "np. dla pliku 'xxx.txt' o zawartości:\n",
    "    \n",
    "     line 1\n",
    "    line 2\n",
    "    line 3\n",
    "    \n",
    "takie wywołanie:\n",
    "    \n",
    "    for line in reversed_file('xxx.txt'):\n",
    "        print(line)\n",
    "\n",
    "da wynik:\n",
    "    \n",
    "    line 3\n",
    "    line 2\n",
    "     line 1\n",
    "\n",
    "Zwróć uwagę, że usuwane są entery\n",
    "zmodyfikuj funkcję tak by zwracała obiekt iterowalny (generator)\n",
    "\n",
    "    >>> lines = reversed_file('xxx.txt')\n",
    "    >>> next(lines)\n",
    "    'line 3'\n",
    "    >>> next(lines)\n",
    "    'line 2'\n",
    "    >>> next(lines)\n",
    "    ' line 1'\n",
    "    "
   ]
  },
  {
   "cell_type": "code",
   "execution_count": null,
   "id": "secure-prize",
   "metadata": {},
   "outputs": [],
   "source": []
  }
 ],
 "metadata": {
  "kernelspec": {
   "display_name": "Python 3",
   "language": "python",
   "name": "python3"
  },
  "language_info": {
   "codemirror_mode": {
    "name": "ipython",
    "version": 3
   },
   "file_extension": ".py",
   "mimetype": "text/x-python",
   "name": "python",
   "nbconvert_exporter": "python",
   "pygments_lexer": "ipython3",
   "version": "3.7.9"
  },
  "toc": {
   "base_numbering": 1,
   "nav_menu": {},
   "number_sections": true,
   "sideBar": true,
   "skip_h1_title": false,
   "title_cell": "Table of Contents",
   "title_sidebar": "Contents",
   "toc_cell": false,
   "toc_position": {},
   "toc_section_display": true,
   "toc_window_display": false
  }
 },
 "nbformat": 4,
 "nbformat_minor": 5
}
