{
 "cells": [
  {
   "cell_type": "markdown",
   "id": "freelance-diagnosis",
   "metadata": {},
   "source": [
    "\n",
    "<p style=\"text-align: center; font-size: 32pt; line-height: 36pt\">\n",
    "    <b>Python Backend Developer - zjazd 3</b>\n",
    "</p>\n",
    "\n",
    "\n",
    "<p style=\"text-align: center; font-size: 12pt; line-height: 16pt;\">\n",
    "<b>Trener</b><br>\n",
    "Rafał Korzeniewski<br>\n",
    "tel.: <a href=\"tel:+48790018662\">+48 790 018 662</a><br>\n",
    "email: <a href=\"mailto:korzeniewski@gmail.com\">korzeniewski@gmail.com</a><br>\n",
    "</p>\n"
   ]
  },
  {
   "cell_type": "markdown",
   "id": "pressed-sudan",
   "metadata": {},
   "source": [
    "# Przypomnienie\n",
    "\n",
    "1. Funkcje\n",
    "\n",
    "2. \\*args \\*\\*kwargs\n",
    "\n",
    "3. Dekoratory\n",
    "\n",
    "4. Generatory\n",
    "\n",
    "5. Rekurencja\n",
    "\n",
    "6. OOP - class"
   ]
  },
  {
   "cell_type": "markdown",
   "id": "later-experiment",
   "metadata": {},
   "source": [
    "## Quizy - funkcje\n",
    "\n",
    "### Które zdania dotyczące funkcji w pythonie są prawdziwe\n",
    "\n",
    "A) Funkcja to blok kodu, który wykonywany jest w momencie wywołania\n",
    "\n",
    "B) Python nie wspiera zagnieżdżania funkcji\n",
    "\n",
    "C) Funkcje wykonywane są w momencie wywołania i mogę być wielokrotnie używane w programie\n",
    "\n",
    "D) Funkcje można zdefiniować tak, by przyjmowały dowolną liczbę argumentów\n",
    "\n",
    "ODP: A, C, D"
   ]
  },
  {
   "cell_type": "markdown",
   "id": "eleven-gibson",
   "metadata": {},
   "source": [
    "### Funkcja zawsze zwraca jakaś wartość\n",
    "\n",
    "Tak\n",
    "\n",
    "Nie\n",
    "\n",
    "\n"
   ]
  },
  {
   "cell_type": "markdown",
   "id": "unlikely-activation",
   "metadata": {},
   "source": [
    "### Co będzie wynikiem działania poniższego skryptu:\n",
    "\n",
    "```python\n",
    "def display():\n",
    "    c = 0\n",
    "    c = 10 + 20\n",
    "    c\n",
    "    \n",
    "    \n",
    "    \n",
    "print(display())\n",
    "```\n",
    "\n",
    "A) 30\n",
    "\n",
    "B) False\n",
    "\n",
    "C) None"
   ]
  },
  {
   "cell_type": "code",
   "execution_count": 1,
   "id": "handmade-contamination",
   "metadata": {},
   "outputs": [
    {
     "name": "stdout",
     "output_type": "stream",
     "text": [
      "None\n"
     ]
    }
   ],
   "source": [
    "def display():\n",
    "    c = 0\n",
    "    c = 10 + 20\n",
    "    c\n",
    "    \n",
    "    \n",
    "    \n",
    "print(display())"
   ]
  },
  {
   "cell_type": "markdown",
   "id": "illegal-aspect",
   "metadata": {},
   "source": [
    "### Jaki będzie wynik wywołania następującej funkcji\n",
    "\n",
    "```python\n",
    "def display_person(*args):\n",
    "    for i in args:\n",
    "        print(i)\n",
    "\n",
    "display_person(name=\"Emma\", age=\"25\")\n",
    "```\n",
    "\n",
    "A) `TypeError`\n",
    "\n",
    "B) \n",
    "```\n",
    "name\n",
    "age\n",
    "```\n",
    "\n",
    "C)\n",
    "```\n",
    "Emma\n",
    "25\n",
    "```"
   ]
  },
  {
   "cell_type": "code",
   "execution_count": 2,
   "id": "streaming-swedish",
   "metadata": {},
   "outputs": [
    {
     "ename": "TypeError",
     "evalue": "display_person() got an unexpected keyword argument 'name'",
     "output_type": "error",
     "traceback": [
      "\u001b[0;31m---------------------------------------------------------------------------\u001b[0m",
      "\u001b[0;31mTypeError\u001b[0m                                 Traceback (most recent call last)",
      "\u001b[0;32m<ipython-input-2-a78e39ba141a>\u001b[0m in \u001b[0;36m<module>\u001b[0;34m\u001b[0m\n\u001b[1;32m      3\u001b[0m         \u001b[0mprint\u001b[0m\u001b[0;34m(\u001b[0m\u001b[0mi\u001b[0m\u001b[0;34m)\u001b[0m\u001b[0;34m\u001b[0m\u001b[0;34m\u001b[0m\u001b[0m\n\u001b[1;32m      4\u001b[0m \u001b[0;34m\u001b[0m\u001b[0m\n\u001b[0;32m----> 5\u001b[0;31m \u001b[0mdisplay_person\u001b[0m\u001b[0;34m(\u001b[0m\u001b[0mname\u001b[0m\u001b[0;34m=\u001b[0m\u001b[0;34m\"Emma\"\u001b[0m\u001b[0;34m,\u001b[0m \u001b[0mage\u001b[0m\u001b[0;34m=\u001b[0m\u001b[0;34m\"25\"\u001b[0m\u001b[0;34m)\u001b[0m\u001b[0;34m\u001b[0m\u001b[0;34m\u001b[0m\u001b[0m\n\u001b[0m",
      "\u001b[0;31mTypeError\u001b[0m: display_person() got an unexpected keyword argument 'name'"
     ]
    }
   ],
   "source": [
    "def display_person(*args):\n",
    "    for i in args:\n",
    "        print(i)\n",
    "\n",
    "display_person(name=\"Emma\", age=\"25\")"
   ]
  },
  {
   "cell_type": "markdown",
   "id": "wooden-surprise",
   "metadata": {},
   "source": [
    "### Co będzie wynikiem poniższego kodu:\n",
    "\n",
    "```python\n",
    "def outerFun(a, b):\n",
    "    def innerFun(c, d):\n",
    "        return c + d\n",
    "    return innerFun(a, b)\n",
    "    return a\n",
    "\n",
    "result = outerFun(5, 10)\n",
    "print(result)\n",
    "```\n",
    "\n",
    "A) 5\n",
    "\n",
    "B) 15\n",
    "\n",
    "C) (15, 5)\n",
    "\n",
    "D) SyntaxError"
   ]
  },
  {
   "cell_type": "code",
   "execution_count": 3,
   "id": "thorough-neutral",
   "metadata": {},
   "outputs": [
    {
     "name": "stdout",
     "output_type": "stream",
     "text": [
      "15\n"
     ]
    }
   ],
   "source": [
    "def outerFun(a, b):\n",
    "    def innerFun(c, d):\n",
    "        return c + d\n",
    "    return innerFun(a, b)\n",
    "    return a\n",
    "\n",
    "result = outerFun(5, 10)\n",
    "print(result)"
   ]
  },
  {
   "cell_type": "markdown",
   "id": "adjacent-graphic",
   "metadata": {},
   "source": [
    "###  Co będzie wynikiem działania poniższego kodu:\n",
    "\n",
    "```python\n",
    "def fun1(name, age=20):\n",
    "    print(name, age)\n",
    "\n",
    "fun1('Emma', 25)\n",
    "```\n",
    "\n",
    "A) Emma 25\n",
    "\n",
    "B) Emma 20"
   ]
  },
  {
   "cell_type": "markdown",
   "id": "composite-terrain",
   "metadata": {},
   "source": [
    "### Co znajduje się w zmiennej `y`?\n",
    "\n",
    "```Python\n",
    "def add(a, b):\n",
    "    return a + 5, b + 5\n",
    "\n",
    "x, y = add(3, 2)\n",
    "```\n",
    "\n",
    "A) 15\n",
    "\n",
    "B) 8\n",
    "\n",
    "C) (8, 7)\n",
    "\n",
    "D) 7"
   ]
  },
  {
   "cell_type": "markdown",
   "id": "billion-embassy",
   "metadata": {},
   "source": [
    "### Które z poniższych funkcji pozwolą na poniższe wywołania:\n",
    "\n",
    "```python\n",
    "function(25, 75, 55)\n",
    "function(10, 20)\n",
    "```\n",
    "\n",
    "A) `def function(**kwargs): pass`\n",
    "\n",
    "B) `def function(a, b, c=0): pass`\n",
    "\n",
    "C) `def function(args*): pass`\n",
    "\n",
    "D) `def function(*data): pass`\n"
   ]
  },
  {
   "cell_type": "code",
   "execution_count": 4,
   "id": "dress-algeria",
   "metadata": {},
   "outputs": [
    {
     "ename": "SyntaxError",
     "evalue": "invalid syntax (<ipython-input-4-a1bdef568f23>, line 1)",
     "output_type": "error",
     "traceback": [
      "\u001b[0;36m  File \u001b[0;32m\"<ipython-input-4-a1bdef568f23>\"\u001b[0;36m, line \u001b[0;32m1\u001b[0m\n\u001b[0;31m    def function(args*): pass\u001b[0m\n\u001b[0m                     ^\u001b[0m\n\u001b[0;31mSyntaxError\u001b[0m\u001b[0;31m:\u001b[0m invalid syntax\n"
     ]
    }
   ],
   "source": [
    "def function(args*): pass"
   ]
  },
  {
   "cell_type": "markdown",
   "id": "three-immigration",
   "metadata": {},
   "source": [
    "### mamy funkcje `hello`, które z jej wywołań są prawidłowe:\n",
    "\n",
    "```python\n",
    "\n",
    "def hello(name, age):\n",
    "    print(name, age)\n",
    "```\n",
    "\n",
    "A) `hello(\"Emma\", age=23)`\n",
    "\n",
    "B) `hello(age=23, name=\"Emma\")`\n",
    "\n",
    "C) `hello(name=\"Emma\", 23)`\n",
    "\n",
    "D) `hello(age=23, \"Emma\")`"
   ]
  },
  {
   "cell_type": "code",
   "execution_count": 5,
   "id": "thorough-giving",
   "metadata": {},
   "outputs": [
    {
     "ename": "SyntaxError",
     "evalue": "invalid syntax (<ipython-input-5-7c434b2ad3e5>, line 1)",
     "output_type": "error",
     "traceback": [
      "\u001b[0;36m  File \u001b[0;32m\"<ipython-input-5-7c434b2ad3e5>\"\u001b[0;36m, line \u001b[0;32m1\u001b[0m\n\u001b[0;31m    A i B\u001b[0m\n\u001b[0m      ^\u001b[0m\n\u001b[0;31mSyntaxError\u001b[0m\u001b[0;31m:\u001b[0m invalid syntax\n"
     ]
    }
   ],
   "source": [
    "# A i B"
   ]
  },
  {
   "cell_type": "markdown",
   "id": "numeric-hayes",
   "metadata": {},
   "source": [
    "### Co będzie wynikiem działania poniższego kodu:\n",
    "\n",
    "```python\n",
    "def display(**kwargs):\n",
    "    for i in kwargs:\n",
    "        print(i)\n",
    "\n",
    "print(display(emp=\"Kelly\", salary=9000))\n",
    "\n",
    "```\n",
    "\n",
    "A) TypeError\n",
    "\n",
    "B)\n",
    "```\n",
    "(’emp’, ‘Kelly’)\n",
    "(‘salary’, 9000)\n",
    "```\n",
    "\n",
    "C) \n",
    "```\n",
    "emp\n",
    "salary\n",
    "None\n",
    "```\n",
    "\n",
    "D)\n",
    "```\n",
    "emp\n",
    "salary\n",
    "```"
   ]
  },
  {
   "cell_type": "code",
   "execution_count": 6,
   "id": "confident-competition",
   "metadata": {},
   "outputs": [
    {
     "name": "stdout",
     "output_type": "stream",
     "text": [
      "emp\n",
      "salary\n",
      "None\n"
     ]
    }
   ],
   "source": [
    "def display(**kwargs):\n",
    "    for i in kwargs:\n",
    "        print(i)\n",
    "\n",
    "print(display(emp=\"Kelly\", salary=9000))"
   ]
  },
  {
   "cell_type": "markdown",
   "id": "controversial-positive",
   "metadata": {},
   "source": [
    "### Jaki będzie wynik działania tego kodu?\n",
    "\n",
    "```python\n",
    "def outer(a, b):\n",
    "    def inner(c, d):\n",
    "        return c + d\n",
    "    return inner(a, b)\n",
    "\n",
    "res = outer(5, 10)\n",
    "print(res)\n",
    "```\n",
    "\n",
    "A) SyntaxError\n",
    "\n",
    "B) 15\n",
    "\n",
    "C) (5, 10)\n",
    "\n",
    "D) `<function outer.<locals>.inner at 0x...>`"
   ]
  },
  {
   "cell_type": "code",
   "execution_count": 8,
   "id": "polar-terrorism",
   "metadata": {},
   "outputs": [
    {
     "ename": "NameError",
     "evalue": "name 'outerFun1' is not defined",
     "output_type": "error",
     "traceback": [
      "\u001b[0;31m---------------------------------------------------------------------------\u001b[0m",
      "\u001b[0;31mNameError\u001b[0m                                 Traceback (most recent call last)",
      "\u001b[0;32m<ipython-input-8-8a0876a4f7be>\u001b[0m in \u001b[0;36m<module>\u001b[0;34m\u001b[0m\n\u001b[1;32m      4\u001b[0m     \u001b[0;32mreturn\u001b[0m \u001b[0minner\u001b[0m\u001b[0;34m(\u001b[0m\u001b[0ma\u001b[0m\u001b[0;34m,\u001b[0m \u001b[0mb\u001b[0m\u001b[0;34m)\u001b[0m\u001b[0;34m\u001b[0m\u001b[0;34m\u001b[0m\u001b[0m\n\u001b[1;32m      5\u001b[0m \u001b[0;34m\u001b[0m\u001b[0m\n\u001b[0;32m----> 6\u001b[0;31m \u001b[0mres\u001b[0m \u001b[0;34m=\u001b[0m \u001b[0mouterFun1\u001b[0m\u001b[0;34m|\u001b[0m\u001b[0;34m(\u001b[0m\u001b[0;36m5\u001b[0m\u001b[0;34m,\u001b[0m \u001b[0;36m10\u001b[0m\u001b[0;34m)\u001b[0m\u001b[0;34m\u001b[0m\u001b[0;34m\u001b[0m\u001b[0m\n\u001b[0m\u001b[1;32m      7\u001b[0m \u001b[0mprint\u001b[0m\u001b[0;34m(\u001b[0m\u001b[0mres\u001b[0m\u001b[0;34m)\u001b[0m\u001b[0;34m\u001b[0m\u001b[0;34m\u001b[0m\u001b[0m\n",
      "\u001b[0;31mNameError\u001b[0m: name 'outerFun1' is not defined"
     ]
    }
   ],
   "source": [
    "def outer(a, b):\n",
    "    def inner(c, d):\n",
    "        return c + d\n",
    "    return inner(a, b)\n",
    "\n",
    "res = outerFun1|(5, 10)\n",
    "print(res)"
   ]
  },
  {
   "cell_type": "markdown",
   "id": "sonic-fancy",
   "metadata": {},
   "source": [
    "### Co będzie wynikiem tego kodu?\n",
    "\n",
    "```python\n",
    "def outer():\n",
    "    def inner:\n",
    "        return lambda _: 10\n",
    "    \n",
    "    return inner\n",
    "\n",
    "outer()\n",
    "```\n",
    "\n",
    "A) 10\n",
    "\n",
    "B) TypeError\n",
    "\n",
    "C) <function __main__.outer.<locals>.inner()>\n",
    "    \n",
    "D) SyntaxError"
   ]
  },
  {
   "cell_type": "code",
   "execution_count": 9,
   "id": "charming-imaging",
   "metadata": {},
   "outputs": [
    {
     "ename": "SyntaxError",
     "evalue": "invalid syntax (<ipython-input-9-e7ae82a474b1>, line 2)",
     "output_type": "error",
     "traceback": [
      "\u001b[0;36m  File \u001b[0;32m\"<ipython-input-9-e7ae82a474b1>\"\u001b[0;36m, line \u001b[0;32m2\u001b[0m\n\u001b[0;31m    def inner:\u001b[0m\n\u001b[0m             ^\u001b[0m\n\u001b[0;31mSyntaxError\u001b[0m\u001b[0;31m:\u001b[0m invalid syntax\n"
     ]
    }
   ],
   "source": [
    "def outer():\n",
    "    def inner:\n",
    "        return lambda _: 10\n",
    "\n",
    "    return inner\n",
    "\n",
    "outer()"
   ]
  },
  {
   "cell_type": "markdown",
   "id": "partial-custody",
   "metadata": {},
   "source": [
    "### Co będzie wynikiem tego kodu?\n",
    "\n",
    "```python\n",
    "def outer():\n",
    "    def inner():\n",
    "        return lambda _: 10\n",
    "    \n",
    "    return inner\n",
    "\n",
    "outer()\n",
    "```\n",
    "\n",
    "A) 10\n",
    "\n",
    "B) TypeError\n",
    "\n",
    "C) <function __main__.outer.<locals>.inner()>\n",
    "    \n",
    "D) SyntaxError"
   ]
  },
  {
   "cell_type": "markdown",
   "id": "animal-health",
   "metadata": {},
   "source": [
    "## Exercise\n",
    "\n",
    "Stwórz klasę `FuzzyString`, która zachowuje się jak napis, ale jest niewrażliwa na wielkość liter przy porównaniach:\n",
    "\n",
    "Np:\n",
    "\n",
    "    >>> greeting = FuzzyString('Hey Rafał!')\n",
    "    >>> greeting == 'hey RAFAŁ!'\n",
    "    True\n",
    "    >>> greeting == 'heyRafał'\n",
    "    False\n",
    "    >>> greeting\n",
    "    'Hey Rafał!'\n",
    "\n",
    "\n",
    "klasa powinna mieć też reprezentację napisową i drukowalną - analogiczną do stringa\n",
    "\n",
    "\n",
    "    >>> str('hello')\n",
    "    'hello'\n",
    "    >>> repr('hello')\n",
    "    \"'hello'\"\n",
    "    \n",
    "### Bonus 1\n",
    "\n",
    "Zadbaj o to by inne porównania też przebiegały prawidłowo:\n",
    "\n",
    "    >>> o_word = FuzzyString('Octothorpe')\n",
    "    >>> 'hashtag' < o_word\n",
    "    True\n",
    "    >>> 'hashtag' > o_word\n",
    "    False\n",
    "\n",
    "Dwa obiekty typu `FuzzyString` też trzeba porównywać:\n",
    "\n",
    "    >>> tokyo = FuzzyString(\"tokyo\")\n",
    "    >>> toronto = FuzzyString(\"TORONTO\")\n",
    "    >>> tokyo < toronto\n",
    "    True\n",
    "    >>> toronto < tokyo\n",
    "    False\n",
    "\n",
    "### Bonus 2\n",
    "\n",
    "Zadbaj o to by działało łączenie naszych napisów z innymi napisami, oraz o to by działał operator `in`\n",
    "\n",
    "    >>> o_word = FuzzyString('Octothorpe')\n",
    "    >>> 'OCTO' in o_word\n",
    "    True\n",
    "    >>> new_string = o_word + ' (aka hashtag)'\n",
    "    >>> new_string == 'octothorpe (AKA hashtag)'\n",
    "    True\n",
    "    >>> city_name = FuzzyString(\"New Delhi\")\n",
    "    >>> city_name_part = FuzzyString(\"w del\")\n",
    "    >>> city_name_part in city_name\n",
    "    True\n",
    "\n",
    "### Bonus 3 \n",
    "\n",
    "Zadbaj o to by działało wycinanie - slicing\n",
    "\n",
    "    >>> word = FuzzyString('bootcamp')\n",
    "    >>> word[-1]\n",
    "    'p'\n",
    "    >>> word[2:5]\n",
    "    'oto'\n",
    "\n",
    "\n",
    "### Bonus 4\n",
    "\n",
    "Zadbaj o normalizację unicode. Czasem te same znaki mogą być zapisywane różnymi symbolami np ß i 'ss' to to samo w języku niemieckim\n",
    "\n",
    "\n",
    "    >>> ss = FuzzyString('ss')\n",
    "    >>> '\\u00df' == ss\n",
    "    True\n",
    "    >>> e = FuzzyString('\\u00e9')\n",
    "    >>> '\\u0065\\u0301' == e\n",
    "    True\n",
    "    >>> '\\u0301' in e\n",
    "    True\n",
    "    "
   ]
  },
  {
   "cell_type": "code",
   "execution_count": 10,
   "id": "theoretical-flush",
   "metadata": {},
   "outputs": [
    {
     "data": {
      "text/plain": [
       "'ß'"
      ]
     },
     "execution_count": 10,
     "metadata": {},
     "output_type": "execute_result"
    }
   ],
   "source": [
    "'\\u00df'"
   ]
  },
  {
   "cell_type": "code",
   "execution_count": null,
   "id": "attractive-stress",
   "metadata": {},
   "outputs": [],
   "source": [
    "%%writefile test_fuzzy_string.py\n",
    "import pytest\n",
    "\n",
    "from fuzzystring import FuzzyString\n",
    "\n",
    "\n",
    "class TestFuzzyString:\n",
    "    \"\"\"Tests for FuzzyString.\"\"\"\n",
    "\n",
    "    def test_constructor(self):\n",
    "        assert FuzzyString(\"hello\")\n",
    "\n",
    "    def test_equality_and_inequality_with_same_string(self):\n",
    "        hello = FuzzyString(\"hello\")\n",
    "        assert hello == \"hello\"\n",
    "        assert not hello != \"hello\"\n",
    "\n",
    "    def test_equality_with_completely_different_string(self):\n",
    "        hello = FuzzyString(\"hello\")\n",
    "        assert hello != \"Hello there\"\n",
    "        assert not hello == \"Hello there\"\n",
    "        assert hello != \"hello there\"\n",
    "        assert not hello == \"Hello there\"\n",
    "\n",
    "    def test_equality_and_inequality_with_different_case_string(self):\n",
    "        hello = FuzzyString(\"hellO\")\n",
    "        assert hello == \"Hello\"\n",
    "        assert not hello != \"Hello\"\n",
    "        assert hello == \"HELLO\"\n",
    "        assert not hello != \"HELLO\"\n",
    "\n",
    "    def test_string_representation(self):\n",
    "        hello = FuzzyString(\"heLlO\")\n",
    "        assert str(hello) == \"heLlO\"\n",
    "        assert repr(hello) == repr(\"heLlO\")\n",
    "\n",
    "    # Testy do Bonus 1\n",
    "    # zakomentuj dekorator by testy były brane pod uwagę\n",
    "    @pytest.mark.xfail\n",
    "    def test_other_string_comparisons(self):\n",
    "        apple = FuzzyString(\"Apple\")\n",
    "        assert apple > \"animal\"\n",
    "        assert \"animal\" < apple\n",
    "        assert not apple < \"animal\"\n",
    "        assert not \"animal\" > apple\n",
    "        assert apple >= \"animal\"\n",
    "        assert apple >= \"apple\"\n",
    "        assert \"animal\" <= apple\n",
    "        assert \"animal\" <= \"animal\"\n",
    "        assert not apple <= \"animal\"\n",
    "        assert not \"animal\" >= apple\n",
    "\n",
    "        # Additional test between the FuzzyString objects\n",
    "\n",
    "        warsaw = FuzzyString(\"Warsaw\")\n",
    "        wroclaw = FuzzyString(\"wroclaw\")\n",
    "\n",
    "        assert warsaw < wroclaw\n",
    "        assert wroclaw > warsaw\n",
    "        assert not warsaw > wroclaw\n",
    "        assert not wroclaw < warsaw\n",
    "        assert warsaw <= wroclaw\n",
    "        assert warsaw <= warsaw\n",
    "        assert wroclaw >= warsaw\n",
    "        assert wroclaw >= wroclaw\n",
    "        assert not warsaw >= wroclaw\n",
    "        assert not wroclaw <= warsaw\n",
    "\n",
    "    # Bonus 2\n",
    "    @pytest.mark.xfail\n",
    "    def test_string_operators(self):\n",
    "        hello = FuzzyString(\"heLlO\")\n",
    "        assert hello + \"!\" == \"helLo!\"\n",
    "        assert hello + \"!\" != \"hello\"\n",
    "        assert \"he\" in hello\n",
    "        assert \"He!\" not in hello\n",
    "\n",
    "        # Additional test between the FuzzyString objects\n",
    "\n",
    "        new_delhi = FuzzyString(\"NeW DELhi\")\n",
    "        new = FuzzyString(\"New\")\n",
    "        delhi = FuzzyString(\"Delhi\")\n",
    "        assert new + \" \" + delhi == new_delhi\n",
    "        assert new + delhi != new_delhi\n",
    "        assert delhi in new_delhi\n",
    "        assert new in new_delhi\n",
    "\n",
    "    # Bonus 3    \n",
    "    @pytest.mark.xfail\n",
    "    def test_slicing(self):\n",
    "        hello = FuzzyString(\"heLlO\")\n",
    "        assert hello[-1] == \"O\"\n",
    "        assert hello[:] == \"heLlO\"\n",
    "        assert hello[1:3] == \"eL\"\n",
    "\n",
    "    # Bonus 4\n",
    "    @pytest.mark.xfail\n",
    "    def test_normalizes_strings(self):\n",
    "        string = FuzzyString(\"\\u00df and ss\")\n",
    "        assert string == \"ss and \\u00df\"\n",
    "        string = FuzzyString(\"ß, ss, \\uf9fb, and \\u7099\")\n",
    "        assert string == \"ss, ß, \\u7099, and \\uf9fb\"\n",
    "\n",
    "        accent = '\\u0301'\n",
    "        accented_e = FuzzyString('\\u00e9')\n",
    "        assert '\\u0065\\u0301' == accented_e\n",
    "        assert accent in accented_e"
   ]
  }
 ],
 "metadata": {
  "kernelspec": {
   "display_name": "Python 3",
   "language": "python",
   "name": "python3"
  },
  "language_info": {
   "codemirror_mode": {
    "name": "ipython",
    "version": 3
   },
   "file_extension": ".py",
   "mimetype": "text/x-python",
   "name": "python",
   "nbconvert_exporter": "python",
   "pygments_lexer": "ipython3",
   "version": "3.7.9"
  },
  "toc": {
   "base_numbering": 1,
   "nav_menu": {},
   "number_sections": true,
   "sideBar": true,
   "skip_h1_title": false,
   "title_cell": "Table of Contents",
   "title_sidebar": "Contents",
   "toc_cell": false,
   "toc_position": {},
   "toc_section_display": true,
   "toc_window_display": false
  }
 },
 "nbformat": 4,
 "nbformat_minor": 5
}
