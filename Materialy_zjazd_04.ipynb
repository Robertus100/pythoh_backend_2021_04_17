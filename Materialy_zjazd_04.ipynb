{
 "cells": [
  {
   "cell_type": "markdown",
   "id": "eligible-excess",
   "metadata": {},
   "source": [
    "\n",
    "<p style=\"text-align: center; font-size: 32pt; line-height: 36pt\">\n",
    "    <b>Python Backend Developer - zjazd 4</b>\n",
    "</p>\n",
    "\n",
    "\n",
    "<p style=\"text-align: center; font-size: 12pt; line-height: 16pt;\">\n",
    "<b>Trener</b><br>\n",
    "Rafał Korzeniewski<br>\n",
    "tel.: <a href=\"tel:+48790018662\">+48 790 018 662</a><br>\n",
    "email: <a href=\"mailto:korzeniewski@gmail.com\">korzeniewski@gmail.com</a><br>\n",
    "</p>\n",
    "\n",
    "\n"
   ]
  },
  {
   "cell_type": "markdown",
   "id": "descending-ground",
   "metadata": {},
   "source": [
    "## Pytania\n",
    "\n",
    "1. Typy mutowalne (Adam)\n",
    " list, dict, set \n",
    " \n",
    "2. Typy niemutowalne (Antoni)\n",
    " str, tuple,  \n",
    " \n",
    "3. Jakim językiem jest python? (Damian)\n",
    "\n",
    "4. Jak się definiuje funkcję w pythonie (Jarek)\n",
    "\n",
    "5. lambda (Marcin)\n",
    "\n",
    "6. Słowniki (Patrycja)\n",
    "\n",
    "7. Zbiór (Rafał)\n",
    "\n",
    "8. Klasy (Robert)\n",
    "\n",
    "9. (Zbyszek)"
   ]
  },
  {
   "cell_type": "markdown",
   "id": "thermal-adams",
   "metadata": {},
   "source": [
    "Zaimplementuj funkcję, która zrealizuje alogrytm \"Sortowanie przez wybieranie\"\n",
    "\n",
    "https://pl.wikipedia.org/wiki/Sortowanie_przez_wybieranie"
   ]
  },
  {
   "cell_type": "markdown",
   "id": "forty-limitation",
   "metadata": {},
   "source": [
    "## HTML / CSS / Javascript\n",
    "\n",
    "https://www.w3schools.com/html/default.asp\n",
    "\n",
    "https://www.w3schools.com/css/default.asp\n",
    "\n",
    "https://www.w3schools.com/js/default.asp\n",
    "\n",
    "\n",
    "## Bootstrap\n",
    "\n",
    "https://www.w3schools.com/bootstrap4/default.asp\n",
    "\n",
    "\n",
    "### Ćwiczenie\n",
    "\n",
    "Stwórz stronę opisującą jakąś ksiażkę.\n",
    "\n",
    "Strona powinna zawierać takie elementy jak obrazek okładki, tytuł, autor, krótki opis.\n",
    "\n",
    "Możesz spróbować ułożyć obrazek po lewej a treści po prawej. Możesz dodać obsługę responsywności - np korzystając z bootstrap"
   ]
  },
  {
   "cell_type": "code",
   "execution_count": 3,
   "id": "needed-meditation",
   "metadata": {},
   "outputs": [
    {
     "name": "stdout",
     "output_type": "stream",
     "text": [
      "Na gałęzi master\r\n",
      "Zmiany do złożenia:\r\n",
      "  (użyj „git restore --staged <plik>...”, aby wycofać)\r\n",
      "\t\u001b[32mnowy plik:       04_zjazd/portfolio.html\u001b[m\r\n",
      "\t\u001b[32mnowy plik:       04_zjazd/sortowanie.py\u001b[m\r\n",
      "\r\n",
      "Zmiany nie przygotowane do złożenia:\r\n",
      "  (użyj „git add <plik>...”, żeby zmienić, co zostanie złożone)\r\n",
      "  (użyj „git restore <plik>...”, aby odrzucić zmiany w katalogu roboczym)\r\n",
      "\t\u001b[31mzmieniono:       04_zjazd/sortowanie.py\u001b[m\r\n",
      "\t\u001b[31mzmieniono:       Materialy_zjazd_03.ipynb\u001b[m\r\n",
      "\r\n",
      "Nieśledzone pliki:\r\n",
      "  (użyj „git add <plik>...”, żeby uwzględnić, co zostanie złożone)\r\n",
      "\t\u001b[31mMaterialy_zjazd_04.ipynb\u001b[m\r\n",
      "\r\n"
     ]
    }
   ],
   "source": [
    "!git "
   ]
  },
  {
   "cell_type": "code",
   "execution_count": null,
   "id": "current-wrist",
   "metadata": {},
   "outputs": [],
   "source": []
  }
 ],
 "metadata": {
  "kernelspec": {
   "display_name": "Python 3",
   "language": "python",
   "name": "python3"
  },
  "language_info": {
   "codemirror_mode": {
    "name": "ipython",
    "version": 3
   },
   "file_extension": ".py",
   "mimetype": "text/x-python",
   "name": "python",
   "nbconvert_exporter": "python",
   "pygments_lexer": "ipython3",
   "version": "3.7.9"
  },
  "toc": {
   "base_numbering": 1,
   "nav_menu": {},
   "number_sections": true,
   "sideBar": true,
   "skip_h1_title": false,
   "title_cell": "Table of Contents",
   "title_sidebar": "Contents",
   "toc_cell": false,
   "toc_position": {},
   "toc_section_display": true,
   "toc_window_display": false
  }
 },
 "nbformat": 4,
 "nbformat_minor": 5
}
