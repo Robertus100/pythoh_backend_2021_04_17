{
 "cells": [
  {
   "cell_type": "code",
   "execution_count": 2,
   "id": "threaded-shame",
   "metadata": {},
   "outputs": [
    {
     "name": "stdout",
     "output_type": "stream",
     "text": [
      "1\n"
     ]
    }
   ],
   "source": [
    "x = 1\n",
    "print(x)"
   ]
  },
  {
   "cell_type": "markdown",
   "id": "classified-manchester",
   "metadata": {},
   "source": [
    "\n",
    "<p style=\"text-align: center; font-size: 32pt; line-height: 36pt\">\n",
    "    <b>Python Backend Developer</b>\n",
    "</p>\n",
    "\n",
    "\n",
    "<p style=\"text-align: center; font-size: 12pt; line-height: 16pt;\">\n",
    "<b>Trener</b><br>\n",
    "Rafał Korzeniewski<br>\n",
    "tel.: <a href=\"tel:+48790018662\">+48 790 018 662</a><br>\n",
    "email: <a href=\"mailto:korzeniewski@gmail.com\">korzeniewski@gmail.com</a><br>\n",
    "</p>\n"
   ]
  },
  {
   "cell_type": "markdown",
   "id": "infinite-links",
   "metadata": {},
   "source": [
    "# Intro\n",
    "\n",
    "## Kilka ogólnych zasad:\n",
    "\n",
    "- W razie problemów - chat, SMS/Telefon\n",
    "- Nie ma głupich pytań - nie oceniamy!\n",
    "- Reguła Las Vegas (poza wiedzą oczywiście ;))\n",
    "- Jak zadać pytanie? \n",
    "    \n",
    "    ```\n",
    "    1) można przerwać i zabrać głos\n",
    "    2) pytanie na chacie \n",
    "    3) podniesienie wirtualnej ręki\n",
    "    ```\n",
    "- Aktywne uczestnictwo\n",
    "- \"Tu i teraz\" - koncentrujemy się na zajęciach, wyciszamy telefony\n",
    "- Systematyczna praca pomiędzy spotkaniami\n",
    "- Wyciszamy mikrofony, gdy nie mówimy\n",
    "- kamerki nie są obowiązkowe\n",
    "- dobrze jest mieć słuchawki z mikrofonem\n",
    "\n",
    "\n",
    "### Proponowany rozkład dnia:\n",
    "\n",
    "- 09:00-10:45 - Praca\n",
    "- 10:45-11:00 - Przerwa \n",
    "- 11:00-12:45 - Praca\n",
    "- 13:45-13:45 - Przerwa obiadowa\n",
    "- 13:45-15:15 - Praca\n",
    "- 15:15-15:30 - Przerwa\n",
    "- 15:30-17:00 - Praca"
   ]
  },
  {
   "cell_type": "code",
   "execution_count": null,
   "id": "serious-encounter",
   "metadata": {},
   "outputs": [],
   "source": [
    "Wirtualne środowiska\n",
    "\n"
   ]
  },
  {
   "cell_type": "markdown",
   "id": "medium-holiday",
   "metadata": {},
   "source": [
    "# GIT\n",
    "\n",
    "https://git-scm.com/book/pl/v2\n",
    "\n",
    "po zainstalowaniu gita:\n",
    "\n",
    "     git config user.name \"FIRST_NAME LAST_NAME\"\n",
    "     git config user.email \"MY_NAME@example.com\"\n",
    "\n",
    "`git init` - inicjalizuje repozytorium\n",
    "\n",
    "`git remote add origin <adres repo>`\n",
    "\n",
    "`git add <nazwa> lub .` - dodaj do indexu\n",
    "\n",
    "- można utworzyć plik .gitignore - to czego nie chcemy śledzić\n",
    "\n",
    "`git commit (-m \"git message - opis commita\")` \n",
    "\n",
    "`git push origin master`\n",
    "\n",
    "\n",
    "\n",
    "## Exercise - GIT basics\n",
    "\n",
    "1. Utwórz zdalne repozytorium na github / gitlab / bitbucket (co wolisz). Może być prywatne.\n",
    "2. Załóż główny katalog dla naszego projektu, np: python_backend_bootcamp\n",
    "3. Zainicjalizuj w nim repozytorium git\n",
    "4. Dodaj repozytorium zdalne\n",
    "5. Utwórz plik README.md i dodaj w nim jakaś treść\n",
    "6. Dodaj do indexu\n",
    "7. Utwórz commit z opisem\n",
    "8. Wyślij kod do repozytorium\n",
    "\n",
    "W miarę potrzeb inne przydatne rzeczy związane z GITem poznamy w dalszej części kursu\n",
    "  "
   ]
  },
  {
   "cell_type": "code",
   "execution_count": 3,
   "id": "polyphonic-intent",
   "metadata": {},
   "outputs": [
    {
     "name": "stdout",
     "output_type": "stream",
     "text": [
      "Requirement already satisfied: beepy in /Library/Frameworks/Python.framework/Versions/3.7/lib/python3.7/site-packages (1.0.7)\n",
      "Requirement already satisfied: simpleaudio in /Library/Frameworks/Python.framework/Versions/3.7/lib/python3.7/site-packages (from beepy) (1.0.4)\n",
      "Note: you may need to restart the kernel to use updated packages.\n"
     ]
    }
   ],
   "source": [
    "pip install beepy"
   ]
  },
  {
   "cell_type": "code",
   "execution_count": 7,
   "id": "powered-challenge",
   "metadata": {},
   "outputs": [
    {
     "name": "stdout",
     "output_type": "stream",
     "text": [
      "Materialy.ipynb  \u001b[34mvenv\u001b[m\u001b[m/\r\n"
     ]
    }
   ],
   "source": [
    "ls"
   ]
  },
  {
   "cell_type": "code",
   "execution_count": 8,
   "id": "understood-division",
   "metadata": {},
   "outputs": [],
   "source": [
    "import beepy"
   ]
  },
  {
   "cell_type": "code",
   "execution_count": 11,
   "id": "polyphonic-tooth",
   "metadata": {},
   "outputs": [],
   "source": [
    "beepy.beep(sound=3)"
   ]
  },
  {
   "cell_type": "markdown",
   "id": "chronic-shape",
   "metadata": {},
   "source": [
    "# Exercies - zabawa\n",
    "\n",
    "Utwórz skrypt Pythona o nazwie `work_break.py`, który będzie sygnalizował dźwiękowo i tekstem w konsoli rozpoczęcie pracy i przerw. \n",
    "\n",
    "Konfiguracja skryptu powinna znandować się w osobnym pliku tekstowym i powinna mieć budowę:\n",
    "\n",
    "    09:00-10:45 Praca\n",
    "    10:45-11:00 Przerwa\n",
    "    11:00-12:45 Pracam\n",
    "    12:45-13:45 Przerwa obiadowa\n",
    "    13:45-15:15 Praca\n",
    "    15:15-15:30 Przerwa\n",
    "    15:30-17:00 Praca\n",
    "    17:00 Koniec\n",
    "\n",
    "Taką konfigurację należy wczytać i każdemu zdarzeniu (Praca, Przerwa itd. ) przypisać jakiś zdarzenie dźwiękowe (np. przy pomocy modułu `beepy`)\n",
    "\n",
    "Po uruchomieniu skryptu powinniśmy dostać sygnał dźwiękowy i wpis w konsoli informujacy nas o aktualnej fazie. Skrypt powinien potem wyłapywać odpowiednie momenty i sygnalizowac nam zmianę. \n",
    "W wyłapaniu zdarzenia Koniec - program powinien poinformować o tym i zakończyć swoje działanie"
   ]
  },
  {
   "cell_type": "code",
   "execution_count": 14,
   "id": "impossible-lightning",
   "metadata": {},
   "outputs": [
    {
     "name": "stdout",
     "output_type": "stream",
     "text": [
      "Writing config.txt\n"
     ]
    }
   ],
   "source": [
    "%%writefile config.txt\n",
    "09:00-10:45 Praca\n",
    "10:45-11:00 Przerwa\n",
    "11:00-12:45 Pracam\n",
    "12:45-13:45 Przerwa obiadowa\n",
    "13:45-15:15 Praca\n",
    "15:15-15:30 Przerwa\n",
    "15:30-17:00 Praca\n",
    "17:00 Koniec\n"
   ]
  },
  {
   "cell_type": "code",
   "execution_count": null,
   "id": "empirical-depression",
   "metadata": {},
   "outputs": [],
   "source": [
    "# %load workbreakmachine.py\n",
    "from datetime import datetime\n",
    "import time\n",
    "import beepy\n",
    "# import winsound\n",
    "\n",
    "import sys\n",
    "\n",
    "try:\n",
    "    file_name = sys.argv[1]\n",
    "except IndexError:\n",
    "    file_name = 'config.txt'\n",
    "\n",
    "def read_config(file_name='config.txt'):\n",
    "    with open(file_name) as f:\n",
    "        config = dict([line.split(\" \", 1) for line in f.read().splitlines()])\n",
    "    return config\n",
    "\n",
    "# def to_datetime(hour_minute: str) -> datetime:\n",
    "def to_datetime(hour_minute):\n",
    "    # hour, minute = [int(x) for x in hour_minute.split(\":\")]\n",
    "    hour, minute = map(int, hour_minute.split(\":\"))\n",
    "    t = datetime.now()\n",
    "    t = t.replace(hour=hour, minute=minute, second=0, microsecond=0)\n",
    "    return t\n",
    "\n",
    "def tribe(t, config):\n",
    "    for k, v in config.items():\n",
    "        try:\n",
    "            start, end = map(to_datetime, k.split(\"-\"))\n",
    "            if start <= t <= end:\n",
    "                return v\n",
    "        except ValueError:\n",
    "            start = to_datetime(k)\n",
    "            if start <= t:\n",
    "                return v\n",
    "\n",
    "BEEPS = {\"Praca\": 1, \"Przerwa\": 2, \"Przerwa obiadowa\": 3}\n",
    "def main():\n",
    "    mode = 'Przerwa'\n",
    "    config = read_config(file_name)\n",
    "\n",
    "    while True:\n",
    "        t = datetime.now()\n",
    "        curr_tribe = tribe(t, config)\n",
    "        if curr_tribe != mode:\n",
    "            mode = curr_tribe\n",
    "            beepy.beep(sound=BEEPS[mode])\n",
    "            print(mode)\n",
    "        if curr_tribe == \"Koniec\":\n",
    "            break\n",
    "        time.sleep(1)\n",
    "\n",
    "\n",
    "\n",
    "main()\n"
   ]
  },
  {
   "cell_type": "code",
   "execution_count": 15,
   "id": "split-parliament",
   "metadata": {},
   "outputs": [],
   "source": [
    "import datetime"
   ]
  },
  {
   "cell_type": "code",
   "execution_count": 19,
   "id": "fatty-enforcement",
   "metadata": {},
   "outputs": [],
   "source": [
    "t = datetime.datetime.now()"
   ]
  },
  {
   "cell_type": "code",
   "execution_count": 20,
   "id": "growing-austin",
   "metadata": {},
   "outputs": [
    {
     "data": {
      "text/plain": [
       "datetime.datetime(2021, 4, 17, 17, 0)"
      ]
     },
     "execution_count": 20,
     "metadata": {},
     "output_type": "execute_result"
    }
   ],
   "source": [
    "t.replace(hour=17, minute=0, second=0, microsecond=0)"
   ]
  },
  {
   "cell_type": "code",
   "execution_count": 21,
   "id": "pressed-validity",
   "metadata": {},
   "outputs": [
    {
     "data": {
      "text/plain": [
       "datetime.datetime(2021, 4, 17, 11, 10, 2, 907189)"
      ]
     },
     "execution_count": 21,
     "metadata": {},
     "output_type": "execute_result"
    }
   ],
   "source": [
    "t"
   ]
  },
  {
   "cell_type": "code",
   "execution_count": 22,
   "id": "eligible-reaction",
   "metadata": {},
   "outputs": [],
   "source": [
    "start = t.replace(hour=17, minute=0, second=0, microsecond=0)\n"
   ]
  },
  {
   "cell_type": "code",
   "execution_count": 23,
   "id": "framed-division",
   "metadata": {},
   "outputs": [
    {
     "data": {
      "text/plain": [
       "False"
      ]
     },
     "execution_count": 23,
     "metadata": {},
     "output_type": "execute_result"
    }
   ],
   "source": [
    "start < t"
   ]
  },
  {
   "cell_type": "markdown",
   "id": "passing-cincinnati",
   "metadata": {},
   "source": [
    "## Quizz\n",
    "\n",
    "Czy znasz funkcję help i posługujesz się nią"
   ]
  },
  {
   "cell_type": "code",
   "execution_count": 24,
   "id": "psychological-combining",
   "metadata": {},
   "outputs": [
    {
     "name": "stdout",
     "output_type": "stream",
     "text": [
      "Help on class int in module builtins:\n",
      "\n",
      "class int(object)\n",
      " |  int([x]) -> integer\n",
      " |  int(x, base=10) -> integer\n",
      " |  \n",
      " |  Convert a number or string to an integer, or return 0 if no arguments\n",
      " |  are given.  If x is a number, return x.__int__().  For floating point\n",
      " |  numbers, this truncates towards zero.\n",
      " |  \n",
      " |  If x is not a number or if base is given, then x must be a string,\n",
      " |  bytes, or bytearray instance representing an integer literal in the\n",
      " |  given base.  The literal can be preceded by '+' or '-' and be surrounded\n",
      " |  by whitespace.  The base defaults to 10.  Valid bases are 0 and 2-36.\n",
      " |  Base 0 means to interpret the base from the string as an integer literal.\n",
      " |  >>> int('0b100', base=0)\n",
      " |  4\n",
      " |  \n",
      " |  Methods defined here:\n",
      " |  \n",
      " |  __abs__(self, /)\n",
      " |      abs(self)\n",
      " |  \n",
      " |  __add__(self, value, /)\n",
      " |      Return self+value.\n",
      " |  \n",
      " |  __and__(self, value, /)\n",
      " |      Return self&value.\n",
      " |  \n",
      " |  __bool__(self, /)\n",
      " |      self != 0\n",
      " |  \n",
      " |  __ceil__(...)\n",
      " |      Ceiling of an Integral returns itself.\n",
      " |  \n",
      " |  __divmod__(self, value, /)\n",
      " |      Return divmod(self, value).\n",
      " |  \n",
      " |  __eq__(self, value, /)\n",
      " |      Return self==value.\n",
      " |  \n",
      " |  __float__(self, /)\n",
      " |      float(self)\n",
      " |  \n",
      " |  __floor__(...)\n",
      " |      Flooring an Integral returns itself.\n",
      " |  \n",
      " |  __floordiv__(self, value, /)\n",
      " |      Return self//value.\n",
      " |  \n",
      " |  __format__(self, format_spec, /)\n",
      " |      Default object formatter.\n",
      " |  \n",
      " |  __ge__(self, value, /)\n",
      " |      Return self>=value.\n",
      " |  \n",
      " |  __getattribute__(self, name, /)\n",
      " |      Return getattr(self, name).\n",
      " |  \n",
      " |  __getnewargs__(self, /)\n",
      " |  \n",
      " |  __gt__(self, value, /)\n",
      " |      Return self>value.\n",
      " |  \n",
      " |  __hash__(self, /)\n",
      " |      Return hash(self).\n",
      " |  \n",
      " |  __index__(self, /)\n",
      " |      Return self converted to an integer, if self is suitable for use as an index into a list.\n",
      " |  \n",
      " |  __int__(self, /)\n",
      " |      int(self)\n",
      " |  \n",
      " |  __invert__(self, /)\n",
      " |      ~self\n",
      " |  \n",
      " |  __le__(self, value, /)\n",
      " |      Return self<=value.\n",
      " |  \n",
      " |  __lshift__(self, value, /)\n",
      " |      Return self<<value.\n",
      " |  \n",
      " |  __lt__(self, value, /)\n",
      " |      Return self<value.\n",
      " |  \n",
      " |  __mod__(self, value, /)\n",
      " |      Return self%value.\n",
      " |  \n",
      " |  __mul__(self, value, /)\n",
      " |      Return self*value.\n",
      " |  \n",
      " |  __ne__(self, value, /)\n",
      " |      Return self!=value.\n",
      " |  \n",
      " |  __neg__(self, /)\n",
      " |      -self\n",
      " |  \n",
      " |  __or__(self, value, /)\n",
      " |      Return self|value.\n",
      " |  \n",
      " |  __pos__(self, /)\n",
      " |      +self\n",
      " |  \n",
      " |  __pow__(self, value, mod=None, /)\n",
      " |      Return pow(self, value, mod).\n",
      " |  \n",
      " |  __radd__(self, value, /)\n",
      " |      Return value+self.\n",
      " |  \n",
      " |  __rand__(self, value, /)\n",
      " |      Return value&self.\n",
      " |  \n",
      " |  __rdivmod__(self, value, /)\n",
      " |      Return divmod(value, self).\n",
      " |  \n",
      " |  __repr__(self, /)\n",
      " |      Return repr(self).\n",
      " |  \n",
      " |  __rfloordiv__(self, value, /)\n",
      " |      Return value//self.\n",
      " |  \n",
      " |  __rlshift__(self, value, /)\n",
      " |      Return value<<self.\n",
      " |  \n",
      " |  __rmod__(self, value, /)\n",
      " |      Return value%self.\n",
      " |  \n",
      " |  __rmul__(self, value, /)\n",
      " |      Return value*self.\n",
      " |  \n",
      " |  __ror__(self, value, /)\n",
      " |      Return value|self.\n",
      " |  \n",
      " |  __round__(...)\n",
      " |      Rounding an Integral returns itself.\n",
      " |      Rounding with an ndigits argument also returns an integer.\n",
      " |  \n",
      " |  __rpow__(self, value, mod=None, /)\n",
      " |      Return pow(value, self, mod).\n",
      " |  \n",
      " |  __rrshift__(self, value, /)\n",
      " |      Return value>>self.\n",
      " |  \n",
      " |  __rshift__(self, value, /)\n",
      " |      Return self>>value.\n",
      " |  \n",
      " |  __rsub__(self, value, /)\n",
      " |      Return value-self.\n",
      " |  \n",
      " |  __rtruediv__(self, value, /)\n",
      " |      Return value/self.\n",
      " |  \n",
      " |  __rxor__(self, value, /)\n",
      " |      Return value^self.\n",
      " |  \n",
      " |  __sizeof__(self, /)\n",
      " |      Returns size in memory, in bytes.\n",
      " |  \n",
      " |  __str__(self, /)\n",
      " |      Return str(self).\n",
      " |  \n",
      " |  __sub__(self, value, /)\n",
      " |      Return self-value.\n",
      " |  \n",
      " |  __truediv__(self, value, /)\n",
      " |      Return self/value.\n",
      " |  \n",
      " |  __trunc__(...)\n",
      " |      Truncating an Integral returns itself.\n",
      " |  \n",
      " |  __xor__(self, value, /)\n",
      " |      Return self^value.\n",
      " |  \n",
      " |  bit_length(self, /)\n",
      " |      Number of bits necessary to represent self in binary.\n",
      " |      \n",
      " |      >>> bin(37)\n",
      " |      '0b100101'\n",
      " |      >>> (37).bit_length()\n",
      " |      6\n",
      " |  \n",
      " |  conjugate(...)\n",
      " |      Returns self, the complex conjugate of any int.\n",
      " |  \n",
      " |  to_bytes(self, /, length, byteorder, *, signed=False)\n",
      " |      Return an array of bytes representing an integer.\n",
      " |      \n",
      " |      length\n",
      " |        Length of bytes object to use.  An OverflowError is raised if the\n",
      " |        integer is not representable with the given number of bytes.\n",
      " |      byteorder\n",
      " |        The byte order used to represent the integer.  If byteorder is 'big',\n",
      " |        the most significant byte is at the beginning of the byte array.  If\n",
      " |        byteorder is 'little', the most significant byte is at the end of the\n",
      " |        byte array.  To request the native byte order of the host system, use\n",
      " |        `sys.byteorder' as the byte order value.\n",
      " |      signed\n",
      " |        Determines whether two's complement is used to represent the integer.\n",
      " |        If signed is False and a negative integer is given, an OverflowError\n",
      " |        is raised.\n",
      " |  \n",
      " |  ----------------------------------------------------------------------\n",
      " |  Class methods defined here:\n",
      " |  \n",
      " |  from_bytes(bytes, byteorder, *, signed=False) from builtins.type\n",
      " |      Return the integer represented by the given array of bytes.\n",
      " |      \n",
      " |      bytes\n",
      " |        Holds the array of bytes to convert.  The argument must either\n",
      " |        support the buffer protocol or be an iterable object producing bytes.\n",
      " |        Bytes and bytearray are examples of built-in objects that support the\n",
      " |        buffer protocol.\n",
      " |      byteorder\n",
      " |        The byte order used to represent the integer.  If byteorder is 'big',\n",
      " |        the most significant byte is at the beginning of the byte array.  If\n",
      " |        byteorder is 'little', the most significant byte is at the end of the\n",
      " |        byte array.  To request the native byte order of the host system, use\n",
      " |        `sys.byteorder' as the byte order value.\n",
      " |      signed\n",
      " |        Indicates whether two's complement is used to represent the integer.\n",
      " |  \n",
      " |  ----------------------------------------------------------------------\n",
      " |  Static methods defined here:\n",
      " |  \n",
      " |  __new__(*args, **kwargs) from builtins.type\n",
      " |      Create and return a new object.  See help(type) for accurate signature.\n",
      " |  \n",
      " |  ----------------------------------------------------------------------\n",
      " |  Data descriptors defined here:\n",
      " |  \n",
      " |  denominator\n",
      " |      the denominator of a rational number in lowest terms\n",
      " |  \n",
      " |  imag\n",
      " |      the imaginary part of a complex number\n",
      " |  \n",
      " |  numerator\n",
      " |      the numerator of a rational number in lowest terms\n",
      " |  \n",
      " |  real\n",
      " |      the real part of a complex number\n",
      "\n"
     ]
    }
   ],
   "source": [
    "help(int)"
   ]
  },
  {
   "cell_type": "code",
   "execution_count": 25,
   "id": "spectacular-franchise",
   "metadata": {},
   "outputs": [],
   "source": [
    "int?"
   ]
  },
  {
   "cell_type": "markdown",
   "id": "living-monitor",
   "metadata": {},
   "source": [
    "Czy znasz funkcję `dir` i czy się nią posługujesz?"
   ]
  },
  {
   "cell_type": "code",
   "execution_count": 26,
   "id": "exact-marathon",
   "metadata": {},
   "outputs": [
    {
     "data": {
      "text/plain": [
       "['__add__',\n",
       " '__class__',\n",
       " '__contains__',\n",
       " '__delattr__',\n",
       " '__dir__',\n",
       " '__doc__',\n",
       " '__eq__',\n",
       " '__format__',\n",
       " '__ge__',\n",
       " '__getattribute__',\n",
       " '__getitem__',\n",
       " '__getnewargs__',\n",
       " '__gt__',\n",
       " '__hash__',\n",
       " '__init__',\n",
       " '__init_subclass__',\n",
       " '__iter__',\n",
       " '__le__',\n",
       " '__len__',\n",
       " '__lt__',\n",
       " '__mod__',\n",
       " '__mul__',\n",
       " '__ne__',\n",
       " '__new__',\n",
       " '__reduce__',\n",
       " '__reduce_ex__',\n",
       " '__repr__',\n",
       " '__rmod__',\n",
       " '__rmul__',\n",
       " '__setattr__',\n",
       " '__sizeof__',\n",
       " '__str__',\n",
       " '__subclasshook__',\n",
       " 'capitalize',\n",
       " 'casefold',\n",
       " 'center',\n",
       " 'count',\n",
       " 'encode',\n",
       " 'endswith',\n",
       " 'expandtabs',\n",
       " 'find',\n",
       " 'format',\n",
       " 'format_map',\n",
       " 'index',\n",
       " 'isalnum',\n",
       " 'isalpha',\n",
       " 'isascii',\n",
       " 'isdecimal',\n",
       " 'isdigit',\n",
       " 'isidentifier',\n",
       " 'islower',\n",
       " 'isnumeric',\n",
       " 'isprintable',\n",
       " 'isspace',\n",
       " 'istitle',\n",
       " 'isupper',\n",
       " 'join',\n",
       " 'ljust',\n",
       " 'lower',\n",
       " 'lstrip',\n",
       " 'maketrans',\n",
       " 'partition',\n",
       " 'replace',\n",
       " 'rfind',\n",
       " 'rindex',\n",
       " 'rjust',\n",
       " 'rpartition',\n",
       " 'rsplit',\n",
       " 'rstrip',\n",
       " 'split',\n",
       " 'splitlines',\n",
       " 'startswith',\n",
       " 'strip',\n",
       " 'swapcase',\n",
       " 'title',\n",
       " 'translate',\n",
       " 'upper',\n",
       " 'zfill']"
      ]
     },
     "execution_count": 26,
     "metadata": {},
     "output_type": "execute_result"
    }
   ],
   "source": [
    "dir(\"napis\")"
   ]
  },
  {
   "cell_type": "code",
   "execution_count": 27,
   "id": "honest-energy",
   "metadata": {},
   "outputs": [
    {
     "data": {
      "text/plain": [
       "['In',\n",
       " 'Out',\n",
       " '_',\n",
       " '_1',\n",
       " '_17',\n",
       " '_20',\n",
       " '_21',\n",
       " '_23',\n",
       " '_26',\n",
       " '__',\n",
       " '___',\n",
       " '__builtin__',\n",
       " '__builtins__',\n",
       " '__doc__',\n",
       " '__loader__',\n",
       " '__name__',\n",
       " '__package__',\n",
       " '__spec__',\n",
       " '_dh',\n",
       " '_exit_code',\n",
       " '_i',\n",
       " '_i1',\n",
       " '_i10',\n",
       " '_i11',\n",
       " '_i12',\n",
       " '_i13',\n",
       " '_i14',\n",
       " '_i15',\n",
       " '_i16',\n",
       " '_i17',\n",
       " '_i18',\n",
       " '_i19',\n",
       " '_i2',\n",
       " '_i20',\n",
       " '_i21',\n",
       " '_i22',\n",
       " '_i23',\n",
       " '_i24',\n",
       " '_i25',\n",
       " '_i26',\n",
       " '_i27',\n",
       " '_i3',\n",
       " '_i4',\n",
       " '_i5',\n",
       " '_i6',\n",
       " '_i7',\n",
       " '_i8',\n",
       " '_i9',\n",
       " '_ih',\n",
       " '_ii',\n",
       " '_iii',\n",
       " '_oh',\n",
       " 'autopep8',\n",
       " 'beepy',\n",
       " 'datetime',\n",
       " 'exit',\n",
       " 'get_ipython',\n",
       " 'json',\n",
       " 'quit',\n",
       " 'start',\n",
       " 't',\n",
       " 'x',\n",
       " 'yapf_reformat']"
      ]
     },
     "execution_count": 27,
     "metadata": {},
     "output_type": "execute_result"
    }
   ],
   "source": [
    "dir()"
   ]
  },
  {
   "cell_type": "markdown",
   "id": "lonely-harvard",
   "metadata": {},
   "source": [
    "# Podstawy - powtórka\n",
    "\n",
    "## int"
   ]
  },
  {
   "cell_type": "code",
   "execution_count": 32,
   "id": "scenic-doubt",
   "metadata": {},
   "outputs": [
    {
     "data": {
      "text/plain": [
       "123"
      ]
     },
     "execution_count": 32,
     "metadata": {},
     "output_type": "execute_result"
    }
   ],
   "source": [
    "123"
   ]
  },
  {
   "cell_type": "code",
   "execution_count": 34,
   "id": "pointed-attraction",
   "metadata": {},
   "outputs": [
    {
     "data": {
      "text/plain": [
       "0"
      ]
     },
     "execution_count": 34,
     "metadata": {},
     "output_type": "execute_result"
    }
   ],
   "source": [
    "int()"
   ]
  },
  {
   "cell_type": "code",
   "execution_count": 36,
   "id": "imperial-sessions",
   "metadata": {},
   "outputs": [
    {
     "data": {
      "text/plain": [
       "111"
      ]
     },
     "execution_count": 36,
     "metadata": {},
     "output_type": "execute_result"
    }
   ],
   "source": [
    "int('111')"
   ]
  },
  {
   "cell_type": "code",
   "execution_count": 38,
   "id": "massive-layer",
   "metadata": {},
   "outputs": [
    {
     "data": {
      "text/plain": [
       "7"
      ]
     },
     "execution_count": 38,
     "metadata": {},
     "output_type": "execute_result"
    }
   ],
   "source": [
    "int('111', base=2)"
   ]
  },
  {
   "cell_type": "code",
   "execution_count": 40,
   "id": "threaded-birmingham",
   "metadata": {},
   "outputs": [
    {
     "data": {
      "text/plain": [
       "12648430"
      ]
     },
     "execution_count": 40,
     "metadata": {},
     "output_type": "execute_result"
    }
   ],
   "source": [
    "int('c0ffee', base=16)"
   ]
  },
  {
   "cell_type": "code",
   "execution_count": 43,
   "id": "lesbian-fishing",
   "metadata": {},
   "outputs": [
    {
     "data": {
      "text/plain": [
       "7"
      ]
     },
     "execution_count": 43,
     "metadata": {},
     "output_type": "execute_result"
    }
   ],
   "source": [
    "0b111"
   ]
  },
  {
   "cell_type": "code",
   "execution_count": 45,
   "id": "liquid-loading",
   "metadata": {},
   "outputs": [
    {
     "data": {
      "text/plain": [
       "'0b101'"
      ]
     },
     "execution_count": 45,
     "metadata": {},
     "output_type": "execute_result"
    }
   ],
   "source": [
    "bin(5)"
   ]
  },
  {
   "cell_type": "code",
   "execution_count": 47,
   "id": "common-progressive",
   "metadata": {},
   "outputs": [
    {
     "ename": "ValueError",
     "evalue": "invalid literal for int() with base 10: '0b101'",
     "output_type": "error",
     "traceback": [
      "\u001b[0;31m---------------------------------------------------------------------------\u001b[0m",
      "\u001b[0;31mValueError\u001b[0m                                Traceback (most recent call last)",
      "\u001b[0;32m<ipython-input-47-e6fdb621f4d0>\u001b[0m in \u001b[0;36m<module>\u001b[0;34m\u001b[0m\n\u001b[0;32m----> 1\u001b[0;31m \u001b[0mint\u001b[0m\u001b[0;34m(\u001b[0m\u001b[0;34m'0b101'\u001b[0m\u001b[0;34m)\u001b[0m\u001b[0;34m\u001b[0m\u001b[0;34m\u001b[0m\u001b[0m\n\u001b[0m",
      "\u001b[0;31mValueError\u001b[0m: invalid literal for int() with base 10: '0b101'"
     ]
    }
   ],
   "source": [
    "int('0b101')"
   ]
  },
  {
   "cell_type": "code",
   "execution_count": 48,
   "id": "geographic-sunday",
   "metadata": {},
   "outputs": [
    {
     "data": {
      "text/plain": [
       "511"
      ]
     },
     "execution_count": 48,
     "metadata": {},
     "output_type": "execute_result"
    }
   ],
   "source": [
    "0o777"
   ]
  },
  {
   "cell_type": "code",
   "execution_count": 49,
   "id": "liquid-unknown",
   "metadata": {},
   "outputs": [
    {
     "data": {
      "text/plain": [
       "4095"
      ]
     },
     "execution_count": 49,
     "metadata": {},
     "output_type": "execute_result"
    }
   ],
   "source": [
    "0xfff"
   ]
  },
  {
   "cell_type": "code",
   "execution_count": 50,
   "id": "democratic-defendant",
   "metadata": {},
   "outputs": [
    {
     "data": {
      "text/plain": [
       "'0o173'"
      ]
     },
     "execution_count": 50,
     "metadata": {},
     "output_type": "execute_result"
    }
   ],
   "source": [
    "oct(123)"
   ]
  },
  {
   "cell_type": "code",
   "execution_count": 51,
   "id": "palestinian-nickname",
   "metadata": {},
   "outputs": [
    {
     "data": {
      "text/plain": [
       "'0x7b'"
      ]
     },
     "execution_count": 51,
     "metadata": {},
     "output_type": "execute_result"
    }
   ],
   "source": [
    "hex(123)"
   ]
  },
  {
   "cell_type": "markdown",
   "id": "foster-infrared",
   "metadata": {},
   "source": [
    "Operatory:\n",
    "\n",
    "+ \n",
    "-\n",
    "*\n",
    "/\n",
    "//\n",
    "%\n",
    "**"
   ]
  },
  {
   "cell_type": "code",
   "execution_count": 53,
   "id": "mediterranean-teach",
   "metadata": {},
   "outputs": [
    {
     "data": {
      "text/plain": [
       "0.6666666666666666"
      ]
     },
     "execution_count": 53,
     "metadata": {},
     "output_type": "execute_result"
    }
   ],
   "source": [
    "2 / 3"
   ]
  },
  {
   "cell_type": "code",
   "execution_count": 55,
   "id": "national-bundle",
   "metadata": {},
   "outputs": [
    {
     "data": {
      "text/plain": [
       "0"
      ]
     },
     "execution_count": 55,
     "metadata": {},
     "output_type": "execute_result"
    }
   ],
   "source": [
    "2 // 3"
   ]
  },
  {
   "cell_type": "code",
   "execution_count": 56,
   "id": "contrary-scottish",
   "metadata": {},
   "outputs": [
    {
     "data": {
      "text/plain": [
       "2"
      ]
     },
     "execution_count": 56,
     "metadata": {},
     "output_type": "execute_result"
    }
   ],
   "source": [
    "2 % 3"
   ]
  },
  {
   "cell_type": "code",
   "execution_count": 59,
   "id": "criminal-indie",
   "metadata": {},
   "outputs": [
    {
     "data": {
      "text/plain": [
       "1"
      ]
     },
     "execution_count": 59,
     "metadata": {},
     "output_type": "execute_result"
    }
   ],
   "source": [
    "3 % 2"
   ]
  },
  {
   "cell_type": "code",
   "execution_count": 61,
   "id": "deluxe-recorder",
   "metadata": {},
   "outputs": [
    {
     "data": {
      "text/plain": [
       "2.0"
      ]
     },
     "execution_count": 61,
     "metadata": {},
     "output_type": "execute_result"
    }
   ],
   "source": [
    "4 ** 0.5"
   ]
  },
  {
   "cell_type": "code",
   "execution_count": 62,
   "id": "tender-timeline",
   "metadata": {},
   "outputs": [
    {
     "data": {
      "text/plain": [
       "16"
      ]
     },
     "execution_count": 62,
     "metadata": {},
     "output_type": "execute_result"
    }
   ],
   "source": [
    "pow(4, 2)"
   ]
  },
  {
   "cell_type": "markdown",
   "id": "wanted-format",
   "metadata": {},
   "source": [
    "## bool"
   ]
  },
  {
   "cell_type": "code",
   "execution_count": 64,
   "id": "universal-violence",
   "metadata": {},
   "outputs": [
    {
     "data": {
      "text/plain": [
       "True"
      ]
     },
     "execution_count": 64,
     "metadata": {},
     "output_type": "execute_result"
    }
   ],
   "source": [
    "isinstance(True, int)"
   ]
  },
  {
   "cell_type": "code",
   "execution_count": 67,
   "id": "collective-sculpture",
   "metadata": {},
   "outputs": [
    {
     "data": {
      "text/plain": [
       "2"
      ]
     },
     "execution_count": 67,
     "metadata": {},
     "output_type": "execute_result"
    }
   ],
   "source": [
    "1 + True"
   ]
  },
  {
   "cell_type": "code",
   "execution_count": 69,
   "id": "adult-uzbekistan",
   "metadata": {},
   "outputs": [
    {
     "data": {
      "text/plain": [
       "True"
      ]
     },
     "execution_count": 69,
     "metadata": {},
     "output_type": "execute_result"
    }
   ],
   "source": [
    "1 == True"
   ]
  },
  {
   "cell_type": "code",
   "execution_count": 71,
   "id": "demanding-nightlife",
   "metadata": {},
   "outputs": [
    {
     "data": {
      "text/plain": [
       "False"
      ]
     },
     "execution_count": 71,
     "metadata": {},
     "output_type": "execute_result"
    }
   ],
   "source": [
    "1 is True"
   ]
  },
  {
   "cell_type": "code",
   "execution_count": 73,
   "id": "cooperative-emerald",
   "metadata": {},
   "outputs": [
    {
     "data": {
      "text/plain": [
       "4506037024"
      ]
     },
     "execution_count": 73,
     "metadata": {},
     "output_type": "execute_result"
    }
   ],
   "source": [
    "id(1)"
   ]
  },
  {
   "cell_type": "code",
   "execution_count": 74,
   "id": "included-september",
   "metadata": {},
   "outputs": [
    {
     "data": {
      "text/plain": [
       "4505634992"
      ]
     },
     "execution_count": 74,
     "metadata": {},
     "output_type": "execute_result"
    }
   ],
   "source": [
    "id(True)"
   ]
  },
  {
   "cell_type": "code",
   "execution_count": null,
   "id": "indonesian-lounge",
   "metadata": {},
   "outputs": [],
   "source": [
    "a) slack\n",
    "\n",
    "b) discord"
   ]
  },
  {
   "cell_type": "code",
   "execution_count": 75,
   "id": "unable-sheriff",
   "metadata": {},
   "outputs": [
    {
     "data": {
      "text/plain": [
       "True"
      ]
     },
     "execution_count": 75,
     "metadata": {},
     "output_type": "execute_result"
    }
   ],
   "source": [
    "x = None\n",
    "x is None"
   ]
  },
  {
   "cell_type": "code",
   "execution_count": 77,
   "id": "written-appointment",
   "metadata": {},
   "outputs": [
    {
     "data": {
      "text/plain": [
       "False"
      ]
     },
     "execution_count": 77,
     "metadata": {},
     "output_type": "execute_result"
    }
   ],
   "source": [
    "# and, or, not\n",
    "\n",
    "1 < 0 and  1 / 0"
   ]
  },
  {
   "cell_type": "code",
   "execution_count": 78,
   "id": "powered-nashville",
   "metadata": {},
   "outputs": [
    {
     "data": {
      "text/plain": [
       "True"
      ]
     },
     "execution_count": 78,
     "metadata": {},
     "output_type": "execute_result"
    }
   ],
   "source": [
    "1 > 0 or 1 / 0"
   ]
  },
  {
   "cell_type": "markdown",
   "id": "expected-actor",
   "metadata": {},
   "source": [
    "## float\n",
    "\n",
    "\n",
    "Dlaczego potrzebny jest osobny typ na liczby zmiennoprzecinkowe? \n",
    "\n",
    "Przecież liczby to liczby? Okazuje się jednak, że te liczby, które nie są całkowite stanowią dla komputera większe wyzwanie. \n",
    "\n",
    "Są takie, których nie da się zapisać przy pomocy skończonej liczby cyfr. I nie muszą to być jakieś nieskończenie wielkie liczby. Przykładem może być liczba π. \n",
    "\n",
    "Wyobraź sobie liczbę 1/3. Moglibyśmy ją zapisać jako $ 0,(3) $ - rozwinięcie okresowe, które w zasadzie nigdy się nie kończy. Łatwo to zapisać na kartce, ale trudniej jest nauczyć tego komputera. Jak sobie poradzi z tym Python?\n",
    "\n",
    "Np. liczbę 0.125 możemy rozłożyć w systemie dziesiętnym na taką sumę: \n",
    "\n",
    "$ \\frac{1}{10} + \\frac{2}{100} + \\frac{5}{1000} = \\frac{1}{10^{-1}} + \\frac{2}{10^{-2}} + \\frac{5}{10^{-3}} $\n",
    "\n",
    "\n",
    "w systemie binarnym:\n",
    "\n",
    "$ 0.001 =  \\frac{0}{2} + \\frac{0}{4} + \\frac{1}{8} = \\frac{0}{2^{1}} + \\frac{0}{2^{2}} + \\frac{1}{2^{3}} $\n",
    "\n",
    "Tu reprezentacja może być dokładna.. ale jak zapisać w systemie dwójkowym dziesiętną liczbę 0.1 ? \n",
    "\n",
    "\n",
    "$ 0.1_{Decimal} = 0.0001100110011001100110011001100110011001100110011..._{Binary} = 0.0(0011)_{Binary} $\n",
    "\n",
    "\n",
    "Dla zainteresowanych:\n",
    "Standard IEEE 754 (np: https://pg.edu.pl/documents/1132726/79681185/wyk%C5%82ad%203.pdf)\n",
    "\n",
    "Kilka zaskakujących wyników:"
   ]
  },
  {
   "cell_type": "code",
   "execution_count": 80,
   "id": "inside-integral",
   "metadata": {},
   "outputs": [
    {
     "data": {
      "text/plain": [
       "1.79e+308"
      ]
     },
     "execution_count": 80,
     "metadata": {},
     "output_type": "execute_result"
    }
   ],
   "source": [
    "1.79e308"
   ]
  },
  {
   "cell_type": "code",
   "execution_count": 81,
   "id": "organizational-publication",
   "metadata": {},
   "outputs": [
    {
     "data": {
      "text/plain": [
       "inf"
      ]
     },
     "execution_count": 81,
     "metadata": {},
     "output_type": "execute_result"
    }
   ],
   "source": [
    "1.8e308\n"
   ]
  },
  {
   "cell_type": "code",
   "execution_count": 84,
   "id": "fifty-lighting",
   "metadata": {},
   "outputs": [
    {
     "data": {
      "text/plain": [
       "inf"
      ]
     },
     "execution_count": 84,
     "metadata": {},
     "output_type": "execute_result"
    }
   ],
   "source": [
    "float('inf') + 1"
   ]
  },
  {
   "cell_type": "code",
   "execution_count": 85,
   "id": "undefined-industry",
   "metadata": {},
   "outputs": [
    {
     "data": {
      "text/plain": [
       "0.0"
      ]
     },
     "execution_count": 85,
     "metadata": {},
     "output_type": "execute_result"
    }
   ],
   "source": [
    "1e-325"
   ]
  },
  {
   "cell_type": "code",
   "execution_count": 86,
   "id": "future-degree",
   "metadata": {},
   "outputs": [
    {
     "data": {
      "text/plain": [
       "5e-324"
      ]
     },
     "execution_count": 86,
     "metadata": {},
     "output_type": "execute_result"
    }
   ],
   "source": [
    "5e-324"
   ]
  },
  {
   "cell_type": "code",
   "execution_count": 87,
   "id": "obvious-doubt",
   "metadata": {},
   "outputs": [
    {
     "data": {
      "text/plain": [
       "True"
      ]
     },
     "execution_count": 87,
     "metadata": {},
     "output_type": "execute_result"
    }
   ],
   "source": [
    "1.0 == 1.00000000000000001"
   ]
  },
  {
   "cell_type": "code",
   "execution_count": 94,
   "id": "appropriate-hearing",
   "metadata": {},
   "outputs": [
    {
     "data": {
      "text/plain": [
       "False"
      ]
     },
     "execution_count": 94,
     "metadata": {},
     "output_type": "execute_result"
    }
   ],
   "source": [
    "0.1 + 0.1 + 0.1 == 0.3"
   ]
  },
  {
   "cell_type": "code",
   "execution_count": 90,
   "id": "supported-insulin",
   "metadata": {},
   "outputs": [
    {
     "data": {
      "text/plain": [
       "True"
      ]
     },
     "execution_count": 90,
     "metadata": {},
     "output_type": "execute_result"
    }
   ],
   "source": [
    "round(0.1 + 0.1 + 0.1, 1) == round(0.3, 1)"
   ]
  },
  {
   "cell_type": "code",
   "execution_count": 91,
   "id": "enhanced-piece",
   "metadata": {},
   "outputs": [
    {
     "data": {
      "text/plain": [
       "False"
      ]
     },
     "execution_count": 91,
     "metadata": {},
     "output_type": "execute_result"
    }
   ],
   "source": [
    "round(.1, 1) + round(.1, 1) + round(.1, 1) == round(.3, 1)"
   ]
  },
  {
   "cell_type": "markdown",
   "id": "thrown-drive",
   "metadata": {},
   "source": [
    "### Decimal"
   ]
  },
  {
   "cell_type": "code",
   "execution_count": 95,
   "id": "reported-hamilton",
   "metadata": {},
   "outputs": [],
   "source": [
    "from decimal import Decimal"
   ]
  },
  {
   "cell_type": "code",
   "execution_count": 96,
   "id": "finite-trust",
   "metadata": {},
   "outputs": [
    {
     "data": {
      "text/plain": [
       "Decimal('0.1000000000000000055511151231257827021181583404541015625')"
      ]
     },
     "execution_count": 96,
     "metadata": {},
     "output_type": "execute_result"
    }
   ],
   "source": [
    "Decimal(0.1)"
   ]
  },
  {
   "cell_type": "code",
   "execution_count": 97,
   "id": "front-interval",
   "metadata": {},
   "outputs": [
    {
     "data": {
      "text/plain": [
       "Decimal('0.1')"
      ]
     },
     "execution_count": 97,
     "metadata": {},
     "output_type": "execute_result"
    }
   ],
   "source": [
    "Decimal('0.1')"
   ]
  },
  {
   "cell_type": "code",
   "execution_count": 98,
   "id": "statistical-stick",
   "metadata": {},
   "outputs": [
    {
     "data": {
      "text/plain": [
       "False"
      ]
     },
     "execution_count": 98,
     "metadata": {},
     "output_type": "execute_result"
    }
   ],
   "source": [
    "Decimal(.1) + Decimal(.1) + Decimal(.1) == Decimal(.3)"
   ]
  },
  {
   "cell_type": "code",
   "execution_count": 99,
   "id": "athletic-pearl",
   "metadata": {},
   "outputs": [
    {
     "data": {
      "text/plain": [
       "True"
      ]
     },
     "execution_count": 99,
     "metadata": {},
     "output_type": "execute_result"
    }
   ],
   "source": [
    "Decimal(\"0.1\") + Decimal(\"0.1\") + Decimal(\"0.1\") == Decimal(\"0.3\")"
   ]
  },
  {
   "cell_type": "markdown",
   "id": "sublime-diabetes",
   "metadata": {},
   "source": [
    "## str"
   ]
  },
  {
   "cell_type": "code",
   "execution_count": 102,
   "id": "marine-might",
   "metadata": {},
   "outputs": [
    {
     "name": "stdout",
     "output_type": "stream",
     "text": [
      "a\tb\n"
     ]
    }
   ],
   "source": [
    "print(\"a\\tb\")"
   ]
  },
  {
   "cell_type": "markdown",
   "id": "higher-richards",
   "metadata": {},
   "source": [
    "A)\n",
    "\n",
    "    Programista    Junior\n",
    "\n",
    "B)\n",
    "\n",
    "    Programista\n",
    "               Junior\n",
    "\n",
    "C) \n",
    "    \n",
    "    Juniormista"
   ]
  },
  {
   "cell_type": "code",
   "execution_count": 103,
   "id": "latest-consistency",
   "metadata": {},
   "outputs": [
    {
     "name": "stdout",
     "output_type": "stream",
     "text": [
      "Programista\r",
      "Junior\n"
     ]
    }
   ],
   "source": [
    "print(\"Programista\\rJunior\") "
   ]
  },
  {
   "cell_type": "code",
   "execution_count": 104,
   "id": "listed-range",
   "metadata": {},
   "outputs": [
    {
     "name": "stdout",
     "output_type": "stream",
     "text": [
      "Programista\u000b",
      "Junior\n"
     ]
    }
   ],
   "source": [
    "print(\"Programista\\vJunior\") "
   ]
  },
  {
   "cell_type": "code",
   "execution_count": 105,
   "id": "restricted-reproduction",
   "metadata": {},
   "outputs": [
    {
     "data": {
      "text/plain": [
       "['__add__',\n",
       " '__class__',\n",
       " '__contains__',\n",
       " '__delattr__',\n",
       " '__dir__',\n",
       " '__doc__',\n",
       " '__eq__',\n",
       " '__format__',\n",
       " '__ge__',\n",
       " '__getattribute__',\n",
       " '__getitem__',\n",
       " '__getnewargs__',\n",
       " '__gt__',\n",
       " '__hash__',\n",
       " '__init__',\n",
       " '__init_subclass__',\n",
       " '__iter__',\n",
       " '__le__',\n",
       " '__len__',\n",
       " '__lt__',\n",
       " '__mod__',\n",
       " '__mul__',\n",
       " '__ne__',\n",
       " '__new__',\n",
       " '__reduce__',\n",
       " '__reduce_ex__',\n",
       " '__repr__',\n",
       " '__rmod__',\n",
       " '__rmul__',\n",
       " '__setattr__',\n",
       " '__sizeof__',\n",
       " '__str__',\n",
       " '__subclasshook__',\n",
       " 'capitalize',\n",
       " 'casefold',\n",
       " 'center',\n",
       " 'count',\n",
       " 'encode',\n",
       " 'endswith',\n",
       " 'expandtabs',\n",
       " 'find',\n",
       " 'format',\n",
       " 'format_map',\n",
       " 'index',\n",
       " 'isalnum',\n",
       " 'isalpha',\n",
       " 'isascii',\n",
       " 'isdecimal',\n",
       " 'isdigit',\n",
       " 'isidentifier',\n",
       " 'islower',\n",
       " 'isnumeric',\n",
       " 'isprintable',\n",
       " 'isspace',\n",
       " 'istitle',\n",
       " 'isupper',\n",
       " 'join',\n",
       " 'ljust',\n",
       " 'lower',\n",
       " 'lstrip',\n",
       " 'maketrans',\n",
       " 'partition',\n",
       " 'replace',\n",
       " 'rfind',\n",
       " 'rindex',\n",
       " 'rjust',\n",
       " 'rpartition',\n",
       " 'rsplit',\n",
       " 'rstrip',\n",
       " 'split',\n",
       " 'splitlines',\n",
       " 'startswith',\n",
       " 'strip',\n",
       " 'swapcase',\n",
       " 'title',\n",
       " 'translate',\n",
       " 'upper',\n",
       " 'zfill']"
      ]
     },
     "execution_count": 105,
     "metadata": {},
     "output_type": "execute_result"
    }
   ],
   "source": [
    "dir(\"\")"
   ]
  },
  {
   "cell_type": "code",
   "execution_count": 106,
   "id": "colored-compromise",
   "metadata": {},
   "outputs": [
    {
     "data": {
      "text/plain": [
       "4"
      ]
     },
     "execution_count": 106,
     "metadata": {},
     "output_type": "execute_result"
    }
   ],
   "source": [
    "\"aaaabbb\".count('a')"
   ]
  },
  {
   "cell_type": "code",
   "execution_count": 107,
   "id": "isolated-duncan",
   "metadata": {},
   "outputs": [
    {
     "data": {
      "text/plain": [
       "'AAAABBBB'"
      ]
     },
     "execution_count": 107,
     "metadata": {},
     "output_type": "execute_result"
    }
   ],
   "source": [
    "\"aaaabbbb\".upper()"
   ]
  },
  {
   "cell_type": "code",
   "execution_count": 114,
   "id": "enabling-mixer",
   "metadata": {},
   "outputs": [
    {
     "name": "stdout",
     "output_type": "stream",
     "text": [
      "140603539523376\n",
      "140602202092528\n",
      "140602202092528\n"
     ]
    }
   ],
   "source": [
    "x = \"abc\"\n",
    "print(id(x))\n",
    "x = x + \"d\"\n",
    "x\n",
    "print(id(x))\n",
    "\n",
    "y = x\n",
    "print(id(y))"
   ]
  },
  {
   "cell_type": "markdown",
   "id": "welcome-outreach",
   "metadata": {},
   "source": [
    "### Łączenie napisów - konkatenacja"
   ]
  },
  {
   "cell_type": "code",
   "execution_count": 115,
   "id": "moving-attempt",
   "metadata": {},
   "outputs": [
    {
     "data": {
      "text/plain": [
       "'AlaKot'"
      ]
     },
     "execution_count": 115,
     "metadata": {},
     "output_type": "execute_result"
    }
   ],
   "source": [
    "\"Ala\" + \"Kot\""
   ]
  },
  {
   "cell_type": "code",
   "execution_count": 116,
   "id": "relative-hundred",
   "metadata": {},
   "outputs": [
    {
     "data": {
      "text/plain": [
       "'AlaAlaAlaAlaAla'"
      ]
     },
     "execution_count": 116,
     "metadata": {},
     "output_type": "execute_result"
    }
   ],
   "source": [
    "\"Ala\"*5"
   ]
  },
  {
   "cell_type": "code",
   "execution_count": 117,
   "id": "secret-navigator",
   "metadata": {},
   "outputs": [
    {
     "data": {
      "text/plain": [
       "'1 2'"
      ]
     },
     "execution_count": 117,
     "metadata": {},
     "output_type": "execute_result"
    }
   ],
   "source": [
    "\"%s %s\" % (1, 2)"
   ]
  },
  {
   "cell_type": "code",
   "execution_count": 118,
   "id": "defined-memphis",
   "metadata": {},
   "outputs": [
    {
     "data": {
      "text/plain": [
       "'1 a'"
      ]
     },
     "execution_count": 118,
     "metadata": {},
     "output_type": "execute_result"
    }
   ],
   "source": [
    "\"{} {}\".format(1, 'a')"
   ]
  },
  {
   "cell_type": "code",
   "execution_count": 119,
   "id": "similar-alcohol",
   "metadata": {},
   "outputs": [
    {
     "data": {
      "text/plain": [
       "'a 1.1'"
      ]
     },
     "execution_count": 119,
     "metadata": {},
     "output_type": "execute_result"
    }
   ],
   "source": [
    "\"{1} {0}\".format(1.1, \"a\")"
   ]
  },
  {
   "cell_type": "code",
   "execution_count": 120,
   "id": "diagnostic-jenny",
   "metadata": {},
   "outputs": [
    {
     "data": {
      "text/plain": [
       "'1 xxx'"
      ]
     },
     "execution_count": 120,
     "metadata": {},
     "output_type": "execute_result"
    }
   ],
   "source": [
    "\"{a} {b}\".format(a=\"1\", b=\"xxx\")"
   ]
  },
  {
   "cell_type": "code",
   "execution_count": 121,
   "id": "concrete-vintage",
   "metadata": {},
   "outputs": [
    {
     "data": {
      "text/plain": [
       "'Ala Kot'"
      ]
     },
     "execution_count": 121,
     "metadata": {},
     "output_type": "execute_result"
    }
   ],
   "source": [
    "x = \"Ala\"\n",
    "y = \"Kot\"\n",
    "f\"{x} {y}\""
   ]
  },
  {
   "cell_type": "code",
   "execution_count": 122,
   "id": "relative-raleigh",
   "metadata": {},
   "outputs": [
    {
     "data": {
      "text/plain": [
       "'Ala                            Kot       '"
      ]
     },
     "execution_count": 122,
     "metadata": {},
     "output_type": "execute_result"
    }
   ],
   "source": [
    "f\"{x:30} {y:10}\""
   ]
  },
  {
   "cell_type": "code",
   "execution_count": 124,
   "id": "contemporary-disease",
   "metadata": {},
   "outputs": [
    {
     "data": {
      "text/plain": [
       "'                           Ala    Kot     10.000'"
      ]
     },
     "execution_count": 124,
     "metadata": {},
     "output_type": "execute_result"
    }
   ],
   "source": [
    "z = 10\n",
    "f\"{x:>30} {y:^10} {z:6.3f}\""
   ]
  },
  {
   "cell_type": "markdown",
   "id": "imported-financing",
   "metadata": {},
   "source": [
    "### funkcja input"
   ]
  },
  {
   "cell_type": "code",
   "execution_count": 125,
   "id": "geographic-kitty",
   "metadata": {},
   "outputs": [
    {
     "name": "stdout",
     "output_type": "stream",
     "text": [
      "Podaj liczbę: 12\n"
     ]
    }
   ],
   "source": [
    "x = input(\"Podaj liczbę: \")"
   ]
  },
  {
   "cell_type": "markdown",
   "id": "female-lincoln",
   "metadata": {},
   "source": [
    "#### Exercise - BMI\n",
    "\n",
    "Napisz skrypt, który dla podanych danych obliczy współczynnik BMI: $ BMI = \\frac{masa (kg)}{wzrost (m)^{2}}$.\n",
    "\n",
    "Zapytaj także o imię. Przedstaw dane - jak niżej.\n",
    "\n",
    "    Podaj imię: Alojzy\n",
    "    Podaj wzrost: 1.90\n",
    "    Podaj wagę: 65\n",
    "\n",
    "    imię:        Alojzy\n",
    "    waga:         65.00\n",
    "    wzrost:        1.90\n",
    "    bmi:          18.01\n",
    "\n",
    "Zwróć uwagę, że ułożenie tekstu zależy od długości imienia\n",
    "\n",
    "    imię:        Adi\n",
    "    waga:     134.00\n",
    "    wzrost:     1.81\n",
    "    bmi:       40.90\n",
    "\n",
    "    \n",
    "    imię:        Tymoteusz\n",
    "    waga:           134.00\n",
    "    wzrost:           1.81\n",
    "    bmi:             40.90\n"
   ]
  },
  {
   "cell_type": "code",
   "execution_count": null,
   "id": "future-acrylic",
   "metadata": {},
   "outputs": [],
   "source": []
  }
 ],
 "metadata": {
  "kernelspec": {
   "display_name": "Python 3",
   "language": "python",
   "name": "python3"
  },
  "language_info": {
   "codemirror_mode": {
    "name": "ipython",
    "version": 3
   },
   "file_extension": ".py",
   "mimetype": "text/x-python",
   "name": "python",
   "nbconvert_exporter": "python",
   "pygments_lexer": "ipython3",
   "version": "3.7.9"
  },
  "toc": {
   "base_numbering": 1,
   "nav_menu": {},
   "number_sections": true,
   "sideBar": true,
   "skip_h1_title": false,
   "title_cell": "Table of Contents",
   "title_sidebar": "Contents",
   "toc_cell": false,
   "toc_position": {},
   "toc_section_display": true,
   "toc_window_display": true
  }
 },
 "nbformat": 4,
 "nbformat_minor": 5
}
