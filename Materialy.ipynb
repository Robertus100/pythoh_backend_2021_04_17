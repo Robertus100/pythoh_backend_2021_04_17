{
 "cells": [
  {
   "cell_type": "code",
   "execution_count": 2,
   "id": "functional-startup",
   "metadata": {},
   "outputs": [
    {
     "name": "stdout",
     "output_type": "stream",
     "text": [
      "1\n"
     ]
    }
   ],
   "source": [
    "x = 1\n",
    "print(x)"
   ]
  },
  {
   "cell_type": "markdown",
   "id": "north-heater",
   "metadata": {},
   "source": [
    "\n",
    "<p style=\"text-align: center; font-size: 32pt; line-height: 36pt\">\n",
    "    <b>Python Backend Developer</b>\n",
    "</p>\n",
    "\n",
    "\n",
    "<p style=\"text-align: center; font-size: 12pt; line-height: 16pt;\">\n",
    "<b>Trener</b><br>\n",
    "Rafał Korzeniewski<br>\n",
    "tel.: <a href=\"tel:+48790018662\">+48 790 018 662</a><br>\n",
    "email: <a href=\"mailto:korzeniewski@gmail.com\">korzeniewski@gmail.com</a><br>\n",
    "</p>\n"
   ]
  },
  {
   "cell_type": "markdown",
   "id": "recovered-petite",
   "metadata": {},
   "source": [
    "# Intro\n",
    "\n",
    "## Kilka ogólnych zasad:\n",
    "\n",
    "- W razie problemów - chat, SMS/Telefon\n",
    "- Nie ma głupich pytań - nie oceniamy!\n",
    "- Reguła Las Vegas (poza wiedzą oczywiście ;))\n",
    "- Jak zadać pytanie? \n",
    "    \n",
    "    ```\n",
    "    1) można przerwać i zabrać głos\n",
    "    2) pytanie na chacie \n",
    "    3) podniesienie wirtualnej ręki\n",
    "    ```\n",
    "- Aktywne uczestnictwo\n",
    "- \"Tu i teraz\" - koncentrujemy się na zajęciach, wyciszamy telefony\n",
    "- Systematyczna praca pomiędzy spotkaniami\n",
    "- Wyciszamy mikrofony, gdy nie mówimy\n",
    "- kamerki nie są obowiązkowe\n",
    "- dobrze jest mieć słuchawki z mikrofonem\n",
    "\n",
    "\n",
    "### Proponowany rozkład dnia:\n",
    "\n",
    "- 09:00-10:45 - Praca\n",
    "- 10:45-11:00 - Przerwa \n",
    "- 11:00-12:45 - Praca\n",
    "- 13:45-13:45 - Przerwa obiadowa\n",
    "- 13:45-15:15 - Praca\n",
    "- 15:15-15:30 - Przerwa\n",
    "- 15:30-17:00 - Praca"
   ]
  },
  {
   "cell_type": "code",
   "execution_count": null,
   "id": "tropical-constitution",
   "metadata": {},
   "outputs": [],
   "source": [
    "quizz\n",
    "\n",
    "a) PyCharm\n",
    "b) VSCode\n",
    "c) Sublime\n",
    "d) inne"
   ]
  },
  {
   "cell_type": "markdown",
   "id": "blessed-issue",
   "metadata": {},
   "source": [
    "# GIT\n",
    "\n",
    "https://git-scm.com/book/pl/v2"
   ]
  },
  {
   "cell_type": "code",
   "execution_count": null,
   "id": "subjective-precipitation",
   "metadata": {},
   "outputs": [],
   "source": []
  }
 ],
 "metadata": {
  "kernelspec": {
   "display_name": "Python 3",
   "language": "python",
   "name": "python3"
  },
  "language_info": {
   "codemirror_mode": {
    "name": "ipython",
    "version": 3
   },
   "file_extension": ".py",
   "mimetype": "text/x-python",
   "name": "python",
   "nbconvert_exporter": "python",
   "pygments_lexer": "ipython3",
   "version": "3.7.9"
  },
  "toc": {
   "base_numbering": 1,
   "nav_menu": {},
   "number_sections": true,
   "sideBar": true,
   "skip_h1_title": false,
   "title_cell": "Table of Contents",
   "title_sidebar": "Contents",
   "toc_cell": false,
   "toc_position": {},
   "toc_section_display": true,
   "toc_window_display": true
  }
 },
 "nbformat": 4,
 "nbformat_minor": 5
}
