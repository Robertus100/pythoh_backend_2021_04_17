{
 "cells": [
  {
   "cell_type": "code",
   "execution_count": 2,
   "id": "threaded-shame",
   "metadata": {},
   "outputs": [
    {
     "name": "stdout",
     "output_type": "stream",
     "text": [
      "1\n"
     ]
    }
   ],
   "source": [
    "x = 1\n",
    "print(x)"
   ]
  },
  {
   "cell_type": "markdown",
   "id": "classified-manchester",
   "metadata": {},
   "source": [
    "\n",
    "<p style=\"text-align: center; font-size: 32pt; line-height: 36pt\">\n",
    "    <b>Python Backend Developer</b>\n",
    "</p>\n",
    "\n",
    "\n",
    "<p style=\"text-align: center; font-size: 12pt; line-height: 16pt;\">\n",
    "<b>Trener</b><br>\n",
    "Rafał Korzeniewski<br>\n",
    "tel.: <a href=\"tel:+48790018662\">+48 790 018 662</a><br>\n",
    "email: <a href=\"mailto:korzeniewski@gmail.com\">korzeniewski@gmail.com</a><br>\n",
    "</p>\n"
   ]
  },
  {
   "cell_type": "markdown",
   "id": "infinite-links",
   "metadata": {},
   "source": [
    "# Intro\n",
    "\n",
    "## Kilka ogólnych zasad:\n",
    "\n",
    "- W razie problemów - chat, SMS/Telefon\n",
    "- Nie ma głupich pytań - nie oceniamy!\n",
    "- Reguła Las Vegas (poza wiedzą oczywiście ;))\n",
    "- Jak zadać pytanie? \n",
    "    \n",
    "    ```\n",
    "    1) można przerwać i zabrać głos\n",
    "    2) pytanie na chacie \n",
    "    3) podniesienie wirtualnej ręki\n",
    "    ```\n",
    "- Aktywne uczestnictwo\n",
    "- \"Tu i teraz\" - koncentrujemy się na zajęciach, wyciszamy telefony\n",
    "- Systematyczna praca pomiędzy spotkaniami\n",
    "- Wyciszamy mikrofony, gdy nie mówimy\n",
    "- kamerki nie są obowiązkowe\n",
    "- dobrze jest mieć słuchawki z mikrofonem\n",
    "\n",
    "\n",
    "### Proponowany rozkład dnia:\n",
    "\n",
    "- 09:00-10:45 - Praca\n",
    "- 10:45-11:00 - Przerwa \n",
    "- 11:00-12:45 - Praca\n",
    "- 13:45-13:45 - Przerwa obiadowa\n",
    "- 13:45-15:15 - Praca\n",
    "- 15:15-15:30 - Przerwa\n",
    "- 15:30-17:00 - Praca"
   ]
  },
  {
   "cell_type": "code",
   "execution_count": null,
   "id": "serious-encounter",
   "metadata": {},
   "outputs": [],
   "source": [
    "Wirtualne środowiska\n",
    "\n"
   ]
  },
  {
   "cell_type": "markdown",
   "id": "medium-holiday",
   "metadata": {},
   "source": [
    "# GIT\n",
    "\n",
    "https://git-scm.com/book/pl/v2\n",
    "\n",
    "po zainstalowaniu gita:\n",
    "\n",
    "     git config user.name \"FIRST_NAME LAST_NAME\"\n",
    "     git config user.email \"MY_NAME@example.com\"\n",
    "\n",
    "`git init` - inicjalizuje repozytorium\n",
    "\n",
    "`git remote add origin <adres repo>`\n",
    "\n",
    "`git add <nazwa> lub .` - dodaj do indexu\n",
    "\n",
    "- można utworzyć plik .gitignore - to czego nie chcemy śledzić\n",
    "\n",
    "`git commit (-m \"git message - opis commita\")` \n",
    "\n",
    "`git push origin master`\n",
    "\n",
    "\n",
    "\n",
    "## Exercise - GIT basics\n",
    "\n",
    "1. Utwórz zdalne repozytorium na github / gitlab / bitbucket (co wolisz). Może być prywatne.\n",
    "2. Załóż główny katalog dla naszego projektu, np: python_backend_bootcamp\n",
    "3. Zainicjalizuj w nim repozytorium git\n",
    "4. Dodaj repozytorium zdalne\n",
    "5. Utwórz plik README.md i dodaj w nim jakaś treść\n",
    "6. Dodaj do indexu\n",
    "7. Utwórz commit z opisem\n",
    "8. Wyślij kod do repozytorium\n",
    "\n",
    "W miarę potrzeb inne przydatne rzeczy związane z GITem poznamy w dalszej części kursu\n",
    "  "
   ]
  },
  {
   "cell_type": "code",
   "execution_count": 3,
   "id": "polyphonic-intent",
   "metadata": {},
   "outputs": [
    {
     "name": "stdout",
     "output_type": "stream",
     "text": [
      "Requirement already satisfied: beepy in /Library/Frameworks/Python.framework/Versions/3.7/lib/python3.7/site-packages (1.0.7)\n",
      "Requirement already satisfied: simpleaudio in /Library/Frameworks/Python.framework/Versions/3.7/lib/python3.7/site-packages (from beepy) (1.0.4)\n",
      "Note: you may need to restart the kernel to use updated packages.\n"
     ]
    }
   ],
   "source": [
    "pip install beepy"
   ]
  },
  {
   "cell_type": "code",
   "execution_count": 7,
   "id": "abandoned-philippines",
   "metadata": {},
   "outputs": [
    {
     "name": "stdout",
     "output_type": "stream",
     "text": [
      "Materialy.ipynb  \u001b[34mvenv\u001b[m\u001b[m/\r\n"
     ]
    }
   ],
   "source": [
    "ls"
   ]
  },
  {
   "cell_type": "code",
   "execution_count": 8,
   "id": "corporate-hundred",
   "metadata": {},
   "outputs": [],
   "source": [
    "import beepy"
   ]
  },
  {
   "cell_type": "code",
   "execution_count": 11,
   "id": "inclusive-proof",
   "metadata": {},
   "outputs": [],
   "source": [
    "beepy.beep(sound=3)"
   ]
  },
  {
   "cell_type": "markdown",
   "id": "focal-absorption",
   "metadata": {},
   "source": [
    "# Exercies - zabawa\n",
    "\n",
    "Utwórz skrypt Pythona o nazwie `work_break.py`, który będzie sygnalizował dźwiękowo i tekstem w konsoli rozpoczęcie pracy i przerw. \n",
    "\n",
    "Konfiguracja skryptu powinna znandować się w osobnym pliku tekstowym i powinna mieć budowę:\n",
    "\n",
    "    09:00-10:45 Praca\n",
    "    10:45-11:00 Przerwa\n",
    "    11:00-12:45 Pracam\n",
    "    12:45-13:45 Przerwa obiadowa\n",
    "    13:45-15:15 Praca\n",
    "    15:15-15:30 Przerwa\n",
    "    15:30-17:00 Praca\n",
    "    17:00 Koniec\n",
    "\n",
    "Taką konfigurację należy wczytać i każdemu zdarzeniu (Praca, Przerwa itd. ) przypisać jakiś zdarzenie dźwiękowe (np. przy pomocy modułu `beepy`)\n",
    "\n",
    "Po uruchomieniu skryptu powinniśmy dostać sygnał dźwiękowy i wpis w konsoli informujacy nas o aktualnej fazie. Skrypt powinien potem wyłapywać odpowiednie momenty i sygnalizowac nam zmianę. \n",
    "W wyłapaniu zdarzenia Koniec - program powinien poinformować o tym i zakończyć swoje działanie"
   ]
  },
  {
   "cell_type": "code",
   "execution_count": 14,
   "id": "afraid-registration",
   "metadata": {},
   "outputs": [
    {
     "name": "stdout",
     "output_type": "stream",
     "text": [
      "Writing config.txt\n"
     ]
    }
   ],
   "source": [
    "%%writefile config.txt\n",
    "09:00-10:45 Praca\n",
    "10:45-11:00 Przerwa\n",
    "11:00-12:45 Pracam\n",
    "12:45-13:45 Przerwa obiadowa\n",
    "13:45-15:15 Praca\n",
    "15:15-15:30 Przerwa\n",
    "15:30-17:00 Praca\n",
    "17:00 Koniec\n"
   ]
  },
  {
   "cell_type": "code",
   "execution_count": 15,
   "id": "incorporated-network",
   "metadata": {},
   "outputs": [],
   "source": [
    "import datetime"
   ]
  },
  {
   "cell_type": "code",
   "execution_count": 19,
   "id": "likely-victim",
   "metadata": {},
   "outputs": [],
   "source": [
    "t = datetime.datetime.now()"
   ]
  },
  {
   "cell_type": "code",
   "execution_count": 20,
   "id": "electronic-annual",
   "metadata": {},
   "outputs": [
    {
     "data": {
      "text/plain": [
       "datetime.datetime(2021, 4, 17, 17, 0)"
      ]
     },
     "execution_count": 20,
     "metadata": {},
     "output_type": "execute_result"
    }
   ],
   "source": [
    "t.replace(hour=17, minute=0, second=0, microsecond=0)"
   ]
  },
  {
   "cell_type": "code",
   "execution_count": 21,
   "id": "particular-athletics",
   "metadata": {},
   "outputs": [
    {
     "data": {
      "text/plain": [
       "datetime.datetime(2021, 4, 17, 11, 10, 2, 907189)"
      ]
     },
     "execution_count": 21,
     "metadata": {},
     "output_type": "execute_result"
    }
   ],
   "source": [
    "t"
   ]
  },
  {
   "cell_type": "code",
   "execution_count": 22,
   "id": "noted-parent",
   "metadata": {},
   "outputs": [],
   "source": [
    "start = t.replace(hour=17, minute=0, second=0, microsecond=0)\n"
   ]
  },
  {
   "cell_type": "code",
   "execution_count": 23,
   "id": "photographic-society",
   "metadata": {},
   "outputs": [
    {
     "data": {
      "text/plain": [
       "False"
      ]
     },
     "execution_count": 23,
     "metadata": {},
     "output_type": "execute_result"
    }
   ],
   "source": [
    "start < t"
   ]
  },
  {
   "cell_type": "code",
   "execution_count": null,
   "id": "third-liquid",
   "metadata": {},
   "outputs": [],
   "source": []
  }
 ],
 "metadata": {
  "kernelspec": {
   "display_name": "Python 3",
   "language": "python",
   "name": "python3"
  },
  "language_info": {
   "codemirror_mode": {
    "name": "ipython",
    "version": 3
   },
   "file_extension": ".py",
   "mimetype": "text/x-python",
   "name": "python",
   "nbconvert_exporter": "python",
   "pygments_lexer": "ipython3",
   "version": "3.7.9"
  },
  "toc": {
   "base_numbering": 1,
   "nav_menu": {},
   "number_sections": true,
   "sideBar": true,
   "skip_h1_title": false,
   "title_cell": "Table of Contents",
   "title_sidebar": "Contents",
   "toc_cell": false,
   "toc_position": {},
   "toc_section_display": true,
   "toc_window_display": true
  }
 },
 "nbformat": 4,
 "nbformat_minor": 5
}
