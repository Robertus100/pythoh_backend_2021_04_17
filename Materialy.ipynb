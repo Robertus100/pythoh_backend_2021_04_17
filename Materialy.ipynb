{
 "cells": [
  {
   "cell_type": "code",
   "execution_count": 2,
   "id": "threaded-shame",
   "metadata": {},
   "outputs": [
    {
     "name": "stdout",
     "output_type": "stream",
     "text": [
      "1\n"
     ]
    }
   ],
   "source": [
    "x = 1\n",
    "print(x)"
   ]
  },
  {
   "cell_type": "markdown",
   "id": "classified-manchester",
   "metadata": {},
   "source": [
    "\n",
    "<p style=\"text-align: center; font-size: 32pt; line-height: 36pt\">\n",
    "    <b>Python Backend Developer</b>\n",
    "</p>\n",
    "\n",
    "\n",
    "<p style=\"text-align: center; font-size: 12pt; line-height: 16pt;\">\n",
    "<b>Trener</b><br>\n",
    "Rafał Korzeniewski<br>\n",
    "tel.: <a href=\"tel:+48790018662\">+48 790 018 662</a><br>\n",
    "email: <a href=\"mailto:korzeniewski@gmail.com\">korzeniewski@gmail.com</a><br>\n",
    "</p>\n"
   ]
  },
  {
   "cell_type": "markdown",
   "id": "infinite-links",
   "metadata": {},
   "source": [
    "# Intro\n",
    "\n",
    "## Kilka ogólnych zasad:\n",
    "\n",
    "- W razie problemów - chat, SMS/Telefon\n",
    "- Nie ma głupich pytań - nie oceniamy!\n",
    "- Reguła Las Vegas (poza wiedzą oczywiście ;))\n",
    "- Jak zadać pytanie? \n",
    "    \n",
    "    ```\n",
    "    1) można przerwać i zabrać głos\n",
    "    2) pytanie na chacie \n",
    "    3) podniesienie wirtualnej ręki\n",
    "    ```\n",
    "- Aktywne uczestnictwo\n",
    "- \"Tu i teraz\" - koncentrujemy się na zajęciach, wyciszamy telefony\n",
    "- Systematyczna praca pomiędzy spotkaniami\n",
    "- Wyciszamy mikrofony, gdy nie mówimy\n",
    "- kamerki nie są obowiązkowe\n",
    "- dobrze jest mieć słuchawki z mikrofonem\n",
    "\n",
    "\n",
    "### Proponowany rozkład dnia:\n",
    "\n",
    "- 09:00-10:45 - Praca\n",
    "- 10:45-11:00 - Przerwa \n",
    "- 11:00-12:45 - Praca\n",
    "- 13:45-13:45 - Przerwa obiadowa\n",
    "- 13:45-15:15 - Praca\n",
    "- 15:15-15:30 - Przerwa\n",
    "- 15:30-17:00 - Praca"
   ]
  },
  {
   "cell_type": "code",
   "execution_count": null,
   "id": "serious-encounter",
   "metadata": {},
   "outputs": [],
   "source": [
    "Wirtualne środowiska\n",
    "\n"
   ]
  },
  {
   "cell_type": "markdown",
   "id": "medium-holiday",
   "metadata": {},
   "source": [
    "# GIT\n",
    "\n",
    "https://git-scm.com/book/pl/v2\n",
    "\n",
    "po zainstalowaniu gita:\n",
    "\n",
    "     git config user.name \"FIRST_NAME LAST_NAME\"\n",
    "     git config user.email \"MY_NAME@example.com\"\n",
    "\n",
    "`git init` - inicjalizuje repozytorium\n",
    "\n",
    "`git remote add origin <adres repo>`\n",
    "\n",
    "`git add <nazwa> lub .` - dodaj do indexu\n",
    "\n",
    "- można utworzyć plik .gitignore - to czego nie chcemy śledzić\n",
    "\n",
    "`git commit (-m \"git message - opis commita\")` \n",
    "\n",
    "`git push origin master`\n",
    "\n",
    "\n",
    "\n",
    "## Exercise - GIT basics\n",
    "\n",
    "1. Utwórz zdalne repozytorium na github / gitlab / bitbucket (co wolisz). Może być prywatne.\n",
    "2. Załóż główny katalog dla naszego projektu, np: python_backend_bootcamp\n",
    "3. Zainicjalizuj w nim repozytorium git\n",
    "4. Dodaj repozytorium zdalne\n",
    "5. Utwórz plik README.md i dodaj w nim jakaś treść\n",
    "6. Dodaj do indexu\n",
    "7. Utwórz commit z opisem\n",
    "8. Wyślij kod do repozytorium\n",
    "\n",
    "W miarę potrzeb inne przydatne rzeczy związane z GITem poznamy w dalszej części kursu\n",
    "  "
   ]
  },
  {
   "cell_type": "code",
   "execution_count": 3,
   "id": "polyphonic-intent",
   "metadata": {},
   "outputs": [
    {
     "name": "stdout",
     "output_type": "stream",
     "text": [
      "Requirement already satisfied: beepy in /Library/Frameworks/Python.framework/Versions/3.7/lib/python3.7/site-packages (1.0.7)\n",
      "Requirement already satisfied: simpleaudio in /Library/Frameworks/Python.framework/Versions/3.7/lib/python3.7/site-packages (from beepy) (1.0.4)\n",
      "Note: you may need to restart the kernel to use updated packages.\n"
     ]
    }
   ],
   "source": [
    "pip install beepy"
   ]
  },
  {
   "cell_type": "code",
   "execution_count": 7,
   "id": "united-standing",
   "metadata": {},
   "outputs": [
    {
     "name": "stdout",
     "output_type": "stream",
     "text": [
      "Materialy.ipynb  \u001b[34mvenv\u001b[m\u001b[m/\r\n"
     ]
    }
   ],
   "source": [
    "ls"
   ]
  },
  {
   "cell_type": "code",
   "execution_count": 8,
   "id": "sacred-sixth",
   "metadata": {},
   "outputs": [],
   "source": [
    "import beepy"
   ]
  },
  {
   "cell_type": "code",
   "execution_count": 11,
   "id": "computational-greece",
   "metadata": {},
   "outputs": [],
   "source": [
    "beepy.beep(sound=3)"
   ]
  },
  {
   "cell_type": "markdown",
   "id": "vulnerable-remark",
   "metadata": {},
   "source": [
    "# Exercies - zabawa\n",
    "\n",
    "Utwórz skrypt Pythona o nazwie `work_break.py`, który będzie sygnalizował dźwiękowo i tekstem w konsoli rozpoczęcie pracy i przerw. \n",
    "\n",
    "Konfiguracja skryptu powinna znandować się w osobnym pliku tekstowym i powinna mieć budowę:\n",
    "\n",
    "    09:00-10:45 Praca\n",
    "    10:45-11:00 Przerwa\n",
    "    11:00-12:45 Pracam\n",
    "    12:45-13:45 Przerwa obiadowa\n",
    "    13:45-15:15 Praca\n",
    "    15:15-15:30 Przerwa\n",
    "    15:30-17:00 Praca\n",
    "    17:00 Koniec\n",
    "\n",
    "Taką konfigurację należy wczytać i każdemu zdarzeniu (Praca, Przerwa itd. ) przypisać jakiś zdarzenie dźwiękowe (np. przy pomocy modułu `beepy`)\n",
    "\n",
    "Po uruchomieniu skryptu powinniśmy dostać sygnał dźwiękowy i wpis w konsoli informujacy nas o aktualnej fazie. Skrypt powinien potem wyłapywać odpowiednie momenty i sygnalizowac nam zmianę. \n",
    "W wyłapaniu zdarzenia Koniec - program powinien poinformować o tym i zakończyć swoje działanie"
   ]
  },
  {
   "cell_type": "code",
   "execution_count": 14,
   "id": "jewish-birmingham",
   "metadata": {},
   "outputs": [
    {
     "name": "stdout",
     "output_type": "stream",
     "text": [
      "Writing config.txt\n"
     ]
    }
   ],
   "source": [
    "%%writefile config.txt\n",
    "09:00-10:45 Praca\n",
    "10:45-11:00 Przerwa\n",
    "11:00-12:45 Pracam\n",
    "12:45-13:45 Przerwa obiadowa\n",
    "13:45-15:15 Praca\n",
    "15:15-15:30 Przerwa\n",
    "15:30-17:00 Praca\n",
    "17:00 Koniec\n"
   ]
  },
  {
   "cell_type": "code",
   "execution_count": null,
   "id": "acoustic-wallpaper",
   "metadata": {},
   "outputs": [],
   "source": [
    "# %load workbreakmachine.py\n",
    "from datetime import datetime\n",
    "import time\n",
    "import beepy\n",
    "# import winsound\n",
    "\n",
    "import sys\n",
    "\n",
    "try:\n",
    "    file_name = sys.argv[1]\n",
    "except IndexError:\n",
    "    file_name = 'config.txt'\n",
    "\n",
    "def read_config(file_name='config.txt'):\n",
    "    with open(file_name) as f:\n",
    "        config = dict([line.split(\" \", 1) for line in f.read().splitlines()])\n",
    "    return config\n",
    "\n",
    "# def to_datetime(hour_minute: str) -> datetime:\n",
    "def to_datetime(hour_minute):\n",
    "    # hour, minute = [int(x) for x in hour_minute.split(\":\")]\n",
    "    hour, minute = map(int, hour_minute.split(\":\"))\n",
    "    t = datetime.now()\n",
    "    t = t.replace(hour=hour, minute=minute, second=0, microsecond=0)\n",
    "    return t\n",
    "\n",
    "def tribe(t, config):\n",
    "    for k, v in config.items():\n",
    "        try:\n",
    "            start, end = map(to_datetime, k.split(\"-\"))\n",
    "            if start <= t <= end:\n",
    "                return v\n",
    "        except ValueError:\n",
    "            start = to_datetime(k)\n",
    "            if start <= t:\n",
    "                return v\n",
    "\n",
    "BEEPS = {\"Praca\": 1, \"Przerwa\": 2, \"Przerwa obiadowa\": 3}\n",
    "def main():\n",
    "    mode = 'Przerwa'\n",
    "    config = read_config(file_name)\n",
    "\n",
    "    while True:\n",
    "        t = datetime.now()\n",
    "        curr_tribe = tribe(t, config)\n",
    "        if curr_tribe != mode:\n",
    "            mode = curr_tribe\n",
    "            beepy.beep(sound=BEEPS[mode])\n",
    "            print(mode)\n",
    "        if curr_tribe == \"Koniec\":\n",
    "            break\n",
    "        time.sleep(1)\n",
    "\n",
    "\n",
    "\n",
    "main()\n"
   ]
  },
  {
   "cell_type": "code",
   "execution_count": 15,
   "id": "comprehensive-rental",
   "metadata": {},
   "outputs": [],
   "source": [
    "import datetime"
   ]
  },
  {
   "cell_type": "code",
   "execution_count": 19,
   "id": "known-reality",
   "metadata": {},
   "outputs": [],
   "source": [
    "t = datetime.datetime.now()"
   ]
  },
  {
   "cell_type": "code",
   "execution_count": 20,
   "id": "dried-plate",
   "metadata": {},
   "outputs": [
    {
     "data": {
      "text/plain": [
       "datetime.datetime(2021, 4, 17, 17, 0)"
      ]
     },
     "execution_count": 20,
     "metadata": {},
     "output_type": "execute_result"
    }
   ],
   "source": [
    "t.replace(hour=17, minute=0, second=0, microsecond=0)"
   ]
  },
  {
   "cell_type": "code",
   "execution_count": 21,
   "id": "cardiovascular-calculation",
   "metadata": {},
   "outputs": [
    {
     "data": {
      "text/plain": [
       "datetime.datetime(2021, 4, 17, 11, 10, 2, 907189)"
      ]
     },
     "execution_count": 21,
     "metadata": {},
     "output_type": "execute_result"
    }
   ],
   "source": [
    "t"
   ]
  },
  {
   "cell_type": "code",
   "execution_count": 22,
   "id": "aboriginal-queens",
   "metadata": {},
   "outputs": [],
   "source": [
    "start = t.replace(hour=17, minute=0, second=0, microsecond=0)\n"
   ]
  },
  {
   "cell_type": "code",
   "execution_count": 23,
   "id": "horizontal-quarterly",
   "metadata": {},
   "outputs": [
    {
     "data": {
      "text/plain": [
       "False"
      ]
     },
     "execution_count": 23,
     "metadata": {},
     "output_type": "execute_result"
    }
   ],
   "source": [
    "start < t"
   ]
  },
  {
   "cell_type": "markdown",
   "id": "angry-ceramic",
   "metadata": {},
   "source": [
    "## Quizz\n",
    "\n",
    "Czy znasz funkcję help i posługujesz się nią"
   ]
  },
  {
   "cell_type": "code",
   "execution_count": 24,
   "id": "joint-minutes",
   "metadata": {},
   "outputs": [
    {
     "name": "stdout",
     "output_type": "stream",
     "text": [
      "Help on class int in module builtins:\n",
      "\n",
      "class int(object)\n",
      " |  int([x]) -> integer\n",
      " |  int(x, base=10) -> integer\n",
      " |  \n",
      " |  Convert a number or string to an integer, or return 0 if no arguments\n",
      " |  are given.  If x is a number, return x.__int__().  For floating point\n",
      " |  numbers, this truncates towards zero.\n",
      " |  \n",
      " |  If x is not a number or if base is given, then x must be a string,\n",
      " |  bytes, or bytearray instance representing an integer literal in the\n",
      " |  given base.  The literal can be preceded by '+' or '-' and be surrounded\n",
      " |  by whitespace.  The base defaults to 10.  Valid bases are 0 and 2-36.\n",
      " |  Base 0 means to interpret the base from the string as an integer literal.\n",
      " |  >>> int('0b100', base=0)\n",
      " |  4\n",
      " |  \n",
      " |  Methods defined here:\n",
      " |  \n",
      " |  __abs__(self, /)\n",
      " |      abs(self)\n",
      " |  \n",
      " |  __add__(self, value, /)\n",
      " |      Return self+value.\n",
      " |  \n",
      " |  __and__(self, value, /)\n",
      " |      Return self&value.\n",
      " |  \n",
      " |  __bool__(self, /)\n",
      " |      self != 0\n",
      " |  \n",
      " |  __ceil__(...)\n",
      " |      Ceiling of an Integral returns itself.\n",
      " |  \n",
      " |  __divmod__(self, value, /)\n",
      " |      Return divmod(self, value).\n",
      " |  \n",
      " |  __eq__(self, value, /)\n",
      " |      Return self==value.\n",
      " |  \n",
      " |  __float__(self, /)\n",
      " |      float(self)\n",
      " |  \n",
      " |  __floor__(...)\n",
      " |      Flooring an Integral returns itself.\n",
      " |  \n",
      " |  __floordiv__(self, value, /)\n",
      " |      Return self//value.\n",
      " |  \n",
      " |  __format__(self, format_spec, /)\n",
      " |      Default object formatter.\n",
      " |  \n",
      " |  __ge__(self, value, /)\n",
      " |      Return self>=value.\n",
      " |  \n",
      " |  __getattribute__(self, name, /)\n",
      " |      Return getattr(self, name).\n",
      " |  \n",
      " |  __getnewargs__(self, /)\n",
      " |  \n",
      " |  __gt__(self, value, /)\n",
      " |      Return self>value.\n",
      " |  \n",
      " |  __hash__(self, /)\n",
      " |      Return hash(self).\n",
      " |  \n",
      " |  __index__(self, /)\n",
      " |      Return self converted to an integer, if self is suitable for use as an index into a list.\n",
      " |  \n",
      " |  __int__(self, /)\n",
      " |      int(self)\n",
      " |  \n",
      " |  __invert__(self, /)\n",
      " |      ~self\n",
      " |  \n",
      " |  __le__(self, value, /)\n",
      " |      Return self<=value.\n",
      " |  \n",
      " |  __lshift__(self, value, /)\n",
      " |      Return self<<value.\n",
      " |  \n",
      " |  __lt__(self, value, /)\n",
      " |      Return self<value.\n",
      " |  \n",
      " |  __mod__(self, value, /)\n",
      " |      Return self%value.\n",
      " |  \n",
      " |  __mul__(self, value, /)\n",
      " |      Return self*value.\n",
      " |  \n",
      " |  __ne__(self, value, /)\n",
      " |      Return self!=value.\n",
      " |  \n",
      " |  __neg__(self, /)\n",
      " |      -self\n",
      " |  \n",
      " |  __or__(self, value, /)\n",
      " |      Return self|value.\n",
      " |  \n",
      " |  __pos__(self, /)\n",
      " |      +self\n",
      " |  \n",
      " |  __pow__(self, value, mod=None, /)\n",
      " |      Return pow(self, value, mod).\n",
      " |  \n",
      " |  __radd__(self, value, /)\n",
      " |      Return value+self.\n",
      " |  \n",
      " |  __rand__(self, value, /)\n",
      " |      Return value&self.\n",
      " |  \n",
      " |  __rdivmod__(self, value, /)\n",
      " |      Return divmod(value, self).\n",
      " |  \n",
      " |  __repr__(self, /)\n",
      " |      Return repr(self).\n",
      " |  \n",
      " |  __rfloordiv__(self, value, /)\n",
      " |      Return value//self.\n",
      " |  \n",
      " |  __rlshift__(self, value, /)\n",
      " |      Return value<<self.\n",
      " |  \n",
      " |  __rmod__(self, value, /)\n",
      " |      Return value%self.\n",
      " |  \n",
      " |  __rmul__(self, value, /)\n",
      " |      Return value*self.\n",
      " |  \n",
      " |  __ror__(self, value, /)\n",
      " |      Return value|self.\n",
      " |  \n",
      " |  __round__(...)\n",
      " |      Rounding an Integral returns itself.\n",
      " |      Rounding with an ndigits argument also returns an integer.\n",
      " |  \n",
      " |  __rpow__(self, value, mod=None, /)\n",
      " |      Return pow(value, self, mod).\n",
      " |  \n",
      " |  __rrshift__(self, value, /)\n",
      " |      Return value>>self.\n",
      " |  \n",
      " |  __rshift__(self, value, /)\n",
      " |      Return self>>value.\n",
      " |  \n",
      " |  __rsub__(self, value, /)\n",
      " |      Return value-self.\n",
      " |  \n",
      " |  __rtruediv__(self, value, /)\n",
      " |      Return value/self.\n",
      " |  \n",
      " |  __rxor__(self, value, /)\n",
      " |      Return value^self.\n",
      " |  \n",
      " |  __sizeof__(self, /)\n",
      " |      Returns size in memory, in bytes.\n",
      " |  \n",
      " |  __str__(self, /)\n",
      " |      Return str(self).\n",
      " |  \n",
      " |  __sub__(self, value, /)\n",
      " |      Return self-value.\n",
      " |  \n",
      " |  __truediv__(self, value, /)\n",
      " |      Return self/value.\n",
      " |  \n",
      " |  __trunc__(...)\n",
      " |      Truncating an Integral returns itself.\n",
      " |  \n",
      " |  __xor__(self, value, /)\n",
      " |      Return self^value.\n",
      " |  \n",
      " |  bit_length(self, /)\n",
      " |      Number of bits necessary to represent self in binary.\n",
      " |      \n",
      " |      >>> bin(37)\n",
      " |      '0b100101'\n",
      " |      >>> (37).bit_length()\n",
      " |      6\n",
      " |  \n",
      " |  conjugate(...)\n",
      " |      Returns self, the complex conjugate of any int.\n",
      " |  \n",
      " |  to_bytes(self, /, length, byteorder, *, signed=False)\n",
      " |      Return an array of bytes representing an integer.\n",
      " |      \n",
      " |      length\n",
      " |        Length of bytes object to use.  An OverflowError is raised if the\n",
      " |        integer is not representable with the given number of bytes.\n",
      " |      byteorder\n",
      " |        The byte order used to represent the integer.  If byteorder is 'big',\n",
      " |        the most significant byte is at the beginning of the byte array.  If\n",
      " |        byteorder is 'little', the most significant byte is at the end of the\n",
      " |        byte array.  To request the native byte order of the host system, use\n",
      " |        `sys.byteorder' as the byte order value.\n",
      " |      signed\n",
      " |        Determines whether two's complement is used to represent the integer.\n",
      " |        If signed is False and a negative integer is given, an OverflowError\n",
      " |        is raised.\n",
      " |  \n",
      " |  ----------------------------------------------------------------------\n",
      " |  Class methods defined here:\n",
      " |  \n",
      " |  from_bytes(bytes, byteorder, *, signed=False) from builtins.type\n",
      " |      Return the integer represented by the given array of bytes.\n",
      " |      \n",
      " |      bytes\n",
      " |        Holds the array of bytes to convert.  The argument must either\n",
      " |        support the buffer protocol or be an iterable object producing bytes.\n",
      " |        Bytes and bytearray are examples of built-in objects that support the\n",
      " |        buffer protocol.\n",
      " |      byteorder\n",
      " |        The byte order used to represent the integer.  If byteorder is 'big',\n",
      " |        the most significant byte is at the beginning of the byte array.  If\n",
      " |        byteorder is 'little', the most significant byte is at the end of the\n",
      " |        byte array.  To request the native byte order of the host system, use\n",
      " |        `sys.byteorder' as the byte order value.\n",
      " |      signed\n",
      " |        Indicates whether two's complement is used to represent the integer.\n",
      " |  \n",
      " |  ----------------------------------------------------------------------\n",
      " |  Static methods defined here:\n",
      " |  \n",
      " |  __new__(*args, **kwargs) from builtins.type\n",
      " |      Create and return a new object.  See help(type) for accurate signature.\n",
      " |  \n",
      " |  ----------------------------------------------------------------------\n",
      " |  Data descriptors defined here:\n",
      " |  \n",
      " |  denominator\n",
      " |      the denominator of a rational number in lowest terms\n",
      " |  \n",
      " |  imag\n",
      " |      the imaginary part of a complex number\n",
      " |  \n",
      " |  numerator\n",
      " |      the numerator of a rational number in lowest terms\n",
      " |  \n",
      " |  real\n",
      " |      the real part of a complex number\n",
      "\n"
     ]
    }
   ],
   "source": [
    "help(int)"
   ]
  },
  {
   "cell_type": "code",
   "execution_count": 25,
   "id": "proprietary-protein",
   "metadata": {},
   "outputs": [],
   "source": [
    "int?"
   ]
  },
  {
   "cell_type": "markdown",
   "id": "powered-triangle",
   "metadata": {},
   "source": [
    "Czy znasz funkcję `dir` i czy się nią posługujesz?"
   ]
  },
  {
   "cell_type": "code",
   "execution_count": 26,
   "id": "funny-staff",
   "metadata": {},
   "outputs": [
    {
     "data": {
      "text/plain": [
       "['__add__',\n",
       " '__class__',\n",
       " '__contains__',\n",
       " '__delattr__',\n",
       " '__dir__',\n",
       " '__doc__',\n",
       " '__eq__',\n",
       " '__format__',\n",
       " '__ge__',\n",
       " '__getattribute__',\n",
       " '__getitem__',\n",
       " '__getnewargs__',\n",
       " '__gt__',\n",
       " '__hash__',\n",
       " '__init__',\n",
       " '__init_subclass__',\n",
       " '__iter__',\n",
       " '__le__',\n",
       " '__len__',\n",
       " '__lt__',\n",
       " '__mod__',\n",
       " '__mul__',\n",
       " '__ne__',\n",
       " '__new__',\n",
       " '__reduce__',\n",
       " '__reduce_ex__',\n",
       " '__repr__',\n",
       " '__rmod__',\n",
       " '__rmul__',\n",
       " '__setattr__',\n",
       " '__sizeof__',\n",
       " '__str__',\n",
       " '__subclasshook__',\n",
       " 'capitalize',\n",
       " 'casefold',\n",
       " 'center',\n",
       " 'count',\n",
       " 'encode',\n",
       " 'endswith',\n",
       " 'expandtabs',\n",
       " 'find',\n",
       " 'format',\n",
       " 'format_map',\n",
       " 'index',\n",
       " 'isalnum',\n",
       " 'isalpha',\n",
       " 'isascii',\n",
       " 'isdecimal',\n",
       " 'isdigit',\n",
       " 'isidentifier',\n",
       " 'islower',\n",
       " 'isnumeric',\n",
       " 'isprintable',\n",
       " 'isspace',\n",
       " 'istitle',\n",
       " 'isupper',\n",
       " 'join',\n",
       " 'ljust',\n",
       " 'lower',\n",
       " 'lstrip',\n",
       " 'maketrans',\n",
       " 'partition',\n",
       " 'replace',\n",
       " 'rfind',\n",
       " 'rindex',\n",
       " 'rjust',\n",
       " 'rpartition',\n",
       " 'rsplit',\n",
       " 'rstrip',\n",
       " 'split',\n",
       " 'splitlines',\n",
       " 'startswith',\n",
       " 'strip',\n",
       " 'swapcase',\n",
       " 'title',\n",
       " 'translate',\n",
       " 'upper',\n",
       " 'zfill']"
      ]
     },
     "execution_count": 26,
     "metadata": {},
     "output_type": "execute_result"
    }
   ],
   "source": [
    "dir(\"napis\")"
   ]
  },
  {
   "cell_type": "code",
   "execution_count": 27,
   "id": "olive-rapid",
   "metadata": {},
   "outputs": [
    {
     "data": {
      "text/plain": [
       "['In',\n",
       " 'Out',\n",
       " '_',\n",
       " '_1',\n",
       " '_17',\n",
       " '_20',\n",
       " '_21',\n",
       " '_23',\n",
       " '_26',\n",
       " '__',\n",
       " '___',\n",
       " '__builtin__',\n",
       " '__builtins__',\n",
       " '__doc__',\n",
       " '__loader__',\n",
       " '__name__',\n",
       " '__package__',\n",
       " '__spec__',\n",
       " '_dh',\n",
       " '_exit_code',\n",
       " '_i',\n",
       " '_i1',\n",
       " '_i10',\n",
       " '_i11',\n",
       " '_i12',\n",
       " '_i13',\n",
       " '_i14',\n",
       " '_i15',\n",
       " '_i16',\n",
       " '_i17',\n",
       " '_i18',\n",
       " '_i19',\n",
       " '_i2',\n",
       " '_i20',\n",
       " '_i21',\n",
       " '_i22',\n",
       " '_i23',\n",
       " '_i24',\n",
       " '_i25',\n",
       " '_i26',\n",
       " '_i27',\n",
       " '_i3',\n",
       " '_i4',\n",
       " '_i5',\n",
       " '_i6',\n",
       " '_i7',\n",
       " '_i8',\n",
       " '_i9',\n",
       " '_ih',\n",
       " '_ii',\n",
       " '_iii',\n",
       " '_oh',\n",
       " 'autopep8',\n",
       " 'beepy',\n",
       " 'datetime',\n",
       " 'exit',\n",
       " 'get_ipython',\n",
       " 'json',\n",
       " 'quit',\n",
       " 'start',\n",
       " 't',\n",
       " 'x',\n",
       " 'yapf_reformat']"
      ]
     },
     "execution_count": 27,
     "metadata": {},
     "output_type": "execute_result"
    }
   ],
   "source": [
    "dir()"
   ]
  },
  {
   "cell_type": "markdown",
   "id": "detailed-episode",
   "metadata": {},
   "source": [
    "# Podstawy - powtórka"
   ]
  },
  {
   "cell_type": "code",
   "execution_count": null,
   "id": "gothic-stable",
   "metadata": {},
   "outputs": [],
   "source": []
  }
 ],
 "metadata": {
  "kernelspec": {
   "display_name": "Python 3",
   "language": "python",
   "name": "python3"
  },
  "language_info": {
   "codemirror_mode": {
    "name": "ipython",
    "version": 3
   },
   "file_extension": ".py",
   "mimetype": "text/x-python",
   "name": "python",
   "nbconvert_exporter": "python",
   "pygments_lexer": "ipython3",
   "version": "3.7.9"
  },
  "toc": {
   "base_numbering": 1,
   "nav_menu": {},
   "number_sections": true,
   "sideBar": true,
   "skip_h1_title": false,
   "title_cell": "Table of Contents",
   "title_sidebar": "Contents",
   "toc_cell": false,
   "toc_position": {},
   "toc_section_display": true,
   "toc_window_display": true
  }
 },
 "nbformat": 4,
 "nbformat_minor": 5
}
